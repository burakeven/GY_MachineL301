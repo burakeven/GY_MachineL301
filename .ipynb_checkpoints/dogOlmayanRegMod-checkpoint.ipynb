{
 "cells": [
  {
   "cell_type": "markdown",
   "id": "1441d7ce-c023-4def-9e36-0a28b80539e8",
   "metadata": {},
   "source": [
    "# Dogrusal olmayan Regresyon Modelleri"
   ]
  },
  {
   "cell_type": "code",
   "execution_count": 2,
   "id": "eb231c91-fceb-44f4-b22c-eeb91c33ab14",
   "metadata": {},
   "outputs": [],
   "source": [
    "import numpy as np\n",
    "import pandas as pd\n",
    "from sklearn.model_selection import train_test_split, GridSearchCV\n",
    "from sklearn.metrics import mean_squared_error, r2_score\n",
    "import matplotlib.pyplot as plt\n",
    "from sklearn.preprocessing import scale\n",
    "from sklearn.preprocessing import StandardScaler\n",
    "from sklearn import model_selection\n",
    "from sklearn.linear_model import LinearRegression\n",
    "from sklearn.tree import DecisionTreeRegressor\n",
    "from sklearn.neighbors import KNeighborsRegressor\n",
    "from sklearn.neural_network import MLPRegressor\n",
    "from sklearn.ensemble import RandomForestRegressor\n",
    "from sklearn.ensemble import GradientBoostingRegressor\n",
    "from sklearn import neighbors\n",
    "from sklearn.svm import SVR"
   ]
  },
  {
   "cell_type": "code",
   "execution_count": 3,
   "id": "8889248b-12df-4f2f-ad0a-ec804b32c7d4",
   "metadata": {},
   "outputs": [],
   "source": [
    "from warnings import filterwarnings\n",
    "filterwarnings('ignore')"
   ]
  },
  {
   "cell_type": "markdown",
   "id": "86a257a6-ce6f-4e19-9ebc-15965d1ffffb",
   "metadata": {},
   "source": [
    "# KNN"
   ]
  },
  {
   "cell_type": "code",
   "execution_count": 10,
   "id": "2fb0507d-2f48-411e-8ebf-76a4068f392c",
   "metadata": {},
   "outputs": [],
   "source": [
    "df = pd.read_csv(\"Hitters.csv\")\n",
    "df = df.dropna()\n",
    "dms = pd.get_dummies(df[['League','Division',\"NewLeague\"]])\n",
    "y = df[\"Salary\"]\n",
    "X_ = df.drop(['Salary','League','Division','NewLeague'], axis=1).astype('float64')\n",
    "X = pd.concat([X_, dms[['League_N','Division_W','NewLeague_N']]], axis=1)\n",
    "X_train, X_test, y_train, y_test = train_test_split(X,y,test_size=0.25, random_state=42)"
   ]
  },
  {
   "cell_type": "code",
   "execution_count": 11,
   "id": "43cd11d6-e646-4b70-b5ad-35a7c2884735",
   "metadata": {},
   "outputs": [
    {
     "data": {
      "text/html": [
       "<div>\n",
       "<style scoped>\n",
       "    .dataframe tbody tr th:only-of-type {\n",
       "        vertical-align: middle;\n",
       "    }\n",
       "\n",
       "    .dataframe tbody tr th {\n",
       "        vertical-align: top;\n",
       "    }\n",
       "\n",
       "    .dataframe thead th {\n",
       "        text-align: right;\n",
       "    }\n",
       "</style>\n",
       "<table border=\"1\" class=\"dataframe\">\n",
       "  <thead>\n",
       "    <tr style=\"text-align: right;\">\n",
       "      <th></th>\n",
       "      <th>AtBat</th>\n",
       "      <th>Hits</th>\n",
       "      <th>HmRun</th>\n",
       "      <th>Runs</th>\n",
       "      <th>RBI</th>\n",
       "      <th>Walks</th>\n",
       "      <th>Years</th>\n",
       "      <th>CAtBat</th>\n",
       "      <th>CHits</th>\n",
       "      <th>CHmRun</th>\n",
       "      <th>CRuns</th>\n",
       "      <th>CRBI</th>\n",
       "      <th>CWalks</th>\n",
       "      <th>PutOuts</th>\n",
       "      <th>Assists</th>\n",
       "      <th>Errors</th>\n",
       "      <th>League_N</th>\n",
       "      <th>Division_W</th>\n",
       "      <th>NewLeague_N</th>\n",
       "    </tr>\n",
       "  </thead>\n",
       "  <tbody>\n",
       "    <tr>\n",
       "      <th>183</th>\n",
       "      <td>328.0</td>\n",
       "      <td>91.0</td>\n",
       "      <td>12.0</td>\n",
       "      <td>51.0</td>\n",
       "      <td>43.0</td>\n",
       "      <td>33.0</td>\n",
       "      <td>2.0</td>\n",
       "      <td>342.0</td>\n",
       "      <td>94.0</td>\n",
       "      <td>12.0</td>\n",
       "      <td>51.0</td>\n",
       "      <td>44.0</td>\n",
       "      <td>33.0</td>\n",
       "      <td>145.0</td>\n",
       "      <td>59.0</td>\n",
       "      <td>8.0</td>\n",
       "      <td>1</td>\n",
       "      <td>0</td>\n",
       "      <td>1</td>\n",
       "    </tr>\n",
       "    <tr>\n",
       "      <th>229</th>\n",
       "      <td>514.0</td>\n",
       "      <td>144.0</td>\n",
       "      <td>0.0</td>\n",
       "      <td>67.0</td>\n",
       "      <td>54.0</td>\n",
       "      <td>79.0</td>\n",
       "      <td>9.0</td>\n",
       "      <td>4739.0</td>\n",
       "      <td>1169.0</td>\n",
       "      <td>13.0</td>\n",
       "      <td>583.0</td>\n",
       "      <td>374.0</td>\n",
       "      <td>528.0</td>\n",
       "      <td>229.0</td>\n",
       "      <td>453.0</td>\n",
       "      <td>15.0</td>\n",
       "      <td>1</td>\n",
       "      <td>0</td>\n",
       "      <td>1</td>\n",
       "    </tr>\n",
       "    <tr>\n",
       "      <th>286</th>\n",
       "      <td>593.0</td>\n",
       "      <td>152.0</td>\n",
       "      <td>23.0</td>\n",
       "      <td>69.0</td>\n",
       "      <td>75.0</td>\n",
       "      <td>53.0</td>\n",
       "      <td>6.0</td>\n",
       "      <td>2765.0</td>\n",
       "      <td>686.0</td>\n",
       "      <td>133.0</td>\n",
       "      <td>369.0</td>\n",
       "      <td>384.0</td>\n",
       "      <td>321.0</td>\n",
       "      <td>315.0</td>\n",
       "      <td>10.0</td>\n",
       "      <td>6.0</td>\n",
       "      <td>0</td>\n",
       "      <td>1</td>\n",
       "      <td>0</td>\n",
       "    </tr>\n",
       "    <tr>\n",
       "      <th>102</th>\n",
       "      <td>233.0</td>\n",
       "      <td>49.0</td>\n",
       "      <td>2.0</td>\n",
       "      <td>41.0</td>\n",
       "      <td>23.0</td>\n",
       "      <td>18.0</td>\n",
       "      <td>8.0</td>\n",
       "      <td>1350.0</td>\n",
       "      <td>336.0</td>\n",
       "      <td>7.0</td>\n",
       "      <td>166.0</td>\n",
       "      <td>122.0</td>\n",
       "      <td>106.0</td>\n",
       "      <td>102.0</td>\n",
       "      <td>132.0</td>\n",
       "      <td>10.0</td>\n",
       "      <td>0</td>\n",
       "      <td>0</td>\n",
       "      <td>0</td>\n",
       "    </tr>\n",
       "    <tr>\n",
       "      <th>153</th>\n",
       "      <td>341.0</td>\n",
       "      <td>95.0</td>\n",
       "      <td>6.0</td>\n",
       "      <td>48.0</td>\n",
       "      <td>42.0</td>\n",
       "      <td>20.0</td>\n",
       "      <td>10.0</td>\n",
       "      <td>2964.0</td>\n",
       "      <td>808.0</td>\n",
       "      <td>81.0</td>\n",
       "      <td>379.0</td>\n",
       "      <td>428.0</td>\n",
       "      <td>221.0</td>\n",
       "      <td>158.0</td>\n",
       "      <td>4.0</td>\n",
       "      <td>5.0</td>\n",
       "      <td>1</td>\n",
       "      <td>1</td>\n",
       "      <td>1</td>\n",
       "    </tr>\n",
       "  </tbody>\n",
       "</table>\n",
       "</div>"
      ],
      "text/plain": [
       "     AtBat   Hits  HmRun  Runs   RBI  Walks  Years  CAtBat   CHits  CHmRun  \\\n",
       "183  328.0   91.0   12.0  51.0  43.0   33.0    2.0   342.0    94.0    12.0   \n",
       "229  514.0  144.0    0.0  67.0  54.0   79.0    9.0  4739.0  1169.0    13.0   \n",
       "286  593.0  152.0   23.0  69.0  75.0   53.0    6.0  2765.0   686.0   133.0   \n",
       "102  233.0   49.0    2.0  41.0  23.0   18.0    8.0  1350.0   336.0     7.0   \n",
       "153  341.0   95.0    6.0  48.0  42.0   20.0   10.0  2964.0   808.0    81.0   \n",
       "\n",
       "     CRuns   CRBI  CWalks  PutOuts  Assists  Errors  League_N  Division_W  \\\n",
       "183   51.0   44.0    33.0    145.0     59.0     8.0         1           0   \n",
       "229  583.0  374.0   528.0    229.0    453.0    15.0         1           0   \n",
       "286  369.0  384.0   321.0    315.0     10.0     6.0         0           1   \n",
       "102  166.0  122.0   106.0    102.0    132.0    10.0         0           0   \n",
       "153  379.0  428.0   221.0    158.0      4.0     5.0         1           1   \n",
       "\n",
       "     NewLeague_N  \n",
       "183            1  \n",
       "229            1  \n",
       "286            0  \n",
       "102            0  \n",
       "153            1  "
      ]
     },
     "execution_count": 11,
     "metadata": {},
     "output_type": "execute_result"
    }
   ],
   "source": [
    "X_train.head()"
   ]
  },
  {
   "cell_type": "markdown",
   "id": "57ccca08-724c-41b1-bfd3-60d69c7c9d81",
   "metadata": {},
   "source": [
    "### Model & Tahmin"
   ]
  },
  {
   "cell_type": "code",
   "execution_count": 12,
   "id": "bf74fb27-ecf5-4616-89c5-656e006d49f9",
   "metadata": {},
   "outputs": [
    {
     "data": {
      "text/plain": [
       "KNeighborsRegressor()"
      ]
     },
     "execution_count": 12,
     "metadata": {},
     "output_type": "execute_result"
    }
   ],
   "source": [
    "knn_model = KNeighborsRegressor().fit(X_train, y_train)\n",
    "knn_model"
   ]
  },
  {
   "cell_type": "code",
   "execution_count": 13,
   "id": "52925211-3422-4719-a202-ba287340249f",
   "metadata": {},
   "outputs": [
    {
     "data": {
      "text/plain": [
       "5"
      ]
     },
     "execution_count": 13,
     "metadata": {},
     "output_type": "execute_result"
    }
   ],
   "source": [
    "knn_model.n_neighbors"
   ]
  },
  {
   "cell_type": "code",
   "execution_count": 14,
   "id": "ddf04ba2-e187-48ad-91ab-e2e4614de3db",
   "metadata": {},
   "outputs": [
    {
     "data": {
      "text/plain": [
       "'minkowski'"
      ]
     },
     "execution_count": 14,
     "metadata": {},
     "output_type": "execute_result"
    }
   ],
   "source": [
    "knn_model.metric"
   ]
  },
  {
   "cell_type": "code",
   "execution_count": 15,
   "id": "7bc2369c-7f90-4451-86ec-0f8279cf76ba",
   "metadata": {
    "collapsed": true,
    "jupyter": {
     "outputs_hidden": true
    },
    "tags": []
   },
   "outputs": [
    {
     "data": {
      "text/plain": [
       "['__abstractmethods__',\n",
       " '__class__',\n",
       " '__delattr__',\n",
       " '__dict__',\n",
       " '__dir__',\n",
       " '__doc__',\n",
       " '__eq__',\n",
       " '__format__',\n",
       " '__ge__',\n",
       " '__getattribute__',\n",
       " '__getstate__',\n",
       " '__gt__',\n",
       " '__hash__',\n",
       " '__init__',\n",
       " '__init_subclass__',\n",
       " '__le__',\n",
       " '__lt__',\n",
       " '__module__',\n",
       " '__ne__',\n",
       " '__new__',\n",
       " '__reduce__',\n",
       " '__reduce_ex__',\n",
       " '__repr__',\n",
       " '__setattr__',\n",
       " '__setstate__',\n",
       " '__sizeof__',\n",
       " '__str__',\n",
       " '__subclasshook__',\n",
       " '__weakref__',\n",
       " '_abc_impl',\n",
       " '_check_algorithm_metric',\n",
       " '_check_n_features',\n",
       " '_estimator_type',\n",
       " '_fit',\n",
       " '_fit_X',\n",
       " '_fit_method',\n",
       " '_get_param_names',\n",
       " '_get_tags',\n",
       " '_kneighbors_reduce_func',\n",
       " '_more_tags',\n",
       " '_pairwise',\n",
       " '_repr_html_',\n",
       " '_repr_html_inner',\n",
       " '_repr_mimebundle_',\n",
       " '_tree',\n",
       " '_validate_data',\n",
       " '_y',\n",
       " 'algorithm',\n",
       " 'effective_metric_',\n",
       " 'effective_metric_params_',\n",
       " 'fit',\n",
       " 'get_params',\n",
       " 'kneighbors',\n",
       " 'kneighbors_graph',\n",
       " 'leaf_size',\n",
       " 'metric',\n",
       " 'metric_params',\n",
       " 'n_features_in_',\n",
       " 'n_jobs',\n",
       " 'n_neighbors',\n",
       " 'n_samples_fit_',\n",
       " 'p',\n",
       " 'predict',\n",
       " 'radius',\n",
       " 'score',\n",
       " 'set_params',\n",
       " 'weights']"
      ]
     },
     "execution_count": 15,
     "metadata": {},
     "output_type": "execute_result"
    }
   ],
   "source": [
    "dir(knn_model)"
   ]
  },
  {
   "cell_type": "code",
   "execution_count": 16,
   "id": "e8c851ec-873f-45d3-9aff-ca9af015079a",
   "metadata": {},
   "outputs": [
    {
     "data": {
      "text/plain": [
       "array([ 510.3334,  808.3334,  772.5   ,  125.5   , 1005.    ])"
      ]
     },
     "execution_count": 16,
     "metadata": {},
     "output_type": "execute_result"
    }
   ],
   "source": [
    "knn_model.predict(X_test)[0:5]"
   ]
  },
  {
   "cell_type": "code",
   "execution_count": 17,
   "id": "f60f96e2-02d3-4915-9dc2-3d77148e9337",
   "metadata": {},
   "outputs": [],
   "source": [
    "y_pred = knn_model.predict(X_test)"
   ]
  },
  {
   "cell_type": "code",
   "execution_count": 18,
   "id": "d5bfbd3f-6f35-46b1-9744-9b977d775a26",
   "metadata": {},
   "outputs": [
    {
     "data": {
      "text/plain": [
       "426.6570764525201"
      ]
     },
     "execution_count": 18,
     "metadata": {},
     "output_type": "execute_result"
    }
   ],
   "source": [
    "np.sqrt(mean_squared_error(y_test, y_pred)) #knn ile ogrendigimiz ilkel test hatamiz"
   ]
  },
  {
   "cell_type": "markdown",
   "id": "a3e01043-d2b9-4eda-b689-bcea5737b147",
   "metadata": {},
   "source": [
    "## Model Tuning"
   ]
  },
  {
   "cell_type": "code",
   "execution_count": 19,
   "id": "a630583f-06cb-4482-957d-837efad82f17",
   "metadata": {},
   "outputs": [
    {
     "data": {
      "text/plain": [
       "range(0, 10)"
      ]
     },
     "execution_count": 19,
     "metadata": {},
     "output_type": "execute_result"
    }
   ],
   "source": [
    "range(10)"
   ]
  },
  {
   "cell_type": "code",
   "execution_count": 20,
   "id": "27aab8b9-95a1-489e-abcd-fdf6be0dcd2c",
   "metadata": {},
   "outputs": [
    {
     "name": "stdout",
     "output_type": "stream",
     "text": [
      "k= 1 icin RMSE degeri: 455.03925390751965\n",
      "k= 2 icin RMSE degeri: 415.99629571490965\n",
      "k= 3 icin RMSE degeri: 420.6765370082348\n",
      "k= 4 icin RMSE degeri: 428.8564674588792\n",
      "k= 5 icin RMSE degeri: 426.6570764525201\n",
      "k= 6 icin RMSE degeri: 423.5071669008732\n",
      "k= 7 icin RMSE degeri: 414.9361222421057\n",
      "k= 8 icin RMSE degeri: 413.7094731463598\n",
      "k= 9 icin RMSE degeri: 417.84419990871265\n",
      "k= 10 icin RMSE degeri: 421.6252180741266\n"
     ]
    }
   ],
   "source": [
    "RMSE = []\n",
    "for k in range(10):\n",
    "    k = k+1\n",
    "    knn_model = KNeighborsRegressor(n_neighbors=k).fit(X_train, y_train)\n",
    "    y_pred=knn_model.predict(X_test)\n",
    "    rmse=np.sqrt(mean_squared_error(y_test,y_pred))\n",
    "    RMSE.append(rmse)\n",
    "    print(\"k=\", k, \"icin RMSE degeri:\", rmse)"
   ]
  },
  {
   "cell_type": "code",
   "execution_count": 21,
   "id": "5ef36679-c2f6-4fa0-83fe-29d5cae25ec4",
   "metadata": {},
   "outputs": [],
   "source": [
    "#GridSearchCV -olasi tum parametre kombinasyonlarini degerlendirmek ve belirlemek icin kullanilan bir fonksiyondur."
   ]
  },
  {
   "cell_type": "code",
   "execution_count": 22,
   "id": "2c563efe-0764-4be8-98fa-edad2da5f74b",
   "metadata": {},
   "outputs": [],
   "source": [
    "knn_params = {\"n_neighbors\":np.arange(1,30,1)}"
   ]
  },
  {
   "cell_type": "code",
   "execution_count": 23,
   "id": "e5bb580f-4485-464b-a3a6-29f6d2ff8222",
   "metadata": {},
   "outputs": [],
   "source": [
    "knn = KNeighborsRegressor()"
   ]
  },
  {
   "cell_type": "code",
   "execution_count": 25,
   "id": "89a44884-d0ea-4914-a807-72930a0cac38",
   "metadata": {},
   "outputs": [],
   "source": [
    "knn_cv_model=GridSearchCV(knn,knn_params,cv=10).fit(X_train, y_train)"
   ]
  },
  {
   "cell_type": "code",
   "execution_count": 26,
   "id": "412f4199-3008-40ac-97ae-ea2256990c2d",
   "metadata": {},
   "outputs": [
    {
     "data": {
      "text/plain": [
       "{'n_neighbors': 8}"
      ]
     },
     "execution_count": 26,
     "metadata": {},
     "output_type": "execute_result"
    }
   ],
   "source": [
    "knn_cv_model.best_params_"
   ]
  },
  {
   "cell_type": "code",
   "execution_count": 27,
   "id": "f1bf08b3-26e4-4c06-a165-deb4877cc0a4",
   "metadata": {},
   "outputs": [],
   "source": [
    "#final model\n",
    "knn_tuned = KNeighborsRegressor(n_neighbors=knn_cv_model.best_params_[\"n_neighbors\"]).fit(X_train,y_train)"
   ]
  },
  {
   "cell_type": "code",
   "execution_count": 29,
   "id": "0b9baccc-db64-4980-879d-add250e03dd3",
   "metadata": {},
   "outputs": [
    {
     "data": {
      "text/plain": [
       "413.7094731463598"
      ]
     },
     "execution_count": 29,
     "metadata": {},
     "output_type": "execute_result"
    }
   ],
   "source": [
    "y_pred = knn_tuned.predict(X_test)\n",
    "np.sqrt(mean_squared_error(y_test,y_pred))"
   ]
  },
  {
   "cell_type": "markdown",
   "id": "e3218713-2737-466d-8016-4616bd2a2136",
   "metadata": {},
   "source": [
    "# Destek Vektor Regresyonu(Support Vector Regression)"
   ]
  },
  {
   "cell_type": "code",
   "execution_count": 3,
   "id": "96b15a65-c403-42f3-bf8f-29368d06da88",
   "metadata": {},
   "outputs": [],
   "source": [
    "df = pd.read_csv(\"Hitters.csv\")\n",
    "df = df.dropna()\n",
    "dms = pd.get_dummies(df[['League','Division',\"NewLeague\"]])\n",
    "y = df[\"Salary\"]\n",
    "X_ = df.drop(['Salary','League','Division','NewLeague'], axis=1).astype('float64')\n",
    "X = pd.concat([X_, dms[['League_N','Division_W','NewLeague_N']]], axis=1)\n",
    "X_train, X_test, y_train, y_test = train_test_split(X,y,test_size=0.25, random_state=42)"
   ]
  },
  {
   "cell_type": "markdown",
   "id": "8e14315f-3d97-41f7-bdb5-a00fa3d20e56",
   "metadata": {},
   "source": [
    "### Model&Tahmin"
   ]
  },
  {
   "cell_type": "code",
   "execution_count": 4,
   "id": "152c7be1-d4cb-47e2-91b8-7f04993c07b9",
   "metadata": {},
   "outputs": [],
   "source": [
    "svr_model = SVR(\"linear\").fit(X_train,y_train) #linear yerine rbf'de yapabiliriz. Kerneli degistirmis oluruz."
   ]
  },
  {
   "cell_type": "code",
   "execution_count": 5,
   "id": "dc2867b8-186e-4bca-accd-7e1cc80b9add",
   "metadata": {},
   "outputs": [
    {
     "data": {
      "text/plain": [
       "SVR(kernel='linear')"
      ]
     },
     "execution_count": 5,
     "metadata": {},
     "output_type": "execute_result"
    }
   ],
   "source": [
    "svr_model"
   ]
  },
  {
   "cell_type": "code",
   "execution_count": 7,
   "id": "e23ff14e-02de-4832-9f77-335b16c0a6ac",
   "metadata": {},
   "outputs": [
    {
     "data": {
      "text/plain": [
       "array([219.32622627, 702.43039317, 623.20559641, 153.77538484,\n",
       "       463.15191157])"
      ]
     },
     "execution_count": 7,
     "metadata": {},
     "output_type": "execute_result"
    }
   ],
   "source": [
    "svr_model.predict(X_train)[0:5]"
   ]
  },
  {
   "cell_type": "code",
   "execution_count": 8,
   "id": "ad187221-62e5-4c70-ae7a-b85d0259230f",
   "metadata": {},
   "outputs": [
    {
     "data": {
      "text/plain": [
       "array([679.14754919, 633.72883529, 925.68639938, 270.28464317,\n",
       "       530.26659421])"
      ]
     },
     "execution_count": 8,
     "metadata": {},
     "output_type": "execute_result"
    }
   ],
   "source": [
    "svr_model.predict(X_test)[0:5]"
   ]
  },
  {
   "cell_type": "code",
   "execution_count": 9,
   "id": "868827de-c88d-4f86-a56f-56d40c6d9c66",
   "metadata": {},
   "outputs": [
    {
     "data": {
      "text/plain": [
       "array([-80.15196063])"
      ]
     },
     "execution_count": 9,
     "metadata": {},
     "output_type": "execute_result"
    }
   ],
   "source": [
    "svr_model.intercept_ #knn de boyle bir katsayi gelme durumu yok. Burada var."
   ]
  },
  {
   "cell_type": "code",
   "execution_count": 10,
   "id": "18e98102-a6d6-4199-a884-aeba5d92c28d",
   "metadata": {},
   "outputs": [
    {
     "data": {
      "text/plain": [
       "array([[ -1.2183904 ,   6.09602978,  -3.67574533,   0.14217072,\n",
       "          0.51435925,   1.28388992,  12.55922527,  -0.08693754,\n",
       "          0.46597185,   2.98259931,   0.52944513,  -0.79820793,\n",
       "         -0.16015531,   0.30872795,   0.28842348,  -1.79560066,\n",
       "          6.41868986, -10.74313785,   1.33374319]])"
      ]
     },
     "execution_count": 10,
     "metadata": {},
     "output_type": "execute_result"
    }
   ],
   "source": [
    "svr_model.coef_"
   ]
  },
  {
   "cell_type": "code",
   "execution_count": 11,
   "id": "4c9629a8-bbe9-4302-8781-b49777453d27",
   "metadata": {},
   "outputs": [
    {
     "data": {
      "text/plain": [
       "370.0408415795005"
      ]
     },
     "execution_count": 11,
     "metadata": {},
     "output_type": "execute_result"
    }
   ],
   "source": [
    "#test\n",
    "y_pred = svr_model.predict(X_test)\n",
    "np.sqrt(mean_squared_error(y_test,y_pred))"
   ]
  },
  {
   "cell_type": "markdown",
   "id": "42076115-f222-4b15-bfc9-db1e11396dac",
   "metadata": {},
   "source": [
    "### Model Tuning"
   ]
  },
  {
   "cell_type": "code",
   "execution_count": 12,
   "id": "37bd8354-d6c9-4ff1-b6d9-bf2c34f9c943",
   "metadata": {},
   "outputs": [],
   "source": [
    "svr_params= {\"C\": [0.1,0.5,1,3]}"
   ]
  },
  {
   "cell_type": "code",
   "execution_count": 13,
   "id": "8c37324c-6adb-4360-b9b9-dd0aa3c8f355",
   "metadata": {},
   "outputs": [],
   "source": [
    "svr_cv_model = GridSearchCV(svr_model, svr_params, cv = 5).fit(X_train,y_train)"
   ]
  },
  {
   "cell_type": "code",
   "execution_count": 14,
   "id": "006e03b2-31d3-4021-ad79-98fc87aec442",
   "metadata": {},
   "outputs": [
    {
     "data": {
      "text/plain": [
       "{'C': 0.5}"
      ]
     },
     "execution_count": 14,
     "metadata": {},
     "output_type": "execute_result"
    }
   ],
   "source": [
    "svr_cv_model.best_params_"
   ]
  },
  {
   "cell_type": "code",
   "execution_count": 15,
   "id": "b7d17fb2-2518-4130-969a-d844124d05b9",
   "metadata": {},
   "outputs": [
    {
     "name": "stdout",
     "output_type": "stream",
     "text": [
      "Fitting 5 folds for each of 4 candidates, totalling 20 fits\n"
     ]
    }
   ],
   "source": [
    "svr_cv_model = GridSearchCV(svr_model, svr_params, cv = 5, verbose=2, n_jobs=-1).fit(X_train,y_train) #verbose calisma esnasinda durumu raporlayarak calisma gerceklestirir. njobs -1 ile calistirilirsa islemci maksimum performans ile calisir."
   ]
  },
  {
   "cell_type": "code",
   "execution_count": 16,
   "id": "2c0807f9-2a06-4677-8576-bc8f1612c31b",
   "metadata": {},
   "outputs": [
    {
     "data": {
      "text/plain": [
       "{'C': 0.5}"
      ]
     },
     "execution_count": 16,
     "metadata": {},
     "output_type": "execute_result"
    }
   ],
   "source": [
    "svr_cv_model.best_params_"
   ]
  },
  {
   "cell_type": "code",
   "execution_count": 17,
   "id": "fdfc3b8c-1ab6-4100-a71a-808077e7a5f2",
   "metadata": {},
   "outputs": [],
   "source": [
    "svr_tuned = SVR(\"linear\", C=0.5).fit(X_train,y_train)"
   ]
  },
  {
   "cell_type": "code",
   "execution_count": 18,
   "id": "32b26e73-c42e-409b-9124-a5ff3d837b00",
   "metadata": {},
   "outputs": [],
   "source": [
    "y_pred = svr_tuned.predict(X_test)"
   ]
  },
  {
   "cell_type": "code",
   "execution_count": 19,
   "id": "d8c18fc9-eb9d-432f-86a1-82e61f2d5866",
   "metadata": {},
   "outputs": [
    {
     "data": {
      "text/plain": [
       "367.98747616655294"
      ]
     },
     "execution_count": 19,
     "metadata": {},
     "output_type": "execute_result"
    }
   ],
   "source": [
    "np.sqrt(mean_squared_error(y_test, y_pred))"
   ]
  },
  {
   "cell_type": "markdown",
   "id": "cd6c4f8a-7b55-4e4d-8fec-c633ce08ac66",
   "metadata": {},
   "source": [
    "# Yapay Sinir Aglari"
   ]
  },
  {
   "cell_type": "code",
   "execution_count": 4,
   "id": "62aab9ab-2514-4105-80a3-1cdb0efbe931",
   "metadata": {},
   "outputs": [],
   "source": [
    "df = pd.read_csv(\"Hitters.csv\")\n",
    "df = df.dropna()\n",
    "dms = pd.get_dummies(df[['League','Division',\"NewLeague\"]])\n",
    "y = df[\"Salary\"]\n",
    "X_ = df.drop(['Salary','League','Division','NewLeague'], axis=1).astype('float64')\n",
    "X = pd.concat([X_, dms[['League_N','Division_W','NewLeague_N']]], axis=1)\n",
    "X_train, X_test, y_train, y_test = train_test_split(X,y,test_size=0.25, random_state=42)"
   ]
  },
  {
   "cell_type": "markdown",
   "id": "a39e712c-d82c-4bee-908e-9272ec83396a",
   "metadata": {},
   "source": [
    "### Model&Tahmin"
   ]
  },
  {
   "cell_type": "code",
   "execution_count": 5,
   "id": "35f66dfc-26cd-4627-8558-559f94ae6274",
   "metadata": {},
   "outputs": [],
   "source": [
    "#yapay sinir aglari homojen veri setleri uzerinde daha iyi calisan bir algoritmadir.\n",
    "#yapay sinir aglarini standartlastirma islemi sonrasinda kullanmak daha sagliklidir."
   ]
  },
  {
   "cell_type": "code",
   "execution_count": 6,
   "id": "d4d1e08a-5343-4817-b69b-e9fca31b3f31",
   "metadata": {},
   "outputs": [],
   "source": [
    "scaler = StandardScaler()"
   ]
  },
  {
   "cell_type": "code",
   "execution_count": 10,
   "id": "4894f560-c9e0-4f4c-9cbb-7cfcc147c428",
   "metadata": {},
   "outputs": [],
   "source": [
    "scaler.fit(X_train) #train setimizi standartlastirma islemine tabi tuttuk.\n",
    "X_train_scaled = scaler.transform(X_train)\n"
   ]
  },
  {
   "cell_type": "code",
   "execution_count": 11,
   "id": "c075fe12-17ed-4fec-be5f-a06ec4f151f8",
   "metadata": {},
   "outputs": [],
   "source": [
    "X_test_scaled = scaler.transform(X_test) #burada train'de oldugu gibi fit'de edebiliriz, problem olmaz."
   ]
  },
  {
   "cell_type": "code",
   "execution_count": 13,
   "id": "bfed6030-508b-46fe-89f9-62ccb6767c45",
   "metadata": {},
   "outputs": [],
   "source": [
    "mlp_model = MLPRegressor().fit(X_train_scaled, y_train)"
   ]
  },
  {
   "cell_type": "code",
   "execution_count": 14,
   "id": "68550800-9241-4e14-b9c6-d01fab5d5d11",
   "metadata": {},
   "outputs": [
    {
     "data": {
      "text/plain": [
       "MLPRegressor()"
      ]
     },
     "execution_count": 14,
     "metadata": {},
     "output_type": "execute_result"
    }
   ],
   "source": [
    "mlp_model #activation relu olarak secilmis oluyor."
   ]
  },
  {
   "cell_type": "code",
   "execution_count": 15,
   "id": "c3da39f3-547d-4210-b2ff-a994ce2380f7",
   "metadata": {},
   "outputs": [
    {
     "data": {
      "text/plain": [
       "array([20.89130155, 38.89605444, 68.86822833, 13.55828475, 22.03268609])"
      ]
     },
     "execution_count": 15,
     "metadata": {},
     "output_type": "execute_result"
    }
   ],
   "source": [
    "mlp_model.predict(X_test_scaled)[0:5] #tahmin etme gerceklestirildi."
   ]
  },
  {
   "cell_type": "code",
   "execution_count": 16,
   "id": "fb542273-9b41-4a5c-bbb0-8544767a5c1d",
   "metadata": {},
   "outputs": [
    {
     "data": {
      "text/plain": [
       "659.67442319447"
      ]
     },
     "execution_count": 16,
     "metadata": {},
     "output_type": "execute_result"
    }
   ],
   "source": [
    "y_pred = mlp_model.predict(X_test_scaled)\n",
    "np.sqrt(mean_squared_error(y_test,y_pred)) #ilkel test hatamizi hesapladik."
   ]
  },
  {
   "cell_type": "markdown",
   "id": "15d2c273-471b-4ccc-a0a8-d08230845976",
   "metadata": {},
   "source": [
    "### Model Tuning"
   ]
  },
  {
   "cell_type": "code",
   "execution_count": 17,
   "id": "961cbfeb-ab34-4f06-a993-b89277d530f4",
   "metadata": {},
   "outputs": [],
   "source": [
    "mlp_params = {\"alpha\": [0.1,0.01,0.02,0.001,0.0001], #lambdalar, ceza parametrelerimiz.\n",
    "             \"hidden_layer_sizes\": [(10,20),(5,5),(100,100)]} \n",
    "#once 0.1'i alip 10,20 ve diger hidden layerlarini deneyecek, ardindan diger alphalar ile diger diger boyle ilerleyecek."
   ]
  },
  {
   "cell_type": "code",
   "execution_count": 34,
   "id": "1f6c1343-e590-4ceb-9205-61e0ac3caba4",
   "metadata": {},
   "outputs": [
    {
     "name": "stdout",
     "output_type": "stream",
     "text": [
      "Fitting 5 folds for each of 15 candidates, totalling 75 fits\n",
      "[CV] END .............alpha=0.1, hidden_layer_sizes=(10, 20); total time=   0.0s\n",
      "[CV] END .............alpha=0.1, hidden_layer_sizes=(10, 20); total time=   0.0s\n",
      "[CV] END .............alpha=0.1, hidden_layer_sizes=(10, 20); total time=   0.0s\n",
      "[CV] END .............alpha=0.1, hidden_layer_sizes=(10, 20); total time=   0.0s\n",
      "[CV] END .............alpha=0.1, hidden_layer_sizes=(10, 20); total time=   0.0s\n",
      "[CV] END ...............alpha=0.1, hidden_layer_sizes=(5, 5); total time=   0.0s\n",
      "[CV] END ...............alpha=0.1, hidden_layer_sizes=(5, 5); total time=   0.0s\n",
      "[CV] END ...............alpha=0.1, hidden_layer_sizes=(5, 5); total time=   0.0s\n",
      "[CV] END ...............alpha=0.1, hidden_layer_sizes=(5, 5); total time=   0.0s\n",
      "[CV] END ...............alpha=0.1, hidden_layer_sizes=(5, 5); total time=   0.0s\n",
      "[CV] END ...........alpha=0.1, hidden_layer_sizes=(100, 100); total time=   0.1s\n",
      "[CV] END ...........alpha=0.1, hidden_layer_sizes=(100, 100); total time=   0.0s\n",
      "[CV] END ...........alpha=0.1, hidden_layer_sizes=(100, 100); total time=   0.0s\n",
      "[CV] END ...........alpha=0.1, hidden_layer_sizes=(100, 100); total time=   0.1s\n",
      "[CV] END ...........alpha=0.1, hidden_layer_sizes=(100, 100); total time=   0.0s\n",
      "[CV] END ............alpha=0.01, hidden_layer_sizes=(10, 20); total time=   0.0s\n",
      "[CV] END ............alpha=0.01, hidden_layer_sizes=(10, 20); total time=   0.0s\n",
      "[CV] END ............alpha=0.01, hidden_layer_sizes=(10, 20); total time=   0.0s\n",
      "[CV] END ............alpha=0.01, hidden_layer_sizes=(10, 20); total time=   0.0s\n",
      "[CV] END ............alpha=0.01, hidden_layer_sizes=(10, 20); total time=   0.0s\n",
      "[CV] END ..............alpha=0.01, hidden_layer_sizes=(5, 5); total time=   0.0s\n",
      "[CV] END ..............alpha=0.01, hidden_layer_sizes=(5, 5); total time=   0.0s\n",
      "[CV] END ..............alpha=0.01, hidden_layer_sizes=(5, 5); total time=   0.0s\n",
      "[CV] END ..............alpha=0.01, hidden_layer_sizes=(5, 5); total time=   0.0s\n",
      "[CV] END ..............alpha=0.01, hidden_layer_sizes=(5, 5); total time=   0.0s\n",
      "[CV] END ..........alpha=0.01, hidden_layer_sizes=(100, 100); total time=   0.1s\n",
      "[CV] END ..........alpha=0.01, hidden_layer_sizes=(100, 100); total time=   0.0s\n",
      "[CV] END ..........alpha=0.01, hidden_layer_sizes=(100, 100); total time=   0.0s\n",
      "[CV] END ..........alpha=0.01, hidden_layer_sizes=(100, 100); total time=   0.1s\n",
      "[CV] END ..........alpha=0.01, hidden_layer_sizes=(100, 100); total time=   0.1s\n",
      "[CV] END ............alpha=0.02, hidden_layer_sizes=(10, 20); total time=   0.0s\n",
      "[CV] END ............alpha=0.02, hidden_layer_sizes=(10, 20); total time=   0.0s\n",
      "[CV] END ............alpha=0.02, hidden_layer_sizes=(10, 20); total time=   0.0s\n",
      "[CV] END ............alpha=0.02, hidden_layer_sizes=(10, 20); total time=   0.0s\n",
      "[CV] END ............alpha=0.02, hidden_layer_sizes=(10, 20); total time=   0.0s\n",
      "[CV] END ..............alpha=0.02, hidden_layer_sizes=(5, 5); total time=   0.0s\n",
      "[CV] END ..............alpha=0.02, hidden_layer_sizes=(5, 5); total time=   0.0s\n",
      "[CV] END ..............alpha=0.02, hidden_layer_sizes=(5, 5); total time=   0.0s\n",
      "[CV] END ..............alpha=0.02, hidden_layer_sizes=(5, 5); total time=   0.0s\n",
      "[CV] END ..............alpha=0.02, hidden_layer_sizes=(5, 5); total time=   0.0s\n",
      "[CV] END ..........alpha=0.02, hidden_layer_sizes=(100, 100); total time=   0.0s\n",
      "[CV] END ..........alpha=0.02, hidden_layer_sizes=(100, 100); total time=   0.1s\n",
      "[CV] END ..........alpha=0.02, hidden_layer_sizes=(100, 100); total time=   0.0s\n",
      "[CV] END ..........alpha=0.02, hidden_layer_sizes=(100, 100); total time=   0.1s\n",
      "[CV] END ..........alpha=0.02, hidden_layer_sizes=(100, 100); total time=   0.1s\n",
      "[CV] END ...........alpha=0.001, hidden_layer_sizes=(10, 20); total time=   0.0s\n",
      "[CV] END ...........alpha=0.001, hidden_layer_sizes=(10, 20); total time=   0.0s\n",
      "[CV] END ...........alpha=0.001, hidden_layer_sizes=(10, 20); total time=   0.0s\n",
      "[CV] END ...........alpha=0.001, hidden_layer_sizes=(10, 20); total time=   0.0s\n",
      "[CV] END ...........alpha=0.001, hidden_layer_sizes=(10, 20); total time=   0.0s\n",
      "[CV] END .............alpha=0.001, hidden_layer_sizes=(5, 5); total time=   0.0s\n",
      "[CV] END .............alpha=0.001, hidden_layer_sizes=(5, 5); total time=   0.0s\n",
      "[CV] END .............alpha=0.001, hidden_layer_sizes=(5, 5); total time=   0.0s\n",
      "[CV] END .............alpha=0.001, hidden_layer_sizes=(5, 5); total time=   0.0s\n",
      "[CV] END .............alpha=0.001, hidden_layer_sizes=(5, 5); total time=   0.0s\n",
      "[CV] END .........alpha=0.001, hidden_layer_sizes=(100, 100); total time=   0.0s\n",
      "[CV] END .........alpha=0.001, hidden_layer_sizes=(100, 100); total time=   0.1s\n",
      "[CV] END .........alpha=0.001, hidden_layer_sizes=(100, 100); total time=   0.0s\n",
      "[CV] END .........alpha=0.001, hidden_layer_sizes=(100, 100); total time=   0.1s\n",
      "[CV] END .........alpha=0.001, hidden_layer_sizes=(100, 100); total time=   0.1s\n",
      "[CV] END ..........alpha=0.0001, hidden_layer_sizes=(10, 20); total time=   0.0s\n",
      "[CV] END ..........alpha=0.0001, hidden_layer_sizes=(10, 20); total time=   0.0s\n",
      "[CV] END ..........alpha=0.0001, hidden_layer_sizes=(10, 20); total time=   0.0s\n",
      "[CV] END ..........alpha=0.0001, hidden_layer_sizes=(10, 20); total time=   0.0s\n",
      "[CV] END ..........alpha=0.0001, hidden_layer_sizes=(10, 20); total time=   0.0s\n",
      "[CV] END ............alpha=0.0001, hidden_layer_sizes=(5, 5); total time=   0.0s\n",
      "[CV] END ............alpha=0.0001, hidden_layer_sizes=(5, 5); total time=   0.0s\n",
      "[CV] END ............alpha=0.0001, hidden_layer_sizes=(5, 5); total time=   0.0s\n",
      "[CV] END ............alpha=0.0001, hidden_layer_sizes=(5, 5); total time=   0.0s\n",
      "[CV] END ............alpha=0.0001, hidden_layer_sizes=(5, 5); total time=   0.0s\n",
      "[CV] END ........alpha=0.0001, hidden_layer_sizes=(100, 100); total time=   0.1s\n",
      "[CV] END ........alpha=0.0001, hidden_layer_sizes=(100, 100); total time=   0.1s\n",
      "[CV] END ........alpha=0.0001, hidden_layer_sizes=(100, 100); total time=   0.0s\n",
      "[CV] END ........alpha=0.0001, hidden_layer_sizes=(100, 100); total time=   0.1s\n",
      "[CV] END ........alpha=0.0001, hidden_layer_sizes=(100, 100); total time=   0.0s\n"
     ]
    }
   ],
   "source": [
    "mlp_cv_model = GridSearchCV(mlp_model, mlp_params, cv=5, verbose=2).fit(X_train_scaled, y_train)"
   ]
  },
  {
   "cell_type": "code",
   "execution_count": 35,
   "id": "6f6653e9-9b45-4141-8793-1904df8e0ac1",
   "metadata": {},
   "outputs": [
    {
     "data": {
      "text/plain": [
       "{'alpha': 0.001, 'hidden_layer_sizes': (100, 100)}"
      ]
     },
     "execution_count": 35,
     "metadata": {},
     "output_type": "execute_result"
    }
   ],
   "source": [
    "mlp_cv_model.best_params_"
   ]
  },
  {
   "cell_type": "code",
   "execution_count": 42,
   "id": "c9163696-1cfa-4665-a18b-849f323a5c17",
   "metadata": {},
   "outputs": [],
   "source": [
    "#final\n",
    "mlp_tuned = MLPRegressor(alpha = 0.001, hidden_layer_sizes = (100,100)).fit(X_train_scaled,y_train)"
   ]
  },
  {
   "cell_type": "code",
   "execution_count": 43,
   "id": "016ee9e5-98fb-4205-893c-50493f15c7a6",
   "metadata": {},
   "outputs": [],
   "source": [
    "y_pred = mlp_tuned.predict(X_test_scaled)"
   ]
  },
  {
   "cell_type": "code",
   "execution_count": 44,
   "id": "4fe079b0-cfd6-4c1a-9ca3-d9bfc9044116",
   "metadata": {},
   "outputs": [
    {
     "data": {
      "text/plain": [
       "358.7420333228838"
      ]
     },
     "execution_count": 44,
     "metadata": {},
     "output_type": "execute_result"
    }
   ],
   "source": [
    "np.sqrt(mean_squared_error(y_test, y_pred))"
   ]
  },
  {
   "cell_type": "markdown",
   "id": "edd91fda-f098-4559-91b4-6e48c790caaf",
   "metadata": {},
   "source": [
    "# CART (Classification and Regression Tree)"
   ]
  },
  {
   "cell_type": "code",
   "execution_count": 45,
   "id": "d180047a-7927-436d-8154-663c95d2ef61",
   "metadata": {},
   "outputs": [],
   "source": [
    "df = pd.read_csv(\"Hitters.csv\")\n",
    "df = df.dropna()\n",
    "dms = pd.get_dummies(df[['League','Division',\"NewLeague\"]])\n",
    "y = df[\"Salary\"]\n",
    "X_ = df.drop(['Salary','League','Division','NewLeague'], axis=1).astype('float64')\n",
    "X = pd.concat([X_, dms[['League_N','Division_W','NewLeague_N']]], axis=1)\n",
    "X_train, X_test, y_train, y_test = train_test_split(X,y,test_size=0.25, random_state=42)"
   ]
  },
  {
   "cell_type": "code",
   "execution_count": 46,
   "id": "4f5bf859-7129-464a-ba58-b71abb3c9e7c",
   "metadata": {},
   "outputs": [],
   "source": [
    "X_train = pd.DataFrame(X_train[\"Hits\"])\n",
    "X_test = pd.DataFrame(X_test[\"Hits\"])"
   ]
  },
  {
   "cell_type": "code",
   "execution_count": null,
   "id": "fa3bacd2-91f8-44e1-9c91-09f9795f4c3b",
   "metadata": {},
   "outputs": [],
   "source": [
    "#model ve tahmin"
   ]
  },
  {
   "cell_type": "code",
   "execution_count": 54,
   "id": "9a087a77-8e80-48fd-ba16-7b30dc5bf01e",
   "metadata": {},
   "outputs": [],
   "source": [
    "cart_model = DecisionTreeRegressor(max_leaf_nodes = 10)"
   ]
  },
  {
   "cell_type": "code",
   "execution_count": 55,
   "id": "2e85d92f-56ff-4f7c-87cc-471fa51728c4",
   "metadata": {},
   "outputs": [
    {
     "data": {
      "text/plain": [
       "DecisionTreeRegressor(max_leaf_nodes=10)"
      ]
     },
     "execution_count": 55,
     "metadata": {},
     "output_type": "execute_result"
    }
   ],
   "source": [
    "cart_model.fit(X_train, y_train)"
   ]
  },
  {
   "cell_type": "code",
   "execution_count": 56,
   "id": "8192c489-df26-4802-84a5-392adb3329a3",
   "metadata": {},
   "outputs": [
    {
     "data": {
      "text/plain": [
       "Text(0, 0.5, 'Maas(Salary)')"
      ]
     },
     "execution_count": 56,
     "metadata": {},
     "output_type": "execute_result"
    },
    {
     "data": {
      "image/png": "[encoded data removed]",
      "text/plain": [
       "<Figure size 432x288 with 1 Axes>"
      ]
     },
     "metadata": {
      "needs_background": "light"
     },
     "output_type": "display_data"
    }
   ],
   "source": [
    "#kural noktalarini gosterebilmek icin bir izgara(grid) islemi yapildi. min ve max goz onunde bulundurulacak.\n",
    "X_grid = np.arange(min(np.array(X_train)), max(np.array(X_train)), 0.01)\n",
    "X_grid = X_grid.reshape((len(X_grid), 1))\n",
    "\n",
    "#bir sacilim grafigi olusturuldu.\n",
    "plt.scatter(X_train, y_train, color='red')\n",
    "#bu gridin ustune modele iliskin bilgilerin gorsellestirilmesi yapildi.\n",
    "plt.plot(X_grid, cart_model.predict(X_grid), color='blue')\n",
    "\n",
    "plt.title('Cart Regresyon Agaci')\n",
    "plt.xlabel('Atis Sayisi(Hits)')\n",
    "plt.ylabel('Maas(Salary)')"
   ]
  },
  {
   "cell_type": "code",
   "execution_count": 57,
   "id": "754dce6a-5ecb-422a-9ed6-2962886cc68f",
   "metadata": {},
   "outputs": [],
   "source": [
    "#tek degiskenli tahmin"
   ]
  },
  {
   "cell_type": "code",
   "execution_count": 58,
   "id": "7044e38d-db75-4273-ba6a-cd3d6b51a718",
   "metadata": {},
   "outputs": [
    {
     "data": {
      "text/plain": [
       "array([621.96792308, 958.61111111, 621.96792308, 345.20115517,\n",
       "       345.20115517])"
      ]
     },
     "execution_count": 58,
     "metadata": {},
     "output_type": "execute_result"
    }
   ],
   "source": [
    "cart_model.predict(X_test)[0:5]"
   ]
  },
  {
   "cell_type": "code",
   "execution_count": 59,
   "id": "4d2e5140-9b1e-4fdd-9cb1-7dab56a28df3",
   "metadata": {},
   "outputs": [
    {
     "data": {
      "text/plain": [
       "486.34593105235456"
      ]
     },
     "execution_count": 59,
     "metadata": {},
     "output_type": "execute_result"
    }
   ],
   "source": [
    "y_pred = cart_model.predict(X_test)\n",
    "np.sqrt(mean_squared_error(y_test,y_pred))"
   ]
  },
  {
   "cell_type": "code",
   "execution_count": 60,
   "id": "59d8594f-e656-4aa7-9fc0-fc7713c25590",
   "metadata": {},
   "outputs": [],
   "source": [
    "#tum degiskenler"
   ]
  },
  {
   "cell_type": "code",
   "execution_count": 61,
   "id": "8beb446d-6b0e-46f4-9d9c-546aa84e1ea0",
   "metadata": {},
   "outputs": [],
   "source": [
    "df = pd.read_csv(\"Hitters.csv\")\n",
    "df = df.dropna()\n",
    "dms = pd.get_dummies(df[['League','Division',\"NewLeague\"]])\n",
    "y = df[\"Salary\"]\n",
    "X_ = df.drop(['Salary','League','Division','NewLeague'], axis=1).astype('float64')\n",
    "X = pd.concat([X_, dms[['League_N','Division_W','NewLeague_N']]], axis=1)\n",
    "X_train, X_test, y_train, y_test = train_test_split(X,y,test_size=0.25, random_state=42)"
   ]
  },
  {
   "cell_type": "code",
   "execution_count": 62,
   "id": "dcba28fc-e4e3-4f4f-a6c6-a86cd75e08dc",
   "metadata": {},
   "outputs": [],
   "source": [
    "cart_model = DecisionTreeRegressor().fit(X_train,y_train)"
   ]
  },
  {
   "cell_type": "code",
   "execution_count": 63,
   "id": "118f6042-7845-4466-932b-576420e9b36f",
   "metadata": {},
   "outputs": [
    {
     "data": {
      "text/plain": [
       "490.59906977426976"
      ]
     },
     "execution_count": 63,
     "metadata": {},
     "output_type": "execute_result"
    }
   ],
   "source": [
    "y_pred = cart_model.predict(X_test)\n",
    "np.sqrt(mean_squared_error(y_test,y_pred))"
   ]
  },
  {
   "cell_type": "markdown",
   "id": "525d1839-5be9-4ad6-9375-4edbe96c7381",
   "metadata": {},
   "source": [
    "# Model Tuning"
   ]
  },
  {
   "cell_type": "code",
   "execution_count": 64,
   "id": "0eccc7c1-5a91-491a-9a5c-8ed63dacf415",
   "metadata": {},
   "outputs": [
    {
     "data": {
      "text/plain": [
       "DecisionTreeRegressor()"
      ]
     },
     "execution_count": 64,
     "metadata": {},
     "output_type": "execute_result"
    }
   ],
   "source": [
    "cart_model\n",
    "#CART algoritmasi, genellenebilirlik kaygisi olmayan, mevcut durumu ifade etmek icin makine ogrenme algoritmasi kullanmamiz gereken senaryolarda\n",
    "# en basarili algoritmalardan biridir. Hedef degiskene gore diger bagimsiz degiskenlerin barindirdigi bilgilerin nasil homojenlestirilmesi gerektigini en iyi ortaya koyan algoritmalardan birisidir."
   ]
  },
  {
   "cell_type": "code",
   "execution_count": 69,
   "id": "1d03c578-1030-49cd-ad82-63c4e6d5ba92",
   "metadata": {},
   "outputs": [
    {
     "data": {
      "text/plain": [
       "463.45681552900174"
      ]
     },
     "execution_count": 69,
     "metadata": {},
     "output_type": "execute_result"
    }
   ],
   "source": [
    "cart_model = DecisionTreeRegressor(max_depth=5).fit(X_train,y_train)\n",
    "y_pred = cart_model.predict(X_test)\n",
    "np.sqrt(mean_squared_error(y_test,y_pred))"
   ]
  },
  {
   "cell_type": "code",
   "execution_count": 70,
   "id": "9b1d92b2-1c8f-44e2-97d1-4d309015faf3",
   "metadata": {
    "collapsed": true,
    "jupyter": {
     "outputs_hidden": true
    },
    "tags": []
   },
   "outputs": [
    {
     "data": {
      "text/plain": [
       "\u001b[1;31mType:\u001b[0m        DecisionTreeRegressor\n",
       "\u001b[1;31mString form:\u001b[0m DecisionTreeRegressor(max_depth=5)\n",
       "\u001b[1;31mFile:\u001b[0m        c:\\users\\burak\\anaconda3\\lib\\site-packages\\sklearn\\tree\\_classes.py\n",
       "\u001b[1;31mDocstring:\u001b[0m  \n",
       "A decision tree regressor.\n",
       "\n",
       "Read more in the :ref:`User Guide <tree>`.\n",
       "\n",
       "Parameters\n",
       "----------\n",
       "criterion : {\"mse\", \"friedman_mse\", \"mae\", \"poisson\"}, default=\"mse\"\n",
       "    The function to measure the quality of a split. Supported criteria\n",
       "    are \"mse\" for the mean squared error, which is equal to variance\n",
       "    reduction as feature selection criterion and minimizes the L2 loss\n",
       "    using the mean of each terminal node, \"friedman_mse\", which uses mean\n",
       "    squared error with Friedman's improvement score for potential splits,\n",
       "    \"mae\" for the mean absolute error, which minimizes the L1 loss using\n",
       "    the median of each terminal node, and \"poisson\" which uses reduction in\n",
       "    Poisson deviance to find splits.\n",
       "\n",
       "    .. versionadded:: 0.18\n",
       "       Mean Absolute Error (MAE) criterion.\n",
       "\n",
       "    .. versionadded:: 0.24\n",
       "        Poisson deviance criterion.\n",
       "\n",
       "splitter : {\"best\", \"random\"}, default=\"best\"\n",
       "    The strategy used to choose the split at each node. Supported\n",
       "    strategies are \"best\" to choose the best split and \"random\" to choose\n",
       "    the best random split.\n",
       "\n",
       "max_depth : int, default=None\n",
       "    The maximum depth of the tree. If None, then nodes are expanded until\n",
       "    all leaves are pure or until all leaves contain less than\n",
       "    min_samples_split samples.\n",
       "\n",
       "min_samples_split : int or float, default=2\n",
       "    The minimum number of samples required to split an internal node:\n",
       "\n",
       "    - If int, then consider `min_samples_split` as the minimum number.\n",
       "    - If float, then `min_samples_split` is a fraction and\n",
       "      `ceil(min_samples_split * n_samples)` are the minimum\n",
       "      number of samples for each split.\n",
       "\n",
       "    .. versionchanged:: 0.18\n",
       "       Added float values for fractions.\n",
       "\n",
       "min_samples_leaf : int or float, default=1\n",
       "    The minimum number of samples required to be at a leaf node.\n",
       "    A split point at any depth will only be considered if it leaves at\n",
       "    least ``min_samples_leaf`` training samples in each of the left and\n",
       "    right branches.  This may have the effect of smoothing the model,\n",
       "    especially in regression.\n",
       "\n",
       "    - If int, then consider `min_samples_leaf` as the minimum number.\n",
       "    - If float, then `min_samples_leaf` is a fraction and\n",
       "      `ceil(min_samples_leaf * n_samples)` are the minimum\n",
       "      number of samples for each node.\n",
       "\n",
       "    .. versionchanged:: 0.18\n",
       "       Added float values for fractions.\n",
       "\n",
       "min_weight_fraction_leaf : float, default=0.0\n",
       "    The minimum weighted fraction of the sum total of weights (of all\n",
       "    the input samples) required to be at a leaf node. Samples have\n",
       "    equal weight when sample_weight is not provided.\n",
       "\n",
       "max_features : int, float or {\"auto\", \"sqrt\", \"log2\"}, default=None\n",
       "    The number of features to consider when looking for the best split:\n",
       "\n",
       "    - If int, then consider `max_features` features at each split.\n",
       "    - If float, then `max_features` is a fraction and\n",
       "      `int(max_features * n_features)` features are considered at each\n",
       "      split.\n",
       "    - If \"auto\", then `max_features=n_features`.\n",
       "    - If \"sqrt\", then `max_features=sqrt(n_features)`.\n",
       "    - If \"log2\", then `max_features=log2(n_features)`.\n",
       "    - If None, then `max_features=n_features`.\n",
       "\n",
       "    Note: the search for a split does not stop until at least one\n",
       "    valid partition of the node samples is found, even if it requires to\n",
       "    effectively inspect more than ``max_features`` features.\n",
       "\n",
       "random_state : int, RandomState instance or None, default=None\n",
       "    Controls the randomness of the estimator. The features are always\n",
       "    randomly permuted at each split, even if ``splitter`` is set to\n",
       "    ``\"best\"``. When ``max_features < n_features``, the algorithm will\n",
       "    select ``max_features`` at random at each split before finding the best\n",
       "    split among them. But the best found split may vary across different\n",
       "    runs, even if ``max_features=n_features``. That is the case, if the\n",
       "    improvement of the criterion is identical for several splits and one\n",
       "    split has to be selected at random. To obtain a deterministic behaviour\n",
       "    during fitting, ``random_state`` has to be fixed to an integer.\n",
       "    See :term:`Glossary <random_state>` for details.\n",
       "\n",
       "max_leaf_nodes : int, default=None\n",
       "    Grow a tree with ``max_leaf_nodes`` in best-first fashion.\n",
       "    Best nodes are defined as relative reduction in impurity.\n",
       "    If None then unlimited number of leaf nodes.\n",
       "\n",
       "min_impurity_decrease : float, default=0.0\n",
       "    A node will be split if this split induces a decrease of the impurity\n",
       "    greater than or equal to this value.\n",
       "\n",
       "    The weighted impurity decrease equation is the following::\n",
       "\n",
       "        N_t / N * (impurity - N_t_R / N_t * right_impurity\n",
       "                            - N_t_L / N_t * left_impurity)\n",
       "\n",
       "    where ``N`` is the total number of samples, ``N_t`` is the number of\n",
       "    samples at the current node, ``N_t_L`` is the number of samples in the\n",
       "    left child, and ``N_t_R`` is the number of samples in the right child.\n",
       "\n",
       "    ``N``, ``N_t``, ``N_t_R`` and ``N_t_L`` all refer to the weighted sum,\n",
       "    if ``sample_weight`` is passed.\n",
       "\n",
       "    .. versionadded:: 0.19\n",
       "\n",
       "min_impurity_split : float, default=0\n",
       "    Threshold for early stopping in tree growth. A node will split\n",
       "    if its impurity is above the threshold, otherwise it is a leaf.\n",
       "\n",
       "    .. deprecated:: 0.19\n",
       "       ``min_impurity_split`` has been deprecated in favor of\n",
       "       ``min_impurity_decrease`` in 0.19. The default value of\n",
       "       ``min_impurity_split`` has changed from 1e-7 to 0 in 0.23 and it\n",
       "       will be removed in 1.0 (renaming of 0.25).\n",
       "       Use ``min_impurity_decrease`` instead.\n",
       "\n",
       "ccp_alpha : non-negative float, default=0.0\n",
       "    Complexity parameter used for Minimal Cost-Complexity Pruning. The\n",
       "    subtree with the largest cost complexity that is smaller than\n",
       "    ``ccp_alpha`` will be chosen. By default, no pruning is performed. See\n",
       "    :ref:`minimal_cost_complexity_pruning` for details.\n",
       "\n",
       "    .. versionadded:: 0.22\n",
       "\n",
       "Attributes\n",
       "----------\n",
       "feature_importances_ : ndarray of shape (n_features,)\n",
       "    The feature importances.\n",
       "    The higher, the more important the feature.\n",
       "    The importance of a feature is computed as the\n",
       "    (normalized) total reduction of the criterion brought\n",
       "    by that feature. It is also known as the Gini importance [4]_.\n",
       "\n",
       "    Warning: impurity-based feature importances can be misleading for\n",
       "    high cardinality features (many unique values). See\n",
       "    :func:`sklearn.inspection.permutation_importance` as an alternative.\n",
       "\n",
       "max_features_ : int\n",
       "    The inferred value of max_features.\n",
       "\n",
       "n_features_ : int\n",
       "    The number of features when ``fit`` is performed.\n",
       "\n",
       "n_outputs_ : int\n",
       "    The number of outputs when ``fit`` is performed.\n",
       "\n",
       "tree_ : Tree instance\n",
       "    The underlying Tree object. Please refer to\n",
       "    ``help(sklearn.tree._tree.Tree)`` for attributes of Tree object and\n",
       "    :ref:`sphx_glr_auto_examples_tree_plot_unveil_tree_structure.py`\n",
       "    for basic usage of these attributes.\n",
       "\n",
       "See Also\n",
       "--------\n",
       "DecisionTreeClassifier : A decision tree classifier.\n",
       "\n",
       "Notes\n",
       "-----\n",
       "The default values for the parameters controlling the size of the trees\n",
       "(e.g. ``max_depth``, ``min_samples_leaf``, etc.) lead to fully grown and\n",
       "unpruned trees which can potentially be very large on some data sets. To\n",
       "reduce memory consumption, the complexity and size of the trees should be\n",
       "controlled by setting those parameter values.\n",
       "\n",
       "References\n",
       "----------\n",
       "\n",
       ".. [1] https://en.wikipedia.org/wiki/Decision_tree_learning\n",
       "\n",
       ".. [2] L. Breiman, J. Friedman, R. Olshen, and C. Stone, \"Classification\n",
       "       and Regression Trees\", Wadsworth, Belmont, CA, 1984.\n",
       "\n",
       ".. [3] T. Hastie, R. Tibshirani and J. Friedman. \"Elements of Statistical\n",
       "       Learning\", Springer, 2009.\n",
       "\n",
       ".. [4] L. Breiman, and A. Cutler, \"Random Forests\",\n",
       "       https://www.stat.berkeley.edu/~breiman/RandomForests/cc_home.htm\n",
       "\n",
       "Examples\n",
       "--------\n",
       ">>> from sklearn.datasets import load_diabetes\n",
       ">>> from sklearn.model_selection import cross_val_score\n",
       ">>> from sklearn.tree import DecisionTreeRegressor\n",
       ">>> X, y = load_diabetes(return_X_y=True)\n",
       ">>> regressor = DecisionTreeRegressor(random_state=0)\n",
       ">>> cross_val_score(regressor, X, y, cv=10)\n",
       "...                    # doctest: +SKIP\n",
       "...\n",
       "array([-0.39..., -0.46...,  0.02...,  0.06..., -0.50...,\n",
       "       0.16...,  0.11..., -0.73..., -0.30..., -0.00...])\n"
      ]
     },
     "metadata": {},
     "output_type": "display_data"
    }
   ],
   "source": [
    "?cart_model"
   ]
  },
  {
   "cell_type": "code",
   "execution_count": 71,
   "id": "f0969f16-1239-48bb-95c9-c56b5dfd74bb",
   "metadata": {},
   "outputs": [],
   "source": [
    "cart_params = {\"max_depth\": [2,3,4,5,10,20],\n",
    "              \"min_samples_split\": [2,10,5,30,50,100]}"
   ]
  },
  {
   "cell_type": "code",
   "execution_count": 72,
   "id": "e633d38b-cff5-4981-9b0a-78a5d17b37f5",
   "metadata": {},
   "outputs": [],
   "source": [
    "cart_model = DecisionTreeRegressor()"
   ]
  },
  {
   "cell_type": "code",
   "execution_count": 73,
   "id": "16618700-172f-4a6b-b7a4-c8d72f25bfcf",
   "metadata": {},
   "outputs": [],
   "source": [
    "cart_cv_model = GridSearchCV(cart_model, cart_params, cv=10).fit(X_train, y_train)"
   ]
  },
  {
   "cell_type": "code",
   "execution_count": 74,
   "id": "c14be166-a1f3-45bf-8c0f-c07f0442606c",
   "metadata": {},
   "outputs": [
    {
     "data": {
      "text/plain": [
       "{'max_depth': 5, 'min_samples_split': 50}"
      ]
     },
     "execution_count": 74,
     "metadata": {},
     "output_type": "execute_result"
    }
   ],
   "source": [
    "cart_cv_model.best_params_"
   ]
  },
  {
   "cell_type": "code",
   "execution_count": 75,
   "id": "336e1fc2-4ad6-4400-ae4e-9148e540eefc",
   "metadata": {},
   "outputs": [],
   "source": [
    "#final model"
   ]
  },
  {
   "cell_type": "code",
   "execution_count": 79,
   "id": "afa9e40e-b43b-44a4-8d95-856cc987f3c6",
   "metadata": {},
   "outputs": [],
   "source": [
    "cart_tuned_model = DecisionTreeRegressor(max_depth = 10, min_samples_split=50).fit(X_train,y_train)"
   ]
  },
  {
   "cell_type": "code",
   "execution_count": 80,
   "id": "63422845-4b96-494a-8131-a82b6ab2d18d",
   "metadata": {},
   "outputs": [
    {
     "data": {
      "text/plain": [
       "361.0876906511434"
      ]
     },
     "execution_count": 80,
     "metadata": {},
     "output_type": "execute_result"
    }
   ],
   "source": [
    "y_pred = cart_tuned_model.predict(X_test)\n",
    "np.sqrt(mean_squared_error(y_test,y_pred))\n",
    "#ilkel hata olan 490'dan 361'e kadar inmis oldu."
   ]
  },
  {
   "cell_type": "markdown",
   "id": "e4e70e05-c3d9-4d9a-a045-73327f21dae1",
   "metadata": {},
   "source": [
    "# Random Forests"
   ]
  },
  {
   "cell_type": "code",
   "execution_count": 4,
   "id": "617cf5d1-5d9d-4e0a-a385-b170b30ea36f",
   "metadata": {},
   "outputs": [],
   "source": [
    "df = pd.read_csv(\"Hitters.csv\")\n",
    "df = df.dropna()\n",
    "dms = pd.get_dummies(df[['League','Division',\"NewLeague\"]])\n",
    "y = df[\"Salary\"]\n",
    "X_ = df.drop(['Salary','League','Division','NewLeague'], axis=1).astype('float64')\n",
    "X = pd.concat([X_, dms[['League_N','Division_W','NewLeague_N']]], axis=1)\n",
    "X_train, X_test, y_train, y_test = train_test_split(X,y,test_size=0.25, random_state=42)"
   ]
  },
  {
   "cell_type": "markdown",
   "id": "1001c18e-93d0-4c5d-b301-b8606f61b1ad",
   "metadata": {},
   "source": [
    "### Model&Tahmin"
   ]
  },
  {
   "cell_type": "code",
   "execution_count": 5,
   "id": "c500efe7-5f57-4427-ad98-7e68362f9272",
   "metadata": {},
   "outputs": [],
   "source": [
    "rf_model = RandomForestRegressor(random_state = 42 ).fit(X_train, y_train)"
   ]
  },
  {
   "cell_type": "code",
   "execution_count": 6,
   "id": "c950d5cb-3b18-4273-afa2-3c1179743c9a",
   "metadata": {},
   "outputs": [
    {
     "data": {
      "text/plain": [
       "RandomForestRegressor(random_state=42)"
      ]
     },
     "execution_count": 6,
     "metadata": {},
     "output_type": "execute_result"
    }
   ],
   "source": [
    "rf_model"
   ]
  },
  {
   "cell_type": "code",
   "execution_count": 7,
   "id": "eefefd55-0ef9-4640-82a3-aeacec77256f",
   "metadata": {},
   "outputs": [
    {
     "data": {
      "text/plain": [
       "344.8191624908484"
      ]
     },
     "execution_count": 7,
     "metadata": {},
     "output_type": "execute_result"
    }
   ],
   "source": [
    "y_pred = rf_model.predict(X_test)\n",
    "np.sqrt(mean_squared_error(y_test,y_pred)) #344 bizim ilkel hatamiz."
   ]
  },
  {
   "cell_type": "markdown",
   "id": "dbc765b4-07ff-4d46-9882-e41d51f9b18d",
   "metadata": {},
   "source": [
    "### Model Tuning"
   ]
  },
  {
   "cell_type": "code",
   "execution_count": 10,
   "id": "592c40e4-d967-4861-9a16-ce0c91ac3f10",
   "metadata": {},
   "outputs": [],
   "source": [
    "rf_params = {\"max_depth\": [5,8,10],\n",
    "            \"max_features\": [2,5,10],\n",
    "            \"n_estimators\": [200,500,1000,2000],#agaclar. makalelerde en iyi 500 ve 2000 deniyor.\n",
    "            \"min_samples_split\": [2,10,80,100]} "
   ]
  },
  {
   "cell_type": "code",
   "execution_count": 11,
   "id": "79da6866-f253-41d8-a106-2197573bff4b",
   "metadata": {
    "collapsed": true,
    "jupyter": {
     "outputs_hidden": true
    },
    "tags": []
   },
   "outputs": [
    {
     "name": "stdout",
     "output_type": "stream",
     "text": [
      "Fitting 10 folds for each of 144 candidates, totalling 1440 fits\n",
      "[CV] END max_depth=5, max_features=2, min_samples_split=2, n_estimators=200; total time=   0.0s\n",
      "[CV] END max_depth=5, max_features=2, min_samples_split=2, n_estimators=200; total time=   0.0s\n",
      "[CV] END max_depth=5, max_features=2, min_samples_split=2, n_estimators=200; total time=   0.1s\n",
      "[CV] END max_depth=5, max_features=2, min_samples_split=2, n_estimators=200; total time=   0.0s\n",
      "[CV] END max_depth=5, max_features=2, min_samples_split=2, n_estimators=200; total time=   0.0s\n",
      "[CV] END max_depth=5, max_features=2, min_samples_split=2, n_estimators=200; total time=   0.0s\n",
      "[CV] END max_depth=5, max_features=2, min_samples_split=2, n_estimators=200; total time=   0.0s\n",
      "[CV] END max_depth=5, max_features=2, min_samples_split=2, n_estimators=200; total time=   0.0s\n",
      "[CV] END max_depth=5, max_features=2, min_samples_split=2, n_estimators=200; total time=   0.0s\n",
      "[CV] END max_depth=5, max_features=2, min_samples_split=2, n_estimators=200; total time=   0.0s\n",
      "[CV] END max_depth=5, max_features=2, min_samples_split=2, n_estimators=500; total time=   0.2s\n",
      "[CV] END max_depth=5, max_features=2, min_samples_split=2, n_estimators=500; total time=   0.2s\n",
      "[CV] END max_depth=5, max_features=2, min_samples_split=2, n_estimators=500; total time=   0.2s\n",
      "[CV] END max_depth=5, max_features=2, min_samples_split=2, n_estimators=500; total time=   0.2s\n",
      "[CV] END max_depth=5, max_features=2, min_samples_split=2, n_estimators=500; total time=   0.2s\n",
      "[CV] END max_depth=5, max_features=2, min_samples_split=2, n_estimators=500; total time=   0.2s\n",
      "[CV] END max_depth=5, max_features=2, min_samples_split=2, n_estimators=500; total time=   0.2s\n",
      "[CV] END max_depth=5, max_features=2, min_samples_split=2, n_estimators=500; total time=   0.2s\n",
      "[CV] END max_depth=5, max_features=2, min_samples_split=2, n_estimators=500; total time=   0.2s\n",
      "[CV] END max_depth=5, max_features=2, min_samples_split=2, n_estimators=500; total time=   0.2s\n",
      "[CV] END max_depth=5, max_features=2, min_samples_split=2, n_estimators=1000; total time=   0.5s\n",
      "[CV] END max_depth=5, max_features=2, min_samples_split=2, n_estimators=1000; total time=   0.5s\n",
      "[CV] END max_depth=5, max_features=2, min_samples_split=2, n_estimators=1000; total time=   0.5s\n",
      "[CV] END max_depth=5, max_features=2, min_samples_split=2, n_estimators=1000; total time=   0.5s\n",
      "[CV] END max_depth=5, max_features=2, min_samples_split=2, n_estimators=1000; total time=   0.5s\n",
      "[CV] END max_depth=5, max_features=2, min_samples_split=2, n_estimators=1000; total time=   0.5s\n",
      "[CV] END max_depth=5, max_features=2, min_samples_split=2, n_estimators=1000; total time=   0.5s\n",
      "[CV] END max_depth=5, max_features=2, min_samples_split=2, n_estimators=1000; total time=   0.5s\n",
      "[CV] END max_depth=5, max_features=2, min_samples_split=2, n_estimators=1000; total time=   0.5s\n",
      "[CV] END max_depth=5, max_features=2, min_samples_split=2, n_estimators=1000; total time=   0.5s\n",
      "[CV] END max_depth=5, max_features=2, min_samples_split=2, n_estimators=2000; total time=   1.2s\n",
      "[CV] END max_depth=5, max_features=2, min_samples_split=2, n_estimators=2000; total time=   1.1s\n",
      "[CV] END max_depth=5, max_features=2, min_samples_split=2, n_estimators=2000; total time=   1.1s\n",
      "[CV] END max_depth=5, max_features=2, min_samples_split=2, n_estimators=2000; total time=   1.1s\n",
      "[CV] END max_depth=5, max_features=2, min_samples_split=2, n_estimators=2000; total time=   1.2s\n",
      "[CV] END max_depth=5, max_features=2, min_samples_split=2, n_estimators=2000; total time=   1.2s\n",
      "[CV] END max_depth=5, max_features=2, min_samples_split=2, n_estimators=2000; total time=   1.2s\n",
      "[CV] END max_depth=5, max_features=2, min_samples_split=2, n_estimators=2000; total time=   1.1s\n",
      "[CV] END max_depth=5, max_features=2, min_samples_split=2, n_estimators=2000; total time=   1.1s\n",
      "[CV] END max_depth=5, max_features=2, min_samples_split=2, n_estimators=2000; total time=   1.1s\n",
      "[CV] END max_depth=5, max_features=2, min_samples_split=10, n_estimators=200; total time=   0.0s\n",
      "[CV] END max_depth=5, max_features=2, min_samples_split=10, n_estimators=200; total time=   0.0s\n",
      "[CV] END max_depth=5, max_features=2, min_samples_split=10, n_estimators=200; total time=   0.0s\n",
      "[CV] END max_depth=5, max_features=2, min_samples_split=10, n_estimators=200; total time=   0.0s\n",
      "[CV] END max_depth=5, max_features=2, min_samples_split=10, n_estimators=200; total time=   0.0s\n",
      "[CV] END max_depth=5, max_features=2, min_samples_split=10, n_estimators=200; total time=   0.0s\n",
      "[CV] END max_depth=5, max_features=2, min_samples_split=10, n_estimators=200; total time=   0.0s\n",
      "[CV] END max_depth=5, max_features=2, min_samples_split=10, n_estimators=200; total time=   0.0s\n",
      "[CV] END max_depth=5, max_features=2, min_samples_split=10, n_estimators=200; total time=   0.0s\n",
      "[CV] END max_depth=5, max_features=2, min_samples_split=10, n_estimators=200; total time=   0.0s\n",
      "[CV] END max_depth=5, max_features=2, min_samples_split=10, n_estimators=500; total time=   0.2s\n",
      "[CV] END max_depth=5, max_features=2, min_samples_split=10, n_estimators=500; total time=   0.2s\n",
      "[CV] END max_depth=5, max_features=2, min_samples_split=10, n_estimators=500; total time=   0.2s\n",
      "[CV] END max_depth=5, max_features=2, min_samples_split=10, n_estimators=500; total time=   0.2s\n",
      "[CV] END max_depth=5, max_features=2, min_samples_split=10, n_estimators=500; total time=   0.2s\n",
      "[CV] END max_depth=5, max_features=2, min_samples_split=10, n_estimators=500; total time=   0.2s\n",
      "[CV] END max_depth=5, max_features=2, min_samples_split=10, n_estimators=500; total time=   0.2s\n",
      "[CV] END max_depth=5, max_features=2, min_samples_split=10, n_estimators=500; total time=   0.2s\n",
      "[CV] END max_depth=5, max_features=2, min_samples_split=10, n_estimators=500; total time=   0.2s\n",
      "[CV] END max_depth=5, max_features=2, min_samples_split=10, n_estimators=500; total time=   0.2s\n",
      "[CV] END max_depth=5, max_features=2, min_samples_split=10, n_estimators=1000; total time=   0.5s\n",
      "[CV] END max_depth=5, max_features=2, min_samples_split=10, n_estimators=1000; total time=   0.5s\n",
      "[CV] END max_depth=5, max_features=2, min_samples_split=10, n_estimators=1000; total time=   0.5s\n",
      "[CV] END max_depth=5, max_features=2, min_samples_split=10, n_estimators=1000; total time=   0.5s\n",
      "[CV] END max_depth=5, max_features=2, min_samples_split=10, n_estimators=1000; total time=   0.5s\n",
      "[CV] END max_depth=5, max_features=2, min_samples_split=10, n_estimators=1000; total time=   0.5s\n",
      "[CV] END max_depth=5, max_features=2, min_samples_split=10, n_estimators=1000; total time=   0.5s\n",
      "[CV] END max_depth=5, max_features=2, min_samples_split=10, n_estimators=1000; total time=   0.5s\n",
      "[CV] END max_depth=5, max_features=2, min_samples_split=10, n_estimators=1000; total time=   0.5s\n",
      "[CV] END max_depth=5, max_features=2, min_samples_split=10, n_estimators=1000; total time=   0.5s\n",
      "[CV] END max_depth=5, max_features=2, min_samples_split=10, n_estimators=2000; total time=   1.1s\n",
      "[CV] END max_depth=5, max_features=2, min_samples_split=10, n_estimators=2000; total time=   1.1s\n",
      "[CV] END max_depth=5, max_features=2, min_samples_split=10, n_estimators=2000; total time=   1.1s\n",
      "[CV] END max_depth=5, max_features=2, min_samples_split=10, n_estimators=2000; total time=   1.1s\n",
      "[CV] END max_depth=5, max_features=2, min_samples_split=10, n_estimators=2000; total time=   1.1s\n",
      "[CV] END max_depth=5, max_features=2, min_samples_split=10, n_estimators=2000; total time=   1.1s\n",
      "[CV] END max_depth=5, max_features=2, min_samples_split=10, n_estimators=2000; total time=   1.1s\n",
      "[CV] END max_depth=5, max_features=2, min_samples_split=10, n_estimators=2000; total time=   1.1s\n",
      "[CV] END max_depth=5, max_features=2, min_samples_split=10, n_estimators=2000; total time=   1.1s\n",
      "[CV] END max_depth=5, max_features=2, min_samples_split=10, n_estimators=2000; total time=   1.1s\n",
      "[CV] END max_depth=5, max_features=2, min_samples_split=80, n_estimators=200; total time=   0.0s\n",
      "[CV] END max_depth=5, max_features=2, min_samples_split=80, n_estimators=200; total time=   0.0s\n",
      "[CV] END max_depth=5, max_features=2, min_samples_split=80, n_estimators=200; total time=   0.0s\n",
      "[CV] END max_depth=5, max_features=2, min_samples_split=80, n_estimators=200; total time=   0.0s\n",
      "[CV] END max_depth=5, max_features=2, min_samples_split=80, n_estimators=200; total time=   0.0s\n",
      "[CV] END max_depth=5, max_features=2, min_samples_split=80, n_estimators=200; total time=   0.0s\n",
      "[CV] END max_depth=5, max_features=2, min_samples_split=80, n_estimators=200; total time=   0.0s\n",
      "[CV] END max_depth=5, max_features=2, min_samples_split=80, n_estimators=200; total time=   0.0s\n",
      "[CV] END max_depth=5, max_features=2, min_samples_split=80, n_estimators=200; total time=   0.0s\n",
      "[CV] END max_depth=5, max_features=2, min_samples_split=80, n_estimators=200; total time=   0.0s\n",
      "[CV] END max_depth=5, max_features=2, min_samples_split=80, n_estimators=500; total time=   0.2s\n",
      "[CV] END max_depth=5, max_features=2, min_samples_split=80, n_estimators=500; total time=   0.2s\n",
      "[CV] END max_depth=5, max_features=2, min_samples_split=80, n_estimators=500; total time=   0.2s\n",
      "[CV] END max_depth=5, max_features=2, min_samples_split=80, n_estimators=500; total time=   0.2s\n",
      "[CV] END max_depth=5, max_features=2, min_samples_split=80, n_estimators=500; total time=   0.2s\n",
      "[CV] END max_depth=5, max_features=2, min_samples_split=80, n_estimators=500; total time=   0.2s\n",
      "[CV] END max_depth=5, max_features=2, min_samples_split=80, n_estimators=500; total time=   0.2s\n",
      "[CV] END max_depth=5, max_features=2, min_samples_split=80, n_estimators=500; total time=   0.2s\n",
      "[CV] END max_depth=5, max_features=2, min_samples_split=80, n_estimators=500; total time=   0.2s\n",
      "[CV] END max_depth=5, max_features=2, min_samples_split=80, n_estimators=500; total time=   0.2s\n",
      "[CV] END max_depth=5, max_features=2, min_samples_split=80, n_estimators=1000; total time=   0.5s\n",
      "[CV] END max_depth=5, max_features=2, min_samples_split=80, n_estimators=1000; total time=   0.5s\n",
      "[CV] END max_depth=5, max_features=2, min_samples_split=80, n_estimators=1000; total time=   0.5s\n",
      "[CV] END max_depth=5, max_features=2, min_samples_split=80, n_estimators=1000; total time=   0.5s\n",
      "[CV] END max_depth=5, max_features=2, min_samples_split=80, n_estimators=1000; total time=   0.5s\n",
      "[CV] END max_depth=5, max_features=2, min_samples_split=80, n_estimators=1000; total time=   0.5s\n",
      "[CV] END max_depth=5, max_features=2, min_samples_split=80, n_estimators=1000; total time=   0.5s\n",
      "[CV] END max_depth=5, max_features=2, min_samples_split=80, n_estimators=1000; total time=   0.4s\n",
      "[CV] END max_depth=5, max_features=2, min_samples_split=80, n_estimators=1000; total time=   0.4s\n",
      "[CV] END max_depth=5, max_features=2, min_samples_split=80, n_estimators=1000; total time=   0.5s\n",
      "[CV] END max_depth=5, max_features=2, min_samples_split=80, n_estimators=2000; total time=   1.0s\n",
      "[CV] END max_depth=5, max_features=2, min_samples_split=80, n_estimators=2000; total time=   1.0s\n",
      "[CV] END max_depth=5, max_features=2, min_samples_split=80, n_estimators=2000; total time=   1.0s\n",
      "[CV] END max_depth=5, max_features=2, min_samples_split=80, n_estimators=2000; total time=   1.0s\n",
      "[CV] END max_depth=5, max_features=2, min_samples_split=80, n_estimators=2000; total time=   1.0s\n",
      "[CV] END max_depth=5, max_features=2, min_samples_split=80, n_estimators=2000; total time=   1.1s\n",
      "[CV] END max_depth=5, max_features=2, min_samples_split=80, n_estimators=2000; total time=   1.0s\n",
      "[CV] END max_depth=5, max_features=2, min_samples_split=80, n_estimators=2000; total time=   1.0s\n",
      "[CV] END max_depth=5, max_features=2, min_samples_split=80, n_estimators=2000; total time=   1.1s\n",
      "[CV] END max_depth=5, max_features=2, min_samples_split=80, n_estimators=2000; total time=   1.0s\n",
      "[CV] END max_depth=5, max_features=2, min_samples_split=100, n_estimators=200; total time=   0.0s\n",
      "[CV] END max_depth=5, max_features=2, min_samples_split=100, n_estimators=200; total time=   0.0s\n",
      "[CV] END max_depth=5, max_features=2, min_samples_split=100, n_estimators=200; total time=   0.0s\n",
      "[CV] END max_depth=5, max_features=2, min_samples_split=100, n_estimators=200; total time=   0.0s\n",
      "[CV] END max_depth=5, max_features=2, min_samples_split=100, n_estimators=200; total time=   0.0s\n",
      "[CV] END max_depth=5, max_features=2, min_samples_split=100, n_estimators=200; total time=   0.0s\n",
      "[CV] END max_depth=5, max_features=2, min_samples_split=100, n_estimators=200; total time=   0.0s\n",
      "[CV] END max_depth=5, max_features=2, min_samples_split=100, n_estimators=200; total time=   0.0s\n",
      "[CV] END max_depth=5, max_features=2, min_samples_split=100, n_estimators=200; total time=   0.0s\n",
      "[CV] END max_depth=5, max_features=2, min_samples_split=100, n_estimators=200; total time=   0.0s\n",
      "[CV] END max_depth=5, max_features=2, min_samples_split=100, n_estimators=500; total time=   0.2s\n",
      "[CV] END max_depth=5, max_features=2, min_samples_split=100, n_estimators=500; total time=   0.2s\n",
      "[CV] END max_depth=5, max_features=2, min_samples_split=100, n_estimators=500; total time=   0.2s\n",
      "[CV] END max_depth=5, max_features=2, min_samples_split=100, n_estimators=500; total time=   0.2s\n",
      "[CV] END max_depth=5, max_features=2, min_samples_split=100, n_estimators=500; total time=   0.2s\n",
      "[CV] END max_depth=5, max_features=2, min_samples_split=100, n_estimators=500; total time=   0.2s\n",
      "[CV] END max_depth=5, max_features=2, min_samples_split=100, n_estimators=500; total time=   0.2s\n",
      "[CV] END max_depth=5, max_features=2, min_samples_split=100, n_estimators=500; total time=   0.2s\n",
      "[CV] END max_depth=5, max_features=2, min_samples_split=100, n_estimators=500; total time=   0.2s\n",
      "[CV] END max_depth=5, max_features=2, min_samples_split=100, n_estimators=500; total time=   0.2s\n",
      "[CV] END max_depth=5, max_features=2, min_samples_split=100, n_estimators=1000; total time=   0.4s\n",
      "[CV] END max_depth=5, max_features=2, min_samples_split=100, n_estimators=1000; total time=   0.4s\n",
      "[CV] END max_depth=5, max_features=2, min_samples_split=100, n_estimators=1000; total time=   0.5s\n",
      "[CV] END max_depth=5, max_features=2, min_samples_split=100, n_estimators=1000; total time=   0.5s\n",
      "[CV] END max_depth=5, max_features=2, min_samples_split=100, n_estimators=1000; total time=   0.5s\n",
      "[CV] END max_depth=5, max_features=2, min_samples_split=100, n_estimators=1000; total time=   0.5s\n",
      "[CV] END max_depth=5, max_features=2, min_samples_split=100, n_estimators=1000; total time=   0.5s\n",
      "[CV] END max_depth=5, max_features=2, min_samples_split=100, n_estimators=1000; total time=   0.5s\n",
      "[CV] END max_depth=5, max_features=2, min_samples_split=100, n_estimators=1000; total time=   0.4s\n",
      "[CV] END max_depth=5, max_features=2, min_samples_split=100, n_estimators=1000; total time=   0.5s\n",
      "[CV] END max_depth=5, max_features=2, min_samples_split=100, n_estimators=2000; total time=   1.0s\n",
      "[CV] END max_depth=5, max_features=2, min_samples_split=100, n_estimators=2000; total time=   1.0s\n",
      "[CV] END max_depth=5, max_features=2, min_samples_split=100, n_estimators=2000; total time=   1.1s\n",
      "[CV] END max_depth=5, max_features=2, min_samples_split=100, n_estimators=2000; total time=   1.0s\n",
      "[CV] END max_depth=5, max_features=2, min_samples_split=100, n_estimators=2000; total time=   1.0s\n",
      "[CV] END max_depth=5, max_features=2, min_samples_split=100, n_estimators=2000; total time=   1.0s\n",
      "[CV] END max_depth=5, max_features=2, min_samples_split=100, n_estimators=2000; total time=   1.0s\n",
      "[CV] END max_depth=5, max_features=2, min_samples_split=100, n_estimators=2000; total time=   1.0s\n",
      "[CV] END max_depth=5, max_features=2, min_samples_split=100, n_estimators=2000; total time=   1.0s\n",
      "[CV] END max_depth=5, max_features=2, min_samples_split=100, n_estimators=2000; total time=   1.0s\n",
      "[CV] END max_depth=5, max_features=5, min_samples_split=2, n_estimators=200; total time=   0.0s\n",
      "[CV] END max_depth=5, max_features=5, min_samples_split=2, n_estimators=200; total time=   0.0s\n",
      "[CV] END max_depth=5, max_features=5, min_samples_split=2, n_estimators=200; total time=   0.0s\n",
      "[CV] END max_depth=5, max_features=5, min_samples_split=2, n_estimators=200; total time=   0.0s\n",
      "[CV] END max_depth=5, max_features=5, min_samples_split=2, n_estimators=200; total time=   0.0s\n",
      "[CV] END max_depth=5, max_features=5, min_samples_split=2, n_estimators=200; total time=   0.0s\n",
      "[CV] END max_depth=5, max_features=5, min_samples_split=2, n_estimators=200; total time=   0.0s\n",
      "[CV] END max_depth=5, max_features=5, min_samples_split=2, n_estimators=200; total time=   0.0s\n",
      "[CV] END max_depth=5, max_features=5, min_samples_split=2, n_estimators=200; total time=   0.0s\n",
      "[CV] END max_depth=5, max_features=5, min_samples_split=2, n_estimators=200; total time=   0.0s\n",
      "[CV] END max_depth=5, max_features=5, min_samples_split=2, n_estimators=500; total time=   0.2s\n",
      "[CV] END max_depth=5, max_features=5, min_samples_split=2, n_estimators=500; total time=   0.2s\n",
      "[CV] END max_depth=5, max_features=5, min_samples_split=2, n_estimators=500; total time=   0.2s\n",
      "[CV] END max_depth=5, max_features=5, min_samples_split=2, n_estimators=500; total time=   0.2s\n",
      "[CV] END max_depth=5, max_features=5, min_samples_split=2, n_estimators=500; total time=   0.2s\n",
      "[CV] END max_depth=5, max_features=5, min_samples_split=2, n_estimators=500; total time=   0.2s\n",
      "[CV] END max_depth=5, max_features=5, min_samples_split=2, n_estimators=500; total time=   0.2s\n",
      "[CV] END max_depth=5, max_features=5, min_samples_split=2, n_estimators=500; total time=   0.2s\n",
      "[CV] END max_depth=5, max_features=5, min_samples_split=2, n_estimators=500; total time=   0.2s\n",
      "[CV] END max_depth=5, max_features=5, min_samples_split=2, n_estimators=500; total time=   0.2s\n",
      "[CV] END max_depth=5, max_features=5, min_samples_split=2, n_estimators=1000; total time=   0.6s\n",
      "[CV] END max_depth=5, max_features=5, min_samples_split=2, n_estimators=1000; total time=   0.6s\n",
      "[CV] END max_depth=5, max_features=5, min_samples_split=2, n_estimators=1000; total time=   0.5s\n",
      "[CV] END max_depth=5, max_features=5, min_samples_split=2, n_estimators=1000; total time=   0.5s\n",
      "[CV] END max_depth=5, max_features=5, min_samples_split=2, n_estimators=1000; total time=   0.5s\n",
      "[CV] END max_depth=5, max_features=5, min_samples_split=2, n_estimators=1000; total time=   0.5s\n",
      "[CV] END max_depth=5, max_features=5, min_samples_split=2, n_estimators=1000; total time=   0.6s\n",
      "[CV] END max_depth=5, max_features=5, min_samples_split=2, n_estimators=1000; total time=   0.5s\n",
      "[CV] END max_depth=5, max_features=5, min_samples_split=2, n_estimators=1000; total time=   0.6s\n",
      "[CV] END max_depth=5, max_features=5, min_samples_split=2, n_estimators=1000; total time=   0.6s\n",
      "[CV] END max_depth=5, max_features=5, min_samples_split=2, n_estimators=2000; total time=   1.2s\n",
      "[CV] END max_depth=5, max_features=5, min_samples_split=2, n_estimators=2000; total time=   1.2s\n",
      "[CV] END max_depth=5, max_features=5, min_samples_split=2, n_estimators=2000; total time=   1.2s\n",
      "[CV] END max_depth=5, max_features=5, min_samples_split=2, n_estimators=2000; total time=   1.2s\n",
      "[CV] END max_depth=5, max_features=5, min_samples_split=2, n_estimators=2000; total time=   1.2s\n",
      "[CV] END max_depth=5, max_features=5, min_samples_split=2, n_estimators=2000; total time=   1.2s\n",
      "[CV] END max_depth=5, max_features=5, min_samples_split=2, n_estimators=2000; total time=   1.2s\n",
      "[CV] END max_depth=5, max_features=5, min_samples_split=2, n_estimators=2000; total time=   1.2s\n",
      "[CV] END max_depth=5, max_features=5, min_samples_split=2, n_estimators=2000; total time=   1.2s\n",
      "[CV] END max_depth=5, max_features=5, min_samples_split=2, n_estimators=2000; total time=   1.3s\n",
      "[CV] END max_depth=5, max_features=5, min_samples_split=10, n_estimators=200; total time=   0.0s\n",
      "[CV] END max_depth=5, max_features=5, min_samples_split=10, n_estimators=200; total time=   0.0s\n",
      "[CV] END max_depth=5, max_features=5, min_samples_split=10, n_estimators=200; total time=   0.0s\n",
      "[CV] END max_depth=5, max_features=5, min_samples_split=10, n_estimators=200; total time=   0.0s\n",
      "[CV] END max_depth=5, max_features=5, min_samples_split=10, n_estimators=200; total time=   0.0s\n",
      "[CV] END max_depth=5, max_features=5, min_samples_split=10, n_estimators=200; total time=   0.0s\n",
      "[CV] END max_depth=5, max_features=5, min_samples_split=10, n_estimators=200; total time=   0.0s\n",
      "[CV] END max_depth=5, max_features=5, min_samples_split=10, n_estimators=200; total time=   0.0s\n",
      "[CV] END max_depth=5, max_features=5, min_samples_split=10, n_estimators=200; total time=   0.0s\n",
      "[CV] END max_depth=5, max_features=5, min_samples_split=10, n_estimators=200; total time=   0.0s\n",
      "[CV] END max_depth=5, max_features=5, min_samples_split=10, n_estimators=500; total time=   0.2s\n",
      "[CV] END max_depth=5, max_features=5, min_samples_split=10, n_estimators=500; total time=   0.2s\n",
      "[CV] END max_depth=5, max_features=5, min_samples_split=10, n_estimators=500; total time=   0.2s\n",
      "[CV] END max_depth=5, max_features=5, min_samples_split=10, n_estimators=500; total time=   0.2s\n",
      "[CV] END max_depth=5, max_features=5, min_samples_split=10, n_estimators=500; total time=   0.2s\n",
      "[CV] END max_depth=5, max_features=5, min_samples_split=10, n_estimators=500; total time=   0.2s\n",
      "[CV] END max_depth=5, max_features=5, min_samples_split=10, n_estimators=500; total time=   0.2s\n",
      "[CV] END max_depth=5, max_features=5, min_samples_split=10, n_estimators=500; total time=   0.2s\n",
      "[CV] END max_depth=5, max_features=5, min_samples_split=10, n_estimators=500; total time=   0.2s\n",
      "[CV] END max_depth=5, max_features=5, min_samples_split=10, n_estimators=500; total time=   0.2s\n",
      "[CV] END max_depth=5, max_features=5, min_samples_split=10, n_estimators=1000; total time=   0.5s\n",
      "[CV] END max_depth=5, max_features=5, min_samples_split=10, n_estimators=1000; total time=   0.5s\n",
      "[CV] END max_depth=5, max_features=5, min_samples_split=10, n_estimators=1000; total time=   0.5s\n",
      "[CV] END max_depth=5, max_features=5, min_samples_split=10, n_estimators=1000; total time=   0.5s\n",
      "[CV] END max_depth=5, max_features=5, min_samples_split=10, n_estimators=1000; total time=   0.5s\n",
      "[CV] END max_depth=5, max_features=5, min_samples_split=10, n_estimators=1000; total time=   0.5s\n",
      "[CV] END max_depth=5, max_features=5, min_samples_split=10, n_estimators=1000; total time=   0.5s\n",
      "[CV] END max_depth=5, max_features=5, min_samples_split=10, n_estimators=1000; total time=   0.5s\n",
      "[CV] END max_depth=5, max_features=5, min_samples_split=10, n_estimators=1000; total time=   0.5s\n",
      "[CV] END max_depth=5, max_features=5, min_samples_split=10, n_estimators=1000; total time=   0.5s\n",
      "[CV] END max_depth=5, max_features=5, min_samples_split=10, n_estimators=2000; total time=   1.2s\n",
      "[CV] END max_depth=5, max_features=5, min_samples_split=10, n_estimators=2000; total time=   1.2s\n",
      "[CV] END max_depth=5, max_features=5, min_samples_split=10, n_estimators=2000; total time=   1.2s\n",
      "[CV] END max_depth=5, max_features=5, min_samples_split=10, n_estimators=2000; total time=   1.2s\n",
      "[CV] END max_depth=5, max_features=5, min_samples_split=10, n_estimators=2000; total time=   1.2s\n",
      "[CV] END max_depth=5, max_features=5, min_samples_split=10, n_estimators=2000; total time=   1.2s\n",
      "[CV] END max_depth=5, max_features=5, min_samples_split=10, n_estimators=2000; total time=   1.2s\n",
      "[CV] END max_depth=5, max_features=5, min_samples_split=10, n_estimators=2000; total time=   1.2s\n",
      "[CV] END max_depth=5, max_features=5, min_samples_split=10, n_estimators=2000; total time=   1.2s\n",
      "[CV] END max_depth=5, max_features=5, min_samples_split=10, n_estimators=2000; total time=   1.2s\n",
      "[CV] END max_depth=5, max_features=5, min_samples_split=80, n_estimators=200; total time=   0.0s\n",
      "[CV] END max_depth=5, max_features=5, min_samples_split=80, n_estimators=200; total time=   0.0s\n",
      "[CV] END max_depth=5, max_features=5, min_samples_split=80, n_estimators=200; total time=   0.0s\n",
      "[CV] END max_depth=5, max_features=5, min_samples_split=80, n_estimators=200; total time=   0.0s\n",
      "[CV] END max_depth=5, max_features=5, min_samples_split=80, n_estimators=200; total time=   0.0s\n",
      "[CV] END max_depth=5, max_features=5, min_samples_split=80, n_estimators=200; total time=   0.0s\n",
      "[CV] END max_depth=5, max_features=5, min_samples_split=80, n_estimators=200; total time=   0.0s\n",
      "[CV] END max_depth=5, max_features=5, min_samples_split=80, n_estimators=200; total time=   0.0s\n",
      "[CV] END max_depth=5, max_features=5, min_samples_split=80, n_estimators=200; total time=   0.0s\n",
      "[CV] END max_depth=5, max_features=5, min_samples_split=80, n_estimators=200; total time=   0.0s\n",
      "[CV] END max_depth=5, max_features=5, min_samples_split=80, n_estimators=500; total time=   0.2s\n",
      "[CV] END max_depth=5, max_features=5, min_samples_split=80, n_estimators=500; total time=   0.2s\n",
      "[CV] END max_depth=5, max_features=5, min_samples_split=80, n_estimators=500; total time=   0.2s\n",
      "[CV] END max_depth=5, max_features=5, min_samples_split=80, n_estimators=500; total time=   0.2s\n",
      "[CV] END max_depth=5, max_features=5, min_samples_split=80, n_estimators=500; total time=   0.2s\n",
      "[CV] END max_depth=5, max_features=5, min_samples_split=80, n_estimators=500; total time=   0.2s\n",
      "[CV] END max_depth=5, max_features=5, min_samples_split=80, n_estimators=500; total time=   0.2s\n",
      "[CV] END max_depth=5, max_features=5, min_samples_split=80, n_estimators=500; total time=   0.2s\n",
      "[CV] END max_depth=5, max_features=5, min_samples_split=80, n_estimators=500; total time=   0.2s\n",
      "[CV] END max_depth=5, max_features=5, min_samples_split=80, n_estimators=500; total time=   0.2s\n",
      "[CV] END max_depth=5, max_features=5, min_samples_split=80, n_estimators=1000; total time=   0.5s\n",
      "[CV] END max_depth=5, max_features=5, min_samples_split=80, n_estimators=1000; total time=   0.5s\n",
      "[CV] END max_depth=5, max_features=5, min_samples_split=80, n_estimators=1000; total time=   0.5s\n",
      "[CV] END max_depth=5, max_features=5, min_samples_split=80, n_estimators=1000; total time=   0.5s\n",
      "[CV] END max_depth=5, max_features=5, min_samples_split=80, n_estimators=1000; total time=   0.5s\n",
      "[CV] END max_depth=5, max_features=5, min_samples_split=80, n_estimators=1000; total time=   0.5s\n",
      "[CV] END max_depth=5, max_features=5, min_samples_split=80, n_estimators=1000; total time=   0.5s\n",
      "[CV] END max_depth=5, max_features=5, min_samples_split=80, n_estimators=1000; total time=   0.5s\n",
      "[CV] END max_depth=5, max_features=5, min_samples_split=80, n_estimators=1000; total time=   0.5s\n",
      "[CV] END max_depth=5, max_features=5, min_samples_split=80, n_estimators=1000; total time=   0.5s\n",
      "[CV] END max_depth=5, max_features=5, min_samples_split=80, n_estimators=2000; total time=   1.0s\n",
      "[CV] END max_depth=5, max_features=5, min_samples_split=80, n_estimators=2000; total time=   1.1s\n",
      "[CV] END max_depth=5, max_features=5, min_samples_split=80, n_estimators=2000; total time=   1.0s\n",
      "[CV] END max_depth=5, max_features=5, min_samples_split=80, n_estimators=2000; total time=   1.1s\n",
      "[CV] END max_depth=5, max_features=5, min_samples_split=80, n_estimators=2000; total time=   1.1s\n",
      "[CV] END max_depth=5, max_features=5, min_samples_split=80, n_estimators=2000; total time=   1.0s\n",
      "[CV] END max_depth=5, max_features=5, min_samples_split=80, n_estimators=2000; total time=   1.0s\n",
      "[CV] END max_depth=5, max_features=5, min_samples_split=80, n_estimators=2000; total time=   1.0s\n",
      "[CV] END max_depth=5, max_features=5, min_samples_split=80, n_estimators=2000; total time=   1.0s\n",
      "[CV] END max_depth=5, max_features=5, min_samples_split=80, n_estimators=2000; total time=   1.0s\n",
      "[CV] END max_depth=5, max_features=5, min_samples_split=100, n_estimators=200; total time=   0.0s\n",
      "[CV] END max_depth=5, max_features=5, min_samples_split=100, n_estimators=200; total time=   0.0s\n",
      "[CV] END max_depth=5, max_features=5, min_samples_split=100, n_estimators=200; total time=   0.0s\n",
      "[CV] END max_depth=5, max_features=5, min_samples_split=100, n_estimators=200; total time=   0.0s\n",
      "[CV] END max_depth=5, max_features=5, min_samples_split=100, n_estimators=200; total time=   0.0s\n",
      "[CV] END max_depth=5, max_features=5, min_samples_split=100, n_estimators=200; total time=   0.0s\n",
      "[CV] END max_depth=5, max_features=5, min_samples_split=100, n_estimators=200; total time=   0.0s\n",
      "[CV] END max_depth=5, max_features=5, min_samples_split=100, n_estimators=200; total time=   0.0s\n",
      "[CV] END max_depth=5, max_features=5, min_samples_split=100, n_estimators=200; total time=   0.0s\n",
      "[CV] END max_depth=5, max_features=5, min_samples_split=100, n_estimators=200; total time=   0.0s\n",
      "[CV] END max_depth=5, max_features=5, min_samples_split=100, n_estimators=500; total time=   0.2s\n",
      "[CV] END max_depth=5, max_features=5, min_samples_split=100, n_estimators=500; total time=   0.2s\n",
      "[CV] END max_depth=5, max_features=5, min_samples_split=100, n_estimators=500; total time=   0.2s\n",
      "[CV] END max_depth=5, max_features=5, min_samples_split=100, n_estimators=500; total time=   0.2s\n",
      "[CV] END max_depth=5, max_features=5, min_samples_split=100, n_estimators=500; total time=   0.2s\n",
      "[CV] END max_depth=5, max_features=5, min_samples_split=100, n_estimators=500; total time=   0.2s\n",
      "[CV] END max_depth=5, max_features=5, min_samples_split=100, n_estimators=500; total time=   0.3s\n",
      "[CV] END max_depth=5, max_features=5, min_samples_split=100, n_estimators=500; total time=   0.2s\n",
      "[CV] END max_depth=5, max_features=5, min_samples_split=100, n_estimators=500; total time=   0.2s\n",
      "[CV] END max_depth=5, max_features=5, min_samples_split=100, n_estimators=500; total time=   0.2s\n",
      "[CV] END max_depth=5, max_features=5, min_samples_split=100, n_estimators=1000; total time=   0.5s\n",
      "[CV] END max_depth=5, max_features=5, min_samples_split=100, n_estimators=1000; total time=   0.5s\n",
      "[CV] END max_depth=5, max_features=5, min_samples_split=100, n_estimators=1000; total time=   0.5s\n",
      "[CV] END max_depth=5, max_features=5, min_samples_split=100, n_estimators=1000; total time=   0.5s\n",
      "[CV] END max_depth=5, max_features=5, min_samples_split=100, n_estimators=1000; total time=   0.5s\n",
      "[CV] END max_depth=5, max_features=5, min_samples_split=100, n_estimators=1000; total time=   0.5s\n",
      "[CV] END max_depth=5, max_features=5, min_samples_split=100, n_estimators=1000; total time=   0.5s\n",
      "[CV] END max_depth=5, max_features=5, min_samples_split=100, n_estimators=1000; total time=   0.5s\n",
      "[CV] END max_depth=5, max_features=5, min_samples_split=100, n_estimators=1000; total time=   0.5s\n",
      "[CV] END max_depth=5, max_features=5, min_samples_split=100, n_estimators=1000; total time=   0.5s\n",
      "[CV] END max_depth=5, max_features=5, min_samples_split=100, n_estimators=2000; total time=   1.0s\n",
      "[CV] END max_depth=5, max_features=5, min_samples_split=100, n_estimators=2000; total time=   1.0s\n",
      "[CV] END max_depth=5, max_features=5, min_samples_split=100, n_estimators=2000; total time=   1.0s\n",
      "[CV] END max_depth=5, max_features=5, min_samples_split=100, n_estimators=2000; total time=   1.0s\n",
      "[CV] END max_depth=5, max_features=5, min_samples_split=100, n_estimators=2000; total time=   1.0s\n",
      "[CV] END max_depth=5, max_features=5, min_samples_split=100, n_estimators=2000; total time=   1.1s\n",
      "[CV] END max_depth=5, max_features=5, min_samples_split=100, n_estimators=2000; total time=   1.0s\n",
      "[CV] END max_depth=5, max_features=5, min_samples_split=100, n_estimators=2000; total time=   1.0s\n",
      "[CV] END max_depth=5, max_features=5, min_samples_split=100, n_estimators=2000; total time=   1.0s\n",
      "[CV] END max_depth=5, max_features=5, min_samples_split=100, n_estimators=2000; total time=   1.0s\n",
      "[CV] END max_depth=5, max_features=10, min_samples_split=2, n_estimators=200; total time=   0.1s\n",
      "[CV] END max_depth=5, max_features=10, min_samples_split=2, n_estimators=200; total time=   0.1s\n",
      "[CV] END max_depth=5, max_features=10, min_samples_split=2, n_estimators=200; total time=   0.1s\n",
      "[CV] END max_depth=5, max_features=10, min_samples_split=2, n_estimators=200; total time=   0.1s\n",
      "[CV] END max_depth=5, max_features=10, min_samples_split=2, n_estimators=200; total time=   0.0s\n",
      "[CV] END max_depth=5, max_features=10, min_samples_split=2, n_estimators=200; total time=   0.1s\n",
      "[CV] END max_depth=5, max_features=10, min_samples_split=2, n_estimators=200; total time=   0.0s\n",
      "[CV] END max_depth=5, max_features=10, min_samples_split=2, n_estimators=200; total time=   0.1s\n",
      "[CV] END max_depth=5, max_features=10, min_samples_split=2, n_estimators=200; total time=   0.0s\n",
      "[CV] END max_depth=5, max_features=10, min_samples_split=2, n_estimators=200; total time=   0.1s\n",
      "[CV] END max_depth=5, max_features=10, min_samples_split=2, n_estimators=500; total time=   0.3s\n",
      "[CV] END max_depth=5, max_features=10, min_samples_split=2, n_estimators=500; total time=   0.3s\n",
      "[CV] END max_depth=5, max_features=10, min_samples_split=2, n_estimators=500; total time=   0.3s\n",
      "[CV] END max_depth=5, max_features=10, min_samples_split=2, n_estimators=500; total time=   0.3s\n",
      "[CV] END max_depth=5, max_features=10, min_samples_split=2, n_estimators=500; total time=   0.3s\n",
      "[CV] END max_depth=5, max_features=10, min_samples_split=2, n_estimators=500; total time=   0.3s\n",
      "[CV] END max_depth=5, max_features=10, min_samples_split=2, n_estimators=500; total time=   0.3s\n",
      "[CV] END max_depth=5, max_features=10, min_samples_split=2, n_estimators=500; total time=   0.3s\n",
      "[CV] END max_depth=5, max_features=10, min_samples_split=2, n_estimators=500; total time=   0.3s\n",
      "[CV] END max_depth=5, max_features=10, min_samples_split=2, n_estimators=500; total time=   0.3s\n",
      "[CV] END max_depth=5, max_features=10, min_samples_split=2, n_estimators=1000; total time=   0.6s\n",
      "[CV] END max_depth=5, max_features=10, min_samples_split=2, n_estimators=1000; total time=   0.6s\n",
      "[CV] END max_depth=5, max_features=10, min_samples_split=2, n_estimators=1000; total time=   0.6s\n",
      "[CV] END max_depth=5, max_features=10, min_samples_split=2, n_estimators=1000; total time=   0.6s\n",
      "[CV] END max_depth=5, max_features=10, min_samples_split=2, n_estimators=1000; total time=   0.6s\n",
      "[CV] END max_depth=5, max_features=10, min_samples_split=2, n_estimators=1000; total time=   0.6s\n",
      "[CV] END max_depth=5, max_features=10, min_samples_split=2, n_estimators=1000; total time=   0.7s\n",
      "[CV] END max_depth=5, max_features=10, min_samples_split=2, n_estimators=1000; total time=   0.6s\n",
      "[CV] END max_depth=5, max_features=10, min_samples_split=2, n_estimators=1000; total time=   0.6s\n",
      "[CV] END max_depth=5, max_features=10, min_samples_split=2, n_estimators=1000; total time=   0.7s\n",
      "[CV] END max_depth=5, max_features=10, min_samples_split=2, n_estimators=2000; total time=   1.4s\n",
      "[CV] END max_depth=5, max_features=10, min_samples_split=2, n_estimators=2000; total time=   1.4s\n",
      "[CV] END max_depth=5, max_features=10, min_samples_split=2, n_estimators=2000; total time=   1.4s\n",
      "[CV] END max_depth=5, max_features=10, min_samples_split=2, n_estimators=2000; total time=   1.4s\n",
      "[CV] END max_depth=5, max_features=10, min_samples_split=2, n_estimators=2000; total time=   1.4s\n",
      "[CV] END max_depth=5, max_features=10, min_samples_split=2, n_estimators=2000; total time=   1.5s\n",
      "[CV] END max_depth=5, max_features=10, min_samples_split=2, n_estimators=2000; total time=   1.5s\n",
      "[CV] END max_depth=5, max_features=10, min_samples_split=2, n_estimators=2000; total time=   1.5s\n",
      "[CV] END max_depth=5, max_features=10, min_samples_split=2, n_estimators=2000; total time=   1.5s\n",
      "[CV] END max_depth=5, max_features=10, min_samples_split=2, n_estimators=2000; total time=   1.5s\n",
      "[CV] END max_depth=5, max_features=10, min_samples_split=10, n_estimators=200; total time=   0.1s\n",
      "[CV] END max_depth=5, max_features=10, min_samples_split=10, n_estimators=200; total time=   0.1s\n",
      "[CV] END max_depth=5, max_features=10, min_samples_split=10, n_estimators=200; total time=   0.1s\n",
      "[CV] END max_depth=5, max_features=10, min_samples_split=10, n_estimators=200; total time=   0.1s\n",
      "[CV] END max_depth=5, max_features=10, min_samples_split=10, n_estimators=200; total time=   0.1s\n",
      "[CV] END max_depth=5, max_features=10, min_samples_split=10, n_estimators=200; total time=   0.1s\n",
      "[CV] END max_depth=5, max_features=10, min_samples_split=10, n_estimators=200; total time=   0.1s\n",
      "[CV] END max_depth=5, max_features=10, min_samples_split=10, n_estimators=200; total time=   0.1s\n",
      "[CV] END max_depth=5, max_features=10, min_samples_split=10, n_estimators=200; total time=   0.1s\n",
      "[CV] END max_depth=5, max_features=10, min_samples_split=10, n_estimators=200; total time=   0.1s\n",
      "[CV] END max_depth=5, max_features=10, min_samples_split=10, n_estimators=500; total time=   0.3s\n",
      "[CV] END max_depth=5, max_features=10, min_samples_split=10, n_estimators=500; total time=   0.3s\n",
      "[CV] END max_depth=5, max_features=10, min_samples_split=10, n_estimators=500; total time=   0.3s\n",
      "[CV] END max_depth=5, max_features=10, min_samples_split=10, n_estimators=500; total time=   0.3s\n",
      "[CV] END max_depth=5, max_features=10, min_samples_split=10, n_estimators=500; total time=   0.3s\n",
      "[CV] END max_depth=5, max_features=10, min_samples_split=10, n_estimators=500; total time=   0.3s\n",
      "[CV] END max_depth=5, max_features=10, min_samples_split=10, n_estimators=500; total time=   0.3s\n",
      "[CV] END max_depth=5, max_features=10, min_samples_split=10, n_estimators=500; total time=   0.3s\n",
      "[CV] END max_depth=5, max_features=10, min_samples_split=10, n_estimators=500; total time=   0.3s\n",
      "[CV] END max_depth=5, max_features=10, min_samples_split=10, n_estimators=500; total time=   0.3s\n",
      "[CV] END max_depth=5, max_features=10, min_samples_split=10, n_estimators=1000; total time=   0.7s\n",
      "[CV] END max_depth=5, max_features=10, min_samples_split=10, n_estimators=1000; total time=   0.6s\n",
      "[CV] END max_depth=5, max_features=10, min_samples_split=10, n_estimators=1000; total time=   0.7s\n",
      "[CV] END max_depth=5, max_features=10, min_samples_split=10, n_estimators=1000; total time=   0.7s\n",
      "[CV] END max_depth=5, max_features=10, min_samples_split=10, n_estimators=1000; total time=   0.7s\n",
      "[CV] END max_depth=5, max_features=10, min_samples_split=10, n_estimators=1000; total time=   0.7s\n",
      "[CV] END max_depth=5, max_features=10, min_samples_split=10, n_estimators=1000; total time=   0.7s\n",
      "[CV] END max_depth=5, max_features=10, min_samples_split=10, n_estimators=1000; total time=   0.7s\n",
      "[CV] END max_depth=5, max_features=10, min_samples_split=10, n_estimators=1000; total time=   0.7s\n",
      "[CV] END max_depth=5, max_features=10, min_samples_split=10, n_estimators=1000; total time=   0.7s\n",
      "[CV] END max_depth=5, max_features=10, min_samples_split=10, n_estimators=2000; total time=   1.5s\n",
      "[CV] END max_depth=5, max_features=10, min_samples_split=10, n_estimators=2000; total time=   1.4s\n",
      "[CV] END max_depth=5, max_features=10, min_samples_split=10, n_estimators=2000; total time=   1.4s\n",
      "[CV] END max_depth=5, max_features=10, min_samples_split=10, n_estimators=2000; total time=   1.4s\n",
      "[CV] END max_depth=5, max_features=10, min_samples_split=10, n_estimators=2000; total time=   1.4s\n",
      "[CV] END max_depth=5, max_features=10, min_samples_split=10, n_estimators=2000; total time=   1.4s\n",
      "[CV] END max_depth=5, max_features=10, min_samples_split=10, n_estimators=2000; total time=   1.4s\n",
      "[CV] END max_depth=5, max_features=10, min_samples_split=10, n_estimators=2000; total time=   1.4s\n",
      "[CV] END max_depth=5, max_features=10, min_samples_split=10, n_estimators=2000; total time=   1.4s\n",
      "[CV] END max_depth=5, max_features=10, min_samples_split=10, n_estimators=2000; total time=   1.5s\n",
      "[CV] END max_depth=5, max_features=10, min_samples_split=80, n_estimators=200; total time=   0.0s\n",
      "[CV] END max_depth=5, max_features=10, min_samples_split=80, n_estimators=200; total time=   0.0s\n",
      "[CV] END max_depth=5, max_features=10, min_samples_split=80, n_estimators=200; total time=   0.0s\n",
      "[CV] END max_depth=5, max_features=10, min_samples_split=80, n_estimators=200; total time=   0.0s\n",
      "[CV] END max_depth=5, max_features=10, min_samples_split=80, n_estimators=200; total time=   0.0s\n",
      "[CV] END max_depth=5, max_features=10, min_samples_split=80, n_estimators=200; total time=   0.0s\n",
      "[CV] END max_depth=5, max_features=10, min_samples_split=80, n_estimators=200; total time=   0.0s\n",
      "[CV] END max_depth=5, max_features=10, min_samples_split=80, n_estimators=200; total time=   0.0s\n",
      "[CV] END max_depth=5, max_features=10, min_samples_split=80, n_estimators=200; total time=   0.0s\n",
      "[CV] END max_depth=5, max_features=10, min_samples_split=80, n_estimators=200; total time=   0.0s\n",
      "[CV] END max_depth=5, max_features=10, min_samples_split=80, n_estimators=500; total time=   0.2s\n",
      "[CV] END max_depth=5, max_features=10, min_samples_split=80, n_estimators=500; total time=   0.2s\n",
      "[CV] END max_depth=5, max_features=10, min_samples_split=80, n_estimators=500; total time=   0.2s\n",
      "[CV] END max_depth=5, max_features=10, min_samples_split=80, n_estimators=500; total time=   0.2s\n",
      "[CV] END max_depth=5, max_features=10, min_samples_split=80, n_estimators=500; total time=   0.2s\n",
      "[CV] END max_depth=5, max_features=10, min_samples_split=80, n_estimators=500; total time=   0.2s\n",
      "[CV] END max_depth=5, max_features=10, min_samples_split=80, n_estimators=500; total time=   0.2s\n",
      "[CV] END max_depth=5, max_features=10, min_samples_split=80, n_estimators=500; total time=   0.2s\n",
      "[CV] END max_depth=5, max_features=10, min_samples_split=80, n_estimators=500; total time=   0.2s\n",
      "[CV] END max_depth=5, max_features=10, min_samples_split=80, n_estimators=500; total time=   0.2s\n",
      "[CV] END max_depth=5, max_features=10, min_samples_split=80, n_estimators=1000; total time=   0.5s\n",
      "[CV] END max_depth=5, max_features=10, min_samples_split=80, n_estimators=1000; total time=   0.5s\n",
      "[CV] END max_depth=5, max_features=10, min_samples_split=80, n_estimators=1000; total time=   0.5s\n",
      "[CV] END max_depth=5, max_features=10, min_samples_split=80, n_estimators=1000; total time=   0.5s\n",
      "[CV] END max_depth=5, max_features=10, min_samples_split=80, n_estimators=1000; total time=   0.5s\n",
      "[CV] END max_depth=5, max_features=10, min_samples_split=80, n_estimators=1000; total time=   0.5s\n",
      "[CV] END max_depth=5, max_features=10, min_samples_split=80, n_estimators=1000; total time=   0.5s\n",
      "[CV] END max_depth=5, max_features=10, min_samples_split=80, n_estimators=1000; total time=   0.5s\n",
      "[CV] END max_depth=5, max_features=10, min_samples_split=80, n_estimators=1000; total time=   0.5s\n",
      "[CV] END max_depth=5, max_features=10, min_samples_split=80, n_estimators=1000; total time=   0.5s\n",
      "[CV] END max_depth=5, max_features=10, min_samples_split=80, n_estimators=2000; total time=   1.1s\n",
      "[CV] END max_depth=5, max_features=10, min_samples_split=80, n_estimators=2000; total time=   1.1s\n",
      "[CV] END max_depth=5, max_features=10, min_samples_split=80, n_estimators=2000; total time=   1.1s\n",
      "[CV] END max_depth=5, max_features=10, min_samples_split=80, n_estimators=2000; total time=   1.2s\n",
      "[CV] END max_depth=5, max_features=10, min_samples_split=80, n_estimators=2000; total time=   1.2s\n",
      "[CV] END max_depth=5, max_features=10, min_samples_split=80, n_estimators=2000; total time=   1.2s\n",
      "[CV] END max_depth=5, max_features=10, min_samples_split=80, n_estimators=2000; total time=   1.1s\n",
      "[CV] END max_depth=5, max_features=10, min_samples_split=80, n_estimators=2000; total time=   1.1s\n",
      "[CV] END max_depth=5, max_features=10, min_samples_split=80, n_estimators=2000; total time=   1.1s\n",
      "[CV] END max_depth=5, max_features=10, min_samples_split=80, n_estimators=2000; total time=   1.1s\n",
      "[CV] END max_depth=5, max_features=10, min_samples_split=100, n_estimators=200; total time=   0.0s\n",
      "[CV] END max_depth=5, max_features=10, min_samples_split=100, n_estimators=200; total time=   0.0s\n",
      "[CV] END max_depth=5, max_features=10, min_samples_split=100, n_estimators=200; total time=   0.0s\n",
      "[CV] END max_depth=5, max_features=10, min_samples_split=100, n_estimators=200; total time=   0.0s\n",
      "[CV] END max_depth=5, max_features=10, min_samples_split=100, n_estimators=200; total time=   0.0s\n",
      "[CV] END max_depth=5, max_features=10, min_samples_split=100, n_estimators=200; total time=   0.0s\n",
      "[CV] END max_depth=5, max_features=10, min_samples_split=100, n_estimators=200; total time=   0.0s\n",
      "[CV] END max_depth=5, max_features=10, min_samples_split=100, n_estimators=200; total time=   0.0s\n",
      "[CV] END max_depth=5, max_features=10, min_samples_split=100, n_estimators=200; total time=   0.0s\n",
      "[CV] END max_depth=5, max_features=10, min_samples_split=100, n_estimators=200; total time=   0.0s\n",
      "[CV] END max_depth=5, max_features=10, min_samples_split=100, n_estimators=500; total time=   0.2s\n",
      "[CV] END max_depth=5, max_features=10, min_samples_split=100, n_estimators=500; total time=   0.2s\n",
      "[CV] END max_depth=5, max_features=10, min_samples_split=100, n_estimators=500; total time=   0.2s\n",
      "[CV] END max_depth=5, max_features=10, min_samples_split=100, n_estimators=500; total time=   0.2s\n",
      "[CV] END max_depth=5, max_features=10, min_samples_split=100, n_estimators=500; total time=   0.2s\n",
      "[CV] END max_depth=5, max_features=10, min_samples_split=100, n_estimators=500; total time=   0.2s\n",
      "[CV] END max_depth=5, max_features=10, min_samples_split=100, n_estimators=500; total time=   0.2s\n",
      "[CV] END max_depth=5, max_features=10, min_samples_split=100, n_estimators=500; total time=   0.2s\n",
      "[CV] END max_depth=5, max_features=10, min_samples_split=100, n_estimators=500; total time=   0.2s\n",
      "[CV] END max_depth=5, max_features=10, min_samples_split=100, n_estimators=500; total time=   0.2s\n",
      "[CV] END max_depth=5, max_features=10, min_samples_split=100, n_estimators=1000; total time=   0.5s\n",
      "[CV] END max_depth=5, max_features=10, min_samples_split=100, n_estimators=1000; total time=   0.5s\n",
      "[CV] END max_depth=5, max_features=10, min_samples_split=100, n_estimators=1000; total time=   0.5s\n",
      "[CV] END max_depth=5, max_features=10, min_samples_split=100, n_estimators=1000; total time=   0.5s\n",
      "[CV] END max_depth=5, max_features=10, min_samples_split=100, n_estimators=1000; total time=   0.5s\n",
      "[CV] END max_depth=5, max_features=10, min_samples_split=100, n_estimators=1000; total time=   0.5s\n",
      "[CV] END max_depth=5, max_features=10, min_samples_split=100, n_estimators=1000; total time=   0.5s\n",
      "[CV] END max_depth=5, max_features=10, min_samples_split=100, n_estimators=1000; total time=   0.5s\n",
      "[CV] END max_depth=5, max_features=10, min_samples_split=100, n_estimators=1000; total time=   0.5s\n",
      "[CV] END max_depth=5, max_features=10, min_samples_split=100, n_estimators=1000; total time=   0.5s\n",
      "[CV] END max_depth=5, max_features=10, min_samples_split=100, n_estimators=2000; total time=   1.2s\n",
      "[CV] END max_depth=5, max_features=10, min_samples_split=100, n_estimators=2000; total time=   1.1s\n",
      "[CV] END max_depth=5, max_features=10, min_samples_split=100, n_estimators=2000; total time=   1.2s\n",
      "[CV] END max_depth=5, max_features=10, min_samples_split=100, n_estimators=2000; total time=   1.1s\n",
      "[CV] END max_depth=5, max_features=10, min_samples_split=100, n_estimators=2000; total time=   1.1s\n",
      "[CV] END max_depth=5, max_features=10, min_samples_split=100, n_estimators=2000; total time=   1.2s\n",
      "[CV] END max_depth=5, max_features=10, min_samples_split=100, n_estimators=2000; total time=   1.2s\n",
      "[CV] END max_depth=5, max_features=10, min_samples_split=100, n_estimators=2000; total time=   1.1s\n",
      "[CV] END max_depth=5, max_features=10, min_samples_split=100, n_estimators=2000; total time=   1.1s\n",
      "[CV] END max_depth=5, max_features=10, min_samples_split=100, n_estimators=2000; total time=   1.1s\n",
      "[CV] END max_depth=8, max_features=2, min_samples_split=2, n_estimators=200; total time=   0.0s\n",
      "[CV] END max_depth=8, max_features=2, min_samples_split=2, n_estimators=200; total time=   0.0s\n",
      "[CV] END max_depth=8, max_features=2, min_samples_split=2, n_estimators=200; total time=   0.0s\n",
      "[CV] END max_depth=8, max_features=2, min_samples_split=2, n_estimators=200; total time=   0.0s\n",
      "[CV] END max_depth=8, max_features=2, min_samples_split=2, n_estimators=200; total time=   0.0s\n",
      "[CV] END max_depth=8, max_features=2, min_samples_split=2, n_estimators=200; total time=   0.0s\n",
      "[CV] END max_depth=8, max_features=2, min_samples_split=2, n_estimators=200; total time=   0.0s\n",
      "[CV] END max_depth=8, max_features=2, min_samples_split=2, n_estimators=200; total time=   0.0s\n",
      "[CV] END max_depth=8, max_features=2, min_samples_split=2, n_estimators=200; total time=   0.0s\n",
      "[CV] END max_depth=8, max_features=2, min_samples_split=2, n_estimators=200; total time=   0.0s\n",
      "[CV] END max_depth=8, max_features=2, min_samples_split=2, n_estimators=500; total time=   0.2s\n",
      "[CV] END max_depth=8, max_features=2, min_samples_split=2, n_estimators=500; total time=   0.3s\n",
      "[CV] END max_depth=8, max_features=2, min_samples_split=2, n_estimators=500; total time=   0.3s\n",
      "[CV] END max_depth=8, max_features=2, min_samples_split=2, n_estimators=500; total time=   0.3s\n",
      "[CV] END max_depth=8, max_features=2, min_samples_split=2, n_estimators=500; total time=   0.2s\n",
      "[CV] END max_depth=8, max_features=2, min_samples_split=2, n_estimators=500; total time=   0.2s\n",
      "[CV] END max_depth=8, max_features=2, min_samples_split=2, n_estimators=500; total time=   0.2s\n",
      "[CV] END max_depth=8, max_features=2, min_samples_split=2, n_estimators=500; total time=   0.3s\n",
      "[CV] END max_depth=8, max_features=2, min_samples_split=2, n_estimators=500; total time=   0.2s\n",
      "[CV] END max_depth=8, max_features=2, min_samples_split=2, n_estimators=500; total time=   0.2s\n",
      "[CV] END max_depth=8, max_features=2, min_samples_split=2, n_estimators=1000; total time=   0.6s\n",
      "[CV] END max_depth=8, max_features=2, min_samples_split=2, n_estimators=1000; total time=   0.6s\n",
      "[CV] END max_depth=8, max_features=2, min_samples_split=2, n_estimators=1000; total time=   0.6s\n",
      "[CV] END max_depth=8, max_features=2, min_samples_split=2, n_estimators=1000; total time=   0.6s\n",
      "[CV] END max_depth=8, max_features=2, min_samples_split=2, n_estimators=1000; total time=   0.6s\n",
      "[CV] END max_depth=8, max_features=2, min_samples_split=2, n_estimators=1000; total time=   0.6s\n",
      "[CV] END max_depth=8, max_features=2, min_samples_split=2, n_estimators=1000; total time=   0.6s\n",
      "[CV] END max_depth=8, max_features=2, min_samples_split=2, n_estimators=1000; total time=   0.6s\n",
      "[CV] END max_depth=8, max_features=2, min_samples_split=2, n_estimators=1000; total time=   0.6s\n",
      "[CV] END max_depth=8, max_features=2, min_samples_split=2, n_estimators=1000; total time=   0.6s\n",
      "[CV] END max_depth=8, max_features=2, min_samples_split=2, n_estimators=2000; total time=   1.3s\n",
      "[CV] END max_depth=8, max_features=2, min_samples_split=2, n_estimators=2000; total time=   1.2s\n",
      "[CV] END max_depth=8, max_features=2, min_samples_split=2, n_estimators=2000; total time=   1.2s\n",
      "[CV] END max_depth=8, max_features=2, min_samples_split=2, n_estimators=2000; total time=   1.2s\n",
      "[CV] END max_depth=8, max_features=2, min_samples_split=2, n_estimators=2000; total time=   1.3s\n",
      "[CV] END max_depth=8, max_features=2, min_samples_split=2, n_estimators=2000; total time=   1.2s\n",
      "[CV] END max_depth=8, max_features=2, min_samples_split=2, n_estimators=2000; total time=   1.3s\n",
      "[CV] END max_depth=8, max_features=2, min_samples_split=2, n_estimators=2000; total time=   1.3s\n",
      "[CV] END max_depth=8, max_features=2, min_samples_split=2, n_estimators=2000; total time=   1.3s\n",
      "[CV] END max_depth=8, max_features=2, min_samples_split=2, n_estimators=2000; total time=   1.4s\n",
      "[CV] END max_depth=8, max_features=2, min_samples_split=10, n_estimators=200; total time=   0.0s\n",
      "[CV] END max_depth=8, max_features=2, min_samples_split=10, n_estimators=200; total time=   0.0s\n",
      "[CV] END max_depth=8, max_features=2, min_samples_split=10, n_estimators=200; total time=   0.0s\n",
      "[CV] END max_depth=8, max_features=2, min_samples_split=10, n_estimators=200; total time=   0.0s\n",
      "[CV] END max_depth=8, max_features=2, min_samples_split=10, n_estimators=200; total time=   0.0s\n",
      "[CV] END max_depth=8, max_features=2, min_samples_split=10, n_estimators=200; total time=   0.0s\n",
      "[CV] END max_depth=8, max_features=2, min_samples_split=10, n_estimators=200; total time=   0.0s\n",
      "[CV] END max_depth=8, max_features=2, min_samples_split=10, n_estimators=200; total time=   0.0s\n",
      "[CV] END max_depth=8, max_features=2, min_samples_split=10, n_estimators=200; total time=   0.0s\n",
      "[CV] END max_depth=8, max_features=2, min_samples_split=10, n_estimators=200; total time=   0.0s\n",
      "[CV] END max_depth=8, max_features=2, min_samples_split=10, n_estimators=500; total time=   0.2s\n",
      "[CV] END max_depth=8, max_features=2, min_samples_split=10, n_estimators=500; total time=   0.3s\n",
      "[CV] END max_depth=8, max_features=2, min_samples_split=10, n_estimators=500; total time=   0.2s\n",
      "[CV] END max_depth=8, max_features=2, min_samples_split=10, n_estimators=500; total time=   0.2s\n",
      "[CV] END max_depth=8, max_features=2, min_samples_split=10, n_estimators=500; total time=   0.2s\n",
      "[CV] END max_depth=8, max_features=2, min_samples_split=10, n_estimators=500; total time=   0.2s\n",
      "[CV] END max_depth=8, max_features=2, min_samples_split=10, n_estimators=500; total time=   0.2s\n",
      "[CV] END max_depth=8, max_features=2, min_samples_split=10, n_estimators=500; total time=   0.2s\n",
      "[CV] END max_depth=8, max_features=2, min_samples_split=10, n_estimators=500; total time=   0.2s\n",
      "[CV] END max_depth=8, max_features=2, min_samples_split=10, n_estimators=500; total time=   0.2s\n",
      "[CV] END max_depth=8, max_features=2, min_samples_split=10, n_estimators=1000; total time=   0.5s\n",
      "[CV] END max_depth=8, max_features=2, min_samples_split=10, n_estimators=1000; total time=   0.5s\n",
      "[CV] END max_depth=8, max_features=2, min_samples_split=10, n_estimators=1000; total time=   0.6s\n",
      "[CV] END max_depth=8, max_features=2, min_samples_split=10, n_estimators=1000; total time=   0.5s\n",
      "[CV] END max_depth=8, max_features=2, min_samples_split=10, n_estimators=1000; total time=   0.5s\n",
      "[CV] END max_depth=8, max_features=2, min_samples_split=10, n_estimators=1000; total time=   0.6s\n",
      "[CV] END max_depth=8, max_features=2, min_samples_split=10, n_estimators=1000; total time=   0.5s\n",
      "[CV] END max_depth=8, max_features=2, min_samples_split=10, n_estimators=1000; total time=   0.5s\n",
      "[CV] END max_depth=8, max_features=2, min_samples_split=10, n_estimators=1000; total time=   0.5s\n",
      "[CV] END max_depth=8, max_features=2, min_samples_split=10, n_estimators=1000; total time=   0.5s\n",
      "[CV] END max_depth=8, max_features=2, min_samples_split=10, n_estimators=2000; total time=   1.2s\n",
      "[CV] END max_depth=8, max_features=2, min_samples_split=10, n_estimators=2000; total time=   1.2s\n",
      "[CV] END max_depth=8, max_features=2, min_samples_split=10, n_estimators=2000; total time=   1.2s\n",
      "[CV] END max_depth=8, max_features=2, min_samples_split=10, n_estimators=2000; total time=   1.2s\n",
      "[CV] END max_depth=8, max_features=2, min_samples_split=10, n_estimators=2000; total time=   1.2s\n",
      "[CV] END max_depth=8, max_features=2, min_samples_split=10, n_estimators=2000; total time=   1.2s\n",
      "[CV] END max_depth=8, max_features=2, min_samples_split=10, n_estimators=2000; total time=   1.2s\n",
      "[CV] END max_depth=8, max_features=2, min_samples_split=10, n_estimators=2000; total time=   1.2s\n",
      "[CV] END max_depth=8, max_features=2, min_samples_split=10, n_estimators=2000; total time=   1.2s\n",
      "[CV] END max_depth=8, max_features=2, min_samples_split=10, n_estimators=2000; total time=   1.2s\n",
      "[CV] END max_depth=8, max_features=2, min_samples_split=80, n_estimators=200; total time=   0.0s\n",
      "[CV] END max_depth=8, max_features=2, min_samples_split=80, n_estimators=200; total time=   0.0s\n",
      "[CV] END max_depth=8, max_features=2, min_samples_split=80, n_estimators=200; total time=   0.0s\n",
      "[CV] END max_depth=8, max_features=2, min_samples_split=80, n_estimators=200; total time=   0.0s\n",
      "[CV] END max_depth=8, max_features=2, min_samples_split=80, n_estimators=200; total time=   0.0s\n",
      "[CV] END max_depth=8, max_features=2, min_samples_split=80, n_estimators=200; total time=   0.0s\n",
      "[CV] END max_depth=8, max_features=2, min_samples_split=80, n_estimators=200; total time=   0.0s\n",
      "[CV] END max_depth=8, max_features=2, min_samples_split=80, n_estimators=200; total time=   0.0s\n",
      "[CV] END max_depth=8, max_features=2, min_samples_split=80, n_estimators=200; total time=   0.0s\n",
      "[CV] END max_depth=8, max_features=2, min_samples_split=80, n_estimators=200; total time=   0.0s\n",
      "[CV] END max_depth=8, max_features=2, min_samples_split=80, n_estimators=500; total time=   0.2s\n",
      "[CV] END max_depth=8, max_features=2, min_samples_split=80, n_estimators=500; total time=   0.2s\n",
      "[CV] END max_depth=8, max_features=2, min_samples_split=80, n_estimators=500; total time=   0.2s\n",
      "[CV] END max_depth=8, max_features=2, min_samples_split=80, n_estimators=500; total time=   0.2s\n",
      "[CV] END max_depth=8, max_features=2, min_samples_split=80, n_estimators=500; total time=   0.2s\n",
      "[CV] END max_depth=8, max_features=2, min_samples_split=80, n_estimators=500; total time=   0.2s\n",
      "[CV] END max_depth=8, max_features=2, min_samples_split=80, n_estimators=500; total time=   0.2s\n",
      "[CV] END max_depth=8, max_features=2, min_samples_split=80, n_estimators=500; total time=   0.2s\n",
      "[CV] END max_depth=8, max_features=2, min_samples_split=80, n_estimators=500; total time=   0.2s\n",
      "[CV] END max_depth=8, max_features=2, min_samples_split=80, n_estimators=500; total time=   0.2s\n",
      "[CV] END max_depth=8, max_features=2, min_samples_split=80, n_estimators=1000; total time=   0.5s\n",
      "[CV] END max_depth=8, max_features=2, min_samples_split=80, n_estimators=1000; total time=   0.5s\n",
      "[CV] END max_depth=8, max_features=2, min_samples_split=80, n_estimators=1000; total time=   0.5s\n",
      "[CV] END max_depth=8, max_features=2, min_samples_split=80, n_estimators=1000; total time=   0.5s\n",
      "[CV] END max_depth=8, max_features=2, min_samples_split=80, n_estimators=1000; total time=   0.5s\n",
      "[CV] END max_depth=8, max_features=2, min_samples_split=80, n_estimators=1000; total time=   0.5s\n",
      "[CV] END max_depth=8, max_features=2, min_samples_split=80, n_estimators=1000; total time=   0.5s\n",
      "[CV] END max_depth=8, max_features=2, min_samples_split=80, n_estimators=1000; total time=   0.5s\n",
      "[CV] END max_depth=8, max_features=2, min_samples_split=80, n_estimators=1000; total time=   0.5s\n",
      "[CV] END max_depth=8, max_features=2, min_samples_split=80, n_estimators=1000; total time=   0.5s\n",
      "[CV] END max_depth=8, max_features=2, min_samples_split=80, n_estimators=2000; total time=   1.1s\n",
      "[CV] END max_depth=8, max_features=2, min_samples_split=80, n_estimators=2000; total time=   1.0s\n",
      "[CV] END max_depth=8, max_features=2, min_samples_split=80, n_estimators=2000; total time=   1.1s\n",
      "[CV] END max_depth=8, max_features=2, min_samples_split=80, n_estimators=2000; total time=   1.0s\n",
      "[CV] END max_depth=8, max_features=2, min_samples_split=80, n_estimators=2000; total time=   1.1s\n",
      "[CV] END max_depth=8, max_features=2, min_samples_split=80, n_estimators=2000; total time=   1.1s\n",
      "[CV] END max_depth=8, max_features=2, min_samples_split=80, n_estimators=2000; total time=   1.1s\n",
      "[CV] END max_depth=8, max_features=2, min_samples_split=80, n_estimators=2000; total time=   1.2s\n",
      "[CV] END max_depth=8, max_features=2, min_samples_split=80, n_estimators=2000; total time=   1.1s\n",
      "[CV] END max_depth=8, max_features=2, min_samples_split=80, n_estimators=2000; total time=   1.1s\n",
      "[CV] END max_depth=8, max_features=2, min_samples_split=100, n_estimators=200; total time=   0.0s\n",
      "[CV] END max_depth=8, max_features=2, min_samples_split=100, n_estimators=200; total time=   0.0s\n",
      "[CV] END max_depth=8, max_features=2, min_samples_split=100, n_estimators=200; total time=   0.0s\n",
      "[CV] END max_depth=8, max_features=2, min_samples_split=100, n_estimators=200; total time=   0.0s\n",
      "[CV] END max_depth=8, max_features=2, min_samples_split=100, n_estimators=200; total time=   0.0s\n",
      "[CV] END max_depth=8, max_features=2, min_samples_split=100, n_estimators=200; total time=   0.0s\n",
      "[CV] END max_depth=8, max_features=2, min_samples_split=100, n_estimators=200; total time=   0.0s\n",
      "[CV] END max_depth=8, max_features=2, min_samples_split=100, n_estimators=200; total time=   0.0s\n",
      "[CV] END max_depth=8, max_features=2, min_samples_split=100, n_estimators=200; total time=   0.0s\n",
      "[CV] END max_depth=8, max_features=2, min_samples_split=100, n_estimators=200; total time=   0.0s\n",
      "[CV] END max_depth=8, max_features=2, min_samples_split=100, n_estimators=500; total time=   0.2s\n",
      "[CV] END max_depth=8, max_features=2, min_samples_split=100, n_estimators=500; total time=   0.2s\n",
      "[CV] END max_depth=8, max_features=2, min_samples_split=100, n_estimators=500; total time=   0.2s\n",
      "[CV] END max_depth=8, max_features=2, min_samples_split=100, n_estimators=500; total time=   0.2s\n",
      "[CV] END max_depth=8, max_features=2, min_samples_split=100, n_estimators=500; total time=   0.2s\n",
      "[CV] END max_depth=8, max_features=2, min_samples_split=100, n_estimators=500; total time=   0.2s\n",
      "[CV] END max_depth=8, max_features=2, min_samples_split=100, n_estimators=500; total time=   0.2s\n",
      "[CV] END max_depth=8, max_features=2, min_samples_split=100, n_estimators=500; total time=   0.2s\n",
      "[CV] END max_depth=8, max_features=2, min_samples_split=100, n_estimators=500; total time=   0.2s\n",
      "[CV] END max_depth=8, max_features=2, min_samples_split=100, n_estimators=500; total time=   0.2s\n",
      "[CV] END max_depth=8, max_features=2, min_samples_split=100, n_estimators=1000; total time=   0.5s\n",
      "[CV] END max_depth=8, max_features=2, min_samples_split=100, n_estimators=1000; total time=   0.5s\n",
      "[CV] END max_depth=8, max_features=2, min_samples_split=100, n_estimators=1000; total time=   0.5s\n",
      "[CV] END max_depth=8, max_features=2, min_samples_split=100, n_estimators=1000; total time=   0.6s\n",
      "[CV] END max_depth=8, max_features=2, min_samples_split=100, n_estimators=1000; total time=   0.5s\n",
      "[CV] END max_depth=8, max_features=2, min_samples_split=100, n_estimators=1000; total time=   0.5s\n",
      "[CV] END max_depth=8, max_features=2, min_samples_split=100, n_estimators=1000; total time=   0.5s\n",
      "[CV] END max_depth=8, max_features=2, min_samples_split=100, n_estimators=1000; total time=   0.5s\n",
      "[CV] END max_depth=8, max_features=2, min_samples_split=100, n_estimators=1000; total time=   0.5s\n",
      "[CV] END max_depth=8, max_features=2, min_samples_split=100, n_estimators=1000; total time=   0.5s\n",
      "[CV] END max_depth=8, max_features=2, min_samples_split=100, n_estimators=2000; total time=   1.1s\n",
      "[CV] END max_depth=8, max_features=2, min_samples_split=100, n_estimators=2000; total time=   1.1s\n",
      "[CV] END max_depth=8, max_features=2, min_samples_split=100, n_estimators=2000; total time=   1.1s\n",
      "[CV] END max_depth=8, max_features=2, min_samples_split=100, n_estimators=2000; total time=   1.1s\n",
      "[CV] END max_depth=8, max_features=2, min_samples_split=100, n_estimators=2000; total time=   1.1s\n",
      "[CV] END max_depth=8, max_features=2, min_samples_split=100, n_estimators=2000; total time=   1.1s\n",
      "[CV] END max_depth=8, max_features=2, min_samples_split=100, n_estimators=2000; total time=   1.1s\n",
      "[CV] END max_depth=8, max_features=2, min_samples_split=100, n_estimators=2000; total time=   1.1s\n",
      "[CV] END max_depth=8, max_features=2, min_samples_split=100, n_estimators=2000; total time=   1.1s\n",
      "[CV] END max_depth=8, max_features=2, min_samples_split=100, n_estimators=2000; total time=   1.0s\n",
      "[CV] END max_depth=8, max_features=5, min_samples_split=2, n_estimators=200; total time=   0.1s\n",
      "[CV] END max_depth=8, max_features=5, min_samples_split=2, n_estimators=200; total time=   0.1s\n",
      "[CV] END max_depth=8, max_features=5, min_samples_split=2, n_estimators=200; total time=   0.1s\n",
      "[CV] END max_depth=8, max_features=5, min_samples_split=2, n_estimators=200; total time=   0.1s\n",
      "[CV] END max_depth=8, max_features=5, min_samples_split=2, n_estimators=200; total time=   0.1s\n",
      "[CV] END max_depth=8, max_features=5, min_samples_split=2, n_estimators=200; total time=   0.1s\n",
      "[CV] END max_depth=8, max_features=5, min_samples_split=2, n_estimators=200; total time=   0.1s\n",
      "[CV] END max_depth=8, max_features=5, min_samples_split=2, n_estimators=200; total time=   0.1s\n",
      "[CV] END max_depth=8, max_features=5, min_samples_split=2, n_estimators=200; total time=   0.0s\n",
      "[CV] END max_depth=8, max_features=5, min_samples_split=2, n_estimators=200; total time=   0.1s\n",
      "[CV] END max_depth=8, max_features=5, min_samples_split=2, n_estimators=500; total time=   0.3s\n",
      "[CV] END max_depth=8, max_features=5, min_samples_split=2, n_estimators=500; total time=   0.3s\n",
      "[CV] END max_depth=8, max_features=5, min_samples_split=2, n_estimators=500; total time=   0.3s\n",
      "[CV] END max_depth=8, max_features=5, min_samples_split=2, n_estimators=500; total time=   0.3s\n",
      "[CV] END max_depth=8, max_features=5, min_samples_split=2, n_estimators=500; total time=   0.3s\n",
      "[CV] END max_depth=8, max_features=5, min_samples_split=2, n_estimators=500; total time=   0.3s\n",
      "[CV] END max_depth=8, max_features=5, min_samples_split=2, n_estimators=500; total time=   0.3s\n",
      "[CV] END max_depth=8, max_features=5, min_samples_split=2, n_estimators=500; total time=   0.3s\n",
      "[CV] END max_depth=8, max_features=5, min_samples_split=2, n_estimators=500; total time=   0.3s\n",
      "[CV] END max_depth=8, max_features=5, min_samples_split=2, n_estimators=500; total time=   0.3s\n",
      "[CV] END max_depth=8, max_features=5, min_samples_split=2, n_estimators=1000; total time=   0.7s\n",
      "[CV] END max_depth=8, max_features=5, min_samples_split=2, n_estimators=1000; total time=   0.7s\n",
      "[CV] END max_depth=8, max_features=5, min_samples_split=2, n_estimators=1000; total time=   0.6s\n",
      "[CV] END max_depth=8, max_features=5, min_samples_split=2, n_estimators=1000; total time=   0.6s\n",
      "[CV] END max_depth=8, max_features=5, min_samples_split=2, n_estimators=1000; total time=   0.6s\n",
      "[CV] END max_depth=8, max_features=5, min_samples_split=2, n_estimators=1000; total time=   0.6s\n",
      "[CV] END max_depth=8, max_features=5, min_samples_split=2, n_estimators=1000; total time=   0.6s\n",
      "[CV] END max_depth=8, max_features=5, min_samples_split=2, n_estimators=1000; total time=   0.6s\n",
      "[CV] END max_depth=8, max_features=5, min_samples_split=2, n_estimators=1000; total time=   0.7s\n",
      "[CV] END max_depth=8, max_features=5, min_samples_split=2, n_estimators=1000; total time=   0.7s\n",
      "[CV] END max_depth=8, max_features=5, min_samples_split=2, n_estimators=2000; total time=   1.4s\n",
      "[CV] END max_depth=8, max_features=5, min_samples_split=2, n_estimators=2000; total time=   1.4s\n",
      "[CV] END max_depth=8, max_features=5, min_samples_split=2, n_estimators=2000; total time=   1.4s\n",
      "[CV] END max_depth=8, max_features=5, min_samples_split=2, n_estimators=2000; total time=   1.5s\n",
      "[CV] END max_depth=8, max_features=5, min_samples_split=2, n_estimators=2000; total time=   1.4s\n",
      "[CV] END max_depth=8, max_features=5, min_samples_split=2, n_estimators=2000; total time=   1.4s\n",
      "[CV] END max_depth=8, max_features=5, min_samples_split=2, n_estimators=2000; total time=   1.5s\n",
      "[CV] END max_depth=8, max_features=5, min_samples_split=2, n_estimators=2000; total time=   1.4s\n",
      "[CV] END max_depth=8, max_features=5, min_samples_split=2, n_estimators=2000; total time=   1.4s\n",
      "[CV] END max_depth=8, max_features=5, min_samples_split=2, n_estimators=2000; total time=   1.4s\n",
      "[CV] END max_depth=8, max_features=5, min_samples_split=10, n_estimators=200; total time=   0.0s\n",
      "[CV] END max_depth=8, max_features=5, min_samples_split=10, n_estimators=200; total time=   0.0s\n",
      "[CV] END max_depth=8, max_features=5, min_samples_split=10, n_estimators=200; total time=   0.0s\n",
      "[CV] END max_depth=8, max_features=5, min_samples_split=10, n_estimators=200; total time=   0.0s\n",
      "[CV] END max_depth=8, max_features=5, min_samples_split=10, n_estimators=200; total time=   0.0s\n",
      "[CV] END max_depth=8, max_features=5, min_samples_split=10, n_estimators=200; total time=   0.0s\n",
      "[CV] END max_depth=8, max_features=5, min_samples_split=10, n_estimators=200; total time=   0.0s\n",
      "[CV] END max_depth=8, max_features=5, min_samples_split=10, n_estimators=200; total time=   0.0s\n",
      "[CV] END max_depth=8, max_features=5, min_samples_split=10, n_estimators=200; total time=   0.0s\n",
      "[CV] END max_depth=8, max_features=5, min_samples_split=10, n_estimators=200; total time=   0.0s\n",
      "[CV] END max_depth=8, max_features=5, min_samples_split=10, n_estimators=500; total time=   0.2s\n",
      "[CV] END max_depth=8, max_features=5, min_samples_split=10, n_estimators=500; total time=   0.2s\n",
      "[CV] END max_depth=8, max_features=5, min_samples_split=10, n_estimators=500; total time=   0.3s\n",
      "[CV] END max_depth=8, max_features=5, min_samples_split=10, n_estimators=500; total time=   0.2s\n",
      "[CV] END max_depth=8, max_features=5, min_samples_split=10, n_estimators=500; total time=   0.2s\n",
      "[CV] END max_depth=8, max_features=5, min_samples_split=10, n_estimators=500; total time=   0.2s\n",
      "[CV] END max_depth=8, max_features=5, min_samples_split=10, n_estimators=500; total time=   0.2s\n",
      "[CV] END max_depth=8, max_features=5, min_samples_split=10, n_estimators=500; total time=   0.2s\n",
      "[CV] END max_depth=8, max_features=5, min_samples_split=10, n_estimators=500; total time=   0.2s\n",
      "[CV] END max_depth=8, max_features=5, min_samples_split=10, n_estimators=500; total time=   0.2s\n",
      "[CV] END max_depth=8, max_features=5, min_samples_split=10, n_estimators=1000; total time=   0.6s\n",
      "[CV] END max_depth=8, max_features=5, min_samples_split=10, n_estimators=1000; total time=   0.6s\n",
      "[CV] END max_depth=8, max_features=5, min_samples_split=10, n_estimators=1000; total time=   0.6s\n",
      "[CV] END max_depth=8, max_features=5, min_samples_split=10, n_estimators=1000; total time=   0.6s\n",
      "[CV] END max_depth=8, max_features=5, min_samples_split=10, n_estimators=1000; total time=   0.6s\n",
      "[CV] END max_depth=8, max_features=5, min_samples_split=10, n_estimators=1000; total time=   0.6s\n",
      "[CV] END max_depth=8, max_features=5, min_samples_split=10, n_estimators=1000; total time=   0.6s\n",
      "[CV] END max_depth=8, max_features=5, min_samples_split=10, n_estimators=1000; total time=   0.6s\n",
      "[CV] END max_depth=8, max_features=5, min_samples_split=10, n_estimators=1000; total time=   0.6s\n",
      "[CV] END max_depth=8, max_features=5, min_samples_split=10, n_estimators=1000; total time=   0.6s\n",
      "[CV] END max_depth=8, max_features=5, min_samples_split=10, n_estimators=2000; total time=   1.4s\n",
      "[CV] END max_depth=8, max_features=5, min_samples_split=10, n_estimators=2000; total time=   1.3s\n",
      "[CV] END max_depth=8, max_features=5, min_samples_split=10, n_estimators=2000; total time=   1.3s\n",
      "[CV] END max_depth=8, max_features=5, min_samples_split=10, n_estimators=2000; total time=   1.3s\n",
      "[CV] END max_depth=8, max_features=5, min_samples_split=10, n_estimators=2000; total time=   1.3s\n",
      "[CV] END max_depth=8, max_features=5, min_samples_split=10, n_estimators=2000; total time=   1.3s\n",
      "[CV] END max_depth=8, max_features=5, min_samples_split=10, n_estimators=2000; total time=   1.4s\n",
      "[CV] END max_depth=8, max_features=5, min_samples_split=10, n_estimators=2000; total time=   1.3s\n",
      "[CV] END max_depth=8, max_features=5, min_samples_split=10, n_estimators=2000; total time=   1.4s\n",
      "[CV] END max_depth=8, max_features=5, min_samples_split=10, n_estimators=2000; total time=   1.3s\n",
      "[CV] END max_depth=8, max_features=5, min_samples_split=80, n_estimators=200; total time=   0.0s\n",
      "[CV] END max_depth=8, max_features=5, min_samples_split=80, n_estimators=200; total time=   0.0s\n",
      "[CV] END max_depth=8, max_features=5, min_samples_split=80, n_estimators=200; total time=   0.0s\n",
      "[CV] END max_depth=8, max_features=5, min_samples_split=80, n_estimators=200; total time=   0.0s\n",
      "[CV] END max_depth=8, max_features=5, min_samples_split=80, n_estimators=200; total time=   0.0s\n",
      "[CV] END max_depth=8, max_features=5, min_samples_split=80, n_estimators=200; total time=   0.0s\n",
      "[CV] END max_depth=8, max_features=5, min_samples_split=80, n_estimators=200; total time=   0.0s\n",
      "[CV] END max_depth=8, max_features=5, min_samples_split=80, n_estimators=200; total time=   0.0s\n",
      "[CV] END max_depth=8, max_features=5, min_samples_split=80, n_estimators=200; total time=   0.0s\n",
      "[CV] END max_depth=8, max_features=5, min_samples_split=80, n_estimators=200; total time=   0.0s\n",
      "[CV] END max_depth=8, max_features=5, min_samples_split=80, n_estimators=500; total time=   0.2s\n",
      "[CV] END max_depth=8, max_features=5, min_samples_split=80, n_estimators=500; total time=   0.2s\n",
      "[CV] END max_depth=8, max_features=5, min_samples_split=80, n_estimators=500; total time=   0.2s\n",
      "[CV] END max_depth=8, max_features=5, min_samples_split=80, n_estimators=500; total time=   0.2s\n",
      "[CV] END max_depth=8, max_features=5, min_samples_split=80, n_estimators=500; total time=   0.2s\n",
      "[CV] END max_depth=8, max_features=5, min_samples_split=80, n_estimators=500; total time=   0.2s\n",
      "[CV] END max_depth=8, max_features=5, min_samples_split=80, n_estimators=500; total time=   0.2s\n",
      "[CV] END max_depth=8, max_features=5, min_samples_split=80, n_estimators=500; total time=   0.2s\n",
      "[CV] END max_depth=8, max_features=5, min_samples_split=80, n_estimators=500; total time=   0.2s\n",
      "[CV] END max_depth=8, max_features=5, min_samples_split=80, n_estimators=500; total time=   0.3s\n",
      "[CV] END max_depth=8, max_features=5, min_samples_split=80, n_estimators=1000; total time=   0.5s\n",
      "[CV] END max_depth=8, max_features=5, min_samples_split=80, n_estimators=1000; total time=   0.5s\n",
      "[CV] END max_depth=8, max_features=5, min_samples_split=80, n_estimators=1000; total time=   0.5s\n",
      "[CV] END max_depth=8, max_features=5, min_samples_split=80, n_estimators=1000; total time=   0.5s\n",
      "[CV] END max_depth=8, max_features=5, min_samples_split=80, n_estimators=1000; total time=   0.5s\n",
      "[CV] END max_depth=8, max_features=5, min_samples_split=80, n_estimators=1000; total time=   0.5s\n",
      "[CV] END max_depth=8, max_features=5, min_samples_split=80, n_estimators=1000; total time=   0.5s\n",
      "[CV] END max_depth=8, max_features=5, min_samples_split=80, n_estimators=1000; total time=   0.5s\n",
      "[CV] END max_depth=8, max_features=5, min_samples_split=80, n_estimators=1000; total time=   0.5s\n",
      "[CV] END max_depth=8, max_features=5, min_samples_split=80, n_estimators=1000; total time=   0.5s\n",
      "[CV] END max_depth=8, max_features=5, min_samples_split=80, n_estimators=2000; total time=   1.1s\n",
      "[CV] END max_depth=8, max_features=5, min_samples_split=80, n_estimators=2000; total time=   1.1s\n",
      "[CV] END max_depth=8, max_features=5, min_samples_split=80, n_estimators=2000; total time=   1.1s\n",
      "[CV] END max_depth=8, max_features=5, min_samples_split=80, n_estimators=2000; total time=   1.0s\n",
      "[CV] END max_depth=8, max_features=5, min_samples_split=80, n_estimators=2000; total time=   1.1s\n",
      "[CV] END max_depth=8, max_features=5, min_samples_split=80, n_estimators=2000; total time=   1.1s\n",
      "[CV] END max_depth=8, max_features=5, min_samples_split=80, n_estimators=2000; total time=   1.1s\n",
      "[CV] END max_depth=8, max_features=5, min_samples_split=80, n_estimators=2000; total time=   1.0s\n",
      "[CV] END max_depth=8, max_features=5, min_samples_split=80, n_estimators=2000; total time=   1.1s\n",
      "[CV] END max_depth=8, max_features=5, min_samples_split=80, n_estimators=2000; total time=   1.1s\n",
      "[CV] END max_depth=8, max_features=5, min_samples_split=100, n_estimators=200; total time=   0.0s\n",
      "[CV] END max_depth=8, max_features=5, min_samples_split=100, n_estimators=200; total time=   0.0s\n",
      "[CV] END max_depth=8, max_features=5, min_samples_split=100, n_estimators=200; total time=   0.0s\n",
      "[CV] END max_depth=8, max_features=5, min_samples_split=100, n_estimators=200; total time=   0.0s\n",
      "[CV] END max_depth=8, max_features=5, min_samples_split=100, n_estimators=200; total time=   0.0s\n",
      "[CV] END max_depth=8, max_features=5, min_samples_split=100, n_estimators=200; total time=   0.0s\n",
      "[CV] END max_depth=8, max_features=5, min_samples_split=100, n_estimators=200; total time=   0.0s\n",
      "[CV] END max_depth=8, max_features=5, min_samples_split=100, n_estimators=200; total time=   0.0s\n",
      "[CV] END max_depth=8, max_features=5, min_samples_split=100, n_estimators=200; total time=   0.0s\n",
      "[CV] END max_depth=8, max_features=5, min_samples_split=100, n_estimators=200; total time=   0.0s\n",
      "[CV] END max_depth=8, max_features=5, min_samples_split=100, n_estimators=500; total time=   0.2s\n",
      "[CV] END max_depth=8, max_features=5, min_samples_split=100, n_estimators=500; total time=   0.2s\n",
      "[CV] END max_depth=8, max_features=5, min_samples_split=100, n_estimators=500; total time=   0.2s\n",
      "[CV] END max_depth=8, max_features=5, min_samples_split=100, n_estimators=500; total time=   0.2s\n",
      "[CV] END max_depth=8, max_features=5, min_samples_split=100, n_estimators=500; total time=   0.2s\n",
      "[CV] END max_depth=8, max_features=5, min_samples_split=100, n_estimators=500; total time=   0.2s\n",
      "[CV] END max_depth=8, max_features=5, min_samples_split=100, n_estimators=500; total time=   0.2s\n",
      "[CV] END max_depth=8, max_features=5, min_samples_split=100, n_estimators=500; total time=   0.2s\n",
      "[CV] END max_depth=8, max_features=5, min_samples_split=100, n_estimators=500; total time=   0.2s\n",
      "[CV] END max_depth=8, max_features=5, min_samples_split=100, n_estimators=500; total time=   0.2s\n",
      "[CV] END max_depth=8, max_features=5, min_samples_split=100, n_estimators=1000; total time=   0.5s\n",
      "[CV] END max_depth=8, max_features=5, min_samples_split=100, n_estimators=1000; total time=   0.5s\n",
      "[CV] END max_depth=8, max_features=5, min_samples_split=100, n_estimators=1000; total time=   0.5s\n",
      "[CV] END max_depth=8, max_features=5, min_samples_split=100, n_estimators=1000; total time=   0.5s\n",
      "[CV] END max_depth=8, max_features=5, min_samples_split=100, n_estimators=1000; total time=   0.5s\n",
      "[CV] END max_depth=8, max_features=5, min_samples_split=100, n_estimators=1000; total time=   0.5s\n",
      "[CV] END max_depth=8, max_features=5, min_samples_split=100, n_estimators=1000; total time=   0.5s\n",
      "[CV] END max_depth=8, max_features=5, min_samples_split=100, n_estimators=1000; total time=   0.5s\n",
      "[CV] END max_depth=8, max_features=5, min_samples_split=100, n_estimators=1000; total time=   0.5s\n",
      "[CV] END max_depth=8, max_features=5, min_samples_split=100, n_estimators=1000; total time=   0.5s\n",
      "[CV] END max_depth=8, max_features=5, min_samples_split=100, n_estimators=2000; total time=   1.1s\n",
      "[CV] END max_depth=8, max_features=5, min_samples_split=100, n_estimators=2000; total time=   1.0s\n",
      "[CV] END max_depth=8, max_features=5, min_samples_split=100, n_estimators=2000; total time=   1.0s\n",
      "[CV] END max_depth=8, max_features=5, min_samples_split=100, n_estimators=2000; total time=   1.1s\n",
      "[CV] END max_depth=8, max_features=5, min_samples_split=100, n_estimators=2000; total time=   1.0s\n",
      "[CV] END max_depth=8, max_features=5, min_samples_split=100, n_estimators=2000; total time=   1.0s\n",
      "[CV] END max_depth=8, max_features=5, min_samples_split=100, n_estimators=2000; total time=   1.0s\n",
      "[CV] END max_depth=8, max_features=5, min_samples_split=100, n_estimators=2000; total time=   1.0s\n",
      "[CV] END max_depth=8, max_features=5, min_samples_split=100, n_estimators=2000; total time=   1.0s\n",
      "[CV] END max_depth=8, max_features=5, min_samples_split=100, n_estimators=2000; total time=   1.1s\n",
      "[CV] END max_depth=8, max_features=10, min_samples_split=2, n_estimators=200; total time=   0.1s\n",
      "[CV] END max_depth=8, max_features=10, min_samples_split=2, n_estimators=200; total time=   0.1s\n",
      "[CV] END max_depth=8, max_features=10, min_samples_split=2, n_estimators=200; total time=   0.1s\n",
      "[CV] END max_depth=8, max_features=10, min_samples_split=2, n_estimators=200; total time=   0.1s\n",
      "[CV] END max_depth=8, max_features=10, min_samples_split=2, n_estimators=200; total time=   0.1s\n",
      "[CV] END max_depth=8, max_features=10, min_samples_split=2, n_estimators=200; total time=   0.1s\n",
      "[CV] END max_depth=8, max_features=10, min_samples_split=2, n_estimators=200; total time=   0.1s\n",
      "[CV] END max_depth=8, max_features=10, min_samples_split=2, n_estimators=200; total time=   0.1s\n",
      "[CV] END max_depth=8, max_features=10, min_samples_split=2, n_estimators=200; total time=   0.1s\n",
      "[CV] END max_depth=8, max_features=10, min_samples_split=2, n_estimators=200; total time=   0.1s\n",
      "[CV] END max_depth=8, max_features=10, min_samples_split=2, n_estimators=500; total time=   0.3s\n",
      "[CV] END max_depth=8, max_features=10, min_samples_split=2, n_estimators=500; total time=   0.3s\n",
      "[CV] END max_depth=8, max_features=10, min_samples_split=2, n_estimators=500; total time=   0.3s\n",
      "[CV] END max_depth=8, max_features=10, min_samples_split=2, n_estimators=500; total time=   0.3s\n",
      "[CV] END max_depth=8, max_features=10, min_samples_split=2, n_estimators=500; total time=   0.3s\n",
      "[CV] END max_depth=8, max_features=10, min_samples_split=2, n_estimators=500; total time=   0.3s\n",
      "[CV] END max_depth=8, max_features=10, min_samples_split=2, n_estimators=500; total time=   0.3s\n",
      "[CV] END max_depth=8, max_features=10, min_samples_split=2, n_estimators=500; total time=   0.3s\n",
      "[CV] END max_depth=8, max_features=10, min_samples_split=2, n_estimators=500; total time=   0.3s\n",
      "[CV] END max_depth=8, max_features=10, min_samples_split=2, n_estimators=500; total time=   0.3s\n",
      "[CV] END max_depth=8, max_features=10, min_samples_split=2, n_estimators=1000; total time=   0.7s\n",
      "[CV] END max_depth=8, max_features=10, min_samples_split=2, n_estimators=1000; total time=   0.7s\n",
      "[CV] END max_depth=8, max_features=10, min_samples_split=2, n_estimators=1000; total time=   0.8s\n",
      "[CV] END max_depth=8, max_features=10, min_samples_split=2, n_estimators=1000; total time=   0.8s\n",
      "[CV] END max_depth=8, max_features=10, min_samples_split=2, n_estimators=1000; total time=   0.8s\n",
      "[CV] END max_depth=8, max_features=10, min_samples_split=2, n_estimators=1000; total time=   0.8s\n",
      "[CV] END max_depth=8, max_features=10, min_samples_split=2, n_estimators=1000; total time=   0.7s\n",
      "[CV] END max_depth=8, max_features=10, min_samples_split=2, n_estimators=1000; total time=   0.8s\n",
      "[CV] END max_depth=8, max_features=10, min_samples_split=2, n_estimators=1000; total time=   0.7s\n",
      "[CV] END max_depth=8, max_features=10, min_samples_split=2, n_estimators=1000; total time=   0.8s\n",
      "[CV] END max_depth=8, max_features=10, min_samples_split=2, n_estimators=2000; total time=   1.6s\n",
      "[CV] END max_depth=8, max_features=10, min_samples_split=2, n_estimators=2000; total time=   1.6s\n",
      "[CV] END max_depth=8, max_features=10, min_samples_split=2, n_estimators=2000; total time=   1.6s\n",
      "[CV] END max_depth=8, max_features=10, min_samples_split=2, n_estimators=2000; total time=   1.7s\n",
      "[CV] END max_depth=8, max_features=10, min_samples_split=2, n_estimators=2000; total time=   1.7s\n",
      "[CV] END max_depth=8, max_features=10, min_samples_split=2, n_estimators=2000; total time=   1.6s\n",
      "[CV] END max_depth=8, max_features=10, min_samples_split=2, n_estimators=2000; total time=   1.6s\n",
      "[CV] END max_depth=8, max_features=10, min_samples_split=2, n_estimators=2000; total time=   1.6s\n",
      "[CV] END max_depth=8, max_features=10, min_samples_split=2, n_estimators=2000; total time=   1.7s\n",
      "[CV] END max_depth=8, max_features=10, min_samples_split=2, n_estimators=2000; total time=   1.6s\n",
      "[CV] END max_depth=8, max_features=10, min_samples_split=10, n_estimators=200; total time=   0.1s\n",
      "[CV] END max_depth=8, max_features=10, min_samples_split=10, n_estimators=200; total time=   0.1s\n",
      "[CV] END max_depth=8, max_features=10, min_samples_split=10, n_estimators=200; total time=   0.1s\n",
      "[CV] END max_depth=8, max_features=10, min_samples_split=10, n_estimators=200; total time=   0.1s\n",
      "[CV] END max_depth=8, max_features=10, min_samples_split=10, n_estimators=200; total time=   0.1s\n",
      "[CV] END max_depth=8, max_features=10, min_samples_split=10, n_estimators=200; total time=   0.1s\n",
      "[CV] END max_depth=8, max_features=10, min_samples_split=10, n_estimators=200; total time=   0.1s\n",
      "[CV] END max_depth=8, max_features=10, min_samples_split=10, n_estimators=200; total time=   0.1s\n",
      "[CV] END max_depth=8, max_features=10, min_samples_split=10, n_estimators=200; total time=   0.1s\n",
      "[CV] END max_depth=8, max_features=10, min_samples_split=10, n_estimators=200; total time=   0.1s\n",
      "[CV] END max_depth=8, max_features=10, min_samples_split=10, n_estimators=500; total time=   0.3s\n",
      "[CV] END max_depth=8, max_features=10, min_samples_split=10, n_estimators=500; total time=   0.3s\n",
      "[CV] END max_depth=8, max_features=10, min_samples_split=10, n_estimators=500; total time=   0.3s\n",
      "[CV] END max_depth=8, max_features=10, min_samples_split=10, n_estimators=500; total time=   0.3s\n",
      "[CV] END max_depth=8, max_features=10, min_samples_split=10, n_estimators=500; total time=   0.3s\n",
      "[CV] END max_depth=8, max_features=10, min_samples_split=10, n_estimators=500; total time=   0.3s\n",
      "[CV] END max_depth=8, max_features=10, min_samples_split=10, n_estimators=500; total time=   0.3s\n",
      "[CV] END max_depth=8, max_features=10, min_samples_split=10, n_estimators=500; total time=   0.3s\n",
      "[CV] END max_depth=8, max_features=10, min_samples_split=10, n_estimators=500; total time=   0.3s\n",
      "[CV] END max_depth=8, max_features=10, min_samples_split=10, n_estimators=500; total time=   0.3s\n",
      "[CV] END max_depth=8, max_features=10, min_samples_split=10, n_estimators=1000; total time=   0.7s\n",
      "[CV] END max_depth=8, max_features=10, min_samples_split=10, n_estimators=1000; total time=   0.7s\n",
      "[CV] END max_depth=8, max_features=10, min_samples_split=10, n_estimators=1000; total time=   0.7s\n",
      "[CV] END max_depth=8, max_features=10, min_samples_split=10, n_estimators=1000; total time=   0.7s\n",
      "[CV] END max_depth=8, max_features=10, min_samples_split=10, n_estimators=1000; total time=   0.7s\n",
      "[CV] END max_depth=8, max_features=10, min_samples_split=10, n_estimators=1000; total time=   0.7s\n",
      "[CV] END max_depth=8, max_features=10, min_samples_split=10, n_estimators=1000; total time=   0.7s\n",
      "[CV] END max_depth=8, max_features=10, min_samples_split=10, n_estimators=1000; total time=   0.7s\n",
      "[CV] END max_depth=8, max_features=10, min_samples_split=10, n_estimators=1000; total time=   0.7s\n",
      "[CV] END max_depth=8, max_features=10, min_samples_split=10, n_estimators=1000; total time=   0.7s\n",
      "[CV] END max_depth=8, max_features=10, min_samples_split=10, n_estimators=2000; total time=   1.5s\n",
      "[CV] END max_depth=8, max_features=10, min_samples_split=10, n_estimators=2000; total time=   1.4s\n",
      "[CV] END max_depth=8, max_features=10, min_samples_split=10, n_estimators=2000; total time=   1.4s\n",
      "[CV] END max_depth=8, max_features=10, min_samples_split=10, n_estimators=2000; total time=   1.5s\n",
      "[CV] END max_depth=8, max_features=10, min_samples_split=10, n_estimators=2000; total time=   1.5s\n",
      "[CV] END max_depth=8, max_features=10, min_samples_split=10, n_estimators=2000; total time=   1.4s\n",
      "[CV] END max_depth=8, max_features=10, min_samples_split=10, n_estimators=2000; total time=   1.4s\n",
      "[CV] END max_depth=8, max_features=10, min_samples_split=10, n_estimators=2000; total time=   1.5s\n",
      "[CV] END max_depth=8, max_features=10, min_samples_split=10, n_estimators=2000; total time=   1.4s\n",
      "[CV] END max_depth=8, max_features=10, min_samples_split=10, n_estimators=2000; total time=   1.4s\n",
      "[CV] END max_depth=8, max_features=10, min_samples_split=80, n_estimators=200; total time=   0.0s\n",
      "[CV] END max_depth=8, max_features=10, min_samples_split=80, n_estimators=200; total time=   0.0s\n",
      "[CV] END max_depth=8, max_features=10, min_samples_split=80, n_estimators=200; total time=   0.0s\n",
      "[CV] END max_depth=8, max_features=10, min_samples_split=80, n_estimators=200; total time=   0.0s\n",
      "[CV] END max_depth=8, max_features=10, min_samples_split=80, n_estimators=200; total time=   0.0s\n",
      "[CV] END max_depth=8, max_features=10, min_samples_split=80, n_estimators=200; total time=   0.0s\n",
      "[CV] END max_depth=8, max_features=10, min_samples_split=80, n_estimators=200; total time=   0.0s\n",
      "[CV] END max_depth=8, max_features=10, min_samples_split=80, n_estimators=200; total time=   0.0s\n",
      "[CV] END max_depth=8, max_features=10, min_samples_split=80, n_estimators=200; total time=   0.0s\n",
      "[CV] END max_depth=8, max_features=10, min_samples_split=80, n_estimators=200; total time=   0.0s\n",
      "[CV] END max_depth=8, max_features=10, min_samples_split=80, n_estimators=500; total time=   0.2s\n",
      "[CV] END max_depth=8, max_features=10, min_samples_split=80, n_estimators=500; total time=   0.2s\n",
      "[CV] END max_depth=8, max_features=10, min_samples_split=80, n_estimators=500; total time=   0.2s\n",
      "[CV] END max_depth=8, max_features=10, min_samples_split=80, n_estimators=500; total time=   0.2s\n",
      "[CV] END max_depth=8, max_features=10, min_samples_split=80, n_estimators=500; total time=   0.2s\n",
      "[CV] END max_depth=8, max_features=10, min_samples_split=80, n_estimators=500; total time=   0.2s\n",
      "[CV] END max_depth=8, max_features=10, min_samples_split=80, n_estimators=500; total time=   0.2s\n",
      "[CV] END max_depth=8, max_features=10, min_samples_split=80, n_estimators=500; total time=   0.2s\n",
      "[CV] END max_depth=8, max_features=10, min_samples_split=80, n_estimators=500; total time=   0.2s\n",
      "[CV] END max_depth=8, max_features=10, min_samples_split=80, n_estimators=500; total time=   0.2s\n",
      "[CV] END max_depth=8, max_features=10, min_samples_split=80, n_estimators=1000; total time=   0.5s\n",
      "[CV] END max_depth=8, max_features=10, min_samples_split=80, n_estimators=1000; total time=   0.5s\n",
      "[CV] END max_depth=8, max_features=10, min_samples_split=80, n_estimators=1000; total time=   0.5s\n",
      "[CV] END max_depth=8, max_features=10, min_samples_split=80, n_estimators=1000; total time=   0.5s\n",
      "[CV] END max_depth=8, max_features=10, min_samples_split=80, n_estimators=1000; total time=   0.5s\n",
      "[CV] END max_depth=8, max_features=10, min_samples_split=80, n_estimators=1000; total time=   0.5s\n",
      "[CV] END max_depth=8, max_features=10, min_samples_split=80, n_estimators=1000; total time=   0.5s\n",
      "[CV] END max_depth=8, max_features=10, min_samples_split=80, n_estimators=1000; total time=   0.5s\n",
      "[CV] END max_depth=8, max_features=10, min_samples_split=80, n_estimators=1000; total time=   0.5s\n",
      "[CV] END max_depth=8, max_features=10, min_samples_split=80, n_estimators=1000; total time=   0.5s\n",
      "[CV] END max_depth=8, max_features=10, min_samples_split=80, n_estimators=2000; total time=   1.1s\n",
      "[CV] END max_depth=8, max_features=10, min_samples_split=80, n_estimators=2000; total time=   1.1s\n",
      "[CV] END max_depth=8, max_features=10, min_samples_split=80, n_estimators=2000; total time=   1.2s\n",
      "[CV] END max_depth=8, max_features=10, min_samples_split=80, n_estimators=2000; total time=   1.2s\n",
      "[CV] END max_depth=8, max_features=10, min_samples_split=80, n_estimators=2000; total time=   1.1s\n",
      "[CV] END max_depth=8, max_features=10, min_samples_split=80, n_estimators=2000; total time=   1.1s\n",
      "[CV] END max_depth=8, max_features=10, min_samples_split=80, n_estimators=2000; total time=   1.1s\n",
      "[CV] END max_depth=8, max_features=10, min_samples_split=80, n_estimators=2000; total time=   1.1s\n",
      "[CV] END max_depth=8, max_features=10, min_samples_split=80, n_estimators=2000; total time=   1.1s\n",
      "[CV] END max_depth=8, max_features=10, min_samples_split=80, n_estimators=2000; total time=   1.1s\n",
      "[CV] END max_depth=8, max_features=10, min_samples_split=100, n_estimators=200; total time=   0.0s\n",
      "[CV] END max_depth=8, max_features=10, min_samples_split=100, n_estimators=200; total time=   0.0s\n",
      "[CV] END max_depth=8, max_features=10, min_samples_split=100, n_estimators=200; total time=   0.0s\n",
      "[CV] END max_depth=8, max_features=10, min_samples_split=100, n_estimators=200; total time=   0.0s\n",
      "[CV] END max_depth=8, max_features=10, min_samples_split=100, n_estimators=200; total time=   0.0s\n",
      "[CV] END max_depth=8, max_features=10, min_samples_split=100, n_estimators=200; total time=   0.0s\n",
      "[CV] END max_depth=8, max_features=10, min_samples_split=100, n_estimators=200; total time=   0.0s\n",
      "[CV] END max_depth=8, max_features=10, min_samples_split=100, n_estimators=200; total time=   0.0s\n",
      "[CV] END max_depth=8, max_features=10, min_samples_split=100, n_estimators=200; total time=   0.0s\n",
      "[CV] END max_depth=8, max_features=10, min_samples_split=100, n_estimators=200; total time=   0.0s\n",
      "[CV] END max_depth=8, max_features=10, min_samples_split=100, n_estimators=500; total time=   0.2s\n",
      "[CV] END max_depth=8, max_features=10, min_samples_split=100, n_estimators=500; total time=   0.2s\n",
      "[CV] END max_depth=8, max_features=10, min_samples_split=100, n_estimators=500; total time=   0.2s\n",
      "[CV] END max_depth=8, max_features=10, min_samples_split=100, n_estimators=500; total time=   0.2s\n",
      "[CV] END max_depth=8, max_features=10, min_samples_split=100, n_estimators=500; total time=   0.2s\n",
      "[CV] END max_depth=8, max_features=10, min_samples_split=100, n_estimators=500; total time=   0.2s\n",
      "[CV] END max_depth=8, max_features=10, min_samples_split=100, n_estimators=500; total time=   0.2s\n",
      "[CV] END max_depth=8, max_features=10, min_samples_split=100, n_estimators=500; total time=   0.2s\n",
      "[CV] END max_depth=8, max_features=10, min_samples_split=100, n_estimators=500; total time=   0.2s\n",
      "[CV] END max_depth=8, max_features=10, min_samples_split=100, n_estimators=500; total time=   0.2s\n",
      "[CV] END max_depth=8, max_features=10, min_samples_split=100, n_estimators=1000; total time=   0.5s\n",
      "[CV] END max_depth=8, max_features=10, min_samples_split=100, n_estimators=1000; total time=   0.5s\n",
      "[CV] END max_depth=8, max_features=10, min_samples_split=100, n_estimators=1000; total time=   0.5s\n",
      "[CV] END max_depth=8, max_features=10, min_samples_split=100, n_estimators=1000; total time=   0.5s\n",
      "[CV] END max_depth=8, max_features=10, min_samples_split=100, n_estimators=1000; total time=   0.5s\n",
      "[CV] END max_depth=8, max_features=10, min_samples_split=100, n_estimators=1000; total time=   0.5s\n",
      "[CV] END max_depth=8, max_features=10, min_samples_split=100, n_estimators=1000; total time=   0.5s\n",
      "[CV] END max_depth=8, max_features=10, min_samples_split=100, n_estimators=1000; total time=   0.5s\n",
      "[CV] END max_depth=8, max_features=10, min_samples_split=100, n_estimators=1000; total time=   0.5s\n",
      "[CV] END max_depth=8, max_features=10, min_samples_split=100, n_estimators=1000; total time=   0.5s\n",
      "[CV] END max_depth=8, max_features=10, min_samples_split=100, n_estimators=2000; total time=   1.1s\n",
      "[CV] END max_depth=8, max_features=10, min_samples_split=100, n_estimators=2000; total time=   1.1s\n",
      "[CV] END max_depth=8, max_features=10, min_samples_split=100, n_estimators=2000; total time=   1.1s\n",
      "[CV] END max_depth=8, max_features=10, min_samples_split=100, n_estimators=2000; total time=   1.1s\n",
      "[CV] END max_depth=8, max_features=10, min_samples_split=100, n_estimators=2000; total time=   1.1s\n",
      "[CV] END max_depth=8, max_features=10, min_samples_split=100, n_estimators=2000; total time=   1.1s\n",
      "[CV] END max_depth=8, max_features=10, min_samples_split=100, n_estimators=2000; total time=   1.1s\n",
      "[CV] END max_depth=8, max_features=10, min_samples_split=100, n_estimators=2000; total time=   1.1s\n",
      "[CV] END max_depth=8, max_features=10, min_samples_split=100, n_estimators=2000; total time=   1.1s\n",
      "[CV] END max_depth=8, max_features=10, min_samples_split=100, n_estimators=2000; total time=   1.1s\n",
      "[CV] END max_depth=10, max_features=2, min_samples_split=2, n_estimators=200; total time=   0.0s\n",
      "[CV] END max_depth=10, max_features=2, min_samples_split=2, n_estimators=200; total time=   0.0s\n",
      "[CV] END max_depth=10, max_features=2, min_samples_split=2, n_estimators=200; total time=   0.0s\n",
      "[CV] END max_depth=10, max_features=2, min_samples_split=2, n_estimators=200; total time=   0.0s\n",
      "[CV] END max_depth=10, max_features=2, min_samples_split=2, n_estimators=200; total time=   0.0s\n",
      "[CV] END max_depth=10, max_features=2, min_samples_split=2, n_estimators=200; total time=   0.0s\n",
      "[CV] END max_depth=10, max_features=2, min_samples_split=2, n_estimators=200; total time=   0.1s\n",
      "[CV] END max_depth=10, max_features=2, min_samples_split=2, n_estimators=200; total time=   0.0s\n",
      "[CV] END max_depth=10, max_features=2, min_samples_split=2, n_estimators=200; total time=   0.0s\n",
      "[CV] END max_depth=10, max_features=2, min_samples_split=2, n_estimators=200; total time=   0.0s\n",
      "[CV] END max_depth=10, max_features=2, min_samples_split=2, n_estimators=500; total time=   0.3s\n",
      "[CV] END max_depth=10, max_features=2, min_samples_split=2, n_estimators=500; total time=   0.2s\n",
      "[CV] END max_depth=10, max_features=2, min_samples_split=2, n_estimators=500; total time=   0.2s\n",
      "[CV] END max_depth=10, max_features=2, min_samples_split=2, n_estimators=500; total time=   0.2s\n",
      "[CV] END max_depth=10, max_features=2, min_samples_split=2, n_estimators=500; total time=   0.2s\n",
      "[CV] END max_depth=10, max_features=2, min_samples_split=2, n_estimators=500; total time=   0.2s\n",
      "[CV] END max_depth=10, max_features=2, min_samples_split=2, n_estimators=500; total time=   0.2s\n",
      "[CV] END max_depth=10, max_features=2, min_samples_split=2, n_estimators=500; total time=   0.2s\n",
      "[CV] END max_depth=10, max_features=2, min_samples_split=2, n_estimators=500; total time=   0.2s\n",
      "[CV] END max_depth=10, max_features=2, min_samples_split=2, n_estimators=500; total time=   0.2s\n",
      "[CV] END max_depth=10, max_features=2, min_samples_split=2, n_estimators=1000; total time=   0.6s\n",
      "[CV] END max_depth=10, max_features=2, min_samples_split=2, n_estimators=1000; total time=   0.6s\n",
      "[CV] END max_depth=10, max_features=2, min_samples_split=2, n_estimators=1000; total time=   0.6s\n",
      "[CV] END max_depth=10, max_features=2, min_samples_split=2, n_estimators=1000; total time=   0.6s\n",
      "[CV] END max_depth=10, max_features=2, min_samples_split=2, n_estimators=1000; total time=   0.6s\n",
      "[CV] END max_depth=10, max_features=2, min_samples_split=2, n_estimators=1000; total time=   0.6s\n",
      "[CV] END max_depth=10, max_features=2, min_samples_split=2, n_estimators=1000; total time=   0.6s\n",
      "[CV] END max_depth=10, max_features=2, min_samples_split=2, n_estimators=1000; total time=   0.6s\n",
      "[CV] END max_depth=10, max_features=2, min_samples_split=2, n_estimators=1000; total time=   0.6s\n",
      "[CV] END max_depth=10, max_features=2, min_samples_split=2, n_estimators=1000; total time=   0.6s\n",
      "[CV] END max_depth=10, max_features=2, min_samples_split=2, n_estimators=2000; total time=   1.3s\n",
      "[CV] END max_depth=10, max_features=2, min_samples_split=2, n_estimators=2000; total time=   1.3s\n",
      "[CV] END max_depth=10, max_features=2, min_samples_split=2, n_estimators=2000; total time=   1.3s\n",
      "[CV] END max_depth=10, max_features=2, min_samples_split=2, n_estimators=2000; total time=   1.3s\n",
      "[CV] END max_depth=10, max_features=2, min_samples_split=2, n_estimators=2000; total time=   1.3s\n",
      "[CV] END max_depth=10, max_features=2, min_samples_split=2, n_estimators=2000; total time=   1.4s\n",
      "[CV] END max_depth=10, max_features=2, min_samples_split=2, n_estimators=2000; total time=   1.3s\n",
      "[CV] END max_depth=10, max_features=2, min_samples_split=2, n_estimators=2000; total time=   1.3s\n",
      "[CV] END max_depth=10, max_features=2, min_samples_split=2, n_estimators=2000; total time=   1.2s\n",
      "[CV] END max_depth=10, max_features=2, min_samples_split=2, n_estimators=2000; total time=   1.3s\n",
      "[CV] END max_depth=10, max_features=2, min_samples_split=10, n_estimators=200; total time=   0.0s\n",
      "[CV] END max_depth=10, max_features=2, min_samples_split=10, n_estimators=200; total time=   0.0s\n",
      "[CV] END max_depth=10, max_features=2, min_samples_split=10, n_estimators=200; total time=   0.0s\n",
      "[CV] END max_depth=10, max_features=2, min_samples_split=10, n_estimators=200; total time=   0.0s\n",
      "[CV] END max_depth=10, max_features=2, min_samples_split=10, n_estimators=200; total time=   0.0s\n",
      "[CV] END max_depth=10, max_features=2, min_samples_split=10, n_estimators=200; total time=   0.0s\n",
      "[CV] END max_depth=10, max_features=2, min_samples_split=10, n_estimators=200; total time=   0.0s\n",
      "[CV] END max_depth=10, max_features=2, min_samples_split=10, n_estimators=200; total time=   0.0s\n",
      "[CV] END max_depth=10, max_features=2, min_samples_split=10, n_estimators=200; total time=   0.0s\n",
      "[CV] END max_depth=10, max_features=2, min_samples_split=10, n_estimators=200; total time=   0.0s\n",
      "[CV] END max_depth=10, max_features=2, min_samples_split=10, n_estimators=500; total time=   0.2s\n",
      "[CV] END max_depth=10, max_features=2, min_samples_split=10, n_estimators=500; total time=   0.2s\n",
      "[CV] END max_depth=10, max_features=2, min_samples_split=10, n_estimators=500; total time=   0.2s\n",
      "[CV] END max_depth=10, max_features=2, min_samples_split=10, n_estimators=500; total time=   0.2s\n",
      "[CV] END max_depth=10, max_features=2, min_samples_split=10, n_estimators=500; total time=   0.2s\n",
      "[CV] END max_depth=10, max_features=2, min_samples_split=10, n_estimators=500; total time=   0.2s\n",
      "[CV] END max_depth=10, max_features=2, min_samples_split=10, n_estimators=500; total time=   0.2s\n",
      "[CV] END max_depth=10, max_features=2, min_samples_split=10, n_estimators=500; total time=   0.2s\n",
      "[CV] END max_depth=10, max_features=2, min_samples_split=10, n_estimators=500; total time=   0.2s\n",
      "[CV] END max_depth=10, max_features=2, min_samples_split=10, n_estimators=500; total time=   0.2s\n",
      "[CV] END max_depth=10, max_features=2, min_samples_split=10, n_estimators=1000; total time=   0.5s\n",
      "[CV] END max_depth=10, max_features=2, min_samples_split=10, n_estimators=1000; total time=   0.5s\n",
      "[CV] END max_depth=10, max_features=2, min_samples_split=10, n_estimators=1000; total time=   0.5s\n",
      "[CV] END max_depth=10, max_features=2, min_samples_split=10, n_estimators=1000; total time=   0.5s\n",
      "[CV] END max_depth=10, max_features=2, min_samples_split=10, n_estimators=1000; total time=   0.5s\n",
      "[CV] END max_depth=10, max_features=2, min_samples_split=10, n_estimators=1000; total time=   0.5s\n",
      "[CV] END max_depth=10, max_features=2, min_samples_split=10, n_estimators=1000; total time=   0.5s\n",
      "[CV] END max_depth=10, max_features=2, min_samples_split=10, n_estimators=1000; total time=   0.5s\n",
      "[CV] END max_depth=10, max_features=2, min_samples_split=10, n_estimators=1000; total time=   0.5s\n",
      "[CV] END max_depth=10, max_features=2, min_samples_split=10, n_estimators=1000; total time=   0.5s\n",
      "[CV] END max_depth=10, max_features=2, min_samples_split=10, n_estimators=2000; total time=   1.1s\n",
      "[CV] END max_depth=10, max_features=2, min_samples_split=10, n_estimators=2000; total time=   1.2s\n",
      "[CV] END max_depth=10, max_features=2, min_samples_split=10, n_estimators=2000; total time=   1.1s\n",
      "[CV] END max_depth=10, max_features=2, min_samples_split=10, n_estimators=2000; total time=   1.1s\n",
      "[CV] END max_depth=10, max_features=2, min_samples_split=10, n_estimators=2000; total time=   1.1s\n",
      "[CV] END max_depth=10, max_features=2, min_samples_split=10, n_estimators=2000; total time=   1.1s\n",
      "[CV] END max_depth=10, max_features=2, min_samples_split=10, n_estimators=2000; total time=   1.1s\n",
      "[CV] END max_depth=10, max_features=2, min_samples_split=10, n_estimators=2000; total time=   1.1s\n",
      "[CV] END max_depth=10, max_features=2, min_samples_split=10, n_estimators=2000; total time=   1.1s\n",
      "[CV] END max_depth=10, max_features=2, min_samples_split=10, n_estimators=2000; total time=   1.1s\n",
      "[CV] END max_depth=10, max_features=2, min_samples_split=80, n_estimators=200; total time=   0.0s\n",
      "[CV] END max_depth=10, max_features=2, min_samples_split=80, n_estimators=200; total time=   0.0s\n",
      "[CV] END max_depth=10, max_features=2, min_samples_split=80, n_estimators=200; total time=   0.0s\n",
      "[CV] END max_depth=10, max_features=2, min_samples_split=80, n_estimators=200; total time=   0.0s\n",
      "[CV] END max_depth=10, max_features=2, min_samples_split=80, n_estimators=200; total time=   0.0s\n",
      "[CV] END max_depth=10, max_features=2, min_samples_split=80, n_estimators=200; total time=   0.0s\n",
      "[CV] END max_depth=10, max_features=2, min_samples_split=80, n_estimators=200; total time=   0.0s\n",
      "[CV] END max_depth=10, max_features=2, min_samples_split=80, n_estimators=200; total time=   0.0s\n",
      "[CV] END max_depth=10, max_features=2, min_samples_split=80, n_estimators=200; total time=   0.0s\n",
      "[CV] END max_depth=10, max_features=2, min_samples_split=80, n_estimators=200; total time=   0.0s\n",
      "[CV] END max_depth=10, max_features=2, min_samples_split=80, n_estimators=500; total time=   0.2s\n",
      "[CV] END max_depth=10, max_features=2, min_samples_split=80, n_estimators=500; total time=   0.2s\n",
      "[CV] END max_depth=10, max_features=2, min_samples_split=80, n_estimators=500; total time=   0.2s\n",
      "[CV] END max_depth=10, max_features=2, min_samples_split=80, n_estimators=500; total time=   0.2s\n",
      "[CV] END max_depth=10, max_features=2, min_samples_split=80, n_estimators=500; total time=   0.2s\n",
      "[CV] END max_depth=10, max_features=2, min_samples_split=80, n_estimators=500; total time=   0.2s\n",
      "[CV] END max_depth=10, max_features=2, min_samples_split=80, n_estimators=500; total time=   0.2s\n",
      "[CV] END max_depth=10, max_features=2, min_samples_split=80, n_estimators=500; total time=   0.2s\n",
      "[CV] END max_depth=10, max_features=2, min_samples_split=80, n_estimators=500; total time=   0.2s\n",
      "[CV] END max_depth=10, max_features=2, min_samples_split=80, n_estimators=500; total time=   0.2s\n",
      "[CV] END max_depth=10, max_features=2, min_samples_split=80, n_estimators=1000; total time=   0.5s\n",
      "[CV] END max_depth=10, max_features=2, min_samples_split=80, n_estimators=1000; total time=   0.4s\n",
      "[CV] END max_depth=10, max_features=2, min_samples_split=80, n_estimators=1000; total time=   0.4s\n",
      "[CV] END max_depth=10, max_features=2, min_samples_split=80, n_estimators=1000; total time=   0.5s\n",
      "[CV] END max_depth=10, max_features=2, min_samples_split=80, n_estimators=1000; total time=   0.5s\n",
      "[CV] END max_depth=10, max_features=2, min_samples_split=80, n_estimators=1000; total time=   0.4s\n",
      "[CV] END max_depth=10, max_features=2, min_samples_split=80, n_estimators=1000; total time=   0.5s\n",
      "[CV] END max_depth=10, max_features=2, min_samples_split=80, n_estimators=1000; total time=   0.5s\n",
      "[CV] END max_depth=10, max_features=2, min_samples_split=80, n_estimators=1000; total time=   0.4s\n",
      "[CV] END max_depth=10, max_features=2, min_samples_split=80, n_estimators=1000; total time=   0.5s\n",
      "[CV] END max_depth=10, max_features=2, min_samples_split=80, n_estimators=2000; total time=   1.0s\n",
      "[CV] END max_depth=10, max_features=2, min_samples_split=80, n_estimators=2000; total time=   1.0s\n",
      "[CV] END max_depth=10, max_features=2, min_samples_split=80, n_estimators=2000; total time=   1.0s\n",
      "[CV] END max_depth=10, max_features=2, min_samples_split=80, n_estimators=2000; total time=   1.0s\n",
      "[CV] END max_depth=10, max_features=2, min_samples_split=80, n_estimators=2000; total time=   1.0s\n",
      "[CV] END max_depth=10, max_features=2, min_samples_split=80, n_estimators=2000; total time=   1.0s\n",
      "[CV] END max_depth=10, max_features=2, min_samples_split=80, n_estimators=2000; total time=   1.0s\n",
      "[CV] END max_depth=10, max_features=2, min_samples_split=80, n_estimators=2000; total time=   1.0s\n",
      "[CV] END max_depth=10, max_features=2, min_samples_split=80, n_estimators=2000; total time=   1.1s\n",
      "[CV] END max_depth=10, max_features=2, min_samples_split=80, n_estimators=2000; total time=   1.0s\n",
      "[CV] END max_depth=10, max_features=2, min_samples_split=100, n_estimators=200; total time=   0.0s\n",
      "[CV] END max_depth=10, max_features=2, min_samples_split=100, n_estimators=200; total time=   0.0s\n",
      "[CV] END max_depth=10, max_features=2, min_samples_split=100, n_estimators=200; total time=   0.0s\n",
      "[CV] END max_depth=10, max_features=2, min_samples_split=100, n_estimators=200; total time=   0.0s\n",
      "[CV] END max_depth=10, max_features=2, min_samples_split=100, n_estimators=200; total time=   0.0s\n",
      "[CV] END max_depth=10, max_features=2, min_samples_split=100, n_estimators=200; total time=   0.0s\n",
      "[CV] END max_depth=10, max_features=2, min_samples_split=100, n_estimators=200; total time=   0.0s\n",
      "[CV] END max_depth=10, max_features=2, min_samples_split=100, n_estimators=200; total time=   0.0s\n",
      "[CV] END max_depth=10, max_features=2, min_samples_split=100, n_estimators=200; total time=   0.0s\n",
      "[CV] END max_depth=10, max_features=2, min_samples_split=100, n_estimators=200; total time=   0.0s\n",
      "[CV] END max_depth=10, max_features=2, min_samples_split=100, n_estimators=500; total time=   0.2s\n",
      "[CV] END max_depth=10, max_features=2, min_samples_split=100, n_estimators=500; total time=   0.2s\n",
      "[CV] END max_depth=10, max_features=2, min_samples_split=100, n_estimators=500; total time=   0.2s\n",
      "[CV] END max_depth=10, max_features=2, min_samples_split=100, n_estimators=500; total time=   0.2s\n",
      "[CV] END max_depth=10, max_features=2, min_samples_split=100, n_estimators=500; total time=   0.2s\n",
      "[CV] END max_depth=10, max_features=2, min_samples_split=100, n_estimators=500; total time=   0.2s\n",
      "[CV] END max_depth=10, max_features=2, min_samples_split=100, n_estimators=500; total time=   0.2s\n",
      "[CV] END max_depth=10, max_features=2, min_samples_split=100, n_estimators=500; total time=   0.2s\n",
      "[CV] END max_depth=10, max_features=2, min_samples_split=100, n_estimators=500; total time=   0.2s\n",
      "[CV] END max_depth=10, max_features=2, min_samples_split=100, n_estimators=500; total time=   0.2s\n",
      "[CV] END max_depth=10, max_features=2, min_samples_split=100, n_estimators=1000; total time=   0.5s\n",
      "[CV] END max_depth=10, max_features=2, min_samples_split=100, n_estimators=1000; total time=   0.4s\n",
      "[CV] END max_depth=10, max_features=2, min_samples_split=100, n_estimators=1000; total time=   0.4s\n",
      "[CV] END max_depth=10, max_features=2, min_samples_split=100, n_estimators=1000; total time=   0.5s\n",
      "[CV] END max_depth=10, max_features=2, min_samples_split=100, n_estimators=1000; total time=   0.5s\n",
      "[CV] END max_depth=10, max_features=2, min_samples_split=100, n_estimators=1000; total time=   0.5s\n",
      "[CV] END max_depth=10, max_features=2, min_samples_split=100, n_estimators=1000; total time=   0.5s\n",
      "[CV] END max_depth=10, max_features=2, min_samples_split=100, n_estimators=1000; total time=   0.5s\n",
      "[CV] END max_depth=10, max_features=2, min_samples_split=100, n_estimators=1000; total time=   0.5s\n",
      "[CV] END max_depth=10, max_features=2, min_samples_split=100, n_estimators=1000; total time=   0.5s\n",
      "[CV] END max_depth=10, max_features=2, min_samples_split=100, n_estimators=2000; total time=   1.0s\n",
      "[CV] END max_depth=10, max_features=2, min_samples_split=100, n_estimators=2000; total time=   1.0s\n",
      "[CV] END max_depth=10, max_features=2, min_samples_split=100, n_estimators=2000; total time=   1.0s\n",
      "[CV] END max_depth=10, max_features=2, min_samples_split=100, n_estimators=2000; total time=   1.0s\n",
      "[CV] END max_depth=10, max_features=2, min_samples_split=100, n_estimators=2000; total time=   1.1s\n",
      "[CV] END max_depth=10, max_features=2, min_samples_split=100, n_estimators=2000; total time=   1.0s\n",
      "[CV] END max_depth=10, max_features=2, min_samples_split=100, n_estimators=2000; total time=   1.0s\n",
      "[CV] END max_depth=10, max_features=2, min_samples_split=100, n_estimators=2000; total time=   1.0s\n",
      "[CV] END max_depth=10, max_features=2, min_samples_split=100, n_estimators=2000; total time=   1.0s\n",
      "[CV] END max_depth=10, max_features=2, min_samples_split=100, n_estimators=2000; total time=   1.0s\n",
      "[CV] END max_depth=10, max_features=5, min_samples_split=2, n_estimators=200; total time=   0.0s\n",
      "[CV] END max_depth=10, max_features=5, min_samples_split=2, n_estimators=200; total time=   0.0s\n",
      "[CV] END max_depth=10, max_features=5, min_samples_split=2, n_estimators=200; total time=   0.0s\n",
      "[CV] END max_depth=10, max_features=5, min_samples_split=2, n_estimators=200; total time=   0.0s\n",
      "[CV] END max_depth=10, max_features=5, min_samples_split=2, n_estimators=200; total time=   0.0s\n",
      "[CV] END max_depth=10, max_features=5, min_samples_split=2, n_estimators=200; total time=   0.0s\n",
      "[CV] END max_depth=10, max_features=5, min_samples_split=2, n_estimators=200; total time=   0.0s\n",
      "[CV] END max_depth=10, max_features=5, min_samples_split=2, n_estimators=200; total time=   0.0s\n",
      "[CV] END max_depth=10, max_features=5, min_samples_split=2, n_estimators=200; total time=   0.0s\n",
      "[CV] END max_depth=10, max_features=5, min_samples_split=2, n_estimators=200; total time=   0.0s\n",
      "[CV] END max_depth=10, max_features=5, min_samples_split=2, n_estimators=500; total time=   0.3s\n",
      "[CV] END max_depth=10, max_features=5, min_samples_split=2, n_estimators=500; total time=   0.3s\n",
      "[CV] END max_depth=10, max_features=5, min_samples_split=2, n_estimators=500; total time=   0.3s\n",
      "[CV] END max_depth=10, max_features=5, min_samples_split=2, n_estimators=500; total time=   0.3s\n",
      "[CV] END max_depth=10, max_features=5, min_samples_split=2, n_estimators=500; total time=   0.3s\n",
      "[CV] END max_depth=10, max_features=5, min_samples_split=2, n_estimators=500; total time=   0.3s\n",
      "[CV] END max_depth=10, max_features=5, min_samples_split=2, n_estimators=500; total time=   0.3s\n",
      "[CV] END max_depth=10, max_features=5, min_samples_split=2, n_estimators=500; total time=   0.3s\n",
      "[CV] END max_depth=10, max_features=5, min_samples_split=2, n_estimators=500; total time=   0.3s\n",
      "[CV] END max_depth=10, max_features=5, min_samples_split=2, n_estimators=500; total time=   0.3s\n",
      "[CV] END max_depth=10, max_features=5, min_samples_split=2, n_estimators=1000; total time=   0.6s\n",
      "[CV] END max_depth=10, max_features=5, min_samples_split=2, n_estimators=1000; total time=   0.6s\n",
      "[CV] END max_depth=10, max_features=5, min_samples_split=2, n_estimators=1000; total time=   0.6s\n",
      "[CV] END max_depth=10, max_features=5, min_samples_split=2, n_estimators=1000; total time=   0.6s\n",
      "[CV] END max_depth=10, max_features=5, min_samples_split=2, n_estimators=1000; total time=   0.6s\n",
      "[CV] END max_depth=10, max_features=5, min_samples_split=2, n_estimators=1000; total time=   0.6s\n",
      "[CV] END max_depth=10, max_features=5, min_samples_split=2, n_estimators=1000; total time=   0.6s\n",
      "[CV] END max_depth=10, max_features=5, min_samples_split=2, n_estimators=1000; total time=   0.7s\n",
      "[CV] END max_depth=10, max_features=5, min_samples_split=2, n_estimators=1000; total time=   0.7s\n",
      "[CV] END max_depth=10, max_features=5, min_samples_split=2, n_estimators=1000; total time=   0.6s\n",
      "[CV] END max_depth=10, max_features=5, min_samples_split=2, n_estimators=2000; total time=   1.4s\n",
      "[CV] END max_depth=10, max_features=5, min_samples_split=2, n_estimators=2000; total time=   1.4s\n",
      "[CV] END max_depth=10, max_features=5, min_samples_split=2, n_estimators=2000; total time=   1.4s\n",
      "[CV] END max_depth=10, max_features=5, min_samples_split=2, n_estimators=2000; total time=   1.4s\n",
      "[CV] END max_depth=10, max_features=5, min_samples_split=2, n_estimators=2000; total time=   1.4s\n",
      "[CV] END max_depth=10, max_features=5, min_samples_split=2, n_estimators=2000; total time=   1.4s\n",
      "[CV] END max_depth=10, max_features=5, min_samples_split=2, n_estimators=2000; total time=   1.4s\n",
      "[CV] END max_depth=10, max_features=5, min_samples_split=2, n_estimators=2000; total time=   1.4s\n",
      "[CV] END max_depth=10, max_features=5, min_samples_split=2, n_estimators=2000; total time=   1.3s\n",
      "[CV] END max_depth=10, max_features=5, min_samples_split=2, n_estimators=2000; total time=   1.3s\n",
      "[CV] END max_depth=10, max_features=5, min_samples_split=10, n_estimators=200; total time=   0.0s\n",
      "[CV] END max_depth=10, max_features=5, min_samples_split=10, n_estimators=200; total time=   0.0s\n",
      "[CV] END max_depth=10, max_features=5, min_samples_split=10, n_estimators=200; total time=   0.0s\n",
      "[CV] END max_depth=10, max_features=5, min_samples_split=10, n_estimators=200; total time=   0.0s\n",
      "[CV] END max_depth=10, max_features=5, min_samples_split=10, n_estimators=200; total time=   0.0s\n",
      "[CV] END max_depth=10, max_features=5, min_samples_split=10, n_estimators=200; total time=   0.0s\n",
      "[CV] END max_depth=10, max_features=5, min_samples_split=10, n_estimators=200; total time=   0.0s\n",
      "[CV] END max_depth=10, max_features=5, min_samples_split=10, n_estimators=200; total time=   0.0s\n",
      "[CV] END max_depth=10, max_features=5, min_samples_split=10, n_estimators=200; total time=   0.0s\n",
      "[CV] END max_depth=10, max_features=5, min_samples_split=10, n_estimators=200; total time=   0.0s\n",
      "[CV] END max_depth=10, max_features=5, min_samples_split=10, n_estimators=500; total time=   0.2s\n",
      "[CV] END max_depth=10, max_features=5, min_samples_split=10, n_estimators=500; total time=   0.2s\n",
      "[CV] END max_depth=10, max_features=5, min_samples_split=10, n_estimators=500; total time=   0.2s\n",
      "[CV] END max_depth=10, max_features=5, min_samples_split=10, n_estimators=500; total time=   0.2s\n",
      "[CV] END max_depth=10, max_features=5, min_samples_split=10, n_estimators=500; total time=   0.2s\n",
      "[CV] END max_depth=10, max_features=5, min_samples_split=10, n_estimators=500; total time=   0.2s\n",
      "[CV] END max_depth=10, max_features=5, min_samples_split=10, n_estimators=500; total time=   0.2s\n",
      "[CV] END max_depth=10, max_features=5, min_samples_split=10, n_estimators=500; total time=   0.2s\n",
      "[CV] END max_depth=10, max_features=5, min_samples_split=10, n_estimators=500; total time=   0.3s\n",
      "[CV] END max_depth=10, max_features=5, min_samples_split=10, n_estimators=500; total time=   0.2s\n",
      "[CV] END max_depth=10, max_features=5, min_samples_split=10, n_estimators=1000; total time=   0.6s\n",
      "[CV] END max_depth=10, max_features=5, min_samples_split=10, n_estimators=1000; total time=   0.6s\n",
      "[CV] END max_depth=10, max_features=5, min_samples_split=10, n_estimators=1000; total time=   0.6s\n",
      "[CV] END max_depth=10, max_features=5, min_samples_split=10, n_estimators=1000; total time=   0.6s\n",
      "[CV] END max_depth=10, max_features=5, min_samples_split=10, n_estimators=1000; total time=   0.6s\n",
      "[CV] END max_depth=10, max_features=5, min_samples_split=10, n_estimators=1000; total time=   0.6s\n",
      "[CV] END max_depth=10, max_features=5, min_samples_split=10, n_estimators=1000; total time=   0.6s\n",
      "[CV] END max_depth=10, max_features=5, min_samples_split=10, n_estimators=1000; total time=   0.6s\n",
      "[CV] END max_depth=10, max_features=5, min_samples_split=10, n_estimators=1000; total time=   0.6s\n",
      "[CV] END max_depth=10, max_features=5, min_samples_split=10, n_estimators=1000; total time=   0.6s\n",
      "[CV] END max_depth=10, max_features=5, min_samples_split=10, n_estimators=2000; total time=   1.3s\n",
      "[CV] END max_depth=10, max_features=5, min_samples_split=10, n_estimators=2000; total time=   1.3s\n",
      "[CV] END max_depth=10, max_features=5, min_samples_split=10, n_estimators=2000; total time=   1.3s\n",
      "[CV] END max_depth=10, max_features=5, min_samples_split=10, n_estimators=2000; total time=   1.3s\n",
      "[CV] END max_depth=10, max_features=5, min_samples_split=10, n_estimators=2000; total time=   1.3s\n",
      "[CV] END max_depth=10, max_features=5, min_samples_split=10, n_estimators=2000; total time=   1.3s\n",
      "[CV] END max_depth=10, max_features=5, min_samples_split=10, n_estimators=2000; total time=   1.3s\n",
      "[CV] END max_depth=10, max_features=5, min_samples_split=10, n_estimators=2000; total time=   1.3s\n",
      "[CV] END max_depth=10, max_features=5, min_samples_split=10, n_estimators=2000; total time=   1.3s\n",
      "[CV] END max_depth=10, max_features=5, min_samples_split=10, n_estimators=2000; total time=   1.3s\n",
      "[CV] END max_depth=10, max_features=5, min_samples_split=80, n_estimators=200; total time=   0.0s\n",
      "[CV] END max_depth=10, max_features=5, min_samples_split=80, n_estimators=200; total time=   0.0s\n",
      "[CV] END max_depth=10, max_features=5, min_samples_split=80, n_estimators=200; total time=   0.0s\n",
      "[CV] END max_depth=10, max_features=5, min_samples_split=80, n_estimators=200; total time=   0.0s\n",
      "[CV] END max_depth=10, max_features=5, min_samples_split=80, n_estimators=200; total time=   0.0s\n",
      "[CV] END max_depth=10, max_features=5, min_samples_split=80, n_estimators=200; total time=   0.0s\n",
      "[CV] END max_depth=10, max_features=5, min_samples_split=80, n_estimators=200; total time=   0.0s\n",
      "[CV] END max_depth=10, max_features=5, min_samples_split=80, n_estimators=200; total time=   0.0s\n",
      "[CV] END max_depth=10, max_features=5, min_samples_split=80, n_estimators=200; total time=   0.0s\n",
      "[CV] END max_depth=10, max_features=5, min_samples_split=80, n_estimators=200; total time=   0.0s\n",
      "[CV] END max_depth=10, max_features=5, min_samples_split=80, n_estimators=500; total time=   0.2s\n",
      "[CV] END max_depth=10, max_features=5, min_samples_split=80, n_estimators=500; total time=   0.2s\n",
      "[CV] END max_depth=10, max_features=5, min_samples_split=80, n_estimators=500; total time=   0.2s\n",
      "[CV] END max_depth=10, max_features=5, min_samples_split=80, n_estimators=500; total time=   0.2s\n",
      "[CV] END max_depth=10, max_features=5, min_samples_split=80, n_estimators=500; total time=   0.2s\n",
      "[CV] END max_depth=10, max_features=5, min_samples_split=80, n_estimators=500; total time=   0.2s\n",
      "[CV] END max_depth=10, max_features=5, min_samples_split=80, n_estimators=500; total time=   0.2s\n",
      "[CV] END max_depth=10, max_features=5, min_samples_split=80, n_estimators=500; total time=   0.2s\n",
      "[CV] END max_depth=10, max_features=5, min_samples_split=80, n_estimators=500; total time=   0.2s\n",
      "[CV] END max_depth=10, max_features=5, min_samples_split=80, n_estimators=500; total time=   0.2s\n",
      "[CV] END max_depth=10, max_features=5, min_samples_split=80, n_estimators=1000; total time=   0.5s\n",
      "[CV] END max_depth=10, max_features=5, min_samples_split=80, n_estimators=1000; total time=   0.5s\n",
      "[CV] END max_depth=10, max_features=5, min_samples_split=80, n_estimators=1000; total time=   0.5s\n",
      "[CV] END max_depth=10, max_features=5, min_samples_split=80, n_estimators=1000; total time=   0.5s\n",
      "[CV] END max_depth=10, max_features=5, min_samples_split=80, n_estimators=1000; total time=   0.5s\n",
      "[CV] END max_depth=10, max_features=5, min_samples_split=80, n_estimators=1000; total time=   0.5s\n",
      "[CV] END max_depth=10, max_features=5, min_samples_split=80, n_estimators=1000; total time=   0.5s\n",
      "[CV] END max_depth=10, max_features=5, min_samples_split=80, n_estimators=1000; total time=   0.5s\n",
      "[CV] END max_depth=10, max_features=5, min_samples_split=80, n_estimators=1000; total time=   0.5s\n",
      "[CV] END max_depth=10, max_features=5, min_samples_split=80, n_estimators=1000; total time=   0.5s\n",
      "[CV] END max_depth=10, max_features=5, min_samples_split=80, n_estimators=2000; total time=   1.1s\n",
      "[CV] END max_depth=10, max_features=5, min_samples_split=80, n_estimators=2000; total time=   1.1s\n",
      "[CV] END max_depth=10, max_features=5, min_samples_split=80, n_estimators=2000; total time=   1.1s\n",
      "[CV] END max_depth=10, max_features=5, min_samples_split=80, n_estimators=2000; total time=   1.1s\n",
      "[CV] END max_depth=10, max_features=5, min_samples_split=80, n_estimators=2000; total time=   1.1s\n",
      "[CV] END max_depth=10, max_features=5, min_samples_split=80, n_estimators=2000; total time=   1.1s\n",
      "[CV] END max_depth=10, max_features=5, min_samples_split=80, n_estimators=2000; total time=   1.1s\n",
      "[CV] END max_depth=10, max_features=5, min_samples_split=80, n_estimators=2000; total time=   1.0s\n",
      "[CV] END max_depth=10, max_features=5, min_samples_split=80, n_estimators=2000; total time=   1.0s\n",
      "[CV] END max_depth=10, max_features=5, min_samples_split=80, n_estimators=2000; total time=   1.1s\n",
      "[CV] END max_depth=10, max_features=5, min_samples_split=100, n_estimators=200; total time=   0.0s\n",
      "[CV] END max_depth=10, max_features=5, min_samples_split=100, n_estimators=200; total time=   0.0s\n",
      "[CV] END max_depth=10, max_features=5, min_samples_split=100, n_estimators=200; total time=   0.0s\n",
      "[CV] END max_depth=10, max_features=5, min_samples_split=100, n_estimators=200; total time=   0.0s\n",
      "[CV] END max_depth=10, max_features=5, min_samples_split=100, n_estimators=200; total time=   0.0s\n",
      "[CV] END max_depth=10, max_features=5, min_samples_split=100, n_estimators=200; total time=   0.0s\n",
      "[CV] END max_depth=10, max_features=5, min_samples_split=100, n_estimators=200; total time=   0.0s\n",
      "[CV] END max_depth=10, max_features=5, min_samples_split=100, n_estimators=200; total time=   0.0s\n",
      "[CV] END max_depth=10, max_features=5, min_samples_split=100, n_estimators=200; total time=   0.0s\n",
      "[CV] END max_depth=10, max_features=5, min_samples_split=100, n_estimators=200; total time=   0.0s\n",
      "[CV] END max_depth=10, max_features=5, min_samples_split=100, n_estimators=500; total time=   0.2s\n",
      "[CV] END max_depth=10, max_features=5, min_samples_split=100, n_estimators=500; total time=   0.2s\n",
      "[CV] END max_depth=10, max_features=5, min_samples_split=100, n_estimators=500; total time=   0.2s\n",
      "[CV] END max_depth=10, max_features=5, min_samples_split=100, n_estimators=500; total time=   0.2s\n",
      "[CV] END max_depth=10, max_features=5, min_samples_split=100, n_estimators=500; total time=   0.2s\n",
      "[CV] END max_depth=10, max_features=5, min_samples_split=100, n_estimators=500; total time=   0.2s\n",
      "[CV] END max_depth=10, max_features=5, min_samples_split=100, n_estimators=500; total time=   0.2s\n",
      "[CV] END max_depth=10, max_features=5, min_samples_split=100, n_estimators=500; total time=   0.2s\n",
      "[CV] END max_depth=10, max_features=5, min_samples_split=100, n_estimators=500; total time=   0.2s\n",
      "[CV] END max_depth=10, max_features=5, min_samples_split=100, n_estimators=500; total time=   0.2s\n",
      "[CV] END max_depth=10, max_features=5, min_samples_split=100, n_estimators=1000; total time=   0.6s\n",
      "[CV] END max_depth=10, max_features=5, min_samples_split=100, n_estimators=1000; total time=   0.5s\n",
      "[CV] END max_depth=10, max_features=5, min_samples_split=100, n_estimators=1000; total time=   0.5s\n",
      "[CV] END max_depth=10, max_features=5, min_samples_split=100, n_estimators=1000; total time=   0.5s\n",
      "[CV] END max_depth=10, max_features=5, min_samples_split=100, n_estimators=1000; total time=   0.5s\n",
      "[CV] END max_depth=10, max_features=5, min_samples_split=100, n_estimators=1000; total time=   0.5s\n",
      "[CV] END max_depth=10, max_features=5, min_samples_split=100, n_estimators=1000; total time=   0.5s\n",
      "[CV] END max_depth=10, max_features=5, min_samples_split=100, n_estimators=1000; total time=   0.5s\n",
      "[CV] END max_depth=10, max_features=5, min_samples_split=100, n_estimators=1000; total time=   0.5s\n",
      "[CV] END max_depth=10, max_features=5, min_samples_split=100, n_estimators=1000; total time=   0.6s\n",
      "[CV] END max_depth=10, max_features=5, min_samples_split=100, n_estimators=2000; total time=   1.1s\n",
      "[CV] END max_depth=10, max_features=5, min_samples_split=100, n_estimators=2000; total time=   1.1s\n",
      "[CV] END max_depth=10, max_features=5, min_samples_split=100, n_estimators=2000; total time=   1.1s\n",
      "[CV] END max_depth=10, max_features=5, min_samples_split=100, n_estimators=2000; total time=   1.1s\n",
      "[CV] END max_depth=10, max_features=5, min_samples_split=100, n_estimators=2000; total time=   1.1s\n",
      "[CV] END max_depth=10, max_features=5, min_samples_split=100, n_estimators=2000; total time=   1.1s\n",
      "[CV] END max_depth=10, max_features=5, min_samples_split=100, n_estimators=2000; total time=   1.1s\n",
      "[CV] END max_depth=10, max_features=5, min_samples_split=100, n_estimators=2000; total time=   1.1s\n",
      "[CV] END max_depth=10, max_features=5, min_samples_split=100, n_estimators=2000; total time=   1.2s\n",
      "[CV] END max_depth=10, max_features=5, min_samples_split=100, n_estimators=2000; total time=   1.1s\n",
      "[CV] END max_depth=10, max_features=10, min_samples_split=2, n_estimators=200; total time=   0.1s\n",
      "[CV] END max_depth=10, max_features=10, min_samples_split=2, n_estimators=200; total time=   0.1s\n",
      "[CV] END max_depth=10, max_features=10, min_samples_split=2, n_estimators=200; total time=   0.1s\n",
      "[CV] END max_depth=10, max_features=10, min_samples_split=2, n_estimators=200; total time=   0.1s\n",
      "[CV] END max_depth=10, max_features=10, min_samples_split=2, n_estimators=200; total time=   0.1s\n",
      "[CV] END max_depth=10, max_features=10, min_samples_split=2, n_estimators=200; total time=   0.1s\n",
      "[CV] END max_depth=10, max_features=10, min_samples_split=2, n_estimators=200; total time=   0.1s\n",
      "[CV] END max_depth=10, max_features=10, min_samples_split=2, n_estimators=200; total time=   0.1s\n",
      "[CV] END max_depth=10, max_features=10, min_samples_split=2, n_estimators=200; total time=   0.1s\n",
      "[CV] END max_depth=10, max_features=10, min_samples_split=2, n_estimators=200; total time=   0.1s\n",
      "[CV] END max_depth=10, max_features=10, min_samples_split=2, n_estimators=500; total time=   0.3s\n",
      "[CV] END max_depth=10, max_features=10, min_samples_split=2, n_estimators=500; total time=   0.3s\n",
      "[CV] END max_depth=10, max_features=10, min_samples_split=2, n_estimators=500; total time=   0.3s\n",
      "[CV] END max_depth=10, max_features=10, min_samples_split=2, n_estimators=500; total time=   0.3s\n",
      "[CV] END max_depth=10, max_features=10, min_samples_split=2, n_estimators=500; total time=   0.3s\n",
      "[CV] END max_depth=10, max_features=10, min_samples_split=2, n_estimators=500; total time=   0.3s\n",
      "[CV] END max_depth=10, max_features=10, min_samples_split=2, n_estimators=500; total time=   0.3s\n",
      "[CV] END max_depth=10, max_features=10, min_samples_split=2, n_estimators=500; total time=   0.3s\n",
      "[CV] END max_depth=10, max_features=10, min_samples_split=2, n_estimators=500; total time=   0.3s\n",
      "[CV] END max_depth=10, max_features=10, min_samples_split=2, n_estimators=500; total time=   0.3s\n",
      "[CV] END max_depth=10, max_features=10, min_samples_split=2, n_estimators=1000; total time=   0.8s\n",
      "[CV] END max_depth=10, max_features=10, min_samples_split=2, n_estimators=1000; total time=   0.7s\n",
      "[CV] END max_depth=10, max_features=10, min_samples_split=2, n_estimators=1000; total time=   0.8s\n",
      "[CV] END max_depth=10, max_features=10, min_samples_split=2, n_estimators=1000; total time=   0.8s\n",
      "[CV] END max_depth=10, max_features=10, min_samples_split=2, n_estimators=1000; total time=   0.8s\n",
      "[CV] END max_depth=10, max_features=10, min_samples_split=2, n_estimators=1000; total time=   0.8s\n",
      "[CV] END max_depth=10, max_features=10, min_samples_split=2, n_estimators=1000; total time=   0.8s\n",
      "[CV] END max_depth=10, max_features=10, min_samples_split=2, n_estimators=1000; total time=   0.8s\n",
      "[CV] END max_depth=10, max_features=10, min_samples_split=2, n_estimators=1000; total time=   0.8s\n",
      "[CV] END max_depth=10, max_features=10, min_samples_split=2, n_estimators=1000; total time=   0.8s\n",
      "[CV] END max_depth=10, max_features=10, min_samples_split=2, n_estimators=2000; total time=   1.6s\n",
      "[CV] END max_depth=10, max_features=10, min_samples_split=2, n_estimators=2000; total time=   1.7s\n",
      "[CV] END max_depth=10, max_features=10, min_samples_split=2, n_estimators=2000; total time=   1.7s\n",
      "[CV] END max_depth=10, max_features=10, min_samples_split=2, n_estimators=2000; total time=   1.7s\n",
      "[CV] END max_depth=10, max_features=10, min_samples_split=2, n_estimators=2000; total time=   1.7s\n",
      "[CV] END max_depth=10, max_features=10, min_samples_split=2, n_estimators=2000; total time=   1.7s\n",
      "[CV] END max_depth=10, max_features=10, min_samples_split=2, n_estimators=2000; total time=   1.6s\n",
      "[CV] END max_depth=10, max_features=10, min_samples_split=2, n_estimators=2000; total time=   1.6s\n",
      "[CV] END max_depth=10, max_features=10, min_samples_split=2, n_estimators=2000; total time=   1.6s\n",
      "[CV] END max_depth=10, max_features=10, min_samples_split=2, n_estimators=2000; total time=   1.6s\n",
      "[CV] END max_depth=10, max_features=10, min_samples_split=10, n_estimators=200; total time=   0.1s\n",
      "[CV] END max_depth=10, max_features=10, min_samples_split=10, n_estimators=200; total time=   0.1s\n",
      "[CV] END max_depth=10, max_features=10, min_samples_split=10, n_estimators=200; total time=   0.1s\n",
      "[CV] END max_depth=10, max_features=10, min_samples_split=10, n_estimators=200; total time=   0.1s\n",
      "[CV] END max_depth=10, max_features=10, min_samples_split=10, n_estimators=200; total time=   0.1s\n",
      "[CV] END max_depth=10, max_features=10, min_samples_split=10, n_estimators=200; total time=   0.1s\n",
      "[CV] END max_depth=10, max_features=10, min_samples_split=10, n_estimators=200; total time=   0.1s\n",
      "[CV] END max_depth=10, max_features=10, min_samples_split=10, n_estimators=200; total time=   0.1s\n",
      "[CV] END max_depth=10, max_features=10, min_samples_split=10, n_estimators=200; total time=   0.1s\n",
      "[CV] END max_depth=10, max_features=10, min_samples_split=10, n_estimators=200; total time=   0.1s\n",
      "[CV] END max_depth=10, max_features=10, min_samples_split=10, n_estimators=500; total time=   0.3s\n",
      "[CV] END max_depth=10, max_features=10, min_samples_split=10, n_estimators=500; total time=   0.3s\n",
      "[CV] END max_depth=10, max_features=10, min_samples_split=10, n_estimators=500; total time=   0.3s\n",
      "[CV] END max_depth=10, max_features=10, min_samples_split=10, n_estimators=500; total time=   0.3s\n",
      "[CV] END max_depth=10, max_features=10, min_samples_split=10, n_estimators=500; total time=   0.3s\n",
      "[CV] END max_depth=10, max_features=10, min_samples_split=10, n_estimators=500; total time=   0.3s\n",
      "[CV] END max_depth=10, max_features=10, min_samples_split=10, n_estimators=500; total time=   0.3s\n",
      "[CV] END max_depth=10, max_features=10, min_samples_split=10, n_estimators=500; total time=   0.3s\n",
      "[CV] END max_depth=10, max_features=10, min_samples_split=10, n_estimators=500; total time=   0.3s\n",
      "[CV] END max_depth=10, max_features=10, min_samples_split=10, n_estimators=500; total time=   0.3s\n",
      "[CV] END max_depth=10, max_features=10, min_samples_split=10, n_estimators=1000; total time=   0.6s\n",
      "[CV] END max_depth=10, max_features=10, min_samples_split=10, n_estimators=1000; total time=   0.6s\n",
      "[CV] END max_depth=10, max_features=10, min_samples_split=10, n_estimators=1000; total time=   0.7s\n",
      "[CV] END max_depth=10, max_features=10, min_samples_split=10, n_estimators=1000; total time=   0.6s\n",
      "[CV] END max_depth=10, max_features=10, min_samples_split=10, n_estimators=1000; total time=   0.7s\n",
      "[CV] END max_depth=10, max_features=10, min_samples_split=10, n_estimators=1000; total time=   0.7s\n",
      "[CV] END max_depth=10, max_features=10, min_samples_split=10, n_estimators=1000; total time=   0.7s\n",
      "[CV] END max_depth=10, max_features=10, min_samples_split=10, n_estimators=1000; total time=   0.7s\n",
      "[CV] END max_depth=10, max_features=10, min_samples_split=10, n_estimators=1000; total time=   0.6s\n",
      "[CV] END max_depth=10, max_features=10, min_samples_split=10, n_estimators=1000; total time=   0.7s\n",
      "[CV] END max_depth=10, max_features=10, min_samples_split=10, n_estimators=2000; total time=   1.4s\n",
      "[CV] END max_depth=10, max_features=10, min_samples_split=10, n_estimators=2000; total time=   1.5s\n",
      "[CV] END max_depth=10, max_features=10, min_samples_split=10, n_estimators=2000; total time=   1.4s\n",
      "[CV] END max_depth=10, max_features=10, min_samples_split=10, n_estimators=2000; total time=   1.4s\n",
      "[CV] END max_depth=10, max_features=10, min_samples_split=10, n_estimators=2000; total time=   1.4s\n",
      "[CV] END max_depth=10, max_features=10, min_samples_split=10, n_estimators=2000; total time=   1.4s\n",
      "[CV] END max_depth=10, max_features=10, min_samples_split=10, n_estimators=2000; total time=   1.4s\n",
      "[CV] END max_depth=10, max_features=10, min_samples_split=10, n_estimators=2000; total time=   1.4s\n",
      "[CV] END max_depth=10, max_features=10, min_samples_split=10, n_estimators=2000; total time=   1.4s\n",
      "[CV] END max_depth=10, max_features=10, min_samples_split=10, n_estimators=2000; total time=   1.4s\n",
      "[CV] END max_depth=10, max_features=10, min_samples_split=80, n_estimators=200; total time=   0.0s\n",
      "[CV] END max_depth=10, max_features=10, min_samples_split=80, n_estimators=200; total time=   0.0s\n",
      "[CV] END max_depth=10, max_features=10, min_samples_split=80, n_estimators=200; total time=   0.0s\n",
      "[CV] END max_depth=10, max_features=10, min_samples_split=80, n_estimators=200; total time=   0.0s\n",
      "[CV] END max_depth=10, max_features=10, min_samples_split=80, n_estimators=200; total time=   0.0s\n",
      "[CV] END max_depth=10, max_features=10, min_samples_split=80, n_estimators=200; total time=   0.0s\n",
      "[CV] END max_depth=10, max_features=10, min_samples_split=80, n_estimators=200; total time=   0.0s\n",
      "[CV] END max_depth=10, max_features=10, min_samples_split=80, n_estimators=200; total time=   0.0s\n",
      "[CV] END max_depth=10, max_features=10, min_samples_split=80, n_estimators=200; total time=   0.0s\n",
      "[CV] END max_depth=10, max_features=10, min_samples_split=80, n_estimators=200; total time=   0.0s\n",
      "[CV] END max_depth=10, max_features=10, min_samples_split=80, n_estimators=500; total time=   0.2s\n",
      "[CV] END max_depth=10, max_features=10, min_samples_split=80, n_estimators=500; total time=   0.2s\n",
      "[CV] END max_depth=10, max_features=10, min_samples_split=80, n_estimators=500; total time=   0.2s\n",
      "[CV] END max_depth=10, max_features=10, min_samples_split=80, n_estimators=500; total time=   0.2s\n",
      "[CV] END max_depth=10, max_features=10, min_samples_split=80, n_estimators=500; total time=   0.2s\n",
      "[CV] END max_depth=10, max_features=10, min_samples_split=80, n_estimators=500; total time=   0.2s\n",
      "[CV] END max_depth=10, max_features=10, min_samples_split=80, n_estimators=500; total time=   0.2s\n",
      "[CV] END max_depth=10, max_features=10, min_samples_split=80, n_estimators=500; total time=   0.2s\n",
      "[CV] END max_depth=10, max_features=10, min_samples_split=80, n_estimators=500; total time=   0.2s\n",
      "[CV] END max_depth=10, max_features=10, min_samples_split=80, n_estimators=500; total time=   0.2s\n",
      "[CV] END max_depth=10, max_features=10, min_samples_split=80, n_estimators=1000; total time=   0.5s\n",
      "[CV] END max_depth=10, max_features=10, min_samples_split=80, n_estimators=1000; total time=   0.5s\n",
      "[CV] END max_depth=10, max_features=10, min_samples_split=80, n_estimators=1000; total time=   0.5s\n",
      "[CV] END max_depth=10, max_features=10, min_samples_split=80, n_estimators=1000; total time=   0.5s\n",
      "[CV] END max_depth=10, max_features=10, min_samples_split=80, n_estimators=1000; total time=   0.5s\n",
      "[CV] END max_depth=10, max_features=10, min_samples_split=80, n_estimators=1000; total time=   0.5s\n",
      "[CV] END max_depth=10, max_features=10, min_samples_split=80, n_estimators=1000; total time=   0.5s\n",
      "[CV] END max_depth=10, max_features=10, min_samples_split=80, n_estimators=1000; total time=   0.6s\n",
      "[CV] END max_depth=10, max_features=10, min_samples_split=80, n_estimators=1000; total time=   0.5s\n",
      "[CV] END max_depth=10, max_features=10, min_samples_split=80, n_estimators=1000; total time=   0.5s\n",
      "[CV] END max_depth=10, max_features=10, min_samples_split=80, n_estimators=2000; total time=   1.1s\n",
      "[CV] END max_depth=10, max_features=10, min_samples_split=80, n_estimators=2000; total time=   1.1s\n",
      "[CV] END max_depth=10, max_features=10, min_samples_split=80, n_estimators=2000; total time=   1.1s\n",
      "[CV] END max_depth=10, max_features=10, min_samples_split=80, n_estimators=2000; total time=   1.1s\n",
      "[CV] END max_depth=10, max_features=10, min_samples_split=80, n_estimators=2000; total time=   1.1s\n",
      "[CV] END max_depth=10, max_features=10, min_samples_split=80, n_estimators=2000; total time=   1.1s\n",
      "[CV] END max_depth=10, max_features=10, min_samples_split=80, n_estimators=2000; total time=   1.1s\n",
      "[CV] END max_depth=10, max_features=10, min_samples_split=80, n_estimators=2000; total time=   1.1s\n",
      "[CV] END max_depth=10, max_features=10, min_samples_split=80, n_estimators=2000; total time=   1.1s\n",
      "[CV] END max_depth=10, max_features=10, min_samples_split=80, n_estimators=2000; total time=   1.2s\n",
      "[CV] END max_depth=10, max_features=10, min_samples_split=100, n_estimators=200; total time=   0.0s\n",
      "[CV] END max_depth=10, max_features=10, min_samples_split=100, n_estimators=200; total time=   0.0s\n",
      "[CV] END max_depth=10, max_features=10, min_samples_split=100, n_estimators=200; total time=   0.0s\n",
      "[CV] END max_depth=10, max_features=10, min_samples_split=100, n_estimators=200; total time=   0.0s\n",
      "[CV] END max_depth=10, max_features=10, min_samples_split=100, n_estimators=200; total time=   0.0s\n",
      "[CV] END max_depth=10, max_features=10, min_samples_split=100, n_estimators=200; total time=   0.0s\n",
      "[CV] END max_depth=10, max_features=10, min_samples_split=100, n_estimators=200; total time=   0.0s\n",
      "[CV] END max_depth=10, max_features=10, min_samples_split=100, n_estimators=200; total time=   0.0s\n",
      "[CV] END max_depth=10, max_features=10, min_samples_split=100, n_estimators=200; total time=   0.0s\n",
      "[CV] END max_depth=10, max_features=10, min_samples_split=100, n_estimators=200; total time=   0.0s\n",
      "[CV] END max_depth=10, max_features=10, min_samples_split=100, n_estimators=500; total time=   0.2s\n",
      "[CV] END max_depth=10, max_features=10, min_samples_split=100, n_estimators=500; total time=   0.2s\n",
      "[CV] END max_depth=10, max_features=10, min_samples_split=100, n_estimators=500; total time=   0.2s\n",
      "[CV] END max_depth=10, max_features=10, min_samples_split=100, n_estimators=500; total time=   0.2s\n",
      "[CV] END max_depth=10, max_features=10, min_samples_split=100, n_estimators=500; total time=   0.2s\n",
      "[CV] END max_depth=10, max_features=10, min_samples_split=100, n_estimators=500; total time=   0.2s\n",
      "[CV] END max_depth=10, max_features=10, min_samples_split=100, n_estimators=500; total time=   0.2s\n",
      "[CV] END max_depth=10, max_features=10, min_samples_split=100, n_estimators=500; total time=   0.2s\n",
      "[CV] END max_depth=10, max_features=10, min_samples_split=100, n_estimators=500; total time=   0.2s\n",
      "[CV] END max_depth=10, max_features=10, min_samples_split=100, n_estimators=500; total time=   0.2s\n",
      "[CV] END max_depth=10, max_features=10, min_samples_split=100, n_estimators=1000; total time=   0.5s\n",
      "[CV] END max_depth=10, max_features=10, min_samples_split=100, n_estimators=1000; total time=   0.5s\n",
      "[CV] END max_depth=10, max_features=10, min_samples_split=100, n_estimators=1000; total time=   0.5s\n",
      "[CV] END max_depth=10, max_features=10, min_samples_split=100, n_estimators=1000; total time=   0.5s\n",
      "[CV] END max_depth=10, max_features=10, min_samples_split=100, n_estimators=1000; total time=   0.5s\n",
      "[CV] END max_depth=10, max_features=10, min_samples_split=100, n_estimators=1000; total time=   0.5s\n",
      "[CV] END max_depth=10, max_features=10, min_samples_split=100, n_estimators=1000; total time=   0.5s\n",
      "[CV] END max_depth=10, max_features=10, min_samples_split=100, n_estimators=1000; total time=   0.5s\n",
      "[CV] END max_depth=10, max_features=10, min_samples_split=100, n_estimators=1000; total time=   0.5s\n",
      "[CV] END max_depth=10, max_features=10, min_samples_split=100, n_estimators=1000; total time=   0.5s\n",
      "[CV] END max_depth=10, max_features=10, min_samples_split=100, n_estimators=2000; total time=   1.1s\n",
      "[CV] END max_depth=10, max_features=10, min_samples_split=100, n_estimators=2000; total time=   1.1s\n",
      "[CV] END max_depth=10, max_features=10, min_samples_split=100, n_estimators=2000; total time=   1.1s\n",
      "[CV] END max_depth=10, max_features=10, min_samples_split=100, n_estimators=2000; total time=   1.1s\n",
      "[CV] END max_depth=10, max_features=10, min_samples_split=100, n_estimators=2000; total time=   1.1s\n",
      "[CV] END max_depth=10, max_features=10, min_samples_split=100, n_estimators=2000; total time=   1.1s\n",
      "[CV] END max_depth=10, max_features=10, min_samples_split=100, n_estimators=2000; total time=   1.1s\n",
      "[CV] END max_depth=10, max_features=10, min_samples_split=100, n_estimators=2000; total time=   1.1s\n",
      "[CV] END max_depth=10, max_features=10, min_samples_split=100, n_estimators=2000; total time=   1.1s\n",
      "[CV] END max_depth=10, max_features=10, min_samples_split=100, n_estimators=2000; total time=   1.1s\n"
     ]
    }
   ],
   "source": [
    "rf_cv_model = GridSearchCV(rf_model, rf_params, cv = 10, verbose = 2).fit(X_train, y_train)"
   ]
  },
  {
   "cell_type": "code",
   "execution_count": 12,
   "id": "7b0f131b-c817-4014-89e1-8d3b1472dab6",
   "metadata": {},
   "outputs": [
    {
     "data": {
      "text/plain": [
       "{'max_depth': 8,\n",
       " 'max_features': 2,\n",
       " 'min_samples_split': 2,\n",
       " 'n_estimators': 200}"
      ]
     },
     "execution_count": 12,
     "metadata": {},
     "output_type": "execute_result"
    }
   ],
   "source": [
    "rf_cv_model.best_params_"
   ]
  },
  {
   "cell_type": "code",
   "execution_count": 13,
   "id": "04cb50a8-81cc-4189-9859-5d236f1ed6ce",
   "metadata": {},
   "outputs": [],
   "source": [
    "rf_model = RandomForestRegressor(random_state=42, max_depth=8,\n",
    "                                max_features=2,\n",
    "                                min_samples_split=2,\n",
    "                                n_estimators=200)\n",
    "rf_tuned = rf_model.fit(X_train, y_train)"
   ]
  },
  {
   "cell_type": "code",
   "execution_count": 14,
   "id": "cc9e0c2c-e4fd-4322-8798-94e4fa8f1d1b",
   "metadata": {},
   "outputs": [
    {
     "data": {
      "text/plain": [
       "RandomForestRegressor(max_depth=8, max_features=2, n_estimators=200,\n",
       "                      random_state=42)"
      ]
     },
     "execution_count": 14,
     "metadata": {},
     "output_type": "execute_result"
    }
   ],
   "source": [
    "rf_tuned"
   ]
  },
  {
   "cell_type": "code",
   "execution_count": 15,
   "id": "7b482f9d-cbe7-4b67-8971-8b2091846084",
   "metadata": {},
   "outputs": [
    {
     "data": {
      "text/plain": [
       "349.1649379391149"
      ]
     },
     "execution_count": 15,
     "metadata": {},
     "output_type": "execute_result"
    }
   ],
   "source": [
    "y_pred = rf_tuned.predict(X_test)\n",
    "np.sqrt(mean_squared_error(y_test,y_pred))"
   ]
  },
  {
   "cell_type": "markdown",
   "id": "b763b6b8-7cae-4047-b9cd-62d7bfee67da",
   "metadata": {},
   "source": [
    "### degisken onem duzeyi"
   ]
  },
  {
   "cell_type": "code",
   "execution_count": 16,
   "id": "aaaa7d96-be57-45cc-85f1-ea82c6d226e8",
   "metadata": {},
   "outputs": [
    {
     "data": {
      "text/plain": [
       "array([5.81548333, 6.38504706, 3.52630602, 4.18186433, 4.68121896,\n",
       "       4.92291235, 7.38388416, 9.72940722, 8.68736867, 7.89130478,\n",
       "       8.78157948, 8.30862336, 9.69431474, 4.71131944, 2.04114365,\n",
       "       1.83878075, 0.38469815, 0.55485771, 0.47988582])"
      ]
     },
     "execution_count": 16,
     "metadata": {},
     "output_type": "execute_result"
    }
   ],
   "source": [
    "rf_tuned.feature_importances_*100"
   ]
  },
  {
   "cell_type": "code",
   "execution_count": 17,
   "id": "69ab60e7-c6d4-4ab9-87fb-7098833db0a2",
   "metadata": {},
   "outputs": [
    {
     "data": {
      "image/png": "[encoded data removed]",
      "text/plain": [
       "<Figure size 432x288 with 1 Axes>"
      ]
     },
     "metadata": {
      "needs_background": "light"
     },
     "output_type": "display_data"
    }
   ],
   "source": [
    "Importance = pd.DataFrame({'Importance': rf_tuned.feature_importances_*100},\n",
    "                         index=X_train.columns)\n",
    "\n",
    "Importance.sort_values(by = 'Importance',\n",
    "                      axis=0,\n",
    "                      ascending=True).plot(kind = 'barh',\n",
    "                                          color='r')\n",
    "\n",
    "plt.xlabel('Variable Importance')\n",
    "plt.gca().legend_=None"
   ]
  },
  {
   "cell_type": "code",
   "execution_count": null,
   "id": "a1d273e9-95c9-4322-92a5-454064e1c310",
   "metadata": {},
   "outputs": [],
   "source": []
  }
 ],
 "metadata": {
  "kernelspec": {
   "display_name": "Python 3",
   "language": "python",
   "name": "python3"
  },
  "language_info": {
   "codemirror_mode": {
    "name": "ipython",
    "version": 3
   },
   "file_extension": ".py",
   "mimetype": "text/x-python",
   "name": "python",
   "nbconvert_exporter": "python",
   "pygments_lexer": "ipython3",
   "version": "3.8.8"
  }
 },
 "nbformat": 4,
 "nbformat_minor": 5
}
