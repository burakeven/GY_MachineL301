{
 "cells": [
  {
   "cell_type": "markdown",
   "id": "1441d7ce-c023-4def-9e36-0a28b80539e8",
   "metadata": {},
   "source": [
    "# Dogrusal olmayan Regresyon Modelleri"
   ]
  },
  {
   "cell_type": "code",
   "execution_count": 1,
   "id": "eb231c91-fceb-44f4-b22c-eeb91c33ab14",
   "metadata": {},
   "outputs": [],
   "source": [
    "import numpy as np\n",
    "import pandas as pd\n",
    "from sklearn.model_selection import train_test_split, GridSearchCV\n",
    "from sklearn.metrics import mean_squared_error, r2_score\n",
    "import matplotlib.pyplot as plt\n",
    "from sklearn.preprocessing import scale\n",
    "from sklearn.preprocessing import StandardScaler\n",
    "from sklearn import model_selection\n",
    "from sklearn.linear_model import LinearRegression\n",
    "from sklearn.tree import DecisionTreeRegressor\n",
    "from sklearn.neighbors import KNeighborsRegressor\n",
    "from sklearn.neural_network import MLPRegressor\n",
    "from sklearn.ensemble import RandomForestRegressor\n",
    "from sklearn.ensemble import GradientBoostingRegressor\n",
    "from sklearn import neighbors\n",
    "from sklearn.svm import SVR"
   ]
  },
  {
   "cell_type": "code",
   "execution_count": 2,
   "id": "8889248b-12df-4f2f-ad0a-ec804b32c7d4",
   "metadata": {},
   "outputs": [],
   "source": [
    "from warnings import filterwarnings\n",
    "filterwarnings('ignore')"
   ]
  },
  {
   "cell_type": "markdown",
   "id": "86a257a6-ce6f-4e19-9ebc-15965d1ffffb",
   "metadata": {},
   "source": [
    "# KNN"
   ]
  },
  {
   "cell_type": "code",
   "execution_count": 10,
   "id": "2fb0507d-2f48-411e-8ebf-76a4068f392c",
   "metadata": {},
   "outputs": [],
   "source": [
    "df = pd.read_csv(\"Hitters.csv\")\n",
    "df = df.dropna()\n",
    "dms = pd.get_dummies(df[['League','Division',\"NewLeague\"]])\n",
    "y = df[\"Salary\"]\n",
    "X_ = df.drop(['Salary','League','Division','NewLeague'], axis=1).astype('float64')\n",
    "X = pd.concat([X_, dms[['League_N','Division_W','NewLeague_N']]], axis=1)\n",
    "X_train, X_test, y_train, y_test = train_test_split(X,y,test_size=0.25, random_state=42)"
   ]
  },
  {
   "cell_type": "code",
   "execution_count": 11,
   "id": "43cd11d6-e646-4b70-b5ad-35a7c2884735",
   "metadata": {},
   "outputs": [
    {
     "data": {
      "text/html": [
       "<div>\n",
       "<style scoped>\n",
       "    .dataframe tbody tr th:only-of-type {\n",
       "        vertical-align: middle;\n",
       "    }\n",
       "\n",
       "    .dataframe tbody tr th {\n",
       "        vertical-align: top;\n",
       "    }\n",
       "\n",
       "    .dataframe thead th {\n",
       "        text-align: right;\n",
       "    }\n",
       "</style>\n",
       "<table border=\"1\" class=\"dataframe\">\n",
       "  <thead>\n",
       "    <tr style=\"text-align: right;\">\n",
       "      <th></th>\n",
       "      <th>AtBat</th>\n",
       "      <th>Hits</th>\n",
       "      <th>HmRun</th>\n",
       "      <th>Runs</th>\n",
       "      <th>RBI</th>\n",
       "      <th>Walks</th>\n",
       "      <th>Years</th>\n",
       "      <th>CAtBat</th>\n",
       "      <th>CHits</th>\n",
       "      <th>CHmRun</th>\n",
       "      <th>CRuns</th>\n",
       "      <th>CRBI</th>\n",
       "      <th>CWalks</th>\n",
       "      <th>PutOuts</th>\n",
       "      <th>Assists</th>\n",
       "      <th>Errors</th>\n",
       "      <th>League_N</th>\n",
       "      <th>Division_W</th>\n",
       "      <th>NewLeague_N</th>\n",
       "    </tr>\n",
       "  </thead>\n",
       "  <tbody>\n",
       "    <tr>\n",
       "      <th>183</th>\n",
       "      <td>328.0</td>\n",
       "      <td>91.0</td>\n",
       "      <td>12.0</td>\n",
       "      <td>51.0</td>\n",
       "      <td>43.0</td>\n",
       "      <td>33.0</td>\n",
       "      <td>2.0</td>\n",
       "      <td>342.0</td>\n",
       "      <td>94.0</td>\n",
       "      <td>12.0</td>\n",
       "      <td>51.0</td>\n",
       "      <td>44.0</td>\n",
       "      <td>33.0</td>\n",
       "      <td>145.0</td>\n",
       "      <td>59.0</td>\n",
       "      <td>8.0</td>\n",
       "      <td>1</td>\n",
       "      <td>0</td>\n",
       "      <td>1</td>\n",
       "    </tr>\n",
       "    <tr>\n",
       "      <th>229</th>\n",
       "      <td>514.0</td>\n",
       "      <td>144.0</td>\n",
       "      <td>0.0</td>\n",
       "      <td>67.0</td>\n",
       "      <td>54.0</td>\n",
       "      <td>79.0</td>\n",
       "      <td>9.0</td>\n",
       "      <td>4739.0</td>\n",
       "      <td>1169.0</td>\n",
       "      <td>13.0</td>\n",
       "      <td>583.0</td>\n",
       "      <td>374.0</td>\n",
       "      <td>528.0</td>\n",
       "      <td>229.0</td>\n",
       "      <td>453.0</td>\n",
       "      <td>15.0</td>\n",
       "      <td>1</td>\n",
       "      <td>0</td>\n",
       "      <td>1</td>\n",
       "    </tr>\n",
       "    <tr>\n",
       "      <th>286</th>\n",
       "      <td>593.0</td>\n",
       "      <td>152.0</td>\n",
       "      <td>23.0</td>\n",
       "      <td>69.0</td>\n",
       "      <td>75.0</td>\n",
       "      <td>53.0</td>\n",
       "      <td>6.0</td>\n",
       "      <td>2765.0</td>\n",
       "      <td>686.0</td>\n",
       "      <td>133.0</td>\n",
       "      <td>369.0</td>\n",
       "      <td>384.0</td>\n",
       "      <td>321.0</td>\n",
       "      <td>315.0</td>\n",
       "      <td>10.0</td>\n",
       "      <td>6.0</td>\n",
       "      <td>0</td>\n",
       "      <td>1</td>\n",
       "      <td>0</td>\n",
       "    </tr>\n",
       "    <tr>\n",
       "      <th>102</th>\n",
       "      <td>233.0</td>\n",
       "      <td>49.0</td>\n",
       "      <td>2.0</td>\n",
       "      <td>41.0</td>\n",
       "      <td>23.0</td>\n",
       "      <td>18.0</td>\n",
       "      <td>8.0</td>\n",
       "      <td>1350.0</td>\n",
       "      <td>336.0</td>\n",
       "      <td>7.0</td>\n",
       "      <td>166.0</td>\n",
       "      <td>122.0</td>\n",
       "      <td>106.0</td>\n",
       "      <td>102.0</td>\n",
       "      <td>132.0</td>\n",
       "      <td>10.0</td>\n",
       "      <td>0</td>\n",
       "      <td>0</td>\n",
       "      <td>0</td>\n",
       "    </tr>\n",
       "    <tr>\n",
       "      <th>153</th>\n",
       "      <td>341.0</td>\n",
       "      <td>95.0</td>\n",
       "      <td>6.0</td>\n",
       "      <td>48.0</td>\n",
       "      <td>42.0</td>\n",
       "      <td>20.0</td>\n",
       "      <td>10.0</td>\n",
       "      <td>2964.0</td>\n",
       "      <td>808.0</td>\n",
       "      <td>81.0</td>\n",
       "      <td>379.0</td>\n",
       "      <td>428.0</td>\n",
       "      <td>221.0</td>\n",
       "      <td>158.0</td>\n",
       "      <td>4.0</td>\n",
       "      <td>5.0</td>\n",
       "      <td>1</td>\n",
       "      <td>1</td>\n",
       "      <td>1</td>\n",
       "    </tr>\n",
       "  </tbody>\n",
       "</table>\n",
       "</div>"
      ],
      "text/plain": [
       "     AtBat   Hits  HmRun  Runs   RBI  Walks  Years  CAtBat   CHits  CHmRun  \\\n",
       "183  328.0   91.0   12.0  51.0  43.0   33.0    2.0   342.0    94.0    12.0   \n",
       "229  514.0  144.0    0.0  67.0  54.0   79.0    9.0  4739.0  1169.0    13.0   \n",
       "286  593.0  152.0   23.0  69.0  75.0   53.0    6.0  2765.0   686.0   133.0   \n",
       "102  233.0   49.0    2.0  41.0  23.0   18.0    8.0  1350.0   336.0     7.0   \n",
       "153  341.0   95.0    6.0  48.0  42.0   20.0   10.0  2964.0   808.0    81.0   \n",
       "\n",
       "     CRuns   CRBI  CWalks  PutOuts  Assists  Errors  League_N  Division_W  \\\n",
       "183   51.0   44.0    33.0    145.0     59.0     8.0         1           0   \n",
       "229  583.0  374.0   528.0    229.0    453.0    15.0         1           0   \n",
       "286  369.0  384.0   321.0    315.0     10.0     6.0         0           1   \n",
       "102  166.0  122.0   106.0    102.0    132.0    10.0         0           0   \n",
       "153  379.0  428.0   221.0    158.0      4.0     5.0         1           1   \n",
       "\n",
       "     NewLeague_N  \n",
       "183            1  \n",
       "229            1  \n",
       "286            0  \n",
       "102            0  \n",
       "153            1  "
      ]
     },
     "execution_count": 11,
     "metadata": {},
     "output_type": "execute_result"
    }
   ],
   "source": [
    "X_train.head()"
   ]
  },
  {
   "cell_type": "markdown",
   "id": "57ccca08-724c-41b1-bfd3-60d69c7c9d81",
   "metadata": {},
   "source": [
    "### Model & Tahmin"
   ]
  },
  {
   "cell_type": "code",
   "execution_count": 12,
   "id": "bf74fb27-ecf5-4616-89c5-656e006d49f9",
   "metadata": {},
   "outputs": [
    {
     "data": {
      "text/plain": [
       "KNeighborsRegressor()"
      ]
     },
     "execution_count": 12,
     "metadata": {},
     "output_type": "execute_result"
    }
   ],
   "source": [
    "knn_model = KNeighborsRegressor().fit(X_train, y_train)\n",
    "knn_model"
   ]
  },
  {
   "cell_type": "code",
   "execution_count": 13,
   "id": "52925211-3422-4719-a202-ba287340249f",
   "metadata": {},
   "outputs": [
    {
     "data": {
      "text/plain": [
       "5"
      ]
     },
     "execution_count": 13,
     "metadata": {},
     "output_type": "execute_result"
    }
   ],
   "source": [
    "knn_model.n_neighbors"
   ]
  },
  {
   "cell_type": "code",
   "execution_count": 14,
   "id": "ddf04ba2-e187-48ad-91ab-e2e4614de3db",
   "metadata": {},
   "outputs": [
    {
     "data": {
      "text/plain": [
       "'minkowski'"
      ]
     },
     "execution_count": 14,
     "metadata": {},
     "output_type": "execute_result"
    }
   ],
   "source": [
    "knn_model.metric"
   ]
  },
  {
   "cell_type": "code",
   "execution_count": 15,
   "id": "7bc2369c-7f90-4451-86ec-0f8279cf76ba",
   "metadata": {
    "collapsed": true,
    "jupyter": {
     "outputs_hidden": true
    },
    "tags": []
   },
   "outputs": [
    {
     "data": {
      "text/plain": [
       "['__abstractmethods__',\n",
       " '__class__',\n",
       " '__delattr__',\n",
       " '__dict__',\n",
       " '__dir__',\n",
       " '__doc__',\n",
       " '__eq__',\n",
       " '__format__',\n",
       " '__ge__',\n",
       " '__getattribute__',\n",
       " '__getstate__',\n",
       " '__gt__',\n",
       " '__hash__',\n",
       " '__init__',\n",
       " '__init_subclass__',\n",
       " '__le__',\n",
       " '__lt__',\n",
       " '__module__',\n",
       " '__ne__',\n",
       " '__new__',\n",
       " '__reduce__',\n",
       " '__reduce_ex__',\n",
       " '__repr__',\n",
       " '__setattr__',\n",
       " '__setstate__',\n",
       " '__sizeof__',\n",
       " '__str__',\n",
       " '__subclasshook__',\n",
       " '__weakref__',\n",
       " '_abc_impl',\n",
       " '_check_algorithm_metric',\n",
       " '_check_n_features',\n",
       " '_estimator_type',\n",
       " '_fit',\n",
       " '_fit_X',\n",
       " '_fit_method',\n",
       " '_get_param_names',\n",
       " '_get_tags',\n",
       " '_kneighbors_reduce_func',\n",
       " '_more_tags',\n",
       " '_pairwise',\n",
       " '_repr_html_',\n",
       " '_repr_html_inner',\n",
       " '_repr_mimebundle_',\n",
       " '_tree',\n",
       " '_validate_data',\n",
       " '_y',\n",
       " 'algorithm',\n",
       " 'effective_metric_',\n",
       " 'effective_metric_params_',\n",
       " 'fit',\n",
       " 'get_params',\n",
       " 'kneighbors',\n",
       " 'kneighbors_graph',\n",
       " 'leaf_size',\n",
       " 'metric',\n",
       " 'metric_params',\n",
       " 'n_features_in_',\n",
       " 'n_jobs',\n",
       " 'n_neighbors',\n",
       " 'n_samples_fit_',\n",
       " 'p',\n",
       " 'predict',\n",
       " 'radius',\n",
       " 'score',\n",
       " 'set_params',\n",
       " 'weights']"
      ]
     },
     "execution_count": 15,
     "metadata": {},
     "output_type": "execute_result"
    }
   ],
   "source": [
    "dir(knn_model)"
   ]
  },
  {
   "cell_type": "code",
   "execution_count": 16,
   "id": "e8c851ec-873f-45d3-9aff-ca9af015079a",
   "metadata": {},
   "outputs": [
    {
     "data": {
      "text/plain": [
       "array([ 510.3334,  808.3334,  772.5   ,  125.5   , 1005.    ])"
      ]
     },
     "execution_count": 16,
     "metadata": {},
     "output_type": "execute_result"
    }
   ],
   "source": [
    "knn_model.predict(X_test)[0:5]"
   ]
  },
  {
   "cell_type": "code",
   "execution_count": 17,
   "id": "f60f96e2-02d3-4915-9dc2-3d77148e9337",
   "metadata": {},
   "outputs": [],
   "source": [
    "y_pred = knn_model.predict(X_test)"
   ]
  },
  {
   "cell_type": "code",
   "execution_count": 18,
   "id": "d5bfbd3f-6f35-46b1-9744-9b977d775a26",
   "metadata": {},
   "outputs": [
    {
     "data": {
      "text/plain": [
       "426.6570764525201"
      ]
     },
     "execution_count": 18,
     "metadata": {},
     "output_type": "execute_result"
    }
   ],
   "source": [
    "np.sqrt(mean_squared_error(y_test, y_pred)) #knn ile ogrendigimiz ilkel test hatamiz"
   ]
  },
  {
   "cell_type": "markdown",
   "id": "a3e01043-d2b9-4eda-b689-bcea5737b147",
   "metadata": {},
   "source": [
    "## Model Tuning"
   ]
  },
  {
   "cell_type": "code",
   "execution_count": 19,
   "id": "a630583f-06cb-4482-957d-837efad82f17",
   "metadata": {},
   "outputs": [
    {
     "data": {
      "text/plain": [
       "range(0, 10)"
      ]
     },
     "execution_count": 19,
     "metadata": {},
     "output_type": "execute_result"
    }
   ],
   "source": [
    "range(10)"
   ]
  },
  {
   "cell_type": "code",
   "execution_count": 20,
   "id": "27aab8b9-95a1-489e-abcd-fdf6be0dcd2c",
   "metadata": {},
   "outputs": [
    {
     "name": "stdout",
     "output_type": "stream",
     "text": [
      "k= 1 icin RMSE degeri: 455.03925390751965\n",
      "k= 2 icin RMSE degeri: 415.99629571490965\n",
      "k= 3 icin RMSE degeri: 420.6765370082348\n",
      "k= 4 icin RMSE degeri: 428.8564674588792\n",
      "k= 5 icin RMSE degeri: 426.6570764525201\n",
      "k= 6 icin RMSE degeri: 423.5071669008732\n",
      "k= 7 icin RMSE degeri: 414.9361222421057\n",
      "k= 8 icin RMSE degeri: 413.7094731463598\n",
      "k= 9 icin RMSE degeri: 417.84419990871265\n",
      "k= 10 icin RMSE degeri: 421.6252180741266\n"
     ]
    }
   ],
   "source": [
    "RMSE = []\n",
    "for k in range(10):\n",
    "    k = k+1\n",
    "    knn_model = KNeighborsRegressor(n_neighbors=k).fit(X_train, y_train)\n",
    "    y_pred=knn_model.predict(X_test)\n",
    "    rmse=np.sqrt(mean_squared_error(y_test,y_pred))\n",
    "    RMSE.append(rmse)\n",
    "    print(\"k=\", k, \"icin RMSE degeri:\", rmse)"
   ]
  },
  {
   "cell_type": "code",
   "execution_count": 21,
   "id": "5ef36679-c2f6-4fa0-83fe-29d5cae25ec4",
   "metadata": {},
   "outputs": [],
   "source": [
    "#GridSearchCV -olasi tum parametre kombinasyonlarini degerlendirmek ve belirlemek icin kullanilan bir fonksiyondur."
   ]
  },
  {
   "cell_type": "code",
   "execution_count": 22,
   "id": "2c563efe-0764-4be8-98fa-edad2da5f74b",
   "metadata": {},
   "outputs": [],
   "source": [
    "knn_params = {\"n_neighbors\":np.arange(1,30,1)}"
   ]
  },
  {
   "cell_type": "code",
   "execution_count": 23,
   "id": "e5bb580f-4485-464b-a3a6-29f6d2ff8222",
   "metadata": {},
   "outputs": [],
   "source": [
    "knn = KNeighborsRegressor()"
   ]
  },
  {
   "cell_type": "code",
   "execution_count": 25,
   "id": "89a44884-d0ea-4914-a807-72930a0cac38",
   "metadata": {},
   "outputs": [],
   "source": [
    "knn_cv_model=GridSearchCV(knn,knn_params,cv=10).fit(X_train, y_train)"
   ]
  },
  {
   "cell_type": "code",
   "execution_count": 26,
   "id": "412f4199-3008-40ac-97ae-ea2256990c2d",
   "metadata": {},
   "outputs": [
    {
     "data": {
      "text/plain": [
       "{'n_neighbors': 8}"
      ]
     },
     "execution_count": 26,
     "metadata": {},
     "output_type": "execute_result"
    }
   ],
   "source": [
    "knn_cv_model.best_params_"
   ]
  },
  {
   "cell_type": "code",
   "execution_count": 27,
   "id": "f1bf08b3-26e4-4c06-a165-deb4877cc0a4",
   "metadata": {},
   "outputs": [],
   "source": [
    "#final model\n",
    "knn_tuned = KNeighborsRegressor(n_neighbors=knn_cv_model.best_params_[\"n_neighbors\"]).fit(X_train,y_train)"
   ]
  },
  {
   "cell_type": "code",
   "execution_count": 29,
   "id": "0b9baccc-db64-4980-879d-add250e03dd3",
   "metadata": {},
   "outputs": [
    {
     "data": {
      "text/plain": [
       "413.7094731463598"
      ]
     },
     "execution_count": 29,
     "metadata": {},
     "output_type": "execute_result"
    }
   ],
   "source": [
    "y_pred = knn_tuned.predict(X_test)\n",
    "np.sqrt(mean_squared_error(y_test,y_pred))"
   ]
  },
  {
   "cell_type": "markdown",
   "id": "e3218713-2737-466d-8016-4616bd2a2136",
   "metadata": {},
   "source": [
    "# Destek Vektor Regresyonu(Support Vector Regression)"
   ]
  },
  {
   "cell_type": "code",
   "execution_count": 3,
   "id": "96b15a65-c403-42f3-bf8f-29368d06da88",
   "metadata": {},
   "outputs": [],
   "source": [
    "df = pd.read_csv(\"Hitters.csv\")\n",
    "df = df.dropna()\n",
    "dms = pd.get_dummies(df[['League','Division',\"NewLeague\"]])\n",
    "y = df[\"Salary\"]\n",
    "X_ = df.drop(['Salary','League','Division','NewLeague'], axis=1).astype('float64')\n",
    "X = pd.concat([X_, dms[['League_N','Division_W','NewLeague_N']]], axis=1)\n",
    "X_train, X_test, y_train, y_test = train_test_split(X,y,test_size=0.25, random_state=42)"
   ]
  },
  {
   "cell_type": "markdown",
   "id": "8e14315f-3d97-41f7-bdb5-a00fa3d20e56",
   "metadata": {},
   "source": [
    "### Model&Tahmin"
   ]
  },
  {
   "cell_type": "code",
   "execution_count": 4,
   "id": "152c7be1-d4cb-47e2-91b8-7f04993c07b9",
   "metadata": {},
   "outputs": [],
   "source": [
    "svr_model = SVR(\"linear\").fit(X_train,y_train) #linear yerine rbf'de yapabiliriz. Kerneli degistirmis oluruz."
   ]
  },
  {
   "cell_type": "code",
   "execution_count": 5,
   "id": "dc2867b8-186e-4bca-accd-7e1cc80b9add",
   "metadata": {},
   "outputs": [
    {
     "data": {
      "text/plain": [
       "SVR(kernel='linear')"
      ]
     },
     "execution_count": 5,
     "metadata": {},
     "output_type": "execute_result"
    }
   ],
   "source": [
    "svr_model"
   ]
  },
  {
   "cell_type": "code",
   "execution_count": 7,
   "id": "e23ff14e-02de-4832-9f77-335b16c0a6ac",
   "metadata": {},
   "outputs": [
    {
     "data": {
      "text/plain": [
       "array([219.32622627, 702.43039317, 623.20559641, 153.77538484,\n",
       "       463.15191157])"
      ]
     },
     "execution_count": 7,
     "metadata": {},
     "output_type": "execute_result"
    }
   ],
   "source": [
    "svr_model.predict(X_train)[0:5]"
   ]
  },
  {
   "cell_type": "code",
   "execution_count": 8,
   "id": "ad187221-62e5-4c70-ae7a-b85d0259230f",
   "metadata": {},
   "outputs": [
    {
     "data": {
      "text/plain": [
       "array([679.14754919, 633.72883529, 925.68639938, 270.28464317,\n",
       "       530.26659421])"
      ]
     },
     "execution_count": 8,
     "metadata": {},
     "output_type": "execute_result"
    }
   ],
   "source": [
    "svr_model.predict(X_test)[0:5]"
   ]
  },
  {
   "cell_type": "code",
   "execution_count": 9,
   "id": "868827de-c88d-4f86-a56f-56d40c6d9c66",
   "metadata": {},
   "outputs": [
    {
     "data": {
      "text/plain": [
       "array([-80.15196063])"
      ]
     },
     "execution_count": 9,
     "metadata": {},
     "output_type": "execute_result"
    }
   ],
   "source": [
    "svr_model.intercept_ #knn de boyle bir katsayi gelme durumu yok. Burada var."
   ]
  },
  {
   "cell_type": "code",
   "execution_count": 10,
   "id": "18e98102-a6d6-4199-a884-aeba5d92c28d",
   "metadata": {},
   "outputs": [
    {
     "data": {
      "text/plain": [
       "array([[ -1.2183904 ,   6.09602978,  -3.67574533,   0.14217072,\n",
       "          0.51435925,   1.28388992,  12.55922527,  -0.08693754,\n",
       "          0.46597185,   2.98259931,   0.52944513,  -0.79820793,\n",
       "         -0.16015531,   0.30872795,   0.28842348,  -1.79560066,\n",
       "          6.41868986, -10.74313785,   1.33374319]])"
      ]
     },
     "execution_count": 10,
     "metadata": {},
     "output_type": "execute_result"
    }
   ],
   "source": [
    "svr_model.coef_"
   ]
  },
  {
   "cell_type": "code",
   "execution_count": 11,
   "id": "4c9629a8-bbe9-4302-8781-b49777453d27",
   "metadata": {},
   "outputs": [
    {
     "data": {
      "text/plain": [
       "370.0408415795005"
      ]
     },
     "execution_count": 11,
     "metadata": {},
     "output_type": "execute_result"
    }
   ],
   "source": [
    "#test\n",
    "y_pred = svr_model.predict(X_test)\n",
    "np.sqrt(mean_squared_error(y_test,y_pred))"
   ]
  },
  {
   "cell_type": "markdown",
   "id": "42076115-f222-4b15-bfc9-db1e11396dac",
   "metadata": {},
   "source": [
    "### Model Tuning"
   ]
  },
  {
   "cell_type": "code",
   "execution_count": 12,
   "id": "37bd8354-d6c9-4ff1-b6d9-bf2c34f9c943",
   "metadata": {},
   "outputs": [],
   "source": [
    "svr_params= {\"C\": [0.1,0.5,1,3]}"
   ]
  },
  {
   "cell_type": "code",
   "execution_count": 13,
   "id": "8c37324c-6adb-4360-b9b9-dd0aa3c8f355",
   "metadata": {},
   "outputs": [],
   "source": [
    "svr_cv_model = GridSearchCV(svr_model, svr_params, cv = 5).fit(X_train,y_train)"
   ]
  },
  {
   "cell_type": "code",
   "execution_count": 14,
   "id": "006e03b2-31d3-4021-ad79-98fc87aec442",
   "metadata": {},
   "outputs": [
    {
     "data": {
      "text/plain": [
       "{'C': 0.5}"
      ]
     },
     "execution_count": 14,
     "metadata": {},
     "output_type": "execute_result"
    }
   ],
   "source": [
    "svr_cv_model.best_params_"
   ]
  },
  {
   "cell_type": "code",
   "execution_count": 15,
   "id": "b7d17fb2-2518-4130-969a-d844124d05b9",
   "metadata": {},
   "outputs": [
    {
     "name": "stdout",
     "output_type": "stream",
     "text": [
      "Fitting 5 folds for each of 4 candidates, totalling 20 fits\n"
     ]
    }
   ],
   "source": [
    "svr_cv_model = GridSearchCV(svr_model, svr_params, cv = 5, verbose=2, n_jobs=-1).fit(X_train,y_train) #verbose calisma esnasinda durumu raporlayarak calisma gerceklestirir. njobs -1 ile calistirilirsa islemci maksimum performans ile calisir."
   ]
  },
  {
   "cell_type": "code",
   "execution_count": 16,
   "id": "2c0807f9-2a06-4677-8576-bc8f1612c31b",
   "metadata": {},
   "outputs": [
    {
     "data": {
      "text/plain": [
       "{'C': 0.5}"
      ]
     },
     "execution_count": 16,
     "metadata": {},
     "output_type": "execute_result"
    }
   ],
   "source": [
    "svr_cv_model.best_params_"
   ]
  },
  {
   "cell_type": "code",
   "execution_count": 17,
   "id": "fdfc3b8c-1ab6-4100-a71a-808077e7a5f2",
   "metadata": {},
   "outputs": [],
   "source": [
    "svr_tuned = SVR(\"linear\", C=0.5).fit(X_train,y_train)"
   ]
  },
  {
   "cell_type": "code",
   "execution_count": 18,
   "id": "32b26e73-c42e-409b-9124-a5ff3d837b00",
   "metadata": {},
   "outputs": [],
   "source": [
    "y_pred = svr_tuned.predict(X_test)"
   ]
  },
  {
   "cell_type": "code",
   "execution_count": 19,
   "id": "d8c18fc9-eb9d-432f-86a1-82e61f2d5866",
   "metadata": {},
   "outputs": [
    {
     "data": {
      "text/plain": [
       "367.98747616655294"
      ]
     },
     "execution_count": 19,
     "metadata": {},
     "output_type": "execute_result"
    }
   ],
   "source": [
    "np.sqrt(mean_squared_error(y_test, y_pred))"
   ]
  },
  {
   "cell_type": "markdown",
   "id": "cd6c4f8a-7b55-4e4d-8fec-c633ce08ac66",
   "metadata": {},
   "source": [
    "# Yapay Sinir Aglari"
   ]
  },
  {
   "cell_type": "code",
   "execution_count": 4,
   "id": "62aab9ab-2514-4105-80a3-1cdb0efbe931",
   "metadata": {},
   "outputs": [],
   "source": [
    "df = pd.read_csv(\"Hitters.csv\")\n",
    "df = df.dropna()\n",
    "dms = pd.get_dummies(df[['League','Division',\"NewLeague\"]])\n",
    "y = df[\"Salary\"]\n",
    "X_ = df.drop(['Salary','League','Division','NewLeague'], axis=1).astype('float64')\n",
    "X = pd.concat([X_, dms[['League_N','Division_W','NewLeague_N']]], axis=1)\n",
    "X_train, X_test, y_train, y_test = train_test_split(X,y,test_size=0.25, random_state=42)"
   ]
  },
  {
   "cell_type": "markdown",
   "id": "a39e712c-d82c-4bee-908e-9272ec83396a",
   "metadata": {},
   "source": [
    "### Model&Tahmin"
   ]
  },
  {
   "cell_type": "code",
   "execution_count": 5,
   "id": "35f66dfc-26cd-4627-8558-559f94ae6274",
   "metadata": {},
   "outputs": [],
   "source": [
    "#yapay sinir aglari homojen veri setleri uzerinde daha iyi calisan bir algoritmadir.\n",
    "#yapay sinir aglarini standartlastirma islemi sonrasinda kullanmak daha sagliklidir."
   ]
  },
  {
   "cell_type": "code",
   "execution_count": 6,
   "id": "d4d1e08a-5343-4817-b69b-e9fca31b3f31",
   "metadata": {},
   "outputs": [],
   "source": [
    "scaler = StandardScaler()"
   ]
  },
  {
   "cell_type": "code",
   "execution_count": 10,
   "id": "4894f560-c9e0-4f4c-9cbb-7cfcc147c428",
   "metadata": {},
   "outputs": [],
   "source": [
    "scaler.fit(X_train) #train setimizi standartlastirma islemine tabi tuttuk.\n",
    "X_train_scaled = scaler.transform(X_train)\n"
   ]
  },
  {
   "cell_type": "code",
   "execution_count": 11,
   "id": "c075fe12-17ed-4fec-be5f-a06ec4f151f8",
   "metadata": {},
   "outputs": [],
   "source": [
    "X_test_scaled = scaler.transform(X_test) #burada train'de oldugu gibi fit'de edebiliriz, problem olmaz."
   ]
  },
  {
   "cell_type": "code",
   "execution_count": 13,
   "id": "bfed6030-508b-46fe-89f9-62ccb6767c45",
   "metadata": {},
   "outputs": [],
   "source": [
    "mlp_model = MLPRegressor().fit(X_train_scaled, y_train)"
   ]
  },
  {
   "cell_type": "code",
   "execution_count": 14,
   "id": "68550800-9241-4e14-b9c6-d01fab5d5d11",
   "metadata": {},
   "outputs": [
    {
     "data": {
      "text/plain": [
       "MLPRegressor()"
      ]
     },
     "execution_count": 14,
     "metadata": {},
     "output_type": "execute_result"
    }
   ],
   "source": [
    "mlp_model #activation relu olarak secilmis oluyor."
   ]
  },
  {
   "cell_type": "code",
   "execution_count": 15,
   "id": "c3da39f3-547d-4210-b2ff-a994ce2380f7",
   "metadata": {},
   "outputs": [
    {
     "data": {
      "text/plain": [
       "array([20.89130155, 38.89605444, 68.86822833, 13.55828475, 22.03268609])"
      ]
     },
     "execution_count": 15,
     "metadata": {},
     "output_type": "execute_result"
    }
   ],
   "source": [
    "mlp_model.predict(X_test_scaled)[0:5] #tahmin etme gerceklestirildi."
   ]
  },
  {
   "cell_type": "code",
   "execution_count": 16,
   "id": "fb542273-9b41-4a5c-bbb0-8544767a5c1d",
   "metadata": {},
   "outputs": [
    {
     "data": {
      "text/plain": [
       "659.67442319447"
      ]
     },
     "execution_count": 16,
     "metadata": {},
     "output_type": "execute_result"
    }
   ],
   "source": [
    "y_pred = mlp_model.predict(X_test_scaled)\n",
    "np.sqrt(mean_squared_error(y_test,y_pred)) #ilkel test hatamizi hesapladik."
   ]
  },
  {
   "cell_type": "markdown",
   "id": "15d2c273-471b-4ccc-a0a8-d08230845976",
   "metadata": {},
   "source": [
    "### Model Tuning"
   ]
  },
  {
   "cell_type": "code",
   "execution_count": 17,
   "id": "961cbfeb-ab34-4f06-a993-b89277d530f4",
   "metadata": {},
   "outputs": [],
   "source": [
    "mlp_params = {\"alpha\": [0.1,0.01,0.02,0.001,0.0001], #lambdalar, ceza parametrelerimiz.\n",
    "             \"hidden_layer_sizes\": [(10,20),(5,5),(100,100)]} \n",
    "#once 0.1'i alip 10,20 ve diger hidden layerlarini deneyecek, ardindan diger alphalar ile diger diger boyle ilerleyecek."
   ]
  },
  {
   "cell_type": "code",
   "execution_count": 34,
   "id": "1f6c1343-e590-4ceb-9205-61e0ac3caba4",
   "metadata": {},
   "outputs": [
    {
     "name": "stdout",
     "output_type": "stream",
     "text": [
      "Fitting 5 folds for each of 15 candidates, totalling 75 fits\n",
      "[CV] END .............alpha=0.1, hidden_layer_sizes=(10, 20); total time=   0.0s\n",
      "[CV] END .............alpha=0.1, hidden_layer_sizes=(10, 20); total time=   0.0s\n",
      "[CV] END .............alpha=0.1, hidden_layer_sizes=(10, 20); total time=   0.0s\n",
      "[CV] END .............alpha=0.1, hidden_layer_sizes=(10, 20); total time=   0.0s\n",
      "[CV] END .............alpha=0.1, hidden_layer_sizes=(10, 20); total time=   0.0s\n",
      "[CV] END ...............alpha=0.1, hidden_layer_sizes=(5, 5); total time=   0.0s\n",
      "[CV] END ...............alpha=0.1, hidden_layer_sizes=(5, 5); total time=   0.0s\n",
      "[CV] END ...............alpha=0.1, hidden_layer_sizes=(5, 5); total time=   0.0s\n",
      "[CV] END ...............alpha=0.1, hidden_layer_sizes=(5, 5); total time=   0.0s\n",
      "[CV] END ...............alpha=0.1, hidden_layer_sizes=(5, 5); total time=   0.0s\n",
      "[CV] END ...........alpha=0.1, hidden_layer_sizes=(100, 100); total time=   0.1s\n",
      "[CV] END ...........alpha=0.1, hidden_layer_sizes=(100, 100); total time=   0.0s\n",
      "[CV] END ...........alpha=0.1, hidden_layer_sizes=(100, 100); total time=   0.0s\n",
      "[CV] END ...........alpha=0.1, hidden_layer_sizes=(100, 100); total time=   0.1s\n",
      "[CV] END ...........alpha=0.1, hidden_layer_sizes=(100, 100); total time=   0.0s\n",
      "[CV] END ............alpha=0.01, hidden_layer_sizes=(10, 20); total time=   0.0s\n",
      "[CV] END ............alpha=0.01, hidden_layer_sizes=(10, 20); total time=   0.0s\n",
      "[CV] END ............alpha=0.01, hidden_layer_sizes=(10, 20); total time=   0.0s\n",
      "[CV] END ............alpha=0.01, hidden_layer_sizes=(10, 20); total time=   0.0s\n",
      "[CV] END ............alpha=0.01, hidden_layer_sizes=(10, 20); total time=   0.0s\n",
      "[CV] END ..............alpha=0.01, hidden_layer_sizes=(5, 5); total time=   0.0s\n",
      "[CV] END ..............alpha=0.01, hidden_layer_sizes=(5, 5); total time=   0.0s\n",
      "[CV] END ..............alpha=0.01, hidden_layer_sizes=(5, 5); total time=   0.0s\n",
      "[CV] END ..............alpha=0.01, hidden_layer_sizes=(5, 5); total time=   0.0s\n",
      "[CV] END ..............alpha=0.01, hidden_layer_sizes=(5, 5); total time=   0.0s\n",
      "[CV] END ..........alpha=0.01, hidden_layer_sizes=(100, 100); total time=   0.1s\n",
      "[CV] END ..........alpha=0.01, hidden_layer_sizes=(100, 100); total time=   0.0s\n",
      "[CV] END ..........alpha=0.01, hidden_layer_sizes=(100, 100); total time=   0.0s\n",
      "[CV] END ..........alpha=0.01, hidden_layer_sizes=(100, 100); total time=   0.1s\n",
      "[CV] END ..........alpha=0.01, hidden_layer_sizes=(100, 100); total time=   0.1s\n",
      "[CV] END ............alpha=0.02, hidden_layer_sizes=(10, 20); total time=   0.0s\n",
      "[CV] END ............alpha=0.02, hidden_layer_sizes=(10, 20); total time=   0.0s\n",
      "[CV] END ............alpha=0.02, hidden_layer_sizes=(10, 20); total time=   0.0s\n",
      "[CV] END ............alpha=0.02, hidden_layer_sizes=(10, 20); total time=   0.0s\n",
      "[CV] END ............alpha=0.02, hidden_layer_sizes=(10, 20); total time=   0.0s\n",
      "[CV] END ..............alpha=0.02, hidden_layer_sizes=(5, 5); total time=   0.0s\n",
      "[CV] END ..............alpha=0.02, hidden_layer_sizes=(5, 5); total time=   0.0s\n",
      "[CV] END ..............alpha=0.02, hidden_layer_sizes=(5, 5); total time=   0.0s\n",
      "[CV] END ..............alpha=0.02, hidden_layer_sizes=(5, 5); total time=   0.0s\n",
      "[CV] END ..............alpha=0.02, hidden_layer_sizes=(5, 5); total time=   0.0s\n",
      "[CV] END ..........alpha=0.02, hidden_layer_sizes=(100, 100); total time=   0.0s\n",
      "[CV] END ..........alpha=0.02, hidden_layer_sizes=(100, 100); total time=   0.1s\n",
      "[CV] END ..........alpha=0.02, hidden_layer_sizes=(100, 100); total time=   0.0s\n",
      "[CV] END ..........alpha=0.02, hidden_layer_sizes=(100, 100); total time=   0.1s\n",
      "[CV] END ..........alpha=0.02, hidden_layer_sizes=(100, 100); total time=   0.1s\n",
      "[CV] END ...........alpha=0.001, hidden_layer_sizes=(10, 20); total time=   0.0s\n",
      "[CV] END ...........alpha=0.001, hidden_layer_sizes=(10, 20); total time=   0.0s\n",
      "[CV] END ...........alpha=0.001, hidden_layer_sizes=(10, 20); total time=   0.0s\n",
      "[CV] END ...........alpha=0.001, hidden_layer_sizes=(10, 20); total time=   0.0s\n",
      "[CV] END ...........alpha=0.001, hidden_layer_sizes=(10, 20); total time=   0.0s\n",
      "[CV] END .............alpha=0.001, hidden_layer_sizes=(5, 5); total time=   0.0s\n",
      "[CV] END .............alpha=0.001, hidden_layer_sizes=(5, 5); total time=   0.0s\n",
      "[CV] END .............alpha=0.001, hidden_layer_sizes=(5, 5); total time=   0.0s\n",
      "[CV] END .............alpha=0.001, hidden_layer_sizes=(5, 5); total time=   0.0s\n",
      "[CV] END .............alpha=0.001, hidden_layer_sizes=(5, 5); total time=   0.0s\n",
      "[CV] END .........alpha=0.001, hidden_layer_sizes=(100, 100); total time=   0.0s\n",
      "[CV] END .........alpha=0.001, hidden_layer_sizes=(100, 100); total time=   0.1s\n",
      "[CV] END .........alpha=0.001, hidden_layer_sizes=(100, 100); total time=   0.0s\n",
      "[CV] END .........alpha=0.001, hidden_layer_sizes=(100, 100); total time=   0.1s\n",
      "[CV] END .........alpha=0.001, hidden_layer_sizes=(100, 100); total time=   0.1s\n",
      "[CV] END ..........alpha=0.0001, hidden_layer_sizes=(10, 20); total time=   0.0s\n",
      "[CV] END ..........alpha=0.0001, hidden_layer_sizes=(10, 20); total time=   0.0s\n",
      "[CV] END ..........alpha=0.0001, hidden_layer_sizes=(10, 20); total time=   0.0s\n",
      "[CV] END ..........alpha=0.0001, hidden_layer_sizes=(10, 20); total time=   0.0s\n",
      "[CV] END ..........alpha=0.0001, hidden_layer_sizes=(10, 20); total time=   0.0s\n",
      "[CV] END ............alpha=0.0001, hidden_layer_sizes=(5, 5); total time=   0.0s\n",
      "[CV] END ............alpha=0.0001, hidden_layer_sizes=(5, 5); total time=   0.0s\n",
      "[CV] END ............alpha=0.0001, hidden_layer_sizes=(5, 5); total time=   0.0s\n",
      "[CV] END ............alpha=0.0001, hidden_layer_sizes=(5, 5); total time=   0.0s\n",
      "[CV] END ............alpha=0.0001, hidden_layer_sizes=(5, 5); total time=   0.0s\n",
      "[CV] END ........alpha=0.0001, hidden_layer_sizes=(100, 100); total time=   0.1s\n",
      "[CV] END ........alpha=0.0001, hidden_layer_sizes=(100, 100); total time=   0.1s\n",
      "[CV] END ........alpha=0.0001, hidden_layer_sizes=(100, 100); total time=   0.0s\n",
      "[CV] END ........alpha=0.0001, hidden_layer_sizes=(100, 100); total time=   0.1s\n",
      "[CV] END ........alpha=0.0001, hidden_layer_sizes=(100, 100); total time=   0.0s\n"
     ]
    }
   ],
   "source": [
    "mlp_cv_model = GridSearchCV(mlp_model, mlp_params, cv=5, verbose=2).fit(X_train_scaled, y_train)"
   ]
  },
  {
   "cell_type": "code",
   "execution_count": 35,
   "id": "6f6653e9-9b45-4141-8793-1904df8e0ac1",
   "metadata": {},
   "outputs": [
    {
     "data": {
      "text/plain": [
       "{'alpha': 0.001, 'hidden_layer_sizes': (100, 100)}"
      ]
     },
     "execution_count": 35,
     "metadata": {},
     "output_type": "execute_result"
    }
   ],
   "source": [
    "mlp_cv_model.best_params_"
   ]
  },
  {
   "cell_type": "code",
   "execution_count": 42,
   "id": "c9163696-1cfa-4665-a18b-849f323a5c17",
   "metadata": {},
   "outputs": [],
   "source": [
    "#final\n",
    "mlp_tuned = MLPRegressor(alpha = 0.001, hidden_layer_sizes = (100,100)).fit(X_train_scaled,y_train)"
   ]
  },
  {
   "cell_type": "code",
   "execution_count": 43,
   "id": "016ee9e5-98fb-4205-893c-50493f15c7a6",
   "metadata": {},
   "outputs": [],
   "source": [
    "y_pred = mlp_tuned.predict(X_test_scaled)"
   ]
  },
  {
   "cell_type": "code",
   "execution_count": 44,
   "id": "4fe079b0-cfd6-4c1a-9ca3-d9bfc9044116",
   "metadata": {},
   "outputs": [
    {
     "data": {
      "text/plain": [
       "358.7420333228838"
      ]
     },
     "execution_count": 44,
     "metadata": {},
     "output_type": "execute_result"
    }
   ],
   "source": [
    "np.sqrt(mean_squared_error(y_test, y_pred))"
   ]
  },
  {
   "cell_type": "markdown",
   "id": "edd91fda-f098-4559-91b4-6e48c790caaf",
   "metadata": {},
   "source": [
    "# CART (Classification and Regression Tree)"
   ]
  },
  {
   "cell_type": "code",
   "execution_count": 45,
   "id": "d180047a-7927-436d-8154-663c95d2ef61",
   "metadata": {},
   "outputs": [],
   "source": [
    "df = pd.read_csv(\"Hitters.csv\")\n",
    "df = df.dropna()\n",
    "dms = pd.get_dummies(df[['League','Division',\"NewLeague\"]])\n",
    "y = df[\"Salary\"]\n",
    "X_ = df.drop(['Salary','League','Division','NewLeague'], axis=1).astype('float64')\n",
    "X = pd.concat([X_, dms[['League_N','Division_W','NewLeague_N']]], axis=1)\n",
    "X_train, X_test, y_train, y_test = train_test_split(X,y,test_size=0.25, random_state=42)"
   ]
  },
  {
   "cell_type": "code",
   "execution_count": 46,
   "id": "4f5bf859-7129-464a-ba58-b71abb3c9e7c",
   "metadata": {},
   "outputs": [],
   "source": [
    "X_train = pd.DataFrame(X_train[\"Hits\"])\n",
    "X_test = pd.DataFrame(X_test[\"Hits\"])"
   ]
  },
  {
   "cell_type": "code",
   "execution_count": null,
   "id": "fa3bacd2-91f8-44e1-9c91-09f9795f4c3b",
   "metadata": {},
   "outputs": [],
   "source": [
    "#model ve tahmin"
   ]
  },
  {
   "cell_type": "code",
   "execution_count": 54,
   "id": "9a087a77-8e80-48fd-ba16-7b30dc5bf01e",
   "metadata": {},
   "outputs": [],
   "source": [
    "cart_model = DecisionTreeRegressor(max_leaf_nodes = 10)"
   ]
  },
  {
   "cell_type": "code",
   "execution_count": 55,
   "id": "2e85d92f-56ff-4f7c-87cc-471fa51728c4",
   "metadata": {},
   "outputs": [
    {
     "data": {
      "text/plain": [
       "DecisionTreeRegressor(max_leaf_nodes=10)"
      ]
     },
     "execution_count": 55,
     "metadata": {},
     "output_type": "execute_result"
    }
   ],
   "source": [
    "cart_model.fit(X_train, y_train)"
   ]
  },
  {
   "cell_type": "code",
   "execution_count": 56,
   "id": "8192c489-df26-4802-84a5-392adb3329a3",
   "metadata": {},
   "outputs": [
    {
     "data": {
      "text/plain": [
       "Text(0, 0.5, 'Maas(Salary)')"
      ]
     },
     "execution_count": 56,
     "metadata": {},
     "output_type": "execute_result"
    },
    {
     "data": {
      "image/png": "[encoded data removed]",
      "text/plain": [
       "<Figure size 432x288 with 1 Axes>"
      ]
     },
     "metadata": {
      "needs_background": "light"
     },
     "output_type": "display_data"
    }
   ],
   "source": [
    "#kural noktalarini gosterebilmek icin bir izgara(grid) islemi yapildi. min ve max goz onunde bulundurulacak.\n",
    "X_grid = np.arange(min(np.array(X_train)), max(np.array(X_train)), 0.01)\n",
    "X_grid = X_grid.reshape((len(X_grid), 1))\n",
    "\n",
    "#bir sacilim grafigi olusturuldu.\n",
    "plt.scatter(X_train, y_train, color='red')\n",
    "#bu gridin ustune modele iliskin bilgilerin gorsellestirilmesi yapildi.\n",
    "plt.plot(X_grid, cart_model.predict(X_grid), color='blue')\n",
    "\n",
    "plt.title('Cart Regresyon Agaci')\n",
    "plt.xlabel('Atis Sayisi(Hits)')\n",
    "plt.ylabel('Maas(Salary)')"
   ]
  },
  {
   "cell_type": "code",
   "execution_count": 57,
   "id": "754dce6a-5ecb-422a-9ed6-2962886cc68f",
   "metadata": {},
   "outputs": [],
   "source": [
    "#tek degiskenli tahmin"
   ]
  },
  {
   "cell_type": "code",
   "execution_count": 58,
   "id": "7044e38d-db75-4273-ba6a-cd3d6b51a718",
   "metadata": {},
   "outputs": [
    {
     "data": {
      "text/plain": [
       "array([621.96792308, 958.61111111, 621.96792308, 345.20115517,\n",
       "       345.20115517])"
      ]
     },
     "execution_count": 58,
     "metadata": {},
     "output_type": "execute_result"
    }
   ],
   "source": [
    "cart_model.predict(X_test)[0:5]"
   ]
  },
  {
   "cell_type": "code",
   "execution_count": 59,
   "id": "4d2e5140-9b1e-4fdd-9cb1-7dab56a28df3",
   "metadata": {},
   "outputs": [
    {
     "data": {
      "text/plain": [
       "486.34593105235456"
      ]
     },
     "execution_count": 59,
     "metadata": {},
     "output_type": "execute_result"
    }
   ],
   "source": [
    "y_pred = cart_model.predict(X_test)\n",
    "np.sqrt(mean_squared_error(y_test,y_pred))"
   ]
  },
  {
   "cell_type": "code",
   "execution_count": 60,
   "id": "59d8594f-e656-4aa7-9fc0-fc7713c25590",
   "metadata": {},
   "outputs": [],
   "source": [
    "#tum degiskenler"
   ]
  },
  {
   "cell_type": "code",
   "execution_count": 61,
   "id": "8beb446d-6b0e-46f4-9d9c-546aa84e1ea0",
   "metadata": {},
   "outputs": [],
   "source": [
    "df = pd.read_csv(\"Hitters.csv\")\n",
    "df = df.dropna()\n",
    "dms = pd.get_dummies(df[['League','Division',\"NewLeague\"]])\n",
    "y = df[\"Salary\"]\n",
    "X_ = df.drop(['Salary','League','Division','NewLeague'], axis=1).astype('float64')\n",
    "X = pd.concat([X_, dms[['League_N','Division_W','NewLeague_N']]], axis=1)\n",
    "X_train, X_test, y_train, y_test = train_test_split(X,y,test_size=0.25, random_state=42)"
   ]
  },
  {
   "cell_type": "code",
   "execution_count": 62,
   "id": "dcba28fc-e4e3-4f4f-a6c6-a86cd75e08dc",
   "metadata": {},
   "outputs": [],
   "source": [
    "cart_model = DecisionTreeRegressor().fit(X_train,y_train)"
   ]
  },
  {
   "cell_type": "code",
   "execution_count": 63,
   "id": "118f6042-7845-4466-932b-576420e9b36f",
   "metadata": {},
   "outputs": [
    {
     "data": {
      "text/plain": [
       "490.59906977426976"
      ]
     },
     "execution_count": 63,
     "metadata": {},
     "output_type": "execute_result"
    }
   ],
   "source": [
    "y_pred = cart_model.predict(X_test)\n",
    "np.sqrt(mean_squared_error(y_test,y_pred))"
   ]
  },
  {
   "cell_type": "markdown",
   "id": "525d1839-5be9-4ad6-9375-4edbe96c7381",
   "metadata": {},
   "source": [
    "# Model Tuning"
   ]
  },
  {
   "cell_type": "code",
   "execution_count": 64,
   "id": "0eccc7c1-5a91-491a-9a5c-8ed63dacf415",
   "metadata": {},
   "outputs": [
    {
     "data": {
      "text/plain": [
       "DecisionTreeRegressor()"
      ]
     },
     "execution_count": 64,
     "metadata": {},
     "output_type": "execute_result"
    }
   ],
   "source": [
    "cart_model\n",
    "#CART algoritmasi, genellenebilirlik kaygisi olmayan, mevcut durumu ifade etmek icin makine ogrenme algoritmasi kullanmamiz gereken senaryolarda\n",
    "# en basarili algoritmalardan biridir. Hedef degiskene gore diger bagimsiz degiskenlerin barindirdigi bilgilerin nasil homojenlestirilmesi gerektigini en iyi ortaya koyan algoritmalardan birisidir."
   ]
  },
  {
   "cell_type": "code",
   "execution_count": 69,
   "id": "1d03c578-1030-49cd-ad82-63c4e6d5ba92",
   "metadata": {},
   "outputs": [
    {
     "data": {
      "text/plain": [
       "463.45681552900174"
      ]
     },
     "execution_count": 69,
     "metadata": {},
     "output_type": "execute_result"
    }
   ],
   "source": [
    "cart_model = DecisionTreeRegressor(max_depth=5).fit(X_train,y_train)\n",
    "y_pred = cart_model.predict(X_test)\n",
    "np.sqrt(mean_squared_error(y_test,y_pred))"
   ]
  },
  {
   "cell_type": "code",
   "execution_count": 70,
   "id": "9b1d92b2-1c8f-44e2-97d1-4d309015faf3",
   "metadata": {
    "collapsed": true,
    "jupyter": {
     "outputs_hidden": true
    },
    "tags": []
   },
   "outputs": [
    {
     "data": {
      "text/plain": [
       "\u001b[1;31mType:\u001b[0m        DecisionTreeRegressor\n",
       "\u001b[1;31mString form:\u001b[0m DecisionTreeRegressor(max_depth=5)\n",
       "\u001b[1;31mFile:\u001b[0m        c:\\users\\burak\\anaconda3\\lib\\site-packages\\sklearn\\tree\\_classes.py\n",
       "\u001b[1;31mDocstring:\u001b[0m  \n",
       "A decision tree regressor.\n",
       "\n",
       "Read more in the :ref:`User Guide <tree>`.\n",
       "\n",
       "Parameters\n",
       "----------\n",
       "criterion : {\"mse\", \"friedman_mse\", \"mae\", \"poisson\"}, default=\"mse\"\n",
       "    The function to measure the quality of a split. Supported criteria\n",
       "    are \"mse\" for the mean squared error, which is equal to variance\n",
       "    reduction as feature selection criterion and minimizes the L2 loss\n",
       "    using the mean of each terminal node, \"friedman_mse\", which uses mean\n",
       "    squared error with Friedman's improvement score for potential splits,\n",
       "    \"mae\" for the mean absolute error, which minimizes the L1 loss using\n",
       "    the median of each terminal node, and \"poisson\" which uses reduction in\n",
       "    Poisson deviance to find splits.\n",
       "\n",
       "    .. versionadded:: 0.18\n",
       "       Mean Absolute Error (MAE) criterion.\n",
       "\n",
       "    .. versionadded:: 0.24\n",
       "        Poisson deviance criterion.\n",
       "\n",
       "splitter : {\"best\", \"random\"}, default=\"best\"\n",
       "    The strategy used to choose the split at each node. Supported\n",
       "    strategies are \"best\" to choose the best split and \"random\" to choose\n",
       "    the best random split.\n",
       "\n",
       "max_depth : int, default=None\n",
       "    The maximum depth of the tree. If None, then nodes are expanded until\n",
       "    all leaves are pure or until all leaves contain less than\n",
       "    min_samples_split samples.\n",
       "\n",
       "min_samples_split : int or float, default=2\n",
       "    The minimum number of samples required to split an internal node:\n",
       "\n",
       "    - If int, then consider `min_samples_split` as the minimum number.\n",
       "    - If float, then `min_samples_split` is a fraction and\n",
       "      `ceil(min_samples_split * n_samples)` are the minimum\n",
       "      number of samples for each split.\n",
       "\n",
       "    .. versionchanged:: 0.18\n",
       "       Added float values for fractions.\n",
       "\n",
       "min_samples_leaf : int or float, default=1\n",
       "    The minimum number of samples required to be at a leaf node.\n",
       "    A split point at any depth will only be considered if it leaves at\n",
       "    least ``min_samples_leaf`` training samples in each of the left and\n",
       "    right branches.  This may have the effect of smoothing the model,\n",
       "    especially in regression.\n",
       "\n",
       "    - If int, then consider `min_samples_leaf` as the minimum number.\n",
       "    - If float, then `min_samples_leaf` is a fraction and\n",
       "      `ceil(min_samples_leaf * n_samples)` are the minimum\n",
       "      number of samples for each node.\n",
       "\n",
       "    .. versionchanged:: 0.18\n",
       "       Added float values for fractions.\n",
       "\n",
       "min_weight_fraction_leaf : float, default=0.0\n",
       "    The minimum weighted fraction of the sum total of weights (of all\n",
       "    the input samples) required to be at a leaf node. Samples have\n",
       "    equal weight when sample_weight is not provided.\n",
       "\n",
       "max_features : int, float or {\"auto\", \"sqrt\", \"log2\"}, default=None\n",
       "    The number of features to consider when looking for the best split:\n",
       "\n",
       "    - If int, then consider `max_features` features at each split.\n",
       "    - If float, then `max_features` is a fraction and\n",
       "      `int(max_features * n_features)` features are considered at each\n",
       "      split.\n",
       "    - If \"auto\", then `max_features=n_features`.\n",
       "    - If \"sqrt\", then `max_features=sqrt(n_features)`.\n",
       "    - If \"log2\", then `max_features=log2(n_features)`.\n",
       "    - If None, then `max_features=n_features`.\n",
       "\n",
       "    Note: the search for a split does not stop until at least one\n",
       "    valid partition of the node samples is found, even if it requires to\n",
       "    effectively inspect more than ``max_features`` features.\n",
       "\n",
       "random_state : int, RandomState instance or None, default=None\n",
       "    Controls the randomness of the estimator. The features are always\n",
       "    randomly permuted at each split, even if ``splitter`` is set to\n",
       "    ``\"best\"``. When ``max_features < n_features``, the algorithm will\n",
       "    select ``max_features`` at random at each split before finding the best\n",
       "    split among them. But the best found split may vary across different\n",
       "    runs, even if ``max_features=n_features``. That is the case, if the\n",
       "    improvement of the criterion is identical for several splits and one\n",
       "    split has to be selected at random. To obtain a deterministic behaviour\n",
       "    during fitting, ``random_state`` has to be fixed to an integer.\n",
       "    See :term:`Glossary <random_state>` for details.\n",
       "\n",
       "max_leaf_nodes : int, default=None\n",
       "    Grow a tree with ``max_leaf_nodes`` in best-first fashion.\n",
       "    Best nodes are defined as relative reduction in impurity.\n",
       "    If None then unlimited number of leaf nodes.\n",
       "\n",
       "min_impurity_decrease : float, default=0.0\n",
       "    A node will be split if this split induces a decrease of the impurity\n",
       "    greater than or equal to this value.\n",
       "\n",
       "    The weighted impurity decrease equation is the following::\n",
       "\n",
       "        N_t / N * (impurity - N_t_R / N_t * right_impurity\n",
       "                            - N_t_L / N_t * left_impurity)\n",
       "\n",
       "    where ``N`` is the total number of samples, ``N_t`` is the number of\n",
       "    samples at the current node, ``N_t_L`` is the number of samples in the\n",
       "    left child, and ``N_t_R`` is the number of samples in the right child.\n",
       "\n",
       "    ``N``, ``N_t``, ``N_t_R`` and ``N_t_L`` all refer to the weighted sum,\n",
       "    if ``sample_weight`` is passed.\n",
       "\n",
       "    .. versionadded:: 0.19\n",
       "\n",
       "min_impurity_split : float, default=0\n",
       "    Threshold for early stopping in tree growth. A node will split\n",
       "    if its impurity is above the threshold, otherwise it is a leaf.\n",
       "\n",
       "    .. deprecated:: 0.19\n",
       "       ``min_impurity_split`` has been deprecated in favor of\n",
       "       ``min_impurity_decrease`` in 0.19. The default value of\n",
       "       ``min_impurity_split`` has changed from 1e-7 to 0 in 0.23 and it\n",
       "       will be removed in 1.0 (renaming of 0.25).\n",
       "       Use ``min_impurity_decrease`` instead.\n",
       "\n",
       "ccp_alpha : non-negative float, default=0.0\n",
       "    Complexity parameter used for Minimal Cost-Complexity Pruning. The\n",
       "    subtree with the largest cost complexity that is smaller than\n",
       "    ``ccp_alpha`` will be chosen. By default, no pruning is performed. See\n",
       "    :ref:`minimal_cost_complexity_pruning` for details.\n",
       "\n",
       "    .. versionadded:: 0.22\n",
       "\n",
       "Attributes\n",
       "----------\n",
       "feature_importances_ : ndarray of shape (n_features,)\n",
       "    The feature importances.\n",
       "    The higher, the more important the feature.\n",
       "    The importance of a feature is computed as the\n",
       "    (normalized) total reduction of the criterion brought\n",
       "    by that feature. It is also known as the Gini importance [4]_.\n",
       "\n",
       "    Warning: impurity-based feature importances can be misleading for\n",
       "    high cardinality features (many unique values). See\n",
       "    :func:`sklearn.inspection.permutation_importance` as an alternative.\n",
       "\n",
       "max_features_ : int\n",
       "    The inferred value of max_features.\n",
       "\n",
       "n_features_ : int\n",
       "    The number of features when ``fit`` is performed.\n",
       "\n",
       "n_outputs_ : int\n",
       "    The number of outputs when ``fit`` is performed.\n",
       "\n",
       "tree_ : Tree instance\n",
       "    The underlying Tree object. Please refer to\n",
       "    ``help(sklearn.tree._tree.Tree)`` for attributes of Tree object and\n",
       "    :ref:`sphx_glr_auto_examples_tree_plot_unveil_tree_structure.py`\n",
       "    for basic usage of these attributes.\n",
       "\n",
       "See Also\n",
       "--------\n",
       "DecisionTreeClassifier : A decision tree classifier.\n",
       "\n",
       "Notes\n",
       "-----\n",
       "The default values for the parameters controlling the size of the trees\n",
       "(e.g. ``max_depth``, ``min_samples_leaf``, etc.) lead to fully grown and\n",
       "unpruned trees which can potentially be very large on some data sets. To\n",
       "reduce memory consumption, the complexity and size of the trees should be\n",
       "controlled by setting those parameter values.\n",
       "\n",
       "References\n",
       "----------\n",
       "\n",
       ".. [1] https://en.wikipedia.org/wiki/Decision_tree_learning\n",
       "\n",
       ".. [2] L. Breiman, J. Friedman, R. Olshen, and C. Stone, \"Classification\n",
       "       and Regression Trees\", Wadsworth, Belmont, CA, 1984.\n",
       "\n",
       ".. [3] T. Hastie, R. Tibshirani and J. Friedman. \"Elements of Statistical\n",
       "       Learning\", Springer, 2009.\n",
       "\n",
       ".. [4] L. Breiman, and A. Cutler, \"Random Forests\",\n",
       "       https://www.stat.berkeley.edu/~breiman/RandomForests/cc_home.htm\n",
       "\n",
       "Examples\n",
       "--------\n",
       ">>> from sklearn.datasets import load_diabetes\n",
       ">>> from sklearn.model_selection import cross_val_score\n",
       ">>> from sklearn.tree import DecisionTreeRegressor\n",
       ">>> X, y = load_diabetes(return_X_y=True)\n",
       ">>> regressor = DecisionTreeRegressor(random_state=0)\n",
       ">>> cross_val_score(regressor, X, y, cv=10)\n",
       "...                    # doctest: +SKIP\n",
       "...\n",
       "array([-0.39..., -0.46...,  0.02...,  0.06..., -0.50...,\n",
       "       0.16...,  0.11..., -0.73..., -0.30..., -0.00...])\n"
      ]
     },
     "metadata": {},
     "output_type": "display_data"
    }
   ],
   "source": [
    "?cart_model"
   ]
  },
  {
   "cell_type": "code",
   "execution_count": 71,
   "id": "f0969f16-1239-48bb-95c9-c56b5dfd74bb",
   "metadata": {},
   "outputs": [],
   "source": [
    "cart_params = {\"max_depth\": [2,3,4,5,10,20],\n",
    "              \"min_samples_split\": [2,10,5,30,50,100]}"
   ]
  },
  {
   "cell_type": "code",
   "execution_count": 72,
   "id": "e633d38b-cff5-4981-9b0a-78a5d17b37f5",
   "metadata": {},
   "outputs": [],
   "source": [
    "cart_model = DecisionTreeRegressor()"
   ]
  },
  {
   "cell_type": "code",
   "execution_count": 73,
   "id": "16618700-172f-4a6b-b7a4-c8d72f25bfcf",
   "metadata": {},
   "outputs": [],
   "source": [
    "cart_cv_model = GridSearchCV(cart_model, cart_params, cv=10).fit(X_train, y_train)"
   ]
  },
  {
   "cell_type": "code",
   "execution_count": 74,
   "id": "c14be166-a1f3-45bf-8c0f-c07f0442606c",
   "metadata": {},
   "outputs": [
    {
     "data": {
      "text/plain": [
       "{'max_depth': 5, 'min_samples_split': 50}"
      ]
     },
     "execution_count": 74,
     "metadata": {},
     "output_type": "execute_result"
    }
   ],
   "source": [
    "cart_cv_model.best_params_"
   ]
  },
  {
   "cell_type": "code",
   "execution_count": 75,
   "id": "336e1fc2-4ad6-4400-ae4e-9148e540eefc",
   "metadata": {},
   "outputs": [],
   "source": [
    "#final model"
   ]
  },
  {
   "cell_type": "code",
   "execution_count": 79,
   "id": "afa9e40e-b43b-44a4-8d95-856cc987f3c6",
   "metadata": {},
   "outputs": [],
   "source": [
    "cart_tuned_model = DecisionTreeRegressor(max_depth = 10, min_samples_split=50).fit(X_train,y_train)"
   ]
  },
  {
   "cell_type": "code",
   "execution_count": 80,
   "id": "63422845-4b96-494a-8131-a82b6ab2d18d",
   "metadata": {},
   "outputs": [
    {
     "data": {
      "text/plain": [
       "361.0876906511434"
      ]
     },
     "execution_count": 80,
     "metadata": {},
     "output_type": "execute_result"
    }
   ],
   "source": [
    "y_pred = cart_tuned_model.predict(X_test)\n",
    "np.sqrt(mean_squared_error(y_test,y_pred))\n",
    "#ilkel hata olan 490'dan 361'e kadar inmis oldu."
   ]
  },
  {
   "cell_type": "markdown",
   "id": "e4e70e05-c3d9-4d9a-a045-73327f21dae1",
   "metadata": {},
   "source": [
    "# Random Forests"
   ]
  },
  {
   "cell_type": "code",
   "execution_count": 4,
   "id": "617cf5d1-5d9d-4e0a-a385-b170b30ea36f",
   "metadata": {},
   "outputs": [],
   "source": [
    "df = pd.read_csv(\"Hitters.csv\")\n",
    "df = df.dropna()\n",
    "dms = pd.get_dummies(df[['League','Division',\"NewLeague\"]])\n",
    "y = df[\"Salary\"]\n",
    "X_ = df.drop(['Salary','League','Division','NewLeague'], axis=1).astype('float64')\n",
    "X = pd.concat([X_, dms[['League_N','Division_W','NewLeague_N']]], axis=1)\n",
    "X_train, X_test, y_train, y_test = train_test_split(X,y,test_size=0.25, random_state=42)"
   ]
  },
  {
   "cell_type": "markdown",
   "id": "1001c18e-93d0-4c5d-b301-b8606f61b1ad",
   "metadata": {},
   "source": [
    "### Model&Tahmin"
   ]
  },
  {
   "cell_type": "code",
   "execution_count": 5,
   "id": "c500efe7-5f57-4427-ad98-7e68362f9272",
   "metadata": {},
   "outputs": [],
   "source": [
    "rf_model = RandomForestRegressor(random_state = 42 ).fit(X_train, y_train)"
   ]
  },
  {
   "cell_type": "code",
   "execution_count": 6,
   "id": "c950d5cb-3b18-4273-afa2-3c1179743c9a",
   "metadata": {},
   "outputs": [
    {
     "data": {
      "text/plain": [
       "RandomForestRegressor(random_state=42)"
      ]
     },
     "execution_count": 6,
     "metadata": {},
     "output_type": "execute_result"
    }
   ],
   "source": [
    "rf_model"
   ]
  },
  {
   "cell_type": "code",
   "execution_count": 7,
   "id": "eefefd55-0ef9-4640-82a3-aeacec77256f",
   "metadata": {},
   "outputs": [
    {
     "data": {
      "text/plain": [
       "344.8191624908484"
      ]
     },
     "execution_count": 7,
     "metadata": {},
     "output_type": "execute_result"
    }
   ],
   "source": [
    "y_pred = rf_model.predict(X_test)\n",
    "np.sqrt(mean_squared_error(y_test,y_pred)) #344 bizim ilkel hatamiz."
   ]
  },
  {
   "cell_type": "markdown",
   "id": "dbc765b4-07ff-4d46-9882-e41d51f9b18d",
   "metadata": {},
   "source": [
    "### Model Tuning"
   ]
  },
  {
   "cell_type": "code",
   "execution_count": 10,
   "id": "592c40e4-d967-4861-9a16-ce0c91ac3f10",
   "metadata": {},
   "outputs": [],
   "source": [
    "rf_params = {\"max_depth\": [5,8,10],\n",
    "            \"max_features\": [2,5,10],\n",
    "            \"n_estimators\": [200,500,1000,2000],#agaclar. makalelerde en iyi 500 ve 2000 deniyor.\n",
    "            \"min_samples_split\": [2,10,80,100]} "
   ]
  },
  {
   "cell_type": "code",
   "execution_count": 11,
   "id": "79da6866-f253-41d8-a106-2197573bff4b",
   "metadata": {
    "collapsed": true,
    "jupyter": {
     "outputs_hidden": true
    },
    "tags": []
   },
   "outputs": [
    {
     "name": "stdout",
     "output_type": "stream",
     "text": [
      "Fitting 10 folds for each of 144 candidates, totalling 1440 fits\n",
      "[CV] END max_depth=5, max_features=2, min_samples_split=2, n_estimators=200; total time=   0.0s\n",
      "[CV] END max_depth=5, max_features=2, min_samples_split=2, n_estimators=200; total time=   0.0s\n",
      "[CV] END max_depth=5, max_features=2, min_samples_split=2, n_estimators=200; total time=   0.1s\n",
      "[CV] END max_depth=5, max_features=2, min_samples_split=2, n_estimators=200; total time=   0.0s\n",
      "[CV] END max_depth=5, max_features=2, min_samples_split=2, n_estimators=200; total time=   0.0s\n",
      "[CV] END max_depth=5, max_features=2, min_samples_split=2, n_estimators=200; total time=   0.0s\n",
      "[CV] END max_depth=5, max_features=2, min_samples_split=2, n_estimators=200; total time=   0.0s\n",
      "[CV] END max_depth=5, max_features=2, min_samples_split=2, n_estimators=200; total time=   0.0s\n",
      "[CV] END max_depth=5, max_features=2, min_samples_split=2, n_estimators=200; total time=   0.0s\n",
      "[CV] END max_depth=5, max_features=2, min_samples_split=2, n_estimators=200; total time=   0.0s\n",
      "[CV] END max_depth=5, max_features=2, min_samples_split=2, n_estimators=500; total time=   0.2s\n",
      "[CV] END max_depth=5, max_features=2, min_samples_split=2, n_estimators=500; total time=   0.2s\n",
      "[CV] END max_depth=5, max_features=2, min_samples_split=2, n_estimators=500; total time=   0.2s\n",
      "[CV] END max_depth=5, max_features=2, min_samples_split=2, n_estimators=500; total time=   0.2s\n",
      "[CV] END max_depth=5, max_features=2, min_samples_split=2, n_estimators=500; total time=   0.2s\n",
      "[CV] END max_depth=5, max_features=2, min_samples_split=2, n_estimators=500; total time=   0.2s\n",
      "[CV] END max_depth=5, max_features=2, min_samples_split=2, n_estimators=500; total time=   0.2s\n",
      "[CV] END max_depth=5, max_features=2, min_samples_split=2, n_estimators=500; total time=   0.2s\n",
      "[CV] END max_depth=5, max_features=2, min_samples_split=2, n_estimators=500; total time=   0.2s\n",
      "[CV] END max_depth=5, max_features=2, min_samples_split=2, n_estimators=500; total time=   0.2s\n",
      "[CV] END max_depth=5, max_features=2, min_samples_split=2, n_estimators=1000; total time=   0.5s\n",
      "[CV] END max_depth=5, max_features=2, min_samples_split=2, n_estimators=1000; total time=   0.5s\n",
      "[CV] END max_depth=5, max_features=2, min_samples_split=2, n_estimators=1000; total time=   0.5s\n",
      "[CV] END max_depth=5, max_features=2, min_samples_split=2, n_estimators=1000; total time=   0.5s\n",
      "[CV] END max_depth=5, max_features=2, min_samples_split=2, n_estimators=1000; total time=   0.5s\n",
      "[CV] END max_depth=5, max_features=2, min_samples_split=2, n_estimators=1000; total time=   0.5s\n",
      "[CV] END max_depth=5, max_features=2, min_samples_split=2, n_estimators=1000; total time=   0.5s\n",
      "[CV] END max_depth=5, max_features=2, min_samples_split=2, n_estimators=1000; total time=   0.5s\n",
      "[CV] END max_depth=5, max_features=2, min_samples_split=2, n_estimators=1000; total time=   0.5s\n",
      "[CV] END max_depth=5, max_features=2, min_samples_split=2, n_estimators=1000; total time=   0.5s\n",
      "[CV] END max_depth=5, max_features=2, min_samples_split=2, n_estimators=2000; total time=   1.2s\n",
      "[CV] END max_depth=5, max_features=2, min_samples_split=2, n_estimators=2000; total time=   1.1s\n",
      "[CV] END max_depth=5, max_features=2, min_samples_split=2, n_estimators=2000; total time=   1.1s\n",
      "[CV] END max_depth=5, max_features=2, min_samples_split=2, n_estimators=2000; total time=   1.1s\n",
      "[CV] END max_depth=5, max_features=2, min_samples_split=2, n_estimators=2000; total time=   1.2s\n",
      "[CV] END max_depth=5, max_features=2, min_samples_split=2, n_estimators=2000; total time=   1.2s\n",
      "[CV] END max_depth=5, max_features=2, min_samples_split=2, n_estimators=2000; total time=   1.2s\n",
      "[CV] END max_depth=5, max_features=2, min_samples_split=2, n_estimators=2000; total time=   1.1s\n",
      "[CV] END max_depth=5, max_features=2, min_samples_split=2, n_estimators=2000; total time=   1.1s\n",
      "[CV] END max_depth=5, max_features=2, min_samples_split=2, n_estimators=2000; total time=   1.1s\n",
      "[CV] END max_depth=5, max_features=2, min_samples_split=10, n_estimators=200; total time=   0.0s\n",
      "[CV] END max_depth=5, max_features=2, min_samples_split=10, n_estimators=200; total time=   0.0s\n",
      "[CV] END max_depth=5, max_features=2, min_samples_split=10, n_estimators=200; total time=   0.0s\n",
      "[CV] END max_depth=5, max_features=2, min_samples_split=10, n_estimators=200; total time=   0.0s\n",
      "[CV] END max_depth=5, max_features=2, min_samples_split=10, n_estimators=200; total time=   0.0s\n",
      "[CV] END max_depth=5, max_features=2, min_samples_split=10, n_estimators=200; total time=   0.0s\n",
      "[CV] END max_depth=5, max_features=2, min_samples_split=10, n_estimators=200; total time=   0.0s\n",
      "[CV] END max_depth=5, max_features=2, min_samples_split=10, n_estimators=200; total time=   0.0s\n",
      "[CV] END max_depth=5, max_features=2, min_samples_split=10, n_estimators=200; total time=   0.0s\n",
      "[CV] END max_depth=5, max_features=2, min_samples_split=10, n_estimators=200; total time=   0.0s\n",
      "[CV] END max_depth=5, max_features=2, min_samples_split=10, n_estimators=500; total time=   0.2s\n",
      "[CV] END max_depth=5, max_features=2, min_samples_split=10, n_estimators=500; total time=   0.2s\n",
      "[CV] END max_depth=5, max_features=2, min_samples_split=10, n_estimators=500; total time=   0.2s\n",
      "[CV] END max_depth=5, max_features=2, min_samples_split=10, n_estimators=500; total time=   0.2s\n",
      "[CV] END max_depth=5, max_features=2, min_samples_split=10, n_estimators=500; total time=   0.2s\n",
      "[CV] END max_depth=5, max_features=2, min_samples_split=10, n_estimators=500; total time=   0.2s\n",
      "[CV] END max_depth=5, max_features=2, min_samples_split=10, n_estimators=500; total time=   0.2s\n",
      "[CV] END max_depth=5, max_features=2, min_samples_split=10, n_estimators=500; total time=   0.2s\n",
      "[CV] END max_depth=5, max_features=2, min_samples_split=10, n_estimators=500; total time=   0.2s\n",
      "[CV] END max_depth=5, max_features=2, min_samples_split=10, n_estimators=500; total time=   0.2s\n",
      "[CV] END max_depth=5, max_features=2, min_samples_split=10, n_estimators=1000; total time=   0.5s\n",
      "[CV] END max_depth=5, max_features=2, min_samples_split=10, n_estimators=1000; total time=   0.5s\n",
      "[CV] END max_depth=5, max_features=2, min_samples_split=10, n_estimators=1000; total time=   0.5s\n",
      "[CV] END max_depth=5, max_features=2, min_samples_split=10, n_estimators=1000; total time=   0.5s\n",
      "[CV] END max_depth=5, max_features=2, min_samples_split=10, n_estimators=1000; total time=   0.5s\n",
      "[CV] END max_depth=5, max_features=2, min_samples_split=10, n_estimators=1000; total time=   0.5s\n",
      "[CV] END max_depth=5, max_features=2, min_samples_split=10, n_estimators=1000; total time=   0.5s\n",
      "[CV] END max_depth=5, max_features=2, min_samples_split=10, n_estimators=1000; total time=   0.5s\n",
      "[CV] END max_depth=5, max_features=2, min_samples_split=10, n_estimators=1000; total time=   0.5s\n",
      "[CV] END max_depth=5, max_features=2, min_samples_split=10, n_estimators=1000; total time=   0.5s\n",
      "[CV] END max_depth=5, max_features=2, min_samples_split=10, n_estimators=2000; total time=   1.1s\n",
      "[CV] END max_depth=5, max_features=2, min_samples_split=10, n_estimators=2000; total time=   1.1s\n",
      "[CV] END max_depth=5, max_features=2, min_samples_split=10, n_estimators=2000; total time=   1.1s\n",
      "[CV] END max_depth=5, max_features=2, min_samples_split=10, n_estimators=2000; total time=   1.1s\n",
      "[CV] END max_depth=5, max_features=2, min_samples_split=10, n_estimators=2000; total time=   1.1s\n",
      "[CV] END max_depth=5, max_features=2, min_samples_split=10, n_estimators=2000; total time=   1.1s\n",
      "[CV] END max_depth=5, max_features=2, min_samples_split=10, n_estimators=2000; total time=   1.1s\n",
      "[CV] END max_depth=5, max_features=2, min_samples_split=10, n_estimators=2000; total time=   1.1s\n",
      "[CV] END max_depth=5, max_features=2, min_samples_split=10, n_estimators=2000; total time=   1.1s\n",
      "[CV] END max_depth=5, max_features=2, min_samples_split=10, n_estimators=2000; total time=   1.1s\n",
      "[CV] END max_depth=5, max_features=2, min_samples_split=80, n_estimators=200; total time=   0.0s\n",
      "[CV] END max_depth=5, max_features=2, min_samples_split=80, n_estimators=200; total time=   0.0s\n",
      "[CV] END max_depth=5, max_features=2, min_samples_split=80, n_estimators=200; total time=   0.0s\n",
      "[CV] END max_depth=5, max_features=2, min_samples_split=80, n_estimators=200; total time=   0.0s\n",
      "[CV] END max_depth=5, max_features=2, min_samples_split=80, n_estimators=200; total time=   0.0s\n",
      "[CV] END max_depth=5, max_features=2, min_samples_split=80, n_estimators=200; total time=   0.0s\n",
      "[CV] END max_depth=5, max_features=2, min_samples_split=80, n_estimators=200; total time=   0.0s\n",
      "[CV] END max_depth=5, max_features=2, min_samples_split=80, n_estimators=200; total time=   0.0s\n",
      "[CV] END max_depth=5, max_features=2, min_samples_split=80, n_estimators=200; total time=   0.0s\n",
      "[CV] END max_depth=5, max_features=2, min_samples_split=80, n_estimators=200; total time=   0.0s\n",
      "[CV] END max_depth=5, max_features=2, min_samples_split=80, n_estimators=500; total time=   0.2s\n",
      "[CV] END max_depth=5, max_features=2, min_samples_split=80, n_estimators=500; total time=   0.2s\n",
      "[CV] END max_depth=5, max_features=2, min_samples_split=80, n_estimators=500; total time=   0.2s\n",
      "[CV] END max_depth=5, max_features=2, min_samples_split=80, n_estimators=500; total time=   0.2s\n",
      "[CV] END max_depth=5, max_features=2, min_samples_split=80, n_estimators=500; total time=   0.2s\n",
      "[CV] END max_depth=5, max_features=2, min_samples_split=80, n_estimators=500; total time=   0.2s\n",
      "[CV] END max_depth=5, max_features=2, min_samples_split=80, n_estimators=500; total time=   0.2s\n",
      "[CV] END max_depth=5, max_features=2, min_samples_split=80, n_estimators=500; total time=   0.2s\n",
      "[CV] END max_depth=5, max_features=2, min_samples_split=80, n_estimators=500; total time=   0.2s\n",
      "[CV] END max_depth=5, max_features=2, min_samples_split=80, n_estimators=500; total time=   0.2s\n",
      "[CV] END max_depth=5, max_features=2, min_samples_split=80, n_estimators=1000; total time=   0.5s\n",
      "[CV] END max_depth=5, max_features=2, min_samples_split=80, n_estimators=1000; total time=   0.5s\n",
      "[CV] END max_depth=5, max_features=2, min_samples_split=80, n_estimators=1000; total time=   0.5s\n",
      "[CV] END max_depth=5, max_features=2, min_samples_split=80, n_estimators=1000; total time=   0.5s\n",
      "[CV] END max_depth=5, max_features=2, min_samples_split=80, n_estimators=1000; total time=   0.5s\n",
      "[CV] END max_depth=5, max_features=2, min_samples_split=80, n_estimators=1000; total time=   0.5s\n",
      "[CV] END max_depth=5, max_features=2, min_samples_split=80, n_estimators=1000; total time=   0.5s\n",
      "[CV] END max_depth=5, max_features=2, min_samples_split=80, n_estimators=1000; total time=   0.4s\n",
      "[CV] END max_depth=5, max_features=2, min_samples_split=80, n_estimators=1000; total time=   0.4s\n",
      "[CV] END max_depth=5, max_features=2, min_samples_split=80, n_estimators=1000; total time=   0.5s\n",
      "[CV] END max_depth=5, max_features=2, min_samples_split=80, n_estimators=2000; total time=   1.0s\n",
      "[CV] END max_depth=5, max_features=2, min_samples_split=80, n_estimators=2000; total time=   1.0s\n",
      "[CV] END max_depth=5, max_features=2, min_samples_split=80, n_estimators=2000; total time=   1.0s\n",
      "[CV] END max_depth=5, max_features=2, min_samples_split=80, n_estimators=2000; total time=   1.0s\n",
      "[CV] END max_depth=5, max_features=2, min_samples_split=80, n_estimators=2000; total time=   1.0s\n",
      "[CV] END max_depth=5, max_features=2, min_samples_split=80, n_estimators=2000; total time=   1.1s\n",
      "[CV] END max_depth=5, max_features=2, min_samples_split=80, n_estimators=2000; total time=   1.0s\n",
      "[CV] END max_depth=5, max_features=2, min_samples_split=80, n_estimators=2000; total time=   1.0s\n",
      "[CV] END max_depth=5, max_features=2, min_samples_split=80, n_estimators=2000; total time=   1.1s\n",
      "[CV] END max_depth=5, max_features=2, min_samples_split=80, n_estimators=2000; total time=   1.0s\n",
      "[CV] END max_depth=5, max_features=2, min_samples_split=100, n_estimators=200; total time=   0.0s\n",
      "[CV] END max_depth=5, max_features=2, min_samples_split=100, n_estimators=200; total time=   0.0s\n",
      "[CV] END max_depth=5, max_features=2, min_samples_split=100, n_estimators=200; total time=   0.0s\n",
      "[CV] END max_depth=5, max_features=2, min_samples_split=100, n_estimators=200; total time=   0.0s\n",
      "[CV] END max_depth=5, max_features=2, min_samples_split=100, n_estimators=200; total time=   0.0s\n",
      "[CV] END max_depth=5, max_features=2, min_samples_split=100, n_estimators=200; total time=   0.0s\n",
      "[CV] END max_depth=5, max_features=2, min_samples_split=100, n_estimators=200; total time=   0.0s\n",
      "[CV] END max_depth=5, max_features=2, min_samples_split=100, n_estimators=200; total time=   0.0s\n",
      "[CV] END max_depth=5, max_features=2, min_samples_split=100, n_estimators=200; total time=   0.0s\n",
      "[CV] END max_depth=5, max_features=2, min_samples_split=100, n_estimators=200; total time=   0.0s\n",
      "[CV] END max_depth=5, max_features=2, min_samples_split=100, n_estimators=500; total time=   0.2s\n",
      "[CV] END max_depth=5, max_features=2, min_samples_split=100, n_estimators=500; total time=   0.2s\n",
      "[CV] END max_depth=5, max_features=2, min_samples_split=100, n_estimators=500; total time=   0.2s\n",
      "[CV] END max_depth=5, max_features=2, min_samples_split=100, n_estimators=500; total time=   0.2s\n",
      "[CV] END max_depth=5, max_features=2, min_samples_split=100, n_estimators=500; total time=   0.2s\n",
      "[CV] END max_depth=5, max_features=2, min_samples_split=100, n_estimators=500; total time=   0.2s\n",
      "[CV] END max_depth=5, max_features=2, min_samples_split=100, n_estimators=500; total time=   0.2s\n",
      "[CV] END max_depth=5, max_features=2, min_samples_split=100, n_estimators=500; total time=   0.2s\n",
      "[CV] END max_depth=5, max_features=2, min_samples_split=100, n_estimators=500; total time=   0.2s\n",
      "[CV] END max_depth=5, max_features=2, min_samples_split=100, n_estimators=500; total time=   0.2s\n",
      "[CV] END max_depth=5, max_features=2, min_samples_split=100, n_estimators=1000; total time=   0.4s\n",
      "[CV] END max_depth=5, max_features=2, min_samples_split=100, n_estimators=1000; total time=   0.4s\n",
      "[CV] END max_depth=5, max_features=2, min_samples_split=100, n_estimators=1000; total time=   0.5s\n",
      "[CV] END max_depth=5, max_features=2, min_samples_split=100, n_estimators=1000; total time=   0.5s\n",
      "[CV] END max_depth=5, max_features=2, min_samples_split=100, n_estimators=1000; total time=   0.5s\n",
      "[CV] END max_depth=5, max_features=2, min_samples_split=100, n_estimators=1000; total time=   0.5s\n",
      "[CV] END max_depth=5, max_features=2, min_samples_split=100, n_estimators=1000; total time=   0.5s\n",
      "[CV] END max_depth=5, max_features=2, min_samples_split=100, n_estimators=1000; total time=   0.5s\n",
      "[CV] END max_depth=5, max_features=2, min_samples_split=100, n_estimators=1000; total time=   0.4s\n",
      "[CV] END max_depth=5, max_features=2, min_samples_split=100, n_estimators=1000; total time=   0.5s\n",
      "[CV] END max_depth=5, max_features=2, min_samples_split=100, n_estimators=2000; total time=   1.0s\n",
      "[CV] END max_depth=5, max_features=2, min_samples_split=100, n_estimators=2000; total time=   1.0s\n",
      "[CV] END max_depth=5, max_features=2, min_samples_split=100, n_estimators=2000; total time=   1.1s\n",
      "[CV] END max_depth=5, max_features=2, min_samples_split=100, n_estimators=2000; total time=   1.0s\n",
      "[CV] END max_depth=5, max_features=2, min_samples_split=100, n_estimators=2000; total time=   1.0s\n",
      "[CV] END max_depth=5, max_features=2, min_samples_split=100, n_estimators=2000; total time=   1.0s\n",
      "[CV] END max_depth=5, max_features=2, min_samples_split=100, n_estimators=2000; total time=   1.0s\n",
      "[CV] END max_depth=5, max_features=2, min_samples_split=100, n_estimators=2000; total time=   1.0s\n",
      "[CV] END max_depth=5, max_features=2, min_samples_split=100, n_estimators=2000; total time=   1.0s\n",
      "[CV] END max_depth=5, max_features=2, min_samples_split=100, n_estimators=2000; total time=   1.0s\n",
      "[CV] END max_depth=5, max_features=5, min_samples_split=2, n_estimators=200; total time=   0.0s\n",
      "[CV] END max_depth=5, max_features=5, min_samples_split=2, n_estimators=200; total time=   0.0s\n",
      "[CV] END max_depth=5, max_features=5, min_samples_split=2, n_estimators=200; total time=   0.0s\n",
      "[CV] END max_depth=5, max_features=5, min_samples_split=2, n_estimators=200; total time=   0.0s\n",
      "[CV] END max_depth=5, max_features=5, min_samples_split=2, n_estimators=200; total time=   0.0s\n",
      "[CV] END max_depth=5, max_features=5, min_samples_split=2, n_estimators=200; total time=   0.0s\n",
      "[CV] END max_depth=5, max_features=5, min_samples_split=2, n_estimators=200; total time=   0.0s\n",
      "[CV] END max_depth=5, max_features=5, min_samples_split=2, n_estimators=200; total time=   0.0s\n",
      "[CV] END max_depth=5, max_features=5, min_samples_split=2, n_estimators=200; total time=   0.0s\n",
      "[CV] END max_depth=5, max_features=5, min_samples_split=2, n_estimators=200; total time=   0.0s\n",
      "[CV] END max_depth=5, max_features=5, min_samples_split=2, n_estimators=500; total time=   0.2s\n",
      "[CV] END max_depth=5, max_features=5, min_samples_split=2, n_estimators=500; total time=   0.2s\n",
      "[CV] END max_depth=5, max_features=5, min_samples_split=2, n_estimators=500; total time=   0.2s\n",
      "[CV] END max_depth=5, max_features=5, min_samples_split=2, n_estimators=500; total time=   0.2s\n",
      "[CV] END max_depth=5, max_features=5, min_samples_split=2, n_estimators=500; total time=   0.2s\n",
      "[CV] END max_depth=5, max_features=5, min_samples_split=2, n_estimators=500; total time=   0.2s\n",
      "[CV] END max_depth=5, max_features=5, min_samples_split=2, n_estimators=500; total time=   0.2s\n",
      "[CV] END max_depth=5, max_features=5, min_samples_split=2, n_estimators=500; total time=   0.2s\n",
      "[CV] END max_depth=5, max_features=5, min_samples_split=2, n_estimators=500; total time=   0.2s\n",
      "[CV] END max_depth=5, max_features=5, min_samples_split=2, n_estimators=500; total time=   0.2s\n",
      "[CV] END max_depth=5, max_features=5, min_samples_split=2, n_estimators=1000; total time=   0.6s\n",
      "[CV] END max_depth=5, max_features=5, min_samples_split=2, n_estimators=1000; total time=   0.6s\n",
      "[CV] END max_depth=5, max_features=5, min_samples_split=2, n_estimators=1000; total time=   0.5s\n",
      "[CV] END max_depth=5, max_features=5, min_samples_split=2, n_estimators=1000; total time=   0.5s\n",
      "[CV] END max_depth=5, max_features=5, min_samples_split=2, n_estimators=1000; total time=   0.5s\n",
      "[CV] END max_depth=5, max_features=5, min_samples_split=2, n_estimators=1000; total time=   0.5s\n",
      "[CV] END max_depth=5, max_features=5, min_samples_split=2, n_estimators=1000; total time=   0.6s\n",
      "[CV] END max_depth=5, max_features=5, min_samples_split=2, n_estimators=1000; total time=   0.5s\n",
      "[CV] END max_depth=5, max_features=5, min_samples_split=2, n_estimators=1000; total time=   0.6s\n",
      "[CV] END max_depth=5, max_features=5, min_samples_split=2, n_estimators=1000; total time=   0.6s\n",
      "[CV] END max_depth=5, max_features=5, min_samples_split=2, n_estimators=2000; total time=   1.2s\n",
      "[CV] END max_depth=5, max_features=5, min_samples_split=2, n_estimators=2000; total time=   1.2s\n",
      "[CV] END max_depth=5, max_features=5, min_samples_split=2, n_estimators=2000; total time=   1.2s\n",
      "[CV] END max_depth=5, max_features=5, min_samples_split=2, n_estimators=2000; total time=   1.2s\n",
      "[CV] END max_depth=5, max_features=5, min_samples_split=2, n_estimators=2000; total time=   1.2s\n",
      "[CV] END max_depth=5, max_features=5, min_samples_split=2, n_estimators=2000; total time=   1.2s\n",
      "[CV] END max_depth=5, max_features=5, min_samples_split=2, n_estimators=2000; total time=   1.2s\n",
      "[CV] END max_depth=5, max_features=5, min_samples_split=2, n_estimators=2000; total time=   1.2s\n",
      "[CV] END max_depth=5, max_features=5, min_samples_split=2, n_estimators=2000; total time=   1.2s\n",
      "[CV] END max_depth=5, max_features=5, min_samples_split=2, n_estimators=2000; total time=   1.3s\n",
      "[CV] END max_depth=5, max_features=5, min_samples_split=10, n_estimators=200; total time=   0.0s\n",
      "[CV] END max_depth=5, max_features=5, min_samples_split=10, n_estimators=200; total time=   0.0s\n",
      "[CV] END max_depth=5, max_features=5, min_samples_split=10, n_estimators=200; total time=   0.0s\n",
      "[CV] END max_depth=5, max_features=5, min_samples_split=10, n_estimators=200; total time=   0.0s\n",
      "[CV] END max_depth=5, max_features=5, min_samples_split=10, n_estimators=200; total time=   0.0s\n",
      "[CV] END max_depth=5, max_features=5, min_samples_split=10, n_estimators=200; total time=   0.0s\n",
      "[CV] END max_depth=5, max_features=5, min_samples_split=10, n_estimators=200; total time=   0.0s\n",
      "[CV] END max_depth=5, max_features=5, min_samples_split=10, n_estimators=200; total time=   0.0s\n",
      "[CV] END max_depth=5, max_features=5, min_samples_split=10, n_estimators=200; total time=   0.0s\n",
      "[CV] END max_depth=5, max_features=5, min_samples_split=10, n_estimators=200; total time=   0.0s\n",
      "[CV] END max_depth=5, max_features=5, min_samples_split=10, n_estimators=500; total time=   0.2s\n",
      "[CV] END max_depth=5, max_features=5, min_samples_split=10, n_estimators=500; total time=   0.2s\n",
      "[CV] END max_depth=5, max_features=5, min_samples_split=10, n_estimators=500; total time=   0.2s\n",
      "[CV] END max_depth=5, max_features=5, min_samples_split=10, n_estimators=500; total time=   0.2s\n",
      "[CV] END max_depth=5, max_features=5, min_samples_split=10, n_estimators=500; total time=   0.2s\n",
      "[CV] END max_depth=5, max_features=5, min_samples_split=10, n_estimators=500; total time=   0.2s\n",
      "[CV] END max_depth=5, max_features=5, min_samples_split=10, n_estimators=500; total time=   0.2s\n",
      "[CV] END max_depth=5, max_features=5, min_samples_split=10, n_estimators=500; total time=   0.2s\n",
      "[CV] END max_depth=5, max_features=5, min_samples_split=10, n_estimators=500; total time=   0.2s\n",
      "[CV] END max_depth=5, max_features=5, min_samples_split=10, n_estimators=500; total time=   0.2s\n",
      "[CV] END max_depth=5, max_features=5, min_samples_split=10, n_estimators=1000; total time=   0.5s\n",
      "[CV] END max_depth=5, max_features=5, min_samples_split=10, n_estimators=1000; total time=   0.5s\n",
      "[CV] END max_depth=5, max_features=5, min_samples_split=10, n_estimators=1000; total time=   0.5s\n",
      "[CV] END max_depth=5, max_features=5, min_samples_split=10, n_estimators=1000; total time=   0.5s\n",
      "[CV] END max_depth=5, max_features=5, min_samples_split=10, n_estimators=1000; total time=   0.5s\n",
      "[CV] END max_depth=5, max_features=5, min_samples_split=10, n_estimators=1000; total time=   0.5s\n",
      "[CV] END max_depth=5, max_features=5, min_samples_split=10, n_estimators=1000; total time=   0.5s\n",
      "[CV] END max_depth=5, max_features=5, min_samples_split=10, n_estimators=1000; total time=   0.5s\n",
      "[CV] END max_depth=5, max_features=5, min_samples_split=10, n_estimators=1000; total time=   0.5s\n",
      "[CV] END max_depth=5, max_features=5, min_samples_split=10, n_estimators=1000; total time=   0.5s\n",
      "[CV] END max_depth=5, max_features=5, min_samples_split=10, n_estimators=2000; total time=   1.2s\n",
      "[CV] END max_depth=5, max_features=5, min_samples_split=10, n_estimators=2000; total time=   1.2s\n",
      "[CV] END max_depth=5, max_features=5, min_samples_split=10, n_estimators=2000; total time=   1.2s\n",
      "[CV] END max_depth=5, max_features=5, min_samples_split=10, n_estimators=2000; total time=   1.2s\n",
      "[CV] END max_depth=5, max_features=5, min_samples_split=10, n_estimators=2000; total time=   1.2s\n",
      "[CV] END max_depth=5, max_features=5, min_samples_split=10, n_estimators=2000; total time=   1.2s\n",
      "[CV] END max_depth=5, max_features=5, min_samples_split=10, n_estimators=2000; total time=   1.2s\n",
      "[CV] END max_depth=5, max_features=5, min_samples_split=10, n_estimators=2000; total time=   1.2s\n",
      "[CV] END max_depth=5, max_features=5, min_samples_split=10, n_estimators=2000; total time=   1.2s\n",
      "[CV] END max_depth=5, max_features=5, min_samples_split=10, n_estimators=2000; total time=   1.2s\n",
      "[CV] END max_depth=5, max_features=5, min_samples_split=80, n_estimators=200; total time=   0.0s\n",
      "[CV] END max_depth=5, max_features=5, min_samples_split=80, n_estimators=200; total time=   0.0s\n",
      "[CV] END max_depth=5, max_features=5, min_samples_split=80, n_estimators=200; total time=   0.0s\n",
      "[CV] END max_depth=5, max_features=5, min_samples_split=80, n_estimators=200; total time=   0.0s\n",
      "[CV] END max_depth=5, max_features=5, min_samples_split=80, n_estimators=200; total time=   0.0s\n",
      "[CV] END max_depth=5, max_features=5, min_samples_split=80, n_estimators=200; total time=   0.0s\n",
      "[CV] END max_depth=5, max_features=5, min_samples_split=80, n_estimators=200; total time=   0.0s\n",
      "[CV] END max_depth=5, max_features=5, min_samples_split=80, n_estimators=200; total time=   0.0s\n",
      "[CV] END max_depth=5, max_features=5, min_samples_split=80, n_estimators=200; total time=   0.0s\n",
      "[CV] END max_depth=5, max_features=5, min_samples_split=80, n_estimators=200; total time=   0.0s\n",
      "[CV] END max_depth=5, max_features=5, min_samples_split=80, n_estimators=500; total time=   0.2s\n",
      "[CV] END max_depth=5, max_features=5, min_samples_split=80, n_estimators=500; total time=   0.2s\n",
      "[CV] END max_depth=5, max_features=5, min_samples_split=80, n_estimators=500; total time=   0.2s\n",
      "[CV] END max_depth=5, max_features=5, min_samples_split=80, n_estimators=500; total time=   0.2s\n",
      "[CV] END max_depth=5, max_features=5, min_samples_split=80, n_estimators=500; total time=   0.2s\n",
      "[CV] END max_depth=5, max_features=5, min_samples_split=80, n_estimators=500; total time=   0.2s\n",
      "[CV] END max_depth=5, max_features=5, min_samples_split=80, n_estimators=500; total time=   0.2s\n",
      "[CV] END max_depth=5, max_features=5, min_samples_split=80, n_estimators=500; total time=   0.2s\n",
      "[CV] END max_depth=5, max_features=5, min_samples_split=80, n_estimators=500; total time=   0.2s\n",
      "[CV] END max_depth=5, max_features=5, min_samples_split=80, n_estimators=500; total time=   0.2s\n",
      "[CV] END max_depth=5, max_features=5, min_samples_split=80, n_estimators=1000; total time=   0.5s\n",
      "[CV] END max_depth=5, max_features=5, min_samples_split=80, n_estimators=1000; total time=   0.5s\n",
      "[CV] END max_depth=5, max_features=5, min_samples_split=80, n_estimators=1000; total time=   0.5s\n",
      "[CV] END max_depth=5, max_features=5, min_samples_split=80, n_estimators=1000; total time=   0.5s\n",
      "[CV] END max_depth=5, max_features=5, min_samples_split=80, n_estimators=1000; total time=   0.5s\n",
      "[CV] END max_depth=5, max_features=5, min_samples_split=80, n_estimators=1000; total time=   0.5s\n",
      "[CV] END max_depth=5, max_features=5, min_samples_split=80, n_estimators=1000; total time=   0.5s\n",
      "[CV] END max_depth=5, max_features=5, min_samples_split=80, n_estimators=1000; total time=   0.5s\n",
      "[CV] END max_depth=5, max_features=5, min_samples_split=80, n_estimators=1000; total time=   0.5s\n",
      "[CV] END max_depth=5, max_features=5, min_samples_split=80, n_estimators=1000; total time=   0.5s\n",
      "[CV] END max_depth=5, max_features=5, min_samples_split=80, n_estimators=2000; total time=   1.0s\n",
      "[CV] END max_depth=5, max_features=5, min_samples_split=80, n_estimators=2000; total time=   1.1s\n",
      "[CV] END max_depth=5, max_features=5, min_samples_split=80, n_estimators=2000; total time=   1.0s\n",
      "[CV] END max_depth=5, max_features=5, min_samples_split=80, n_estimators=2000; total time=   1.1s\n",
      "[CV] END max_depth=5, max_features=5, min_samples_split=80, n_estimators=2000; total time=   1.1s\n",
      "[CV] END max_depth=5, max_features=5, min_samples_split=80, n_estimators=2000; total time=   1.0s\n",
      "[CV] END max_depth=5, max_features=5, min_samples_split=80, n_estimators=2000; total time=   1.0s\n",
      "[CV] END max_depth=5, max_features=5, min_samples_split=80, n_estimators=2000; total time=   1.0s\n",
      "[CV] END max_depth=5, max_features=5, min_samples_split=80, n_estimators=2000; total time=   1.0s\n",
      "[CV] END max_depth=5, max_features=5, min_samples_split=80, n_estimators=2000; total time=   1.0s\n",
      "[CV] END max_depth=5, max_features=5, min_samples_split=100, n_estimators=200; total time=   0.0s\n",
      "[CV] END max_depth=5, max_features=5, min_samples_split=100, n_estimators=200; total time=   0.0s\n",
      "[CV] END max_depth=5, max_features=5, min_samples_split=100, n_estimators=200; total time=   0.0s\n",
      "[CV] END max_depth=5, max_features=5, min_samples_split=100, n_estimators=200; total time=   0.0s\n",
      "[CV] END max_depth=5, max_features=5, min_samples_split=100, n_estimators=200; total time=   0.0s\n",
      "[CV] END max_depth=5, max_features=5, min_samples_split=100, n_estimators=200; total time=   0.0s\n",
      "[CV] END max_depth=5, max_features=5, min_samples_split=100, n_estimators=200; total time=   0.0s\n",
      "[CV] END max_depth=5, max_features=5, min_samples_split=100, n_estimators=200; total time=   0.0s\n",
      "[CV] END max_depth=5, max_features=5, min_samples_split=100, n_estimators=200; total time=   0.0s\n",
      "[CV] END max_depth=5, max_features=5, min_samples_split=100, n_estimators=200; total time=   0.0s\n",
      "[CV] END max_depth=5, max_features=5, min_samples_split=100, n_estimators=500; total time=   0.2s\n",
      "[CV] END max_depth=5, max_features=5, min_samples_split=100, n_estimators=500; total time=   0.2s\n",
      "[CV] END max_depth=5, max_features=5, min_samples_split=100, n_estimators=500; total time=   0.2s\n",
      "[CV] END max_depth=5, max_features=5, min_samples_split=100, n_estimators=500; total time=   0.2s\n",
      "[CV] END max_depth=5, max_features=5, min_samples_split=100, n_estimators=500; total time=   0.2s\n",
      "[CV] END max_depth=5, max_features=5, min_samples_split=100, n_estimators=500; total time=   0.2s\n",
      "[CV] END max_depth=5, max_features=5, min_samples_split=100, n_estimators=500; total time=   0.3s\n",
      "[CV] END max_depth=5, max_features=5, min_samples_split=100, n_estimators=500; total time=   0.2s\n",
      "[CV] END max_depth=5, max_features=5, min_samples_split=100, n_estimators=500; total time=   0.2s\n",
      "[CV] END max_depth=5, max_features=5, min_samples_split=100, n_estimators=500; total time=   0.2s\n",
      "[CV] END max_depth=5, max_features=5, min_samples_split=100, n_estimators=1000; total time=   0.5s\n",
      "[CV] END max_depth=5, max_features=5, min_samples_split=100, n_estimators=1000; total time=   0.5s\n",
      "[CV] END max_depth=5, max_features=5, min_samples_split=100, n_estimators=1000; total time=   0.5s\n",
      "[CV] END max_depth=5, max_features=5, min_samples_split=100, n_estimators=1000; total time=   0.5s\n",
      "[CV] END max_depth=5, max_features=5, min_samples_split=100, n_estimators=1000; total time=   0.5s\n",
      "[CV] END max_depth=5, max_features=5, min_samples_split=100, n_estimators=1000; total time=   0.5s\n",
      "[CV] END max_depth=5, max_features=5, min_samples_split=100, n_estimators=1000; total time=   0.5s\n",
      "[CV] END max_depth=5, max_features=5, min_samples_split=100, n_estimators=1000; total time=   0.5s\n",
      "[CV] END max_depth=5, max_features=5, min_samples_split=100, n_estimators=1000; total time=   0.5s\n",
      "[CV] END max_depth=5, max_features=5, min_samples_split=100, n_estimators=1000; total time=   0.5s\n",
      "[CV] END max_depth=5, max_features=5, min_samples_split=100, n_estimators=2000; total time=   1.0s\n",
      "[CV] END max_depth=5, max_features=5, min_samples_split=100, n_estimators=2000; total time=   1.0s\n",
      "[CV] END max_depth=5, max_features=5, min_samples_split=100, n_estimators=2000; total time=   1.0s\n",
      "[CV] END max_depth=5, max_features=5, min_samples_split=100, n_estimators=2000; total time=   1.0s\n",
      "[CV] END max_depth=5, max_features=5, min_samples_split=100, n_estimators=2000; total time=   1.0s\n",
      "[CV] END max_depth=5, max_features=5, min_samples_split=100, n_estimators=2000; total time=   1.1s\n",
      "[CV] END max_depth=5, max_features=5, min_samples_split=100, n_estimators=2000; total time=   1.0s\n",
      "[CV] END max_depth=5, max_features=5, min_samples_split=100, n_estimators=2000; total time=   1.0s\n",
      "[CV] END max_depth=5, max_features=5, min_samples_split=100, n_estimators=2000; total time=   1.0s\n",
      "[CV] END max_depth=5, max_features=5, min_samples_split=100, n_estimators=2000; total time=   1.0s\n",
      "[CV] END max_depth=5, max_features=10, min_samples_split=2, n_estimators=200; total time=   0.1s\n",
      "[CV] END max_depth=5, max_features=10, min_samples_split=2, n_estimators=200; total time=   0.1s\n",
      "[CV] END max_depth=5, max_features=10, min_samples_split=2, n_estimators=200; total time=   0.1s\n",
      "[CV] END max_depth=5, max_features=10, min_samples_split=2, n_estimators=200; total time=   0.1s\n",
      "[CV] END max_depth=5, max_features=10, min_samples_split=2, n_estimators=200; total time=   0.0s\n",
      "[CV] END max_depth=5, max_features=10, min_samples_split=2, n_estimators=200; total time=   0.1s\n",
      "[CV] END max_depth=5, max_features=10, min_samples_split=2, n_estimators=200; total time=   0.0s\n",
      "[CV] END max_depth=5, max_features=10, min_samples_split=2, n_estimators=200; total time=   0.1s\n",
      "[CV] END max_depth=5, max_features=10, min_samples_split=2, n_estimators=200; total time=   0.0s\n",
      "[CV] END max_depth=5, max_features=10, min_samples_split=2, n_estimators=200; total time=   0.1s\n",
      "[CV] END max_depth=5, max_features=10, min_samples_split=2, n_estimators=500; total time=   0.3s\n",
      "[CV] END max_depth=5, max_features=10, min_samples_split=2, n_estimators=500; total time=   0.3s\n",
      "[CV] END max_depth=5, max_features=10, min_samples_split=2, n_estimators=500; total time=   0.3s\n",
      "[CV] END max_depth=5, max_features=10, min_samples_split=2, n_estimators=500; total time=   0.3s\n",
      "[CV] END max_depth=5, max_features=10, min_samples_split=2, n_estimators=500; total time=   0.3s\n",
      "[CV] END max_depth=5, max_features=10, min_samples_split=2, n_estimators=500; total time=   0.3s\n",
      "[CV] END max_depth=5, max_features=10, min_samples_split=2, n_estimators=500; total time=   0.3s\n",
      "[CV] END max_depth=5, max_features=10, min_samples_split=2, n_estimators=500; total time=   0.3s\n",
      "[CV] END max_depth=5, max_features=10, min_samples_split=2, n_estimators=500; total time=   0.3s\n",
      "[CV] END max_depth=5, max_features=10, min_samples_split=2, n_estimators=500; total time=   0.3s\n",
      "[CV] END max_depth=5, max_features=10, min_samples_split=2, n_estimators=1000; total time=   0.6s\n",
      "[CV] END max_depth=5, max_features=10, min_samples_split=2, n_estimators=1000; total time=   0.6s\n",
      "[CV] END max_depth=5, max_features=10, min_samples_split=2, n_estimators=1000; total time=   0.6s\n",
      "[CV] END max_depth=5, max_features=10, min_samples_split=2, n_estimators=1000; total time=   0.6s\n",
      "[CV] END max_depth=5, max_features=10, min_samples_split=2, n_estimators=1000; total time=   0.6s\n",
      "[CV] END max_depth=5, max_features=10, min_samples_split=2, n_estimators=1000; total time=   0.6s\n",
      "[CV] END max_depth=5, max_features=10, min_samples_split=2, n_estimators=1000; total time=   0.7s\n",
      "[CV] END max_depth=5, max_features=10, min_samples_split=2, n_estimators=1000; total time=   0.6s\n",
      "[CV] END max_depth=5, max_features=10, min_samples_split=2, n_estimators=1000; total time=   0.6s\n",
      "[CV] END max_depth=5, max_features=10, min_samples_split=2, n_estimators=1000; total time=   0.7s\n",
      "[CV] END max_depth=5, max_features=10, min_samples_split=2, n_estimators=2000; total time=   1.4s\n",
      "[CV] END max_depth=5, max_features=10, min_samples_split=2, n_estimators=2000; total time=   1.4s\n",
      "[CV] END max_depth=5, max_features=10, min_samples_split=2, n_estimators=2000; total time=   1.4s\n",
      "[CV] END max_depth=5, max_features=10, min_samples_split=2, n_estimators=2000; total time=   1.4s\n",
      "[CV] END max_depth=5, max_features=10, min_samples_split=2, n_estimators=2000; total time=   1.4s\n",
      "[CV] END max_depth=5, max_features=10, min_samples_split=2, n_estimators=2000; total time=   1.5s\n",
      "[CV] END max_depth=5, max_features=10, min_samples_split=2, n_estimators=2000; total time=   1.5s\n",
      "[CV] END max_depth=5, max_features=10, min_samples_split=2, n_estimators=2000; total time=   1.5s\n",
      "[CV] END max_depth=5, max_features=10, min_samples_split=2, n_estimators=2000; total time=   1.5s\n",
      "[CV] END max_depth=5, max_features=10, min_samples_split=2, n_estimators=2000; total time=   1.5s\n",
      "[CV] END max_depth=5, max_features=10, min_samples_split=10, n_estimators=200; total time=   0.1s\n",
      "[CV] END max_depth=5, max_features=10, min_samples_split=10, n_estimators=200; total time=   0.1s\n",
      "[CV] END max_depth=5, max_features=10, min_samples_split=10, n_estimators=200; total time=   0.1s\n",
      "[CV] END max_depth=5, max_features=10, min_samples_split=10, n_estimators=200; total time=   0.1s\n",
      "[CV] END max_depth=5, max_features=10, min_samples_split=10, n_estimators=200; total time=   0.1s\n",
      "[CV] END max_depth=5, max_features=10, min_samples_split=10, n_estimators=200; total time=   0.1s\n",
      "[CV] END max_depth=5, max_features=10, min_samples_split=10, n_estimators=200; total time=   0.1s\n",
      "[CV] END max_depth=5, max_features=10, min_samples_split=10, n_estimators=200; total time=   0.1s\n",
      "[CV] END max_depth=5, max_features=10, min_samples_split=10, n_estimators=200; total time=   0.1s\n",
      "[CV] END max_depth=5, max_features=10, min_samples_split=10, n_estimators=200; total time=   0.1s\n",
      "[CV] END max_depth=5, max_features=10, min_samples_split=10, n_estimators=500; total time=   0.3s\n",
      "[CV] END max_depth=5, max_features=10, min_samples_split=10, n_estimators=500; total time=   0.3s\n",
      "[CV] END max_depth=5, max_features=10, min_samples_split=10, n_estimators=500; total time=   0.3s\n",
      "[CV] END max_depth=5, max_features=10, min_samples_split=10, n_estimators=500; total time=   0.3s\n",
      "[CV] END max_depth=5, max_features=10, min_samples_split=10, n_estimators=500; total time=   0.3s\n",
      "[CV] END max_depth=5, max_features=10, min_samples_split=10, n_estimators=500; total time=   0.3s\n",
      "[CV] END max_depth=5, max_features=10, min_samples_split=10, n_estimators=500; total time=   0.3s\n",
      "[CV] END max_depth=5, max_features=10, min_samples_split=10, n_estimators=500; total time=   0.3s\n",
      "[CV] END max_depth=5, max_features=10, min_samples_split=10, n_estimators=500; total time=   0.3s\n",
      "[CV] END max_depth=5, max_features=10, min_samples_split=10, n_estimators=500; total time=   0.3s\n",
      "[CV] END max_depth=5, max_features=10, min_samples_split=10, n_estimators=1000; total time=   0.7s\n",
      "[CV] END max_depth=5, max_features=10, min_samples_split=10, n_estimators=1000; total time=   0.6s\n",
      "[CV] END max_depth=5, max_features=10, min_samples_split=10, n_estimators=1000; total time=   0.7s\n",
      "[CV] END max_depth=5, max_features=10, min_samples_split=10, n_estimators=1000; total time=   0.7s\n",
      "[CV] END max_depth=5, max_features=10, min_samples_split=10, n_estimators=1000; total time=   0.7s\n",
      "[CV] END max_depth=5, max_features=10, min_samples_split=10, n_estimators=1000; total time=   0.7s\n",
      "[CV] END max_depth=5, max_features=10, min_samples_split=10, n_estimators=1000; total time=   0.7s\n",
      "[CV] END max_depth=5, max_features=10, min_samples_split=10, n_estimators=1000; total time=   0.7s\n",
      "[CV] END max_depth=5, max_features=10, min_samples_split=10, n_estimators=1000; total time=   0.7s\n",
      "[CV] END max_depth=5, max_features=10, min_samples_split=10, n_estimators=1000; total time=   0.7s\n",
      "[CV] END max_depth=5, max_features=10, min_samples_split=10, n_estimators=2000; total time=   1.5s\n",
      "[CV] END max_depth=5, max_features=10, min_samples_split=10, n_estimators=2000; total time=   1.4s\n",
      "[CV] END max_depth=5, max_features=10, min_samples_split=10, n_estimators=2000; total time=   1.4s\n",
      "[CV] END max_depth=5, max_features=10, min_samples_split=10, n_estimators=2000; total time=   1.4s\n",
      "[CV] END max_depth=5, max_features=10, min_samples_split=10, n_estimators=2000; total time=   1.4s\n",
      "[CV] END max_depth=5, max_features=10, min_samples_split=10, n_estimators=2000; total time=   1.4s\n",
      "[CV] END max_depth=5, max_features=10, min_samples_split=10, n_estimators=2000; total time=   1.4s\n",
      "[CV] END max_depth=5, max_features=10, min_samples_split=10, n_estimators=2000; total time=   1.4s\n",
      "[CV] END max_depth=5, max_features=10, min_samples_split=10, n_estimators=2000; total time=   1.4s\n",
      "[CV] END max_depth=5, max_features=10, min_samples_split=10, n_estimators=2000; total time=   1.5s\n",
      "[CV] END max_depth=5, max_features=10, min_samples_split=80, n_estimators=200; total time=   0.0s\n",
      "[CV] END max_depth=5, max_features=10, min_samples_split=80, n_estimators=200; total time=   0.0s\n",
      "[CV] END max_depth=5, max_features=10, min_samples_split=80, n_estimators=200; total time=   0.0s\n",
      "[CV] END max_depth=5, max_features=10, min_samples_split=80, n_estimators=200; total time=   0.0s\n",
      "[CV] END max_depth=5, max_features=10, min_samples_split=80, n_estimators=200; total time=   0.0s\n",
      "[CV] END max_depth=5, max_features=10, min_samples_split=80, n_estimators=200; total time=   0.0s\n",
      "[CV] END max_depth=5, max_features=10, min_samples_split=80, n_estimators=200; total time=   0.0s\n",
      "[CV] END max_depth=5, max_features=10, min_samples_split=80, n_estimators=200; total time=   0.0s\n",
      "[CV] END max_depth=5, max_features=10, min_samples_split=80, n_estimators=200; total time=   0.0s\n",
      "[CV] END max_depth=5, max_features=10, min_samples_split=80, n_estimators=200; total time=   0.0s\n",
      "[CV] END max_depth=5, max_features=10, min_samples_split=80, n_estimators=500; total time=   0.2s\n",
      "[CV] END max_depth=5, max_features=10, min_samples_split=80, n_estimators=500; total time=   0.2s\n",
      "[CV] END max_depth=5, max_features=10, min_samples_split=80, n_estimators=500; total time=   0.2s\n",
      "[CV] END max_depth=5, max_features=10, min_samples_split=80, n_estimators=500; total time=   0.2s\n",
      "[CV] END max_depth=5, max_features=10, min_samples_split=80, n_estimators=500; total time=   0.2s\n",
      "[CV] END max_depth=5, max_features=10, min_samples_split=80, n_estimators=500; total time=   0.2s\n",
      "[CV] END max_depth=5, max_features=10, min_samples_split=80, n_estimators=500; total time=   0.2s\n",
      "[CV] END max_depth=5, max_features=10, min_samples_split=80, n_estimators=500; total time=   0.2s\n",
      "[CV] END max_depth=5, max_features=10, min_samples_split=80, n_estimators=500; total time=   0.2s\n",
      "[CV] END max_depth=5, max_features=10, min_samples_split=80, n_estimators=500; total time=   0.2s\n",
      "[CV] END max_depth=5, max_features=10, min_samples_split=80, n_estimators=1000; total time=   0.5s\n",
      "[CV] END max_depth=5, max_features=10, min_samples_split=80, n_estimators=1000; total time=   0.5s\n",
      "[CV] END max_depth=5, max_features=10, min_samples_split=80, n_estimators=1000; total time=   0.5s\n",
      "[CV] END max_depth=5, max_features=10, min_samples_split=80, n_estimators=1000; total time=   0.5s\n",
      "[CV] END max_depth=5, max_features=10, min_samples_split=80, n_estimators=1000; total time=   0.5s\n",
      "[CV] END max_depth=5, max_features=10, min_samples_split=80, n_estimators=1000; total time=   0.5s\n",
      "[CV] END max_depth=5, max_features=10, min_samples_split=80, n_estimators=1000; total time=   0.5s\n",
      "[CV] END max_depth=5, max_features=10, min_samples_split=80, n_estimators=1000; total time=   0.5s\n",
      "[CV] END max_depth=5, max_features=10, min_samples_split=80, n_estimators=1000; total time=   0.5s\n",
      "[CV] END max_depth=5, max_features=10, min_samples_split=80, n_estimators=1000; total time=   0.5s\n",
      "[CV] END max_depth=5, max_features=10, min_samples_split=80, n_estimators=2000; total time=   1.1s\n",
      "[CV] END max_depth=5, max_features=10, min_samples_split=80, n_estimators=2000; total time=   1.1s\n",
      "[CV] END max_depth=5, max_features=10, min_samples_split=80, n_estimators=2000; total time=   1.1s\n",
      "[CV] END max_depth=5, max_features=10, min_samples_split=80, n_estimators=2000; total time=   1.2s\n",
      "[CV] END max_depth=5, max_features=10, min_samples_split=80, n_estimators=2000; total time=   1.2s\n",
      "[CV] END max_depth=5, max_features=10, min_samples_split=80, n_estimators=2000; total time=   1.2s\n",
      "[CV] END max_depth=5, max_features=10, min_samples_split=80, n_estimators=2000; total time=   1.1s\n",
      "[CV] END max_depth=5, max_features=10, min_samples_split=80, n_estimators=2000; total time=   1.1s\n",
      "[CV] END max_depth=5, max_features=10, min_samples_split=80, n_estimators=2000; total time=   1.1s\n",
      "[CV] END max_depth=5, max_features=10, min_samples_split=80, n_estimators=2000; total time=   1.1s\n",
      "[CV] END max_depth=5, max_features=10, min_samples_split=100, n_estimators=200; total time=   0.0s\n",
      "[CV] END max_depth=5, max_features=10, min_samples_split=100, n_estimators=200; total time=   0.0s\n",
      "[CV] END max_depth=5, max_features=10, min_samples_split=100, n_estimators=200; total time=   0.0s\n",
      "[CV] END max_depth=5, max_features=10, min_samples_split=100, n_estimators=200; total time=   0.0s\n",
      "[CV] END max_depth=5, max_features=10, min_samples_split=100, n_estimators=200; total time=   0.0s\n",
      "[CV] END max_depth=5, max_features=10, min_samples_split=100, n_estimators=200; total time=   0.0s\n",
      "[CV] END max_depth=5, max_features=10, min_samples_split=100, n_estimators=200; total time=   0.0s\n",
      "[CV] END max_depth=5, max_features=10, min_samples_split=100, n_estimators=200; total time=   0.0s\n",
      "[CV] END max_depth=5, max_features=10, min_samples_split=100, n_estimators=200; total time=   0.0s\n",
      "[CV] END max_depth=5, max_features=10, min_samples_split=100, n_estimators=200; total time=   0.0s\n",
      "[CV] END max_depth=5, max_features=10, min_samples_split=100, n_estimators=500; total time=   0.2s\n",
      "[CV] END max_depth=5, max_features=10, min_samples_split=100, n_estimators=500; total time=   0.2s\n",
      "[CV] END max_depth=5, max_features=10, min_samples_split=100, n_estimators=500; total time=   0.2s\n",
      "[CV] END max_depth=5, max_features=10, min_samples_split=100, n_estimators=500; total time=   0.2s\n",
      "[CV] END max_depth=5, max_features=10, min_samples_split=100, n_estimators=500; total time=   0.2s\n",
      "[CV] END max_depth=5, max_features=10, min_samples_split=100, n_estimators=500; total time=   0.2s\n",
      "[CV] END max_depth=5, max_features=10, min_samples_split=100, n_estimators=500; total time=   0.2s\n",
      "[CV] END max_depth=5, max_features=10, min_samples_split=100, n_estimators=500; total time=   0.2s\n",
      "[CV] END max_depth=5, max_features=10, min_samples_split=100, n_estimators=500; total time=   0.2s\n",
      "[CV] END max_depth=5, max_features=10, min_samples_split=100, n_estimators=500; total time=   0.2s\n",
      "[CV] END max_depth=5, max_features=10, min_samples_split=100, n_estimators=1000; total time=   0.5s\n",
      "[CV] END max_depth=5, max_features=10, min_samples_split=100, n_estimators=1000; total time=   0.5s\n",
      "[CV] END max_depth=5, max_features=10, min_samples_split=100, n_estimators=1000; total time=   0.5s\n",
      "[CV] END max_depth=5, max_features=10, min_samples_split=100, n_estimators=1000; total time=   0.5s\n",
      "[CV] END max_depth=5, max_features=10, min_samples_split=100, n_estimators=1000; total time=   0.5s\n",
      "[CV] END max_depth=5, max_features=10, min_samples_split=100, n_estimators=1000; total time=   0.5s\n",
      "[CV] END max_depth=5, max_features=10, min_samples_split=100, n_estimators=1000; total time=   0.5s\n",
      "[CV] END max_depth=5, max_features=10, min_samples_split=100, n_estimators=1000; total time=   0.5s\n",
      "[CV] END max_depth=5, max_features=10, min_samples_split=100, n_estimators=1000; total time=   0.5s\n",
      "[CV] END max_depth=5, max_features=10, min_samples_split=100, n_estimators=1000; total time=   0.5s\n",
      "[CV] END max_depth=5, max_features=10, min_samples_split=100, n_estimators=2000; total time=   1.2s\n",
      "[CV] END max_depth=5, max_features=10, min_samples_split=100, n_estimators=2000; total time=   1.1s\n",
      "[CV] END max_depth=5, max_features=10, min_samples_split=100, n_estimators=2000; total time=   1.2s\n",
      "[CV] END max_depth=5, max_features=10, min_samples_split=100, n_estimators=2000; total time=   1.1s\n",
      "[CV] END max_depth=5, max_features=10, min_samples_split=100, n_estimators=2000; total time=   1.1s\n",
      "[CV] END max_depth=5, max_features=10, min_samples_split=100, n_estimators=2000; total time=   1.2s\n",
      "[CV] END max_depth=5, max_features=10, min_samples_split=100, n_estimators=2000; total time=   1.2s\n",
      "[CV] END max_depth=5, max_features=10, min_samples_split=100, n_estimators=2000; total time=   1.1s\n",
      "[CV] END max_depth=5, max_features=10, min_samples_split=100, n_estimators=2000; total time=   1.1s\n",
      "[CV] END max_depth=5, max_features=10, min_samples_split=100, n_estimators=2000; total time=   1.1s\n",
      "[CV] END max_depth=8, max_features=2, min_samples_split=2, n_estimators=200; total time=   0.0s\n",
      "[CV] END max_depth=8, max_features=2, min_samples_split=2, n_estimators=200; total time=   0.0s\n",
      "[CV] END max_depth=8, max_features=2, min_samples_split=2, n_estimators=200; total time=   0.0s\n",
      "[CV] END max_depth=8, max_features=2, min_samples_split=2, n_estimators=200; total time=   0.0s\n",
      "[CV] END max_depth=8, max_features=2, min_samples_split=2, n_estimators=200; total time=   0.0s\n",
      "[CV] END max_depth=8, max_features=2, min_samples_split=2, n_estimators=200; total time=   0.0s\n",
      "[CV] END max_depth=8, max_features=2, min_samples_split=2, n_estimators=200; total time=   0.0s\n",
      "[CV] END max_depth=8, max_features=2, min_samples_split=2, n_estimators=200; total time=   0.0s\n",
      "[CV] END max_depth=8, max_features=2, min_samples_split=2, n_estimators=200; total time=   0.0s\n",
      "[CV] END max_depth=8, max_features=2, min_samples_split=2, n_estimators=200; total time=   0.0s\n",
      "[CV] END max_depth=8, max_features=2, min_samples_split=2, n_estimators=500; total time=   0.2s\n",
      "[CV] END max_depth=8, max_features=2, min_samples_split=2, n_estimators=500; total time=   0.3s\n",
      "[CV] END max_depth=8, max_features=2, min_samples_split=2, n_estimators=500; total time=   0.3s\n",
      "[CV] END max_depth=8, max_features=2, min_samples_split=2, n_estimators=500; total time=   0.3s\n",
      "[CV] END max_depth=8, max_features=2, min_samples_split=2, n_estimators=500; total time=   0.2s\n",
      "[CV] END max_depth=8, max_features=2, min_samples_split=2, n_estimators=500; total time=   0.2s\n",
      "[CV] END max_depth=8, max_features=2, min_samples_split=2, n_estimators=500; total time=   0.2s\n",
      "[CV] END max_depth=8, max_features=2, min_samples_split=2, n_estimators=500; total time=   0.3s\n",
      "[CV] END max_depth=8, max_features=2, min_samples_split=2, n_estimators=500; total time=   0.2s\n",
      "[CV] END max_depth=8, max_features=2, min_samples_split=2, n_estimators=500; total time=   0.2s\n",
      "[CV] END max_depth=8, max_features=2, min_samples_split=2, n_estimators=1000; total time=   0.6s\n",
      "[CV] END max_depth=8, max_features=2, min_samples_split=2, n_estimators=1000; total time=   0.6s\n",
      "[CV] END max_depth=8, max_features=2, min_samples_split=2, n_estimators=1000; total time=   0.6s\n",
      "[CV] END max_depth=8, max_features=2, min_samples_split=2, n_estimators=1000; total time=   0.6s\n",
      "[CV] END max_depth=8, max_features=2, min_samples_split=2, n_estimators=1000; total time=   0.6s\n",
      "[CV] END max_depth=8, max_features=2, min_samples_split=2, n_estimators=1000; total time=   0.6s\n",
      "[CV] END max_depth=8, max_features=2, min_samples_split=2, n_estimators=1000; total time=   0.6s\n",
      "[CV] END max_depth=8, max_features=2, min_samples_split=2, n_estimators=1000; total time=   0.6s\n",
      "[CV] END max_depth=8, max_features=2, min_samples_split=2, n_estimators=1000; total time=   0.6s\n",
      "[CV] END max_depth=8, max_features=2, min_samples_split=2, n_estimators=1000; total time=   0.6s\n",
      "[CV] END max_depth=8, max_features=2, min_samples_split=2, n_estimators=2000; total time=   1.3s\n",
      "[CV] END max_depth=8, max_features=2, min_samples_split=2, n_estimators=2000; total time=   1.2s\n",
      "[CV] END max_depth=8, max_features=2, min_samples_split=2, n_estimators=2000; total time=   1.2s\n",
      "[CV] END max_depth=8, max_features=2, min_samples_split=2, n_estimators=2000; total time=   1.2s\n",
      "[CV] END max_depth=8, max_features=2, min_samples_split=2, n_estimators=2000; total time=   1.3s\n",
      "[CV] END max_depth=8, max_features=2, min_samples_split=2, n_estimators=2000; total time=   1.2s\n",
      "[CV] END max_depth=8, max_features=2, min_samples_split=2, n_estimators=2000; total time=   1.3s\n",
      "[CV] END max_depth=8, max_features=2, min_samples_split=2, n_estimators=2000; total time=   1.3s\n",
      "[CV] END max_depth=8, max_features=2, min_samples_split=2, n_estimators=2000; total time=   1.3s\n",
      "[CV] END max_depth=8, max_features=2, min_samples_split=2, n_estimators=2000; total time=   1.4s\n",
      "[CV] END max_depth=8, max_features=2, min_samples_split=10, n_estimators=200; total time=   0.0s\n",
      "[CV] END max_depth=8, max_features=2, min_samples_split=10, n_estimators=200; total time=   0.0s\n",
      "[CV] END max_depth=8, max_features=2, min_samples_split=10, n_estimators=200; total time=   0.0s\n",
      "[CV] END max_depth=8, max_features=2, min_samples_split=10, n_estimators=200; total time=   0.0s\n",
      "[CV] END max_depth=8, max_features=2, min_samples_split=10, n_estimators=200; total time=   0.0s\n",
      "[CV] END max_depth=8, max_features=2, min_samples_split=10, n_estimators=200; total time=   0.0s\n",
      "[CV] END max_depth=8, max_features=2, min_samples_split=10, n_estimators=200; total time=   0.0s\n",
      "[CV] END max_depth=8, max_features=2, min_samples_split=10, n_estimators=200; total time=   0.0s\n",
      "[CV] END max_depth=8, max_features=2, min_samples_split=10, n_estimators=200; total time=   0.0s\n",
      "[CV] END max_depth=8, max_features=2, min_samples_split=10, n_estimators=200; total time=   0.0s\n",
      "[CV] END max_depth=8, max_features=2, min_samples_split=10, n_estimators=500; total time=   0.2s\n",
      "[CV] END max_depth=8, max_features=2, min_samples_split=10, n_estimators=500; total time=   0.3s\n",
      "[CV] END max_depth=8, max_features=2, min_samples_split=10, n_estimators=500; total time=   0.2s\n",
      "[CV] END max_depth=8, max_features=2, min_samples_split=10, n_estimators=500; total time=   0.2s\n",
      "[CV] END max_depth=8, max_features=2, min_samples_split=10, n_estimators=500; total time=   0.2s\n",
      "[CV] END max_depth=8, max_features=2, min_samples_split=10, n_estimators=500; total time=   0.2s\n",
      "[CV] END max_depth=8, max_features=2, min_samples_split=10, n_estimators=500; total time=   0.2s\n",
      "[CV] END max_depth=8, max_features=2, min_samples_split=10, n_estimators=500; total time=   0.2s\n",
      "[CV] END max_depth=8, max_features=2, min_samples_split=10, n_estimators=500; total time=   0.2s\n",
      "[CV] END max_depth=8, max_features=2, min_samples_split=10, n_estimators=500; total time=   0.2s\n",
      "[CV] END max_depth=8, max_features=2, min_samples_split=10, n_estimators=1000; total time=   0.5s\n",
      "[CV] END max_depth=8, max_features=2, min_samples_split=10, n_estimators=1000; total time=   0.5s\n",
      "[CV] END max_depth=8, max_features=2, min_samples_split=10, n_estimators=1000; total time=   0.6s\n",
      "[CV] END max_depth=8, max_features=2, min_samples_split=10, n_estimators=1000; total time=   0.5s\n",
      "[CV] END max_depth=8, max_features=2, min_samples_split=10, n_estimators=1000; total time=   0.5s\n",
      "[CV] END max_depth=8, max_features=2, min_samples_split=10, n_estimators=1000; total time=   0.6s\n",
      "[CV] END max_depth=8, max_features=2, min_samples_split=10, n_estimators=1000; total time=   0.5s\n",
      "[CV] END max_depth=8, max_features=2, min_samples_split=10, n_estimators=1000; total time=   0.5s\n",
      "[CV] END max_depth=8, max_features=2, min_samples_split=10, n_estimators=1000; total time=   0.5s\n",
      "[CV] END max_depth=8, max_features=2, min_samples_split=10, n_estimators=1000; total time=   0.5s\n",
      "[CV] END max_depth=8, max_features=2, min_samples_split=10, n_estimators=2000; total time=   1.2s\n",
      "[CV] END max_depth=8, max_features=2, min_samples_split=10, n_estimators=2000; total time=   1.2s\n",
      "[CV] END max_depth=8, max_features=2, min_samples_split=10, n_estimators=2000; total time=   1.2s\n",
      "[CV] END max_depth=8, max_features=2, min_samples_split=10, n_estimators=2000; total time=   1.2s\n",
      "[CV] END max_depth=8, max_features=2, min_samples_split=10, n_estimators=2000; total time=   1.2s\n",
      "[CV] END max_depth=8, max_features=2, min_samples_split=10, n_estimators=2000; total time=   1.2s\n",
      "[CV] END max_depth=8, max_features=2, min_samples_split=10, n_estimators=2000; total time=   1.2s\n",
      "[CV] END max_depth=8, max_features=2, min_samples_split=10, n_estimators=2000; total time=   1.2s\n",
      "[CV] END max_depth=8, max_features=2, min_samples_split=10, n_estimators=2000; total time=   1.2s\n",
      "[CV] END max_depth=8, max_features=2, min_samples_split=10, n_estimators=2000; total time=   1.2s\n",
      "[CV] END max_depth=8, max_features=2, min_samples_split=80, n_estimators=200; total time=   0.0s\n",
      "[CV] END max_depth=8, max_features=2, min_samples_split=80, n_estimators=200; total time=   0.0s\n",
      "[CV] END max_depth=8, max_features=2, min_samples_split=80, n_estimators=200; total time=   0.0s\n",
      "[CV] END max_depth=8, max_features=2, min_samples_split=80, n_estimators=200; total time=   0.0s\n",
      "[CV] END max_depth=8, max_features=2, min_samples_split=80, n_estimators=200; total time=   0.0s\n",
      "[CV] END max_depth=8, max_features=2, min_samples_split=80, n_estimators=200; total time=   0.0s\n",
      "[CV] END max_depth=8, max_features=2, min_samples_split=80, n_estimators=200; total time=   0.0s\n",
      "[CV] END max_depth=8, max_features=2, min_samples_split=80, n_estimators=200; total time=   0.0s\n",
      "[CV] END max_depth=8, max_features=2, min_samples_split=80, n_estimators=200; total time=   0.0s\n",
      "[CV] END max_depth=8, max_features=2, min_samples_split=80, n_estimators=200; total time=   0.0s\n",
      "[CV] END max_depth=8, max_features=2, min_samples_split=80, n_estimators=500; total time=   0.2s\n",
      "[CV] END max_depth=8, max_features=2, min_samples_split=80, n_estimators=500; total time=   0.2s\n",
      "[CV] END max_depth=8, max_features=2, min_samples_split=80, n_estimators=500; total time=   0.2s\n",
      "[CV] END max_depth=8, max_features=2, min_samples_split=80, n_estimators=500; total time=   0.2s\n",
      "[CV] END max_depth=8, max_features=2, min_samples_split=80, n_estimators=500; total time=   0.2s\n",
      "[CV] END max_depth=8, max_features=2, min_samples_split=80, n_estimators=500; total time=   0.2s\n",
      "[CV] END max_depth=8, max_features=2, min_samples_split=80, n_estimators=500; total time=   0.2s\n",
      "[CV] END max_depth=8, max_features=2, min_samples_split=80, n_estimators=500; total time=   0.2s\n",
      "[CV] END max_depth=8, max_features=2, min_samples_split=80, n_estimators=500; total time=   0.2s\n",
      "[CV] END max_depth=8, max_features=2, min_samples_split=80, n_estimators=500; total time=   0.2s\n",
      "[CV] END max_depth=8, max_features=2, min_samples_split=80, n_estimators=1000; total time=   0.5s\n",
      "[CV] END max_depth=8, max_features=2, min_samples_split=80, n_estimators=1000; total time=   0.5s\n",
      "[CV] END max_depth=8, max_features=2, min_samples_split=80, n_estimators=1000; total time=   0.5s\n",
      "[CV] END max_depth=8, max_features=2, min_samples_split=80, n_estimators=1000; total time=   0.5s\n",
      "[CV] END max_depth=8, max_features=2, min_samples_split=80, n_estimators=1000; total time=   0.5s\n",
      "[CV] END max_depth=8, max_features=2, min_samples_split=80, n_estimators=1000; total time=   0.5s\n",
      "[CV] END max_depth=8, max_features=2, min_samples_split=80, n_estimators=1000; total time=   0.5s\n",
      "[CV] END max_depth=8, max_features=2, min_samples_split=80, n_estimators=1000; total time=   0.5s\n",
      "[CV] END max_depth=8, max_features=2, min_samples_split=80, n_estimators=1000; total time=   0.5s\n",
      "[CV] END max_depth=8, max_features=2, min_samples_split=80, n_estimators=1000; total time=   0.5s\n",
      "[CV] END max_depth=8, max_features=2, min_samples_split=80, n_estimators=2000; total time=   1.1s\n",
      "[CV] END max_depth=8, max_features=2, min_samples_split=80, n_estimators=2000; total time=   1.0s\n",
      "[CV] END max_depth=8, max_features=2, min_samples_split=80, n_estimators=2000; total time=   1.1s\n",
      "[CV] END max_depth=8, max_features=2, min_samples_split=80, n_estimators=2000; total time=   1.0s\n",
      "[CV] END max_depth=8, max_features=2, min_samples_split=80, n_estimators=2000; total time=   1.1s\n",
      "[CV] END max_depth=8, max_features=2, min_samples_split=80, n_estimators=2000; total time=   1.1s\n",
      "[CV] END max_depth=8, max_features=2, min_samples_split=80, n_estimators=2000; total time=   1.1s\n",
      "[CV] END max_depth=8, max_features=2, min_samples_split=80, n_estimators=2000; total time=   1.2s\n",
      "[CV] END max_depth=8, max_features=2, min_samples_split=80, n_estimators=2000; total time=   1.1s\n",
      "[CV] END max_depth=8, max_features=2, min_samples_split=80, n_estimators=2000; total time=   1.1s\n",
      "[CV] END max_depth=8, max_features=2, min_samples_split=100, n_estimators=200; total time=   0.0s\n",
      "[CV] END max_depth=8, max_features=2, min_samples_split=100, n_estimators=200; total time=   0.0s\n",
      "[CV] END max_depth=8, max_features=2, min_samples_split=100, n_estimators=200; total time=   0.0s\n",
      "[CV] END max_depth=8, max_features=2, min_samples_split=100, n_estimators=200; total time=   0.0s\n",
      "[CV] END max_depth=8, max_features=2, min_samples_split=100, n_estimators=200; total time=   0.0s\n",
      "[CV] END max_depth=8, max_features=2, min_samples_split=100, n_estimators=200; total time=   0.0s\n",
      "[CV] END max_depth=8, max_features=2, min_samples_split=100, n_estimators=200; total time=   0.0s\n",
      "[CV] END max_depth=8, max_features=2, min_samples_split=100, n_estimators=200; total time=   0.0s\n",
      "[CV] END max_depth=8, max_features=2, min_samples_split=100, n_estimators=200; total time=   0.0s\n",
      "[CV] END max_depth=8, max_features=2, min_samples_split=100, n_estimators=200; total time=   0.0s\n",
      "[CV] END max_depth=8, max_features=2, min_samples_split=100, n_estimators=500; total time=   0.2s\n",
      "[CV] END max_depth=8, max_features=2, min_samples_split=100, n_estimators=500; total time=   0.2s\n",
      "[CV] END max_depth=8, max_features=2, min_samples_split=100, n_estimators=500; total time=   0.2s\n",
      "[CV] END max_depth=8, max_features=2, min_samples_split=100, n_estimators=500; total time=   0.2s\n",
      "[CV] END max_depth=8, max_features=2, min_samples_split=100, n_estimators=500; total time=   0.2s\n",
      "[CV] END max_depth=8, max_features=2, min_samples_split=100, n_estimators=500; total time=   0.2s\n",
      "[CV] END max_depth=8, max_features=2, min_samples_split=100, n_estimators=500; total time=   0.2s\n",
      "[CV] END max_depth=8, max_features=2, min_samples_split=100, n_estimators=500; total time=   0.2s\n",
      "[CV] END max_depth=8, max_features=2, min_samples_split=100, n_estimators=500; total time=   0.2s\n",
      "[CV] END max_depth=8, max_features=2, min_samples_split=100, n_estimators=500; total time=   0.2s\n",
      "[CV] END max_depth=8, max_features=2, min_samples_split=100, n_estimators=1000; total time=   0.5s\n",
      "[CV] END max_depth=8, max_features=2, min_samples_split=100, n_estimators=1000; total time=   0.5s\n",
      "[CV] END max_depth=8, max_features=2, min_samples_split=100, n_estimators=1000; total time=   0.5s\n",
      "[CV] END max_depth=8, max_features=2, min_samples_split=100, n_estimators=1000; total time=   0.6s\n",
      "[CV] END max_depth=8, max_features=2, min_samples_split=100, n_estimators=1000; total time=   0.5s\n",
      "[CV] END max_depth=8, max_features=2, min_samples_split=100, n_estimators=1000; total time=   0.5s\n",
      "[CV] END max_depth=8, max_features=2, min_samples_split=100, n_estimators=1000; total time=   0.5s\n",
      "[CV] END max_depth=8, max_features=2, min_samples_split=100, n_estimators=1000; total time=   0.5s\n",
      "[CV] END max_depth=8, max_features=2, min_samples_split=100, n_estimators=1000; total time=   0.5s\n",
      "[CV] END max_depth=8, max_features=2, min_samples_split=100, n_estimators=1000; total time=   0.5s\n",
      "[CV] END max_depth=8, max_features=2, min_samples_split=100, n_estimators=2000; total time=   1.1s\n",
      "[CV] END max_depth=8, max_features=2, min_samples_split=100, n_estimators=2000; total time=   1.1s\n",
      "[CV] END max_depth=8, max_features=2, min_samples_split=100, n_estimators=2000; total time=   1.1s\n",
      "[CV] END max_depth=8, max_features=2, min_samples_split=100, n_estimators=2000; total time=   1.1s\n",
      "[CV] END max_depth=8, max_features=2, min_samples_split=100, n_estimators=2000; total time=   1.1s\n",
      "[CV] END max_depth=8, max_features=2, min_samples_split=100, n_estimators=2000; total time=   1.1s\n",
      "[CV] END max_depth=8, max_features=2, min_samples_split=100, n_estimators=2000; total time=   1.1s\n",
      "[CV] END max_depth=8, max_features=2, min_samples_split=100, n_estimators=2000; total time=   1.1s\n",
      "[CV] END max_depth=8, max_features=2, min_samples_split=100, n_estimators=2000; total time=   1.1s\n",
      "[CV] END max_depth=8, max_features=2, min_samples_split=100, n_estimators=2000; total time=   1.0s\n",
      "[CV] END max_depth=8, max_features=5, min_samples_split=2, n_estimators=200; total time=   0.1s\n",
      "[CV] END max_depth=8, max_features=5, min_samples_split=2, n_estimators=200; total time=   0.1s\n",
      "[CV] END max_depth=8, max_features=5, min_samples_split=2, n_estimators=200; total time=   0.1s\n",
      "[CV] END max_depth=8, max_features=5, min_samples_split=2, n_estimators=200; total time=   0.1s\n",
      "[CV] END max_depth=8, max_features=5, min_samples_split=2, n_estimators=200; total time=   0.1s\n",
      "[CV] END max_depth=8, max_features=5, min_samples_split=2, n_estimators=200; total time=   0.1s\n",
      "[CV] END max_depth=8, max_features=5, min_samples_split=2, n_estimators=200; total time=   0.1s\n",
      "[CV] END max_depth=8, max_features=5, min_samples_split=2, n_estimators=200; total time=   0.1s\n",
      "[CV] END max_depth=8, max_features=5, min_samples_split=2, n_estimators=200; total time=   0.0s\n",
      "[CV] END max_depth=8, max_features=5, min_samples_split=2, n_estimators=200; total time=   0.1s\n",
      "[CV] END max_depth=8, max_features=5, min_samples_split=2, n_estimators=500; total time=   0.3s\n",
      "[CV] END max_depth=8, max_features=5, min_samples_split=2, n_estimators=500; total time=   0.3s\n",
      "[CV] END max_depth=8, max_features=5, min_samples_split=2, n_estimators=500; total time=   0.3s\n",
      "[CV] END max_depth=8, max_features=5, min_samples_split=2, n_estimators=500; total time=   0.3s\n",
      "[CV] END max_depth=8, max_features=5, min_samples_split=2, n_estimators=500; total time=   0.3s\n",
      "[CV] END max_depth=8, max_features=5, min_samples_split=2, n_estimators=500; total time=   0.3s\n",
      "[CV] END max_depth=8, max_features=5, min_samples_split=2, n_estimators=500; total time=   0.3s\n",
      "[CV] END max_depth=8, max_features=5, min_samples_split=2, n_estimators=500; total time=   0.3s\n",
      "[CV] END max_depth=8, max_features=5, min_samples_split=2, n_estimators=500; total time=   0.3s\n",
      "[CV] END max_depth=8, max_features=5, min_samples_split=2, n_estimators=500; total time=   0.3s\n",
      "[CV] END max_depth=8, max_features=5, min_samples_split=2, n_estimators=1000; total time=   0.7s\n",
      "[CV] END max_depth=8, max_features=5, min_samples_split=2, n_estimators=1000; total time=   0.7s\n",
      "[CV] END max_depth=8, max_features=5, min_samples_split=2, n_estimators=1000; total time=   0.6s\n",
      "[CV] END max_depth=8, max_features=5, min_samples_split=2, n_estimators=1000; total time=   0.6s\n",
      "[CV] END max_depth=8, max_features=5, min_samples_split=2, n_estimators=1000; total time=   0.6s\n",
      "[CV] END max_depth=8, max_features=5, min_samples_split=2, n_estimators=1000; total time=   0.6s\n",
      "[CV] END max_depth=8, max_features=5, min_samples_split=2, n_estimators=1000; total time=   0.6s\n",
      "[CV] END max_depth=8, max_features=5, min_samples_split=2, n_estimators=1000; total time=   0.6s\n",
      "[CV] END max_depth=8, max_features=5, min_samples_split=2, n_estimators=1000; total time=   0.7s\n",
      "[CV] END max_depth=8, max_features=5, min_samples_split=2, n_estimators=1000; total time=   0.7s\n",
      "[CV] END max_depth=8, max_features=5, min_samples_split=2, n_estimators=2000; total time=   1.4s\n",
      "[CV] END max_depth=8, max_features=5, min_samples_split=2, n_estimators=2000; total time=   1.4s\n",
      "[CV] END max_depth=8, max_features=5, min_samples_split=2, n_estimators=2000; total time=   1.4s\n",
      "[CV] END max_depth=8, max_features=5, min_samples_split=2, n_estimators=2000; total time=   1.5s\n",
      "[CV] END max_depth=8, max_features=5, min_samples_split=2, n_estimators=2000; total time=   1.4s\n",
      "[CV] END max_depth=8, max_features=5, min_samples_split=2, n_estimators=2000; total time=   1.4s\n",
      "[CV] END max_depth=8, max_features=5, min_samples_split=2, n_estimators=2000; total time=   1.5s\n",
      "[CV] END max_depth=8, max_features=5, min_samples_split=2, n_estimators=2000; total time=   1.4s\n",
      "[CV] END max_depth=8, max_features=5, min_samples_split=2, n_estimators=2000; total time=   1.4s\n",
      "[CV] END max_depth=8, max_features=5, min_samples_split=2, n_estimators=2000; total time=   1.4s\n",
      "[CV] END max_depth=8, max_features=5, min_samples_split=10, n_estimators=200; total time=   0.0s\n",
      "[CV] END max_depth=8, max_features=5, min_samples_split=10, n_estimators=200; total time=   0.0s\n",
      "[CV] END max_depth=8, max_features=5, min_samples_split=10, n_estimators=200; total time=   0.0s\n",
      "[CV] END max_depth=8, max_features=5, min_samples_split=10, n_estimators=200; total time=   0.0s\n",
      "[CV] END max_depth=8, max_features=5, min_samples_split=10, n_estimators=200; total time=   0.0s\n",
      "[CV] END max_depth=8, max_features=5, min_samples_split=10, n_estimators=200; total time=   0.0s\n",
      "[CV] END max_depth=8, max_features=5, min_samples_split=10, n_estimators=200; total time=   0.0s\n",
      "[CV] END max_depth=8, max_features=5, min_samples_split=10, n_estimators=200; total time=   0.0s\n",
      "[CV] END max_depth=8, max_features=5, min_samples_split=10, n_estimators=200; total time=   0.0s\n",
      "[CV] END max_depth=8, max_features=5, min_samples_split=10, n_estimators=200; total time=   0.0s\n",
      "[CV] END max_depth=8, max_features=5, min_samples_split=10, n_estimators=500; total time=   0.2s\n",
      "[CV] END max_depth=8, max_features=5, min_samples_split=10, n_estimators=500; total time=   0.2s\n",
      "[CV] END max_depth=8, max_features=5, min_samples_split=10, n_estimators=500; total time=   0.3s\n",
      "[CV] END max_depth=8, max_features=5, min_samples_split=10, n_estimators=500; total time=   0.2s\n",
      "[CV] END max_depth=8, max_features=5, min_samples_split=10, n_estimators=500; total time=   0.2s\n",
      "[CV] END max_depth=8, max_features=5, min_samples_split=10, n_estimators=500; total time=   0.2s\n",
      "[CV] END max_depth=8, max_features=5, min_samples_split=10, n_estimators=500; total time=   0.2s\n",
      "[CV] END max_depth=8, max_features=5, min_samples_split=10, n_estimators=500; total time=   0.2s\n",
      "[CV] END max_depth=8, max_features=5, min_samples_split=10, n_estimators=500; total time=   0.2s\n",
      "[CV] END max_depth=8, max_features=5, min_samples_split=10, n_estimators=500; total time=   0.2s\n",
      "[CV] END max_depth=8, max_features=5, min_samples_split=10, n_estimators=1000; total time=   0.6s\n",
      "[CV] END max_depth=8, max_features=5, min_samples_split=10, n_estimators=1000; total time=   0.6s\n",
      "[CV] END max_depth=8, max_features=5, min_samples_split=10, n_estimators=1000; total time=   0.6s\n",
      "[CV] END max_depth=8, max_features=5, min_samples_split=10, n_estimators=1000; total time=   0.6s\n",
      "[CV] END max_depth=8, max_features=5, min_samples_split=10, n_estimators=1000; total time=   0.6s\n",
      "[CV] END max_depth=8, max_features=5, min_samples_split=10, n_estimators=1000; total time=   0.6s\n",
      "[CV] END max_depth=8, max_features=5, min_samples_split=10, n_estimators=1000; total time=   0.6s\n",
      "[CV] END max_depth=8, max_features=5, min_samples_split=10, n_estimators=1000; total time=   0.6s\n",
      "[CV] END max_depth=8, max_features=5, min_samples_split=10, n_estimators=1000; total time=   0.6s\n",
      "[CV] END max_depth=8, max_features=5, min_samples_split=10, n_estimators=1000; total time=   0.6s\n",
      "[CV] END max_depth=8, max_features=5, min_samples_split=10, n_estimators=2000; total time=   1.4s\n",
      "[CV] END max_depth=8, max_features=5, min_samples_split=10, n_estimators=2000; total time=   1.3s\n",
      "[CV] END max_depth=8, max_features=5, min_samples_split=10, n_estimators=2000; total time=   1.3s\n",
      "[CV] END max_depth=8, max_features=5, min_samples_split=10, n_estimators=2000; total time=   1.3s\n",
      "[CV] END max_depth=8, max_features=5, min_samples_split=10, n_estimators=2000; total time=   1.3s\n",
      "[CV] END max_depth=8, max_features=5, min_samples_split=10, n_estimators=2000; total time=   1.3s\n",
      "[CV] END max_depth=8, max_features=5, min_samples_split=10, n_estimators=2000; total time=   1.4s\n",
      "[CV] END max_depth=8, max_features=5, min_samples_split=10, n_estimators=2000; total time=   1.3s\n",
      "[CV] END max_depth=8, max_features=5, min_samples_split=10, n_estimators=2000; total time=   1.4s\n",
      "[CV] END max_depth=8, max_features=5, min_samples_split=10, n_estimators=2000; total time=   1.3s\n",
      "[CV] END max_depth=8, max_features=5, min_samples_split=80, n_estimators=200; total time=   0.0s\n",
      "[CV] END max_depth=8, max_features=5, min_samples_split=80, n_estimators=200; total time=   0.0s\n",
      "[CV] END max_depth=8, max_features=5, min_samples_split=80, n_estimators=200; total time=   0.0s\n",
      "[CV] END max_depth=8, max_features=5, min_samples_split=80, n_estimators=200; total time=   0.0s\n",
      "[CV] END max_depth=8, max_features=5, min_samples_split=80, n_estimators=200; total time=   0.0s\n",
      "[CV] END max_depth=8, max_features=5, min_samples_split=80, n_estimators=200; total time=   0.0s\n",
      "[CV] END max_depth=8, max_features=5, min_samples_split=80, n_estimators=200; total time=   0.0s\n",
      "[CV] END max_depth=8, max_features=5, min_samples_split=80, n_estimators=200; total time=   0.0s\n",
      "[CV] END max_depth=8, max_features=5, min_samples_split=80, n_estimators=200; total time=   0.0s\n",
      "[CV] END max_depth=8, max_features=5, min_samples_split=80, n_estimators=200; total time=   0.0s\n",
      "[CV] END max_depth=8, max_features=5, min_samples_split=80, n_estimators=500; total time=   0.2s\n",
      "[CV] END max_depth=8, max_features=5, min_samples_split=80, n_estimators=500; total time=   0.2s\n",
      "[CV] END max_depth=8, max_features=5, min_samples_split=80, n_estimators=500; total time=   0.2s\n",
      "[CV] END max_depth=8, max_features=5, min_samples_split=80, n_estimators=500; total time=   0.2s\n",
      "[CV] END max_depth=8, max_features=5, min_samples_split=80, n_estimators=500; total time=   0.2s\n",
      "[CV] END max_depth=8, max_features=5, min_samples_split=80, n_estimators=500; total time=   0.2s\n",
      "[CV] END max_depth=8, max_features=5, min_samples_split=80, n_estimators=500; total time=   0.2s\n",
      "[CV] END max_depth=8, max_features=5, min_samples_split=80, n_estimators=500; total time=   0.2s\n",
      "[CV] END max_depth=8, max_features=5, min_samples_split=80, n_estimators=500; total time=   0.2s\n",
      "[CV] END max_depth=8, max_features=5, min_samples_split=80, n_estimators=500; total time=   0.3s\n",
      "[CV] END max_depth=8, max_features=5, min_samples_split=80, n_estimators=1000; total time=   0.5s\n",
      "[CV] END max_depth=8, max_features=5, min_samples_split=80, n_estimators=1000; total time=   0.5s\n",
      "[CV] END max_depth=8, max_features=5, min_samples_split=80, n_estimators=1000; total time=   0.5s\n",
      "[CV] END max_depth=8, max_features=5, min_samples_split=80, n_estimators=1000; total time=   0.5s\n",
      "[CV] END max_depth=8, max_features=5, min_samples_split=80, n_estimators=1000; total time=   0.5s\n",
      "[CV] END max_depth=8, max_features=5, min_samples_split=80, n_estimators=1000; total time=   0.5s\n",
      "[CV] END max_depth=8, max_features=5, min_samples_split=80, n_estimators=1000; total time=   0.5s\n",
      "[CV] END max_depth=8, max_features=5, min_samples_split=80, n_estimators=1000; total time=   0.5s\n",
      "[CV] END max_depth=8, max_features=5, min_samples_split=80, n_estimators=1000; total time=   0.5s\n",
      "[CV] END max_depth=8, max_features=5, min_samples_split=80, n_estimators=1000; total time=   0.5s\n",
      "[CV] END max_depth=8, max_features=5, min_samples_split=80, n_estimators=2000; total time=   1.1s\n",
      "[CV] END max_depth=8, max_features=5, min_samples_split=80, n_estimators=2000; total time=   1.1s\n",
      "[CV] END max_depth=8, max_features=5, min_samples_split=80, n_estimators=2000; total time=   1.1s\n",
      "[CV] END max_depth=8, max_features=5, min_samples_split=80, n_estimators=2000; total time=   1.0s\n",
      "[CV] END max_depth=8, max_features=5, min_samples_split=80, n_estimators=2000; total time=   1.1s\n",
      "[CV] END max_depth=8, max_features=5, min_samples_split=80, n_estimators=2000; total time=   1.1s\n",
      "[CV] END max_depth=8, max_features=5, min_samples_split=80, n_estimators=2000; total time=   1.1s\n",
      "[CV] END max_depth=8, max_features=5, min_samples_split=80, n_estimators=2000; total time=   1.0s\n",
      "[CV] END max_depth=8, max_features=5, min_samples_split=80, n_estimators=2000; total time=   1.1s\n",
      "[CV] END max_depth=8, max_features=5, min_samples_split=80, n_estimators=2000; total time=   1.1s\n",
      "[CV] END max_depth=8, max_features=5, min_samples_split=100, n_estimators=200; total time=   0.0s\n",
      "[CV] END max_depth=8, max_features=5, min_samples_split=100, n_estimators=200; total time=   0.0s\n",
      "[CV] END max_depth=8, max_features=5, min_samples_split=100, n_estimators=200; total time=   0.0s\n",
      "[CV] END max_depth=8, max_features=5, min_samples_split=100, n_estimators=200; total time=   0.0s\n",
      "[CV] END max_depth=8, max_features=5, min_samples_split=100, n_estimators=200; total time=   0.0s\n",
      "[CV] END max_depth=8, max_features=5, min_samples_split=100, n_estimators=200; total time=   0.0s\n",
      "[CV] END max_depth=8, max_features=5, min_samples_split=100, n_estimators=200; total time=   0.0s\n",
      "[CV] END max_depth=8, max_features=5, min_samples_split=100, n_estimators=200; total time=   0.0s\n",
      "[CV] END max_depth=8, max_features=5, min_samples_split=100, n_estimators=200; total time=   0.0s\n",
      "[CV] END max_depth=8, max_features=5, min_samples_split=100, n_estimators=200; total time=   0.0s\n",
      "[CV] END max_depth=8, max_features=5, min_samples_split=100, n_estimators=500; total time=   0.2s\n",
      "[CV] END max_depth=8, max_features=5, min_samples_split=100, n_estimators=500; total time=   0.2s\n",
      "[CV] END max_depth=8, max_features=5, min_samples_split=100, n_estimators=500; total time=   0.2s\n",
      "[CV] END max_depth=8, max_features=5, min_samples_split=100, n_estimators=500; total time=   0.2s\n",
      "[CV] END max_depth=8, max_features=5, min_samples_split=100, n_estimators=500; total time=   0.2s\n",
      "[CV] END max_depth=8, max_features=5, min_samples_split=100, n_estimators=500; total time=   0.2s\n",
      "[CV] END max_depth=8, max_features=5, min_samples_split=100, n_estimators=500; total time=   0.2s\n",
      "[CV] END max_depth=8, max_features=5, min_samples_split=100, n_estimators=500; total time=   0.2s\n",
      "[CV] END max_depth=8, max_features=5, min_samples_split=100, n_estimators=500; total time=   0.2s\n",
      "[CV] END max_depth=8, max_features=5, min_samples_split=100, n_estimators=500; total time=   0.2s\n",
      "[CV] END max_depth=8, max_features=5, min_samples_split=100, n_estimators=1000; total time=   0.5s\n",
      "[CV] END max_depth=8, max_features=5, min_samples_split=100, n_estimators=1000; total time=   0.5s\n",
      "[CV] END max_depth=8, max_features=5, min_samples_split=100, n_estimators=1000; total time=   0.5s\n",
      "[CV] END max_depth=8, max_features=5, min_samples_split=100, n_estimators=1000; total time=   0.5s\n",
      "[CV] END max_depth=8, max_features=5, min_samples_split=100, n_estimators=1000; total time=   0.5s\n",
      "[CV] END max_depth=8, max_features=5, min_samples_split=100, n_estimators=1000; total time=   0.5s\n",
      "[CV] END max_depth=8, max_features=5, min_samples_split=100, n_estimators=1000; total time=   0.5s\n",
      "[CV] END max_depth=8, max_features=5, min_samples_split=100, n_estimators=1000; total time=   0.5s\n",
      "[CV] END max_depth=8, max_features=5, min_samples_split=100, n_estimators=1000; total time=   0.5s\n",
      "[CV] END max_depth=8, max_features=5, min_samples_split=100, n_estimators=1000; total time=   0.5s\n",
      "[CV] END max_depth=8, max_features=5, min_samples_split=100, n_estimators=2000; total time=   1.1s\n",
      "[CV] END max_depth=8, max_features=5, min_samples_split=100, n_estimators=2000; total time=   1.0s\n",
      "[CV] END max_depth=8, max_features=5, min_samples_split=100, n_estimators=2000; total time=   1.0s\n",
      "[CV] END max_depth=8, max_features=5, min_samples_split=100, n_estimators=2000; total time=   1.1s\n",
      "[CV] END max_depth=8, max_features=5, min_samples_split=100, n_estimators=2000; total time=   1.0s\n",
      "[CV] END max_depth=8, max_features=5, min_samples_split=100, n_estimators=2000; total time=   1.0s\n",
      "[CV] END max_depth=8, max_features=5, min_samples_split=100, n_estimators=2000; total time=   1.0s\n",
      "[CV] END max_depth=8, max_features=5, min_samples_split=100, n_estimators=2000; total time=   1.0s\n",
      "[CV] END max_depth=8, max_features=5, min_samples_split=100, n_estimators=2000; total time=   1.0s\n",
      "[CV] END max_depth=8, max_features=5, min_samples_split=100, n_estimators=2000; total time=   1.1s\n",
      "[CV] END max_depth=8, max_features=10, min_samples_split=2, n_estimators=200; total time=   0.1s\n",
      "[CV] END max_depth=8, max_features=10, min_samples_split=2, n_estimators=200; total time=   0.1s\n",
      "[CV] END max_depth=8, max_features=10, min_samples_split=2, n_estimators=200; total time=   0.1s\n",
      "[CV] END max_depth=8, max_features=10, min_samples_split=2, n_estimators=200; total time=   0.1s\n",
      "[CV] END max_depth=8, max_features=10, min_samples_split=2, n_estimators=200; total time=   0.1s\n",
      "[CV] END max_depth=8, max_features=10, min_samples_split=2, n_estimators=200; total time=   0.1s\n",
      "[CV] END max_depth=8, max_features=10, min_samples_split=2, n_estimators=200; total time=   0.1s\n",
      "[CV] END max_depth=8, max_features=10, min_samples_split=2, n_estimators=200; total time=   0.1s\n",
      "[CV] END max_depth=8, max_features=10, min_samples_split=2, n_estimators=200; total time=   0.1s\n",
      "[CV] END max_depth=8, max_features=10, min_samples_split=2, n_estimators=200; total time=   0.1s\n",
      "[CV] END max_depth=8, max_features=10, min_samples_split=2, n_estimators=500; total time=   0.3s\n",
      "[CV] END max_depth=8, max_features=10, min_samples_split=2, n_estimators=500; total time=   0.3s\n",
      "[CV] END max_depth=8, max_features=10, min_samples_split=2, n_estimators=500; total time=   0.3s\n",
      "[CV] END max_depth=8, max_features=10, min_samples_split=2, n_estimators=500; total time=   0.3s\n",
      "[CV] END max_depth=8, max_features=10, min_samples_split=2, n_estimators=500; total time=   0.3s\n",
      "[CV] END max_depth=8, max_features=10, min_samples_split=2, n_estimators=500; total time=   0.3s\n",
      "[CV] END max_depth=8, max_features=10, min_samples_split=2, n_estimators=500; total time=   0.3s\n",
      "[CV] END max_depth=8, max_features=10, min_samples_split=2, n_estimators=500; total time=   0.3s\n",
      "[CV] END max_depth=8, max_features=10, min_samples_split=2, n_estimators=500; total time=   0.3s\n",
      "[CV] END max_depth=8, max_features=10, min_samples_split=2, n_estimators=500; total time=   0.3s\n",
      "[CV] END max_depth=8, max_features=10, min_samples_split=2, n_estimators=1000; total time=   0.7s\n",
      "[CV] END max_depth=8, max_features=10, min_samples_split=2, n_estimators=1000; total time=   0.7s\n",
      "[CV] END max_depth=8, max_features=10, min_samples_split=2, n_estimators=1000; total time=   0.8s\n",
      "[CV] END max_depth=8, max_features=10, min_samples_split=2, n_estimators=1000; total time=   0.8s\n",
      "[CV] END max_depth=8, max_features=10, min_samples_split=2, n_estimators=1000; total time=   0.8s\n",
      "[CV] END max_depth=8, max_features=10, min_samples_split=2, n_estimators=1000; total time=   0.8s\n",
      "[CV] END max_depth=8, max_features=10, min_samples_split=2, n_estimators=1000; total time=   0.7s\n",
      "[CV] END max_depth=8, max_features=10, min_samples_split=2, n_estimators=1000; total time=   0.8s\n",
      "[CV] END max_depth=8, max_features=10, min_samples_split=2, n_estimators=1000; total time=   0.7s\n",
      "[CV] END max_depth=8, max_features=10, min_samples_split=2, n_estimators=1000; total time=   0.8s\n",
      "[CV] END max_depth=8, max_features=10, min_samples_split=2, n_estimators=2000; total time=   1.6s\n",
      "[CV] END max_depth=8, max_features=10, min_samples_split=2, n_estimators=2000; total time=   1.6s\n",
      "[CV] END max_depth=8, max_features=10, min_samples_split=2, n_estimators=2000; total time=   1.6s\n",
      "[CV] END max_depth=8, max_features=10, min_samples_split=2, n_estimators=2000; total time=   1.7s\n",
      "[CV] END max_depth=8, max_features=10, min_samples_split=2, n_estimators=2000; total time=   1.7s\n",
      "[CV] END max_depth=8, max_features=10, min_samples_split=2, n_estimators=2000; total time=   1.6s\n",
      "[CV] END max_depth=8, max_features=10, min_samples_split=2, n_estimators=2000; total time=   1.6s\n",
      "[CV] END max_depth=8, max_features=10, min_samples_split=2, n_estimators=2000; total time=   1.6s\n",
      "[CV] END max_depth=8, max_features=10, min_samples_split=2, n_estimators=2000; total time=   1.7s\n",
      "[CV] END max_depth=8, max_features=10, min_samples_split=2, n_estimators=2000; total time=   1.6s\n",
      "[CV] END max_depth=8, max_features=10, min_samples_split=10, n_estimators=200; total time=   0.1s\n",
      "[CV] END max_depth=8, max_features=10, min_samples_split=10, n_estimators=200; total time=   0.1s\n",
      "[CV] END max_depth=8, max_features=10, min_samples_split=10, n_estimators=200; total time=   0.1s\n",
      "[CV] END max_depth=8, max_features=10, min_samples_split=10, n_estimators=200; total time=   0.1s\n",
      "[CV] END max_depth=8, max_features=10, min_samples_split=10, n_estimators=200; total time=   0.1s\n",
      "[CV] END max_depth=8, max_features=10, min_samples_split=10, n_estimators=200; total time=   0.1s\n",
      "[CV] END max_depth=8, max_features=10, min_samples_split=10, n_estimators=200; total time=   0.1s\n",
      "[CV] END max_depth=8, max_features=10, min_samples_split=10, n_estimators=200; total time=   0.1s\n",
      "[CV] END max_depth=8, max_features=10, min_samples_split=10, n_estimators=200; total time=   0.1s\n",
      "[CV] END max_depth=8, max_features=10, min_samples_split=10, n_estimators=200; total time=   0.1s\n",
      "[CV] END max_depth=8, max_features=10, min_samples_split=10, n_estimators=500; total time=   0.3s\n",
      "[CV] END max_depth=8, max_features=10, min_samples_split=10, n_estimators=500; total time=   0.3s\n",
      "[CV] END max_depth=8, max_features=10, min_samples_split=10, n_estimators=500; total time=   0.3s\n",
      "[CV] END max_depth=8, max_features=10, min_samples_split=10, n_estimators=500; total time=   0.3s\n",
      "[CV] END max_depth=8, max_features=10, min_samples_split=10, n_estimators=500; total time=   0.3s\n",
      "[CV] END max_depth=8, max_features=10, min_samples_split=10, n_estimators=500; total time=   0.3s\n",
      "[CV] END max_depth=8, max_features=10, min_samples_split=10, n_estimators=500; total time=   0.3s\n",
      "[CV] END max_depth=8, max_features=10, min_samples_split=10, n_estimators=500; total time=   0.3s\n",
      "[CV] END max_depth=8, max_features=10, min_samples_split=10, n_estimators=500; total time=   0.3s\n",
      "[CV] END max_depth=8, max_features=10, min_samples_split=10, n_estimators=500; total time=   0.3s\n",
      "[CV] END max_depth=8, max_features=10, min_samples_split=10, n_estimators=1000; total time=   0.7s\n",
      "[CV] END max_depth=8, max_features=10, min_samples_split=10, n_estimators=1000; total time=   0.7s\n",
      "[CV] END max_depth=8, max_features=10, min_samples_split=10, n_estimators=1000; total time=   0.7s\n",
      "[CV] END max_depth=8, max_features=10, min_samples_split=10, n_estimators=1000; total time=   0.7s\n",
      "[CV] END max_depth=8, max_features=10, min_samples_split=10, n_estimators=1000; total time=   0.7s\n",
      "[CV] END max_depth=8, max_features=10, min_samples_split=10, n_estimators=1000; total time=   0.7s\n",
      "[CV] END max_depth=8, max_features=10, min_samples_split=10, n_estimators=1000; total time=   0.7s\n",
      "[CV] END max_depth=8, max_features=10, min_samples_split=10, n_estimators=1000; total time=   0.7s\n",
      "[CV] END max_depth=8, max_features=10, min_samples_split=10, n_estimators=1000; total time=   0.7s\n",
      "[CV] END max_depth=8, max_features=10, min_samples_split=10, n_estimators=1000; total time=   0.7s\n",
      "[CV] END max_depth=8, max_features=10, min_samples_split=10, n_estimators=2000; total time=   1.5s\n",
      "[CV] END max_depth=8, max_features=10, min_samples_split=10, n_estimators=2000; total time=   1.4s\n",
      "[CV] END max_depth=8, max_features=10, min_samples_split=10, n_estimators=2000; total time=   1.4s\n",
      "[CV] END max_depth=8, max_features=10, min_samples_split=10, n_estimators=2000; total time=   1.5s\n",
      "[CV] END max_depth=8, max_features=10, min_samples_split=10, n_estimators=2000; total time=   1.5s\n",
      "[CV] END max_depth=8, max_features=10, min_samples_split=10, n_estimators=2000; total time=   1.4s\n",
      "[CV] END max_depth=8, max_features=10, min_samples_split=10, n_estimators=2000; total time=   1.4s\n",
      "[CV] END max_depth=8, max_features=10, min_samples_split=10, n_estimators=2000; total time=   1.5s\n",
      "[CV] END max_depth=8, max_features=10, min_samples_split=10, n_estimators=2000; total time=   1.4s\n",
      "[CV] END max_depth=8, max_features=10, min_samples_split=10, n_estimators=2000; total time=   1.4s\n",
      "[CV] END max_depth=8, max_features=10, min_samples_split=80, n_estimators=200; total time=   0.0s\n",
      "[CV] END max_depth=8, max_features=10, min_samples_split=80, n_estimators=200; total time=   0.0s\n",
      "[CV] END max_depth=8, max_features=10, min_samples_split=80, n_estimators=200; total time=   0.0s\n",
      "[CV] END max_depth=8, max_features=10, min_samples_split=80, n_estimators=200; total time=   0.0s\n",
      "[CV] END max_depth=8, max_features=10, min_samples_split=80, n_estimators=200; total time=   0.0s\n",
      "[CV] END max_depth=8, max_features=10, min_samples_split=80, n_estimators=200; total time=   0.0s\n",
      "[CV] END max_depth=8, max_features=10, min_samples_split=80, n_estimators=200; total time=   0.0s\n",
      "[CV] END max_depth=8, max_features=10, min_samples_split=80, n_estimators=200; total time=   0.0s\n",
      "[CV] END max_depth=8, max_features=10, min_samples_split=80, n_estimators=200; total time=   0.0s\n",
      "[CV] END max_depth=8, max_features=10, min_samples_split=80, n_estimators=200; total time=   0.0s\n",
      "[CV] END max_depth=8, max_features=10, min_samples_split=80, n_estimators=500; total time=   0.2s\n",
      "[CV] END max_depth=8, max_features=10, min_samples_split=80, n_estimators=500; total time=   0.2s\n",
      "[CV] END max_depth=8, max_features=10, min_samples_split=80, n_estimators=500; total time=   0.2s\n",
      "[CV] END max_depth=8, max_features=10, min_samples_split=80, n_estimators=500; total time=   0.2s\n",
      "[CV] END max_depth=8, max_features=10, min_samples_split=80, n_estimators=500; total time=   0.2s\n",
      "[CV] END max_depth=8, max_features=10, min_samples_split=80, n_estimators=500; total time=   0.2s\n",
      "[CV] END max_depth=8, max_features=10, min_samples_split=80, n_estimators=500; total time=   0.2s\n",
      "[CV] END max_depth=8, max_features=10, min_samples_split=80, n_estimators=500; total time=   0.2s\n",
      "[CV] END max_depth=8, max_features=10, min_samples_split=80, n_estimators=500; total time=   0.2s\n",
      "[CV] END max_depth=8, max_features=10, min_samples_split=80, n_estimators=500; total time=   0.2s\n",
      "[CV] END max_depth=8, max_features=10, min_samples_split=80, n_estimators=1000; total time=   0.5s\n",
      "[CV] END max_depth=8, max_features=10, min_samples_split=80, n_estimators=1000; total time=   0.5s\n",
      "[CV] END max_depth=8, max_features=10, min_samples_split=80, n_estimators=1000; total time=   0.5s\n",
      "[CV] END max_depth=8, max_features=10, min_samples_split=80, n_estimators=1000; total time=   0.5s\n",
      "[CV] END max_depth=8, max_features=10, min_samples_split=80, n_estimators=1000; total time=   0.5s\n",
      "[CV] END max_depth=8, max_features=10, min_samples_split=80, n_estimators=1000; total time=   0.5s\n",
      "[CV] END max_depth=8, max_features=10, min_samples_split=80, n_estimators=1000; total time=   0.5s\n",
      "[CV] END max_depth=8, max_features=10, min_samples_split=80, n_estimators=1000; total time=   0.5s\n",
      "[CV] END max_depth=8, max_features=10, min_samples_split=80, n_estimators=1000; total time=   0.5s\n",
      "[CV] END max_depth=8, max_features=10, min_samples_split=80, n_estimators=1000; total time=   0.5s\n",
      "[CV] END max_depth=8, max_features=10, min_samples_split=80, n_estimators=2000; total time=   1.1s\n",
      "[CV] END max_depth=8, max_features=10, min_samples_split=80, n_estimators=2000; total time=   1.1s\n",
      "[CV] END max_depth=8, max_features=10, min_samples_split=80, n_estimators=2000; total time=   1.2s\n",
      "[CV] END max_depth=8, max_features=10, min_samples_split=80, n_estimators=2000; total time=   1.2s\n",
      "[CV] END max_depth=8, max_features=10, min_samples_split=80, n_estimators=2000; total time=   1.1s\n",
      "[CV] END max_depth=8, max_features=10, min_samples_split=80, n_estimators=2000; total time=   1.1s\n",
      "[CV] END max_depth=8, max_features=10, min_samples_split=80, n_estimators=2000; total time=   1.1s\n",
      "[CV] END max_depth=8, max_features=10, min_samples_split=80, n_estimators=2000; total time=   1.1s\n",
      "[CV] END max_depth=8, max_features=10, min_samples_split=80, n_estimators=2000; total time=   1.1s\n",
      "[CV] END max_depth=8, max_features=10, min_samples_split=80, n_estimators=2000; total time=   1.1s\n",
      "[CV] END max_depth=8, max_features=10, min_samples_split=100, n_estimators=200; total time=   0.0s\n",
      "[CV] END max_depth=8, max_features=10, min_samples_split=100, n_estimators=200; total time=   0.0s\n",
      "[CV] END max_depth=8, max_features=10, min_samples_split=100, n_estimators=200; total time=   0.0s\n",
      "[CV] END max_depth=8, max_features=10, min_samples_split=100, n_estimators=200; total time=   0.0s\n",
      "[CV] END max_depth=8, max_features=10, min_samples_split=100, n_estimators=200; total time=   0.0s\n",
      "[CV] END max_depth=8, max_features=10, min_samples_split=100, n_estimators=200; total time=   0.0s\n",
      "[CV] END max_depth=8, max_features=10, min_samples_split=100, n_estimators=200; total time=   0.0s\n",
      "[CV] END max_depth=8, max_features=10, min_samples_split=100, n_estimators=200; total time=   0.0s\n",
      "[CV] END max_depth=8, max_features=10, min_samples_split=100, n_estimators=200; total time=   0.0s\n",
      "[CV] END max_depth=8, max_features=10, min_samples_split=100, n_estimators=200; total time=   0.0s\n",
      "[CV] END max_depth=8, max_features=10, min_samples_split=100, n_estimators=500; total time=   0.2s\n",
      "[CV] END max_depth=8, max_features=10, min_samples_split=100, n_estimators=500; total time=   0.2s\n",
      "[CV] END max_depth=8, max_features=10, min_samples_split=100, n_estimators=500; total time=   0.2s\n",
      "[CV] END max_depth=8, max_features=10, min_samples_split=100, n_estimators=500; total time=   0.2s\n",
      "[CV] END max_depth=8, max_features=10, min_samples_split=100, n_estimators=500; total time=   0.2s\n",
      "[CV] END max_depth=8, max_features=10, min_samples_split=100, n_estimators=500; total time=   0.2s\n",
      "[CV] END max_depth=8, max_features=10, min_samples_split=100, n_estimators=500; total time=   0.2s\n",
      "[CV] END max_depth=8, max_features=10, min_samples_split=100, n_estimators=500; total time=   0.2s\n",
      "[CV] END max_depth=8, max_features=10, min_samples_split=100, n_estimators=500; total time=   0.2s\n",
      "[CV] END max_depth=8, max_features=10, min_samples_split=100, n_estimators=500; total time=   0.2s\n",
      "[CV] END max_depth=8, max_features=10, min_samples_split=100, n_estimators=1000; total time=   0.5s\n",
      "[CV] END max_depth=8, max_features=10, min_samples_split=100, n_estimators=1000; total time=   0.5s\n",
      "[CV] END max_depth=8, max_features=10, min_samples_split=100, n_estimators=1000; total time=   0.5s\n",
      "[CV] END max_depth=8, max_features=10, min_samples_split=100, n_estimators=1000; total time=   0.5s\n",
      "[CV] END max_depth=8, max_features=10, min_samples_split=100, n_estimators=1000; total time=   0.5s\n",
      "[CV] END max_depth=8, max_features=10, min_samples_split=100, n_estimators=1000; total time=   0.5s\n",
      "[CV] END max_depth=8, max_features=10, min_samples_split=100, n_estimators=1000; total time=   0.5s\n",
      "[CV] END max_depth=8, max_features=10, min_samples_split=100, n_estimators=1000; total time=   0.5s\n",
      "[CV] END max_depth=8, max_features=10, min_samples_split=100, n_estimators=1000; total time=   0.5s\n",
      "[CV] END max_depth=8, max_features=10, min_samples_split=100, n_estimators=1000; total time=   0.5s\n",
      "[CV] END max_depth=8, max_features=10, min_samples_split=100, n_estimators=2000; total time=   1.1s\n",
      "[CV] END max_depth=8, max_features=10, min_samples_split=100, n_estimators=2000; total time=   1.1s\n",
      "[CV] END max_depth=8, max_features=10, min_samples_split=100, n_estimators=2000; total time=   1.1s\n",
      "[CV] END max_depth=8, max_features=10, min_samples_split=100, n_estimators=2000; total time=   1.1s\n",
      "[CV] END max_depth=8, max_features=10, min_samples_split=100, n_estimators=2000; total time=   1.1s\n",
      "[CV] END max_depth=8, max_features=10, min_samples_split=100, n_estimators=2000; total time=   1.1s\n",
      "[CV] END max_depth=8, max_features=10, min_samples_split=100, n_estimators=2000; total time=   1.1s\n",
      "[CV] END max_depth=8, max_features=10, min_samples_split=100, n_estimators=2000; total time=   1.1s\n",
      "[CV] END max_depth=8, max_features=10, min_samples_split=100, n_estimators=2000; total time=   1.1s\n",
      "[CV] END max_depth=8, max_features=10, min_samples_split=100, n_estimators=2000; total time=   1.1s\n",
      "[CV] END max_depth=10, max_features=2, min_samples_split=2, n_estimators=200; total time=   0.0s\n",
      "[CV] END max_depth=10, max_features=2, min_samples_split=2, n_estimators=200; total time=   0.0s\n",
      "[CV] END max_depth=10, max_features=2, min_samples_split=2, n_estimators=200; total time=   0.0s\n",
      "[CV] END max_depth=10, max_features=2, min_samples_split=2, n_estimators=200; total time=   0.0s\n",
      "[CV] END max_depth=10, max_features=2, min_samples_split=2, n_estimators=200; total time=   0.0s\n",
      "[CV] END max_depth=10, max_features=2, min_samples_split=2, n_estimators=200; total time=   0.0s\n",
      "[CV] END max_depth=10, max_features=2, min_samples_split=2, n_estimators=200; total time=   0.1s\n",
      "[CV] END max_depth=10, max_features=2, min_samples_split=2, n_estimators=200; total time=   0.0s\n",
      "[CV] END max_depth=10, max_features=2, min_samples_split=2, n_estimators=200; total time=   0.0s\n",
      "[CV] END max_depth=10, max_features=2, min_samples_split=2, n_estimators=200; total time=   0.0s\n",
      "[CV] END max_depth=10, max_features=2, min_samples_split=2, n_estimators=500; total time=   0.3s\n",
      "[CV] END max_depth=10, max_features=2, min_samples_split=2, n_estimators=500; total time=   0.2s\n",
      "[CV] END max_depth=10, max_features=2, min_samples_split=2, n_estimators=500; total time=   0.2s\n",
      "[CV] END max_depth=10, max_features=2, min_samples_split=2, n_estimators=500; total time=   0.2s\n",
      "[CV] END max_depth=10, max_features=2, min_samples_split=2, n_estimators=500; total time=   0.2s\n",
      "[CV] END max_depth=10, max_features=2, min_samples_split=2, n_estimators=500; total time=   0.2s\n",
      "[CV] END max_depth=10, max_features=2, min_samples_split=2, n_estimators=500; total time=   0.2s\n",
      "[CV] END max_depth=10, max_features=2, min_samples_split=2, n_estimators=500; total time=   0.2s\n",
      "[CV] END max_depth=10, max_features=2, min_samples_split=2, n_estimators=500; total time=   0.2s\n",
      "[CV] END max_depth=10, max_features=2, min_samples_split=2, n_estimators=500; total time=   0.2s\n",
      "[CV] END max_depth=10, max_features=2, min_samples_split=2, n_estimators=1000; total time=   0.6s\n",
      "[CV] END max_depth=10, max_features=2, min_samples_split=2, n_estimators=1000; total time=   0.6s\n",
      "[CV] END max_depth=10, max_features=2, min_samples_split=2, n_estimators=1000; total time=   0.6s\n",
      "[CV] END max_depth=10, max_features=2, min_samples_split=2, n_estimators=1000; total time=   0.6s\n",
      "[CV] END max_depth=10, max_features=2, min_samples_split=2, n_estimators=1000; total time=   0.6s\n",
      "[CV] END max_depth=10, max_features=2, min_samples_split=2, n_estimators=1000; total time=   0.6s\n",
      "[CV] END max_depth=10, max_features=2, min_samples_split=2, n_estimators=1000; total time=   0.6s\n",
      "[CV] END max_depth=10, max_features=2, min_samples_split=2, n_estimators=1000; total time=   0.6s\n",
      "[CV] END max_depth=10, max_features=2, min_samples_split=2, n_estimators=1000; total time=   0.6s\n",
      "[CV] END max_depth=10, max_features=2, min_samples_split=2, n_estimators=1000; total time=   0.6s\n",
      "[CV] END max_depth=10, max_features=2, min_samples_split=2, n_estimators=2000; total time=   1.3s\n",
      "[CV] END max_depth=10, max_features=2, min_samples_split=2, n_estimators=2000; total time=   1.3s\n",
      "[CV] END max_depth=10, max_features=2, min_samples_split=2, n_estimators=2000; total time=   1.3s\n",
      "[CV] END max_depth=10, max_features=2, min_samples_split=2, n_estimators=2000; total time=   1.3s\n",
      "[CV] END max_depth=10, max_features=2, min_samples_split=2, n_estimators=2000; total time=   1.3s\n",
      "[CV] END max_depth=10, max_features=2, min_samples_split=2, n_estimators=2000; total time=   1.4s\n",
      "[CV] END max_depth=10, max_features=2, min_samples_split=2, n_estimators=2000; total time=   1.3s\n",
      "[CV] END max_depth=10, max_features=2, min_samples_split=2, n_estimators=2000; total time=   1.3s\n",
      "[CV] END max_depth=10, max_features=2, min_samples_split=2, n_estimators=2000; total time=   1.2s\n",
      "[CV] END max_depth=10, max_features=2, min_samples_split=2, n_estimators=2000; total time=   1.3s\n",
      "[CV] END max_depth=10, max_features=2, min_samples_split=10, n_estimators=200; total time=   0.0s\n",
      "[CV] END max_depth=10, max_features=2, min_samples_split=10, n_estimators=200; total time=   0.0s\n",
      "[CV] END max_depth=10, max_features=2, min_samples_split=10, n_estimators=200; total time=   0.0s\n",
      "[CV] END max_depth=10, max_features=2, min_samples_split=10, n_estimators=200; total time=   0.0s\n",
      "[CV] END max_depth=10, max_features=2, min_samples_split=10, n_estimators=200; total time=   0.0s\n",
      "[CV] END max_depth=10, max_features=2, min_samples_split=10, n_estimators=200; total time=   0.0s\n",
      "[CV] END max_depth=10, max_features=2, min_samples_split=10, n_estimators=200; total time=   0.0s\n",
      "[CV] END max_depth=10, max_features=2, min_samples_split=10, n_estimators=200; total time=   0.0s\n",
      "[CV] END max_depth=10, max_features=2, min_samples_split=10, n_estimators=200; total time=   0.0s\n",
      "[CV] END max_depth=10, max_features=2, min_samples_split=10, n_estimators=200; total time=   0.0s\n",
      "[CV] END max_depth=10, max_features=2, min_samples_split=10, n_estimators=500; total time=   0.2s\n",
      "[CV] END max_depth=10, max_features=2, min_samples_split=10, n_estimators=500; total time=   0.2s\n",
      "[CV] END max_depth=10, max_features=2, min_samples_split=10, n_estimators=500; total time=   0.2s\n",
      "[CV] END max_depth=10, max_features=2, min_samples_split=10, n_estimators=500; total time=   0.2s\n",
      "[CV] END max_depth=10, max_features=2, min_samples_split=10, n_estimators=500; total time=   0.2s\n",
      "[CV] END max_depth=10, max_features=2, min_samples_split=10, n_estimators=500; total time=   0.2s\n",
      "[CV] END max_depth=10, max_features=2, min_samples_split=10, n_estimators=500; total time=   0.2s\n",
      "[CV] END max_depth=10, max_features=2, min_samples_split=10, n_estimators=500; total time=   0.2s\n",
      "[CV] END max_depth=10, max_features=2, min_samples_split=10, n_estimators=500; total time=   0.2s\n",
      "[CV] END max_depth=10, max_features=2, min_samples_split=10, n_estimators=500; total time=   0.2s\n",
      "[CV] END max_depth=10, max_features=2, min_samples_split=10, n_estimators=1000; total time=   0.5s\n",
      "[CV] END max_depth=10, max_features=2, min_samples_split=10, n_estimators=1000; total time=   0.5s\n",
      "[CV] END max_depth=10, max_features=2, min_samples_split=10, n_estimators=1000; total time=   0.5s\n",
      "[CV] END max_depth=10, max_features=2, min_samples_split=10, n_estimators=1000; total time=   0.5s\n",
      "[CV] END max_depth=10, max_features=2, min_samples_split=10, n_estimators=1000; total time=   0.5s\n",
      "[CV] END max_depth=10, max_features=2, min_samples_split=10, n_estimators=1000; total time=   0.5s\n",
      "[CV] END max_depth=10, max_features=2, min_samples_split=10, n_estimators=1000; total time=   0.5s\n",
      "[CV] END max_depth=10, max_features=2, min_samples_split=10, n_estimators=1000; total time=   0.5s\n",
      "[CV] END max_depth=10, max_features=2, min_samples_split=10, n_estimators=1000; total time=   0.5s\n",
      "[CV] END max_depth=10, max_features=2, min_samples_split=10, n_estimators=1000; total time=   0.5s\n",
      "[CV] END max_depth=10, max_features=2, min_samples_split=10, n_estimators=2000; total time=   1.1s\n",
      "[CV] END max_depth=10, max_features=2, min_samples_split=10, n_estimators=2000; total time=   1.2s\n",
      "[CV] END max_depth=10, max_features=2, min_samples_split=10, n_estimators=2000; total time=   1.1s\n",
      "[CV] END max_depth=10, max_features=2, min_samples_split=10, n_estimators=2000; total time=   1.1s\n",
      "[CV] END max_depth=10, max_features=2, min_samples_split=10, n_estimators=2000; total time=   1.1s\n",
      "[CV] END max_depth=10, max_features=2, min_samples_split=10, n_estimators=2000; total time=   1.1s\n",
      "[CV] END max_depth=10, max_features=2, min_samples_split=10, n_estimators=2000; total time=   1.1s\n",
      "[CV] END max_depth=10, max_features=2, min_samples_split=10, n_estimators=2000; total time=   1.1s\n",
      "[CV] END max_depth=10, max_features=2, min_samples_split=10, n_estimators=2000; total time=   1.1s\n",
      "[CV] END max_depth=10, max_features=2, min_samples_split=10, n_estimators=2000; total time=   1.1s\n",
      "[CV] END max_depth=10, max_features=2, min_samples_split=80, n_estimators=200; total time=   0.0s\n",
      "[CV] END max_depth=10, max_features=2, min_samples_split=80, n_estimators=200; total time=   0.0s\n",
      "[CV] END max_depth=10, max_features=2, min_samples_split=80, n_estimators=200; total time=   0.0s\n",
      "[CV] END max_depth=10, max_features=2, min_samples_split=80, n_estimators=200; total time=   0.0s\n",
      "[CV] END max_depth=10, max_features=2, min_samples_split=80, n_estimators=200; total time=   0.0s\n",
      "[CV] END max_depth=10, max_features=2, min_samples_split=80, n_estimators=200; total time=   0.0s\n",
      "[CV] END max_depth=10, max_features=2, min_samples_split=80, n_estimators=200; total time=   0.0s\n",
      "[CV] END max_depth=10, max_features=2, min_samples_split=80, n_estimators=200; total time=   0.0s\n",
      "[CV] END max_depth=10, max_features=2, min_samples_split=80, n_estimators=200; total time=   0.0s\n",
      "[CV] END max_depth=10, max_features=2, min_samples_split=80, n_estimators=200; total time=   0.0s\n",
      "[CV] END max_depth=10, max_features=2, min_samples_split=80, n_estimators=500; total time=   0.2s\n",
      "[CV] END max_depth=10, max_features=2, min_samples_split=80, n_estimators=500; total time=   0.2s\n",
      "[CV] END max_depth=10, max_features=2, min_samples_split=80, n_estimators=500; total time=   0.2s\n",
      "[CV] END max_depth=10, max_features=2, min_samples_split=80, n_estimators=500; total time=   0.2s\n",
      "[CV] END max_depth=10, max_features=2, min_samples_split=80, n_estimators=500; total time=   0.2s\n",
      "[CV] END max_depth=10, max_features=2, min_samples_split=80, n_estimators=500; total time=   0.2s\n",
      "[CV] END max_depth=10, max_features=2, min_samples_split=80, n_estimators=500; total time=   0.2s\n",
      "[CV] END max_depth=10, max_features=2, min_samples_split=80, n_estimators=500; total time=   0.2s\n",
      "[CV] END max_depth=10, max_features=2, min_samples_split=80, n_estimators=500; total time=   0.2s\n",
      "[CV] END max_depth=10, max_features=2, min_samples_split=80, n_estimators=500; total time=   0.2s\n",
      "[CV] END max_depth=10, max_features=2, min_samples_split=80, n_estimators=1000; total time=   0.5s\n",
      "[CV] END max_depth=10, max_features=2, min_samples_split=80, n_estimators=1000; total time=   0.4s\n",
      "[CV] END max_depth=10, max_features=2, min_samples_split=80, n_estimators=1000; total time=   0.4s\n",
      "[CV] END max_depth=10, max_features=2, min_samples_split=80, n_estimators=1000; total time=   0.5s\n",
      "[CV] END max_depth=10, max_features=2, min_samples_split=80, n_estimators=1000; total time=   0.5s\n",
      "[CV] END max_depth=10, max_features=2, min_samples_split=80, n_estimators=1000; total time=   0.4s\n",
      "[CV] END max_depth=10, max_features=2, min_samples_split=80, n_estimators=1000; total time=   0.5s\n",
      "[CV] END max_depth=10, max_features=2, min_samples_split=80, n_estimators=1000; total time=   0.5s\n",
      "[CV] END max_depth=10, max_features=2, min_samples_split=80, n_estimators=1000; total time=   0.4s\n",
      "[CV] END max_depth=10, max_features=2, min_samples_split=80, n_estimators=1000; total time=   0.5s\n",
      "[CV] END max_depth=10, max_features=2, min_samples_split=80, n_estimators=2000; total time=   1.0s\n",
      "[CV] END max_depth=10, max_features=2, min_samples_split=80, n_estimators=2000; total time=   1.0s\n",
      "[CV] END max_depth=10, max_features=2, min_samples_split=80, n_estimators=2000; total time=   1.0s\n",
      "[CV] END max_depth=10, max_features=2, min_samples_split=80, n_estimators=2000; total time=   1.0s\n",
      "[CV] END max_depth=10, max_features=2, min_samples_split=80, n_estimators=2000; total time=   1.0s\n",
      "[CV] END max_depth=10, max_features=2, min_samples_split=80, n_estimators=2000; total time=   1.0s\n",
      "[CV] END max_depth=10, max_features=2, min_samples_split=80, n_estimators=2000; total time=   1.0s\n",
      "[CV] END max_depth=10, max_features=2, min_samples_split=80, n_estimators=2000; total time=   1.0s\n",
      "[CV] END max_depth=10, max_features=2, min_samples_split=80, n_estimators=2000; total time=   1.1s\n",
      "[CV] END max_depth=10, max_features=2, min_samples_split=80, n_estimators=2000; total time=   1.0s\n",
      "[CV] END max_depth=10, max_features=2, min_samples_split=100, n_estimators=200; total time=   0.0s\n",
      "[CV] END max_depth=10, max_features=2, min_samples_split=100, n_estimators=200; total time=   0.0s\n",
      "[CV] END max_depth=10, max_features=2, min_samples_split=100, n_estimators=200; total time=   0.0s\n",
      "[CV] END max_depth=10, max_features=2, min_samples_split=100, n_estimators=200; total time=   0.0s\n",
      "[CV] END max_depth=10, max_features=2, min_samples_split=100, n_estimators=200; total time=   0.0s\n",
      "[CV] END max_depth=10, max_features=2, min_samples_split=100, n_estimators=200; total time=   0.0s\n",
      "[CV] END max_depth=10, max_features=2, min_samples_split=100, n_estimators=200; total time=   0.0s\n",
      "[CV] END max_depth=10, max_features=2, min_samples_split=100, n_estimators=200; total time=   0.0s\n",
      "[CV] END max_depth=10, max_features=2, min_samples_split=100, n_estimators=200; total time=   0.0s\n",
      "[CV] END max_depth=10, max_features=2, min_samples_split=100, n_estimators=200; total time=   0.0s\n",
      "[CV] END max_depth=10, max_features=2, min_samples_split=100, n_estimators=500; total time=   0.2s\n",
      "[CV] END max_depth=10, max_features=2, min_samples_split=100, n_estimators=500; total time=   0.2s\n",
      "[CV] END max_depth=10, max_features=2, min_samples_split=100, n_estimators=500; total time=   0.2s\n",
      "[CV] END max_depth=10, max_features=2, min_samples_split=100, n_estimators=500; total time=   0.2s\n",
      "[CV] END max_depth=10, max_features=2, min_samples_split=100, n_estimators=500; total time=   0.2s\n",
      "[CV] END max_depth=10, max_features=2, min_samples_split=100, n_estimators=500; total time=   0.2s\n",
      "[CV] END max_depth=10, max_features=2, min_samples_split=100, n_estimators=500; total time=   0.2s\n",
      "[CV] END max_depth=10, max_features=2, min_samples_split=100, n_estimators=500; total time=   0.2s\n",
      "[CV] END max_depth=10, max_features=2, min_samples_split=100, n_estimators=500; total time=   0.2s\n",
      "[CV] END max_depth=10, max_features=2, min_samples_split=100, n_estimators=500; total time=   0.2s\n",
      "[CV] END max_depth=10, max_features=2, min_samples_split=100, n_estimators=1000; total time=   0.5s\n",
      "[CV] END max_depth=10, max_features=2, min_samples_split=100, n_estimators=1000; total time=   0.4s\n",
      "[CV] END max_depth=10, max_features=2, min_samples_split=100, n_estimators=1000; total time=   0.4s\n",
      "[CV] END max_depth=10, max_features=2, min_samples_split=100, n_estimators=1000; total time=   0.5s\n",
      "[CV] END max_depth=10, max_features=2, min_samples_split=100, n_estimators=1000; total time=   0.5s\n",
      "[CV] END max_depth=10, max_features=2, min_samples_split=100, n_estimators=1000; total time=   0.5s\n",
      "[CV] END max_depth=10, max_features=2, min_samples_split=100, n_estimators=1000; total time=   0.5s\n",
      "[CV] END max_depth=10, max_features=2, min_samples_split=100, n_estimators=1000; total time=   0.5s\n",
      "[CV] END max_depth=10, max_features=2, min_samples_split=100, n_estimators=1000; total time=   0.5s\n",
      "[CV] END max_depth=10, max_features=2, min_samples_split=100, n_estimators=1000; total time=   0.5s\n",
      "[CV] END max_depth=10, max_features=2, min_samples_split=100, n_estimators=2000; total time=   1.0s\n",
      "[CV] END max_depth=10, max_features=2, min_samples_split=100, n_estimators=2000; total time=   1.0s\n",
      "[CV] END max_depth=10, max_features=2, min_samples_split=100, n_estimators=2000; total time=   1.0s\n",
      "[CV] END max_depth=10, max_features=2, min_samples_split=100, n_estimators=2000; total time=   1.0s\n",
      "[CV] END max_depth=10, max_features=2, min_samples_split=100, n_estimators=2000; total time=   1.1s\n",
      "[CV] END max_depth=10, max_features=2, min_samples_split=100, n_estimators=2000; total time=   1.0s\n",
      "[CV] END max_depth=10, max_features=2, min_samples_split=100, n_estimators=2000; total time=   1.0s\n",
      "[CV] END max_depth=10, max_features=2, min_samples_split=100, n_estimators=2000; total time=   1.0s\n",
      "[CV] END max_depth=10, max_features=2, min_samples_split=100, n_estimators=2000; total time=   1.0s\n",
      "[CV] END max_depth=10, max_features=2, min_samples_split=100, n_estimators=2000; total time=   1.0s\n",
      "[CV] END max_depth=10, max_features=5, min_samples_split=2, n_estimators=200; total time=   0.0s\n",
      "[CV] END max_depth=10, max_features=5, min_samples_split=2, n_estimators=200; total time=   0.0s\n",
      "[CV] END max_depth=10, max_features=5, min_samples_split=2, n_estimators=200; total time=   0.0s\n",
      "[CV] END max_depth=10, max_features=5, min_samples_split=2, n_estimators=200; total time=   0.0s\n",
      "[CV] END max_depth=10, max_features=5, min_samples_split=2, n_estimators=200; total time=   0.0s\n",
      "[CV] END max_depth=10, max_features=5, min_samples_split=2, n_estimators=200; total time=   0.0s\n",
      "[CV] END max_depth=10, max_features=5, min_samples_split=2, n_estimators=200; total time=   0.0s\n",
      "[CV] END max_depth=10, max_features=5, min_samples_split=2, n_estimators=200; total time=   0.0s\n",
      "[CV] END max_depth=10, max_features=5, min_samples_split=2, n_estimators=200; total time=   0.0s\n",
      "[CV] END max_depth=10, max_features=5, min_samples_split=2, n_estimators=200; total time=   0.0s\n",
      "[CV] END max_depth=10, max_features=5, min_samples_split=2, n_estimators=500; total time=   0.3s\n",
      "[CV] END max_depth=10, max_features=5, min_samples_split=2, n_estimators=500; total time=   0.3s\n",
      "[CV] END max_depth=10, max_features=5, min_samples_split=2, n_estimators=500; total time=   0.3s\n",
      "[CV] END max_depth=10, max_features=5, min_samples_split=2, n_estimators=500; total time=   0.3s\n",
      "[CV] END max_depth=10, max_features=5, min_samples_split=2, n_estimators=500; total time=   0.3s\n",
      "[CV] END max_depth=10, max_features=5, min_samples_split=2, n_estimators=500; total time=   0.3s\n",
      "[CV] END max_depth=10, max_features=5, min_samples_split=2, n_estimators=500; total time=   0.3s\n",
      "[CV] END max_depth=10, max_features=5, min_samples_split=2, n_estimators=500; total time=   0.3s\n",
      "[CV] END max_depth=10, max_features=5, min_samples_split=2, n_estimators=500; total time=   0.3s\n",
      "[CV] END max_depth=10, max_features=5, min_samples_split=2, n_estimators=500; total time=   0.3s\n",
      "[CV] END max_depth=10, max_features=5, min_samples_split=2, n_estimators=1000; total time=   0.6s\n",
      "[CV] END max_depth=10, max_features=5, min_samples_split=2, n_estimators=1000; total time=   0.6s\n",
      "[CV] END max_depth=10, max_features=5, min_samples_split=2, n_estimators=1000; total time=   0.6s\n",
      "[CV] END max_depth=10, max_features=5, min_samples_split=2, n_estimators=1000; total time=   0.6s\n",
      "[CV] END max_depth=10, max_features=5, min_samples_split=2, n_estimators=1000; total time=   0.6s\n",
      "[CV] END max_depth=10, max_features=5, min_samples_split=2, n_estimators=1000; total time=   0.6s\n",
      "[CV] END max_depth=10, max_features=5, min_samples_split=2, n_estimators=1000; total time=   0.6s\n",
      "[CV] END max_depth=10, max_features=5, min_samples_split=2, n_estimators=1000; total time=   0.7s\n",
      "[CV] END max_depth=10, max_features=5, min_samples_split=2, n_estimators=1000; total time=   0.7s\n",
      "[CV] END max_depth=10, max_features=5, min_samples_split=2, n_estimators=1000; total time=   0.6s\n",
      "[CV] END max_depth=10, max_features=5, min_samples_split=2, n_estimators=2000; total time=   1.4s\n",
      "[CV] END max_depth=10, max_features=5, min_samples_split=2, n_estimators=2000; total time=   1.4s\n",
      "[CV] END max_depth=10, max_features=5, min_samples_split=2, n_estimators=2000; total time=   1.4s\n",
      "[CV] END max_depth=10, max_features=5, min_samples_split=2, n_estimators=2000; total time=   1.4s\n",
      "[CV] END max_depth=10, max_features=5, min_samples_split=2, n_estimators=2000; total time=   1.4s\n",
      "[CV] END max_depth=10, max_features=5, min_samples_split=2, n_estimators=2000; total time=   1.4s\n",
      "[CV] END max_depth=10, max_features=5, min_samples_split=2, n_estimators=2000; total time=   1.4s\n",
      "[CV] END max_depth=10, max_features=5, min_samples_split=2, n_estimators=2000; total time=   1.4s\n",
      "[CV] END max_depth=10, max_features=5, min_samples_split=2, n_estimators=2000; total time=   1.3s\n",
      "[CV] END max_depth=10, max_features=5, min_samples_split=2, n_estimators=2000; total time=   1.3s\n",
      "[CV] END max_depth=10, max_features=5, min_samples_split=10, n_estimators=200; total time=   0.0s\n",
      "[CV] END max_depth=10, max_features=5, min_samples_split=10, n_estimators=200; total time=   0.0s\n",
      "[CV] END max_depth=10, max_features=5, min_samples_split=10, n_estimators=200; total time=   0.0s\n",
      "[CV] END max_depth=10, max_features=5, min_samples_split=10, n_estimators=200; total time=   0.0s\n",
      "[CV] END max_depth=10, max_features=5, min_samples_split=10, n_estimators=200; total time=   0.0s\n",
      "[CV] END max_depth=10, max_features=5, min_samples_split=10, n_estimators=200; total time=   0.0s\n",
      "[CV] END max_depth=10, max_features=5, min_samples_split=10, n_estimators=200; total time=   0.0s\n",
      "[CV] END max_depth=10, max_features=5, min_samples_split=10, n_estimators=200; total time=   0.0s\n",
      "[CV] END max_depth=10, max_features=5, min_samples_split=10, n_estimators=200; total time=   0.0s\n",
      "[CV] END max_depth=10, max_features=5, min_samples_split=10, n_estimators=200; total time=   0.0s\n",
      "[CV] END max_depth=10, max_features=5, min_samples_split=10, n_estimators=500; total time=   0.2s\n",
      "[CV] END max_depth=10, max_features=5, min_samples_split=10, n_estimators=500; total time=   0.2s\n",
      "[CV] END max_depth=10, max_features=5, min_samples_split=10, n_estimators=500; total time=   0.2s\n",
      "[CV] END max_depth=10, max_features=5, min_samples_split=10, n_estimators=500; total time=   0.2s\n",
      "[CV] END max_depth=10, max_features=5, min_samples_split=10, n_estimators=500; total time=   0.2s\n",
      "[CV] END max_depth=10, max_features=5, min_samples_split=10, n_estimators=500; total time=   0.2s\n",
      "[CV] END max_depth=10, max_features=5, min_samples_split=10, n_estimators=500; total time=   0.2s\n",
      "[CV] END max_depth=10, max_features=5, min_samples_split=10, n_estimators=500; total time=   0.2s\n",
      "[CV] END max_depth=10, max_features=5, min_samples_split=10, n_estimators=500; total time=   0.3s\n",
      "[CV] END max_depth=10, max_features=5, min_samples_split=10, n_estimators=500; total time=   0.2s\n",
      "[CV] END max_depth=10, max_features=5, min_samples_split=10, n_estimators=1000; total time=   0.6s\n",
      "[CV] END max_depth=10, max_features=5, min_samples_split=10, n_estimators=1000; total time=   0.6s\n",
      "[CV] END max_depth=10, max_features=5, min_samples_split=10, n_estimators=1000; total time=   0.6s\n",
      "[CV] END max_depth=10, max_features=5, min_samples_split=10, n_estimators=1000; total time=   0.6s\n",
      "[CV] END max_depth=10, max_features=5, min_samples_split=10, n_estimators=1000; total time=   0.6s\n",
      "[CV] END max_depth=10, max_features=5, min_samples_split=10, n_estimators=1000; total time=   0.6s\n",
      "[CV] END max_depth=10, max_features=5, min_samples_split=10, n_estimators=1000; total time=   0.6s\n",
      "[CV] END max_depth=10, max_features=5, min_samples_split=10, n_estimators=1000; total time=   0.6s\n",
      "[CV] END max_depth=10, max_features=5, min_samples_split=10, n_estimators=1000; total time=   0.6s\n",
      "[CV] END max_depth=10, max_features=5, min_samples_split=10, n_estimators=1000; total time=   0.6s\n",
      "[CV] END max_depth=10, max_features=5, min_samples_split=10, n_estimators=2000; total time=   1.3s\n",
      "[CV] END max_depth=10, max_features=5, min_samples_split=10, n_estimators=2000; total time=   1.3s\n",
      "[CV] END max_depth=10, max_features=5, min_samples_split=10, n_estimators=2000; total time=   1.3s\n",
      "[CV] END max_depth=10, max_features=5, min_samples_split=10, n_estimators=2000; total time=   1.3s\n",
      "[CV] END max_depth=10, max_features=5, min_samples_split=10, n_estimators=2000; total time=   1.3s\n",
      "[CV] END max_depth=10, max_features=5, min_samples_split=10, n_estimators=2000; total time=   1.3s\n",
      "[CV] END max_depth=10, max_features=5, min_samples_split=10, n_estimators=2000; total time=   1.3s\n",
      "[CV] END max_depth=10, max_features=5, min_samples_split=10, n_estimators=2000; total time=   1.3s\n",
      "[CV] END max_depth=10, max_features=5, min_samples_split=10, n_estimators=2000; total time=   1.3s\n",
      "[CV] END max_depth=10, max_features=5, min_samples_split=10, n_estimators=2000; total time=   1.3s\n",
      "[CV] END max_depth=10, max_features=5, min_samples_split=80, n_estimators=200; total time=   0.0s\n",
      "[CV] END max_depth=10, max_features=5, min_samples_split=80, n_estimators=200; total time=   0.0s\n",
      "[CV] END max_depth=10, max_features=5, min_samples_split=80, n_estimators=200; total time=   0.0s\n",
      "[CV] END max_depth=10, max_features=5, min_samples_split=80, n_estimators=200; total time=   0.0s\n",
      "[CV] END max_depth=10, max_features=5, min_samples_split=80, n_estimators=200; total time=   0.0s\n",
      "[CV] END max_depth=10, max_features=5, min_samples_split=80, n_estimators=200; total time=   0.0s\n",
      "[CV] END max_depth=10, max_features=5, min_samples_split=80, n_estimators=200; total time=   0.0s\n",
      "[CV] END max_depth=10, max_features=5, min_samples_split=80, n_estimators=200; total time=   0.0s\n",
      "[CV] END max_depth=10, max_features=5, min_samples_split=80, n_estimators=200; total time=   0.0s\n",
      "[CV] END max_depth=10, max_features=5, min_samples_split=80, n_estimators=200; total time=   0.0s\n",
      "[CV] END max_depth=10, max_features=5, min_samples_split=80, n_estimators=500; total time=   0.2s\n",
      "[CV] END max_depth=10, max_features=5, min_samples_split=80, n_estimators=500; total time=   0.2s\n",
      "[CV] END max_depth=10, max_features=5, min_samples_split=80, n_estimators=500; total time=   0.2s\n",
      "[CV] END max_depth=10, max_features=5, min_samples_split=80, n_estimators=500; total time=   0.2s\n",
      "[CV] END max_depth=10, max_features=5, min_samples_split=80, n_estimators=500; total time=   0.2s\n",
      "[CV] END max_depth=10, max_features=5, min_samples_split=80, n_estimators=500; total time=   0.2s\n",
      "[CV] END max_depth=10, max_features=5, min_samples_split=80, n_estimators=500; total time=   0.2s\n",
      "[CV] END max_depth=10, max_features=5, min_samples_split=80, n_estimators=500; total time=   0.2s\n",
      "[CV] END max_depth=10, max_features=5, min_samples_split=80, n_estimators=500; total time=   0.2s\n",
      "[CV] END max_depth=10, max_features=5, min_samples_split=80, n_estimators=500; total time=   0.2s\n",
      "[CV] END max_depth=10, max_features=5, min_samples_split=80, n_estimators=1000; total time=   0.5s\n",
      "[CV] END max_depth=10, max_features=5, min_samples_split=80, n_estimators=1000; total time=   0.5s\n",
      "[CV] END max_depth=10, max_features=5, min_samples_split=80, n_estimators=1000; total time=   0.5s\n",
      "[CV] END max_depth=10, max_features=5, min_samples_split=80, n_estimators=1000; total time=   0.5s\n",
      "[CV] END max_depth=10, max_features=5, min_samples_split=80, n_estimators=1000; total time=   0.5s\n",
      "[CV] END max_depth=10, max_features=5, min_samples_split=80, n_estimators=1000; total time=   0.5s\n",
      "[CV] END max_depth=10, max_features=5, min_samples_split=80, n_estimators=1000; total time=   0.5s\n",
      "[CV] END max_depth=10, max_features=5, min_samples_split=80, n_estimators=1000; total time=   0.5s\n",
      "[CV] END max_depth=10, max_features=5, min_samples_split=80, n_estimators=1000; total time=   0.5s\n",
      "[CV] END max_depth=10, max_features=5, min_samples_split=80, n_estimators=1000; total time=   0.5s\n",
      "[CV] END max_depth=10, max_features=5, min_samples_split=80, n_estimators=2000; total time=   1.1s\n",
      "[CV] END max_depth=10, max_features=5, min_samples_split=80, n_estimators=2000; total time=   1.1s\n",
      "[CV] END max_depth=10, max_features=5, min_samples_split=80, n_estimators=2000; total time=   1.1s\n",
      "[CV] END max_depth=10, max_features=5, min_samples_split=80, n_estimators=2000; total time=   1.1s\n",
      "[CV] END max_depth=10, max_features=5, min_samples_split=80, n_estimators=2000; total time=   1.1s\n",
      "[CV] END max_depth=10, max_features=5, min_samples_split=80, n_estimators=2000; total time=   1.1s\n",
      "[CV] END max_depth=10, max_features=5, min_samples_split=80, n_estimators=2000; total time=   1.1s\n",
      "[CV] END max_depth=10, max_features=5, min_samples_split=80, n_estimators=2000; total time=   1.0s\n",
      "[CV] END max_depth=10, max_features=5, min_samples_split=80, n_estimators=2000; total time=   1.0s\n",
      "[CV] END max_depth=10, max_features=5, min_samples_split=80, n_estimators=2000; total time=   1.1s\n",
      "[CV] END max_depth=10, max_features=5, min_samples_split=100, n_estimators=200; total time=   0.0s\n",
      "[CV] END max_depth=10, max_features=5, min_samples_split=100, n_estimators=200; total time=   0.0s\n",
      "[CV] END max_depth=10, max_features=5, min_samples_split=100, n_estimators=200; total time=   0.0s\n",
      "[CV] END max_depth=10, max_features=5, min_samples_split=100, n_estimators=200; total time=   0.0s\n",
      "[CV] END max_depth=10, max_features=5, min_samples_split=100, n_estimators=200; total time=   0.0s\n",
      "[CV] END max_depth=10, max_features=5, min_samples_split=100, n_estimators=200; total time=   0.0s\n",
      "[CV] END max_depth=10, max_features=5, min_samples_split=100, n_estimators=200; total time=   0.0s\n",
      "[CV] END max_depth=10, max_features=5, min_samples_split=100, n_estimators=200; total time=   0.0s\n",
      "[CV] END max_depth=10, max_features=5, min_samples_split=100, n_estimators=200; total time=   0.0s\n",
      "[CV] END max_depth=10, max_features=5, min_samples_split=100, n_estimators=200; total time=   0.0s\n",
      "[CV] END max_depth=10, max_features=5, min_samples_split=100, n_estimators=500; total time=   0.2s\n",
      "[CV] END max_depth=10, max_features=5, min_samples_split=100, n_estimators=500; total time=   0.2s\n",
      "[CV] END max_depth=10, max_features=5, min_samples_split=100, n_estimators=500; total time=   0.2s\n",
      "[CV] END max_depth=10, max_features=5, min_samples_split=100, n_estimators=500; total time=   0.2s\n",
      "[CV] END max_depth=10, max_features=5, min_samples_split=100, n_estimators=500; total time=   0.2s\n",
      "[CV] END max_depth=10, max_features=5, min_samples_split=100, n_estimators=500; total time=   0.2s\n",
      "[CV] END max_depth=10, max_features=5, min_samples_split=100, n_estimators=500; total time=   0.2s\n",
      "[CV] END max_depth=10, max_features=5, min_samples_split=100, n_estimators=500; total time=   0.2s\n",
      "[CV] END max_depth=10, max_features=5, min_samples_split=100, n_estimators=500; total time=   0.2s\n",
      "[CV] END max_depth=10, max_features=5, min_samples_split=100, n_estimators=500; total time=   0.2s\n",
      "[CV] END max_depth=10, max_features=5, min_samples_split=100, n_estimators=1000; total time=   0.6s\n",
      "[CV] END max_depth=10, max_features=5, min_samples_split=100, n_estimators=1000; total time=   0.5s\n",
      "[CV] END max_depth=10, max_features=5, min_samples_split=100, n_estimators=1000; total time=   0.5s\n",
      "[CV] END max_depth=10, max_features=5, min_samples_split=100, n_estimators=1000; total time=   0.5s\n",
      "[CV] END max_depth=10, max_features=5, min_samples_split=100, n_estimators=1000; total time=   0.5s\n",
      "[CV] END max_depth=10, max_features=5, min_samples_split=100, n_estimators=1000; total time=   0.5s\n",
      "[CV] END max_depth=10, max_features=5, min_samples_split=100, n_estimators=1000; total time=   0.5s\n",
      "[CV] END max_depth=10, max_features=5, min_samples_split=100, n_estimators=1000; total time=   0.5s\n",
      "[CV] END max_depth=10, max_features=5, min_samples_split=100, n_estimators=1000; total time=   0.5s\n",
      "[CV] END max_depth=10, max_features=5, min_samples_split=100, n_estimators=1000; total time=   0.6s\n",
      "[CV] END max_depth=10, max_features=5, min_samples_split=100, n_estimators=2000; total time=   1.1s\n",
      "[CV] END max_depth=10, max_features=5, min_samples_split=100, n_estimators=2000; total time=   1.1s\n",
      "[CV] END max_depth=10, max_features=5, min_samples_split=100, n_estimators=2000; total time=   1.1s\n",
      "[CV] END max_depth=10, max_features=5, min_samples_split=100, n_estimators=2000; total time=   1.1s\n",
      "[CV] END max_depth=10, max_features=5, min_samples_split=100, n_estimators=2000; total time=   1.1s\n",
      "[CV] END max_depth=10, max_features=5, min_samples_split=100, n_estimators=2000; total time=   1.1s\n",
      "[CV] END max_depth=10, max_features=5, min_samples_split=100, n_estimators=2000; total time=   1.1s\n",
      "[CV] END max_depth=10, max_features=5, min_samples_split=100, n_estimators=2000; total time=   1.1s\n",
      "[CV] END max_depth=10, max_features=5, min_samples_split=100, n_estimators=2000; total time=   1.2s\n",
      "[CV] END max_depth=10, max_features=5, min_samples_split=100, n_estimators=2000; total time=   1.1s\n",
      "[CV] END max_depth=10, max_features=10, min_samples_split=2, n_estimators=200; total time=   0.1s\n",
      "[CV] END max_depth=10, max_features=10, min_samples_split=2, n_estimators=200; total time=   0.1s\n",
      "[CV] END max_depth=10, max_features=10, min_samples_split=2, n_estimators=200; total time=   0.1s\n",
      "[CV] END max_depth=10, max_features=10, min_samples_split=2, n_estimators=200; total time=   0.1s\n",
      "[CV] END max_depth=10, max_features=10, min_samples_split=2, n_estimators=200; total time=   0.1s\n",
      "[CV] END max_depth=10, max_features=10, min_samples_split=2, n_estimators=200; total time=   0.1s\n",
      "[CV] END max_depth=10, max_features=10, min_samples_split=2, n_estimators=200; total time=   0.1s\n",
      "[CV] END max_depth=10, max_features=10, min_samples_split=2, n_estimators=200; total time=   0.1s\n",
      "[CV] END max_depth=10, max_features=10, min_samples_split=2, n_estimators=200; total time=   0.1s\n",
      "[CV] END max_depth=10, max_features=10, min_samples_split=2, n_estimators=200; total time=   0.1s\n",
      "[CV] END max_depth=10, max_features=10, min_samples_split=2, n_estimators=500; total time=   0.3s\n",
      "[CV] END max_depth=10, max_features=10, min_samples_split=2, n_estimators=500; total time=   0.3s\n",
      "[CV] END max_depth=10, max_features=10, min_samples_split=2, n_estimators=500; total time=   0.3s\n",
      "[CV] END max_depth=10, max_features=10, min_samples_split=2, n_estimators=500; total time=   0.3s\n",
      "[CV] END max_depth=10, max_features=10, min_samples_split=2, n_estimators=500; total time=   0.3s\n",
      "[CV] END max_depth=10, max_features=10, min_samples_split=2, n_estimators=500; total time=   0.3s\n",
      "[CV] END max_depth=10, max_features=10, min_samples_split=2, n_estimators=500; total time=   0.3s\n",
      "[CV] END max_depth=10, max_features=10, min_samples_split=2, n_estimators=500; total time=   0.3s\n",
      "[CV] END max_depth=10, max_features=10, min_samples_split=2, n_estimators=500; total time=   0.3s\n",
      "[CV] END max_depth=10, max_features=10, min_samples_split=2, n_estimators=500; total time=   0.3s\n",
      "[CV] END max_depth=10, max_features=10, min_samples_split=2, n_estimators=1000; total time=   0.8s\n",
      "[CV] END max_depth=10, max_features=10, min_samples_split=2, n_estimators=1000; total time=   0.7s\n",
      "[CV] END max_depth=10, max_features=10, min_samples_split=2, n_estimators=1000; total time=   0.8s\n",
      "[CV] END max_depth=10, max_features=10, min_samples_split=2, n_estimators=1000; total time=   0.8s\n",
      "[CV] END max_depth=10, max_features=10, min_samples_split=2, n_estimators=1000; total time=   0.8s\n",
      "[CV] END max_depth=10, max_features=10, min_samples_split=2, n_estimators=1000; total time=   0.8s\n",
      "[CV] END max_depth=10, max_features=10, min_samples_split=2, n_estimators=1000; total time=   0.8s\n",
      "[CV] END max_depth=10, max_features=10, min_samples_split=2, n_estimators=1000; total time=   0.8s\n",
      "[CV] END max_depth=10, max_features=10, min_samples_split=2, n_estimators=1000; total time=   0.8s\n",
      "[CV] END max_depth=10, max_features=10, min_samples_split=2, n_estimators=1000; total time=   0.8s\n",
      "[CV] END max_depth=10, max_features=10, min_samples_split=2, n_estimators=2000; total time=   1.6s\n",
      "[CV] END max_depth=10, max_features=10, min_samples_split=2, n_estimators=2000; total time=   1.7s\n",
      "[CV] END max_depth=10, max_features=10, min_samples_split=2, n_estimators=2000; total time=   1.7s\n",
      "[CV] END max_depth=10, max_features=10, min_samples_split=2, n_estimators=2000; total time=   1.7s\n",
      "[CV] END max_depth=10, max_features=10, min_samples_split=2, n_estimators=2000; total time=   1.7s\n",
      "[CV] END max_depth=10, max_features=10, min_samples_split=2, n_estimators=2000; total time=   1.7s\n",
      "[CV] END max_depth=10, max_features=10, min_samples_split=2, n_estimators=2000; total time=   1.6s\n",
      "[CV] END max_depth=10, max_features=10, min_samples_split=2, n_estimators=2000; total time=   1.6s\n",
      "[CV] END max_depth=10, max_features=10, min_samples_split=2, n_estimators=2000; total time=   1.6s\n",
      "[CV] END max_depth=10, max_features=10, min_samples_split=2, n_estimators=2000; total time=   1.6s\n",
      "[CV] END max_depth=10, max_features=10, min_samples_split=10, n_estimators=200; total time=   0.1s\n",
      "[CV] END max_depth=10, max_features=10, min_samples_split=10, n_estimators=200; total time=   0.1s\n",
      "[CV] END max_depth=10, max_features=10, min_samples_split=10, n_estimators=200; total time=   0.1s\n",
      "[CV] END max_depth=10, max_features=10, min_samples_split=10, n_estimators=200; total time=   0.1s\n",
      "[CV] END max_depth=10, max_features=10, min_samples_split=10, n_estimators=200; total time=   0.1s\n",
      "[CV] END max_depth=10, max_features=10, min_samples_split=10, n_estimators=200; total time=   0.1s\n",
      "[CV] END max_depth=10, max_features=10, min_samples_split=10, n_estimators=200; total time=   0.1s\n",
      "[CV] END max_depth=10, max_features=10, min_samples_split=10, n_estimators=200; total time=   0.1s\n",
      "[CV] END max_depth=10, max_features=10, min_samples_split=10, n_estimators=200; total time=   0.1s\n",
      "[CV] END max_depth=10, max_features=10, min_samples_split=10, n_estimators=200; total time=   0.1s\n",
      "[CV] END max_depth=10, max_features=10, min_samples_split=10, n_estimators=500; total time=   0.3s\n",
      "[CV] END max_depth=10, max_features=10, min_samples_split=10, n_estimators=500; total time=   0.3s\n",
      "[CV] END max_depth=10, max_features=10, min_samples_split=10, n_estimators=500; total time=   0.3s\n",
      "[CV] END max_depth=10, max_features=10, min_samples_split=10, n_estimators=500; total time=   0.3s\n",
      "[CV] END max_depth=10, max_features=10, min_samples_split=10, n_estimators=500; total time=   0.3s\n",
      "[CV] END max_depth=10, max_features=10, min_samples_split=10, n_estimators=500; total time=   0.3s\n",
      "[CV] END max_depth=10, max_features=10, min_samples_split=10, n_estimators=500; total time=   0.3s\n",
      "[CV] END max_depth=10, max_features=10, min_samples_split=10, n_estimators=500; total time=   0.3s\n",
      "[CV] END max_depth=10, max_features=10, min_samples_split=10, n_estimators=500; total time=   0.3s\n",
      "[CV] END max_depth=10, max_features=10, min_samples_split=10, n_estimators=500; total time=   0.3s\n",
      "[CV] END max_depth=10, max_features=10, min_samples_split=10, n_estimators=1000; total time=   0.6s\n",
      "[CV] END max_depth=10, max_features=10, min_samples_split=10, n_estimators=1000; total time=   0.6s\n",
      "[CV] END max_depth=10, max_features=10, min_samples_split=10, n_estimators=1000; total time=   0.7s\n",
      "[CV] END max_depth=10, max_features=10, min_samples_split=10, n_estimators=1000; total time=   0.6s\n",
      "[CV] END max_depth=10, max_features=10, min_samples_split=10, n_estimators=1000; total time=   0.7s\n",
      "[CV] END max_depth=10, max_features=10, min_samples_split=10, n_estimators=1000; total time=   0.7s\n",
      "[CV] END max_depth=10, max_features=10, min_samples_split=10, n_estimators=1000; total time=   0.7s\n",
      "[CV] END max_depth=10, max_features=10, min_samples_split=10, n_estimators=1000; total time=   0.7s\n",
      "[CV] END max_depth=10, max_features=10, min_samples_split=10, n_estimators=1000; total time=   0.6s\n",
      "[CV] END max_depth=10, max_features=10, min_samples_split=10, n_estimators=1000; total time=   0.7s\n",
      "[CV] END max_depth=10, max_features=10, min_samples_split=10, n_estimators=2000; total time=   1.4s\n",
      "[CV] END max_depth=10, max_features=10, min_samples_split=10, n_estimators=2000; total time=   1.5s\n",
      "[CV] END max_depth=10, max_features=10, min_samples_split=10, n_estimators=2000; total time=   1.4s\n",
      "[CV] END max_depth=10, max_features=10, min_samples_split=10, n_estimators=2000; total time=   1.4s\n",
      "[CV] END max_depth=10, max_features=10, min_samples_split=10, n_estimators=2000; total time=   1.4s\n",
      "[CV] END max_depth=10, max_features=10, min_samples_split=10, n_estimators=2000; total time=   1.4s\n",
      "[CV] END max_depth=10, max_features=10, min_samples_split=10, n_estimators=2000; total time=   1.4s\n",
      "[CV] END max_depth=10, max_features=10, min_samples_split=10, n_estimators=2000; total time=   1.4s\n",
      "[CV] END max_depth=10, max_features=10, min_samples_split=10, n_estimators=2000; total time=   1.4s\n",
      "[CV] END max_depth=10, max_features=10, min_samples_split=10, n_estimators=2000; total time=   1.4s\n",
      "[CV] END max_depth=10, max_features=10, min_samples_split=80, n_estimators=200; total time=   0.0s\n",
      "[CV] END max_depth=10, max_features=10, min_samples_split=80, n_estimators=200; total time=   0.0s\n",
      "[CV] END max_depth=10, max_features=10, min_samples_split=80, n_estimators=200; total time=   0.0s\n",
      "[CV] END max_depth=10, max_features=10, min_samples_split=80, n_estimators=200; total time=   0.0s\n",
      "[CV] END max_depth=10, max_features=10, min_samples_split=80, n_estimators=200; total time=   0.0s\n",
      "[CV] END max_depth=10, max_features=10, min_samples_split=80, n_estimators=200; total time=   0.0s\n",
      "[CV] END max_depth=10, max_features=10, min_samples_split=80, n_estimators=200; total time=   0.0s\n",
      "[CV] END max_depth=10, max_features=10, min_samples_split=80, n_estimators=200; total time=   0.0s\n",
      "[CV] END max_depth=10, max_features=10, min_samples_split=80, n_estimators=200; total time=   0.0s\n",
      "[CV] END max_depth=10, max_features=10, min_samples_split=80, n_estimators=200; total time=   0.0s\n",
      "[CV] END max_depth=10, max_features=10, min_samples_split=80, n_estimators=500; total time=   0.2s\n",
      "[CV] END max_depth=10, max_features=10, min_samples_split=80, n_estimators=500; total time=   0.2s\n",
      "[CV] END max_depth=10, max_features=10, min_samples_split=80, n_estimators=500; total time=   0.2s\n",
      "[CV] END max_depth=10, max_features=10, min_samples_split=80, n_estimators=500; total time=   0.2s\n",
      "[CV] END max_depth=10, max_features=10, min_samples_split=80, n_estimators=500; total time=   0.2s\n",
      "[CV] END max_depth=10, max_features=10, min_samples_split=80, n_estimators=500; total time=   0.2s\n",
      "[CV] END max_depth=10, max_features=10, min_samples_split=80, n_estimators=500; total time=   0.2s\n",
      "[CV] END max_depth=10, max_features=10, min_samples_split=80, n_estimators=500; total time=   0.2s\n",
      "[CV] END max_depth=10, max_features=10, min_samples_split=80, n_estimators=500; total time=   0.2s\n",
      "[CV] END max_depth=10, max_features=10, min_samples_split=80, n_estimators=500; total time=   0.2s\n",
      "[CV] END max_depth=10, max_features=10, min_samples_split=80, n_estimators=1000; total time=   0.5s\n",
      "[CV] END max_depth=10, max_features=10, min_samples_split=80, n_estimators=1000; total time=   0.5s\n",
      "[CV] END max_depth=10, max_features=10, min_samples_split=80, n_estimators=1000; total time=   0.5s\n",
      "[CV] END max_depth=10, max_features=10, min_samples_split=80, n_estimators=1000; total time=   0.5s\n",
      "[CV] END max_depth=10, max_features=10, min_samples_split=80, n_estimators=1000; total time=   0.5s\n",
      "[CV] END max_depth=10, max_features=10, min_samples_split=80, n_estimators=1000; total time=   0.5s\n",
      "[CV] END max_depth=10, max_features=10, min_samples_split=80, n_estimators=1000; total time=   0.5s\n",
      "[CV] END max_depth=10, max_features=10, min_samples_split=80, n_estimators=1000; total time=   0.6s\n",
      "[CV] END max_depth=10, max_features=10, min_samples_split=80, n_estimators=1000; total time=   0.5s\n",
      "[CV] END max_depth=10, max_features=10, min_samples_split=80, n_estimators=1000; total time=   0.5s\n",
      "[CV] END max_depth=10, max_features=10, min_samples_split=80, n_estimators=2000; total time=   1.1s\n",
      "[CV] END max_depth=10, max_features=10, min_samples_split=80, n_estimators=2000; total time=   1.1s\n",
      "[CV] END max_depth=10, max_features=10, min_samples_split=80, n_estimators=2000; total time=   1.1s\n",
      "[CV] END max_depth=10, max_features=10, min_samples_split=80, n_estimators=2000; total time=   1.1s\n",
      "[CV] END max_depth=10, max_features=10, min_samples_split=80, n_estimators=2000; total time=   1.1s\n",
      "[CV] END max_depth=10, max_features=10, min_samples_split=80, n_estimators=2000; total time=   1.1s\n",
      "[CV] END max_depth=10, max_features=10, min_samples_split=80, n_estimators=2000; total time=   1.1s\n",
      "[CV] END max_depth=10, max_features=10, min_samples_split=80, n_estimators=2000; total time=   1.1s\n",
      "[CV] END max_depth=10, max_features=10, min_samples_split=80, n_estimators=2000; total time=   1.1s\n",
      "[CV] END max_depth=10, max_features=10, min_samples_split=80, n_estimators=2000; total time=   1.2s\n",
      "[CV] END max_depth=10, max_features=10, min_samples_split=100, n_estimators=200; total time=   0.0s\n",
      "[CV] END max_depth=10, max_features=10, min_samples_split=100, n_estimators=200; total time=   0.0s\n",
      "[CV] END max_depth=10, max_features=10, min_samples_split=100, n_estimators=200; total time=   0.0s\n",
      "[CV] END max_depth=10, max_features=10, min_samples_split=100, n_estimators=200; total time=   0.0s\n",
      "[CV] END max_depth=10, max_features=10, min_samples_split=100, n_estimators=200; total time=   0.0s\n",
      "[CV] END max_depth=10, max_features=10, min_samples_split=100, n_estimators=200; total time=   0.0s\n",
      "[CV] END max_depth=10, max_features=10, min_samples_split=100, n_estimators=200; total time=   0.0s\n",
      "[CV] END max_depth=10, max_features=10, min_samples_split=100, n_estimators=200; total time=   0.0s\n",
      "[CV] END max_depth=10, max_features=10, min_samples_split=100, n_estimators=200; total time=   0.0s\n",
      "[CV] END max_depth=10, max_features=10, min_samples_split=100, n_estimators=200; total time=   0.0s\n",
      "[CV] END max_depth=10, max_features=10, min_samples_split=100, n_estimators=500; total time=   0.2s\n",
      "[CV] END max_depth=10, max_features=10, min_samples_split=100, n_estimators=500; total time=   0.2s\n",
      "[CV] END max_depth=10, max_features=10, min_samples_split=100, n_estimators=500; total time=   0.2s\n",
      "[CV] END max_depth=10, max_features=10, min_samples_split=100, n_estimators=500; total time=   0.2s\n",
      "[CV] END max_depth=10, max_features=10, min_samples_split=100, n_estimators=500; total time=   0.2s\n",
      "[CV] END max_depth=10, max_features=10, min_samples_split=100, n_estimators=500; total time=   0.2s\n",
      "[CV] END max_depth=10, max_features=10, min_samples_split=100, n_estimators=500; total time=   0.2s\n",
      "[CV] END max_depth=10, max_features=10, min_samples_split=100, n_estimators=500; total time=   0.2s\n",
      "[CV] END max_depth=10, max_features=10, min_samples_split=100, n_estimators=500; total time=   0.2s\n",
      "[CV] END max_depth=10, max_features=10, min_samples_split=100, n_estimators=500; total time=   0.2s\n",
      "[CV] END max_depth=10, max_features=10, min_samples_split=100, n_estimators=1000; total time=   0.5s\n",
      "[CV] END max_depth=10, max_features=10, min_samples_split=100, n_estimators=1000; total time=   0.5s\n",
      "[CV] END max_depth=10, max_features=10, min_samples_split=100, n_estimators=1000; total time=   0.5s\n",
      "[CV] END max_depth=10, max_features=10, min_samples_split=100, n_estimators=1000; total time=   0.5s\n",
      "[CV] END max_depth=10, max_features=10, min_samples_split=100, n_estimators=1000; total time=   0.5s\n",
      "[CV] END max_depth=10, max_features=10, min_samples_split=100, n_estimators=1000; total time=   0.5s\n",
      "[CV] END max_depth=10, max_features=10, min_samples_split=100, n_estimators=1000; total time=   0.5s\n",
      "[CV] END max_depth=10, max_features=10, min_samples_split=100, n_estimators=1000; total time=   0.5s\n",
      "[CV] END max_depth=10, max_features=10, min_samples_split=100, n_estimators=1000; total time=   0.5s\n",
      "[CV] END max_depth=10, max_features=10, min_samples_split=100, n_estimators=1000; total time=   0.5s\n",
      "[CV] END max_depth=10, max_features=10, min_samples_split=100, n_estimators=2000; total time=   1.1s\n",
      "[CV] END max_depth=10, max_features=10, min_samples_split=100, n_estimators=2000; total time=   1.1s\n",
      "[CV] END max_depth=10, max_features=10, min_samples_split=100, n_estimators=2000; total time=   1.1s\n",
      "[CV] END max_depth=10, max_features=10, min_samples_split=100, n_estimators=2000; total time=   1.1s\n",
      "[CV] END max_depth=10, max_features=10, min_samples_split=100, n_estimators=2000; total time=   1.1s\n",
      "[CV] END max_depth=10, max_features=10, min_samples_split=100, n_estimators=2000; total time=   1.1s\n",
      "[CV] END max_depth=10, max_features=10, min_samples_split=100, n_estimators=2000; total time=   1.1s\n",
      "[CV] END max_depth=10, max_features=10, min_samples_split=100, n_estimators=2000; total time=   1.1s\n",
      "[CV] END max_depth=10, max_features=10, min_samples_split=100, n_estimators=2000; total time=   1.1s\n",
      "[CV] END max_depth=10, max_features=10, min_samples_split=100, n_estimators=2000; total time=   1.1s\n"
     ]
    }
   ],
   "source": [
    "rf_cv_model = GridSearchCV(rf_model, rf_params, cv = 10, verbose = 2).fit(X_train, y_train)"
   ]
  },
  {
   "cell_type": "code",
   "execution_count": 12,
   "id": "7b0f131b-c817-4014-89e1-8d3b1472dab6",
   "metadata": {},
   "outputs": [
    {
     "data": {
      "text/plain": [
       "{'max_depth': 8,\n",
       " 'max_features': 2,\n",
       " 'min_samples_split': 2,\n",
       " 'n_estimators': 200}"
      ]
     },
     "execution_count": 12,
     "metadata": {},
     "output_type": "execute_result"
    }
   ],
   "source": [
    "rf_cv_model.best_params_"
   ]
  },
  {
   "cell_type": "code",
   "execution_count": 13,
   "id": "04cb50a8-81cc-4189-9859-5d236f1ed6ce",
   "metadata": {},
   "outputs": [],
   "source": [
    "rf_model = RandomForestRegressor(random_state=42, max_depth=8,\n",
    "                                max_features=2,\n",
    "                                min_samples_split=2,\n",
    "                                n_estimators=200)\n",
    "rf_tuned = rf_model.fit(X_train, y_train)"
   ]
  },
  {
   "cell_type": "code",
   "execution_count": 14,
   "id": "cc9e0c2c-e4fd-4322-8798-94e4fa8f1d1b",
   "metadata": {},
   "outputs": [
    {
     "data": {
      "text/plain": [
       "RandomForestRegressor(max_depth=8, max_features=2, n_estimators=200,\n",
       "                      random_state=42)"
      ]
     },
     "execution_count": 14,
     "metadata": {},
     "output_type": "execute_result"
    }
   ],
   "source": [
    "rf_tuned"
   ]
  },
  {
   "cell_type": "code",
   "execution_count": 15,
   "id": "7b482f9d-cbe7-4b67-8971-8b2091846084",
   "metadata": {},
   "outputs": [
    {
     "data": {
      "text/plain": [
       "349.1649379391149"
      ]
     },
     "execution_count": 15,
     "metadata": {},
     "output_type": "execute_result"
    }
   ],
   "source": [
    "y_pred = rf_tuned.predict(X_test)\n",
    "np.sqrt(mean_squared_error(y_test,y_pred))"
   ]
  },
  {
   "cell_type": "markdown",
   "id": "b763b6b8-7cae-4047-b9cd-62d7bfee67da",
   "metadata": {},
   "source": [
    "### degisken onem duzeyi"
   ]
  },
  {
   "cell_type": "code",
   "execution_count": 16,
   "id": "aaaa7d96-be57-45cc-85f1-ea82c6d226e8",
   "metadata": {},
   "outputs": [
    {
     "data": {
      "text/plain": [
       "array([5.81548333, 6.38504706, 3.52630602, 4.18186433, 4.68121896,\n",
       "       4.92291235, 7.38388416, 9.72940722, 8.68736867, 7.89130478,\n",
       "       8.78157948, 8.30862336, 9.69431474, 4.71131944, 2.04114365,\n",
       "       1.83878075, 0.38469815, 0.55485771, 0.47988582])"
      ]
     },
     "execution_count": 16,
     "metadata": {},
     "output_type": "execute_result"
    }
   ],
   "source": [
    "rf_tuned.feature_importances_*100"
   ]
  },
  {
   "cell_type": "code",
   "execution_count": 17,
   "id": "69ab60e7-c6d4-4ab9-87fb-7098833db0a2",
   "metadata": {},
   "outputs": [
    {
     "data": {
      "image/png": "[encoded data removed]",
      "text/plain": [
       "<Figure size 432x288 with 1 Axes>"
      ]
     },
     "metadata": {
      "needs_background": "light"
     },
     "output_type": "display_data"
    }
   ],
   "source": [
    "Importance = pd.DataFrame({'Importance': rf_tuned.feature_importances_*100},\n",
    "                         index=X_train.columns)\n",
    "\n",
    "Importance.sort_values(by = 'Importance',\n",
    "                      axis=0,\n",
    "                      ascending=True).plot(kind = 'barh',\n",
    "                                          color='r')\n",
    "\n",
    "plt.xlabel('Variable Importance')\n",
    "plt.gca().legend_=None"
   ]
  },
  {
   "cell_type": "markdown",
   "id": "572244bb-6450-4d25-85d9-884244b6f6fc",
   "metadata": {},
   "source": [
    "# Gradient Boosting Machines"
   ]
  },
  {
   "cell_type": "code",
   "execution_count": 3,
   "id": "3ddcfc82-30a6-4c8f-a0f5-ddfab37ab51b",
   "metadata": {},
   "outputs": [],
   "source": [
    "df = pd.read_csv(\"Hitters.csv\")\n",
    "df = df.dropna()\n",
    "dms = pd.get_dummies(df[['League','Division',\"NewLeague\"]])\n",
    "y = df[\"Salary\"]\n",
    "X_ = df.drop(['Salary','League','Division','NewLeague'], axis=1).astype('float64')\n",
    "X = pd.concat([X_, dms[['League_N','Division_W','NewLeague_N']]], axis=1)\n",
    "X_train, X_test, y_train, y_test = train_test_split(X,y,test_size=0.25, random_state=42)"
   ]
  },
  {
   "cell_type": "markdown",
   "id": "e68ed0bc-37d8-423e-b25c-2c52d33a3713",
   "metadata": {},
   "source": [
    "### Model&Tahmin"
   ]
  },
  {
   "cell_type": "code",
   "execution_count": 4,
   "id": "9e8ae918-463d-410c-9eaf-ae66a60ea32a",
   "metadata": {},
   "outputs": [],
   "source": [
    "gbm_model = GradientBoostingRegressor().fit(X_train, y_train)"
   ]
  },
  {
   "cell_type": "code",
   "execution_count": 5,
   "id": "d1fb5e3d-08f7-4f08-afc8-e7f6a68c109d",
   "metadata": {},
   "outputs": [
    {
     "data": {
      "text/plain": [
       "GradientBoostingRegressor()"
      ]
     },
     "execution_count": 5,
     "metadata": {},
     "output_type": "execute_result"
    }
   ],
   "source": [
    "gbm_model"
   ]
  },
  {
   "cell_type": "code",
   "execution_count": 6,
   "id": "458300d1-34a1-4db3-9881-5a84fbc678f7",
   "metadata": {},
   "outputs": [],
   "source": [
    "y_pred = gbm_model.predict(X_test)"
   ]
  },
  {
   "cell_type": "code",
   "execution_count": 7,
   "id": "4243f0c9-935c-474f-b2a9-d5cf75f7bfdd",
   "metadata": {},
   "outputs": [
    {
     "data": {
      "text/plain": [
       "345.93239500030944"
      ]
     },
     "execution_count": 7,
     "metadata": {},
     "output_type": "execute_result"
    }
   ],
   "source": [
    "np.sqrt(mean_squared_error(y_test,y_pred))"
   ]
  },
  {
   "cell_type": "markdown",
   "id": "cb957d22-c034-43f0-b714-315916f251b1",
   "metadata": {},
   "source": [
    "### Model Tuning"
   ]
  },
  {
   "cell_type": "code",
   "execution_count": 8,
   "id": "46f5e350-9687-42b4-9b31-657102fb333d",
   "metadata": {},
   "outputs": [],
   "source": [
    "#friedman_mse - bolunmelerle ilgili saflik olcusu\n",
    "#learning_rate - agaclarin katkisi\n",
    "#loss='ls' - buradaki ls en kucuk kareleri ifade eder."
   ]
  },
  {
   "cell_type": "code",
   "execution_count": 9,
   "id": "40db55a9-3148-45d8-9d3b-37fd267a2a2d",
   "metadata": {
    "collapsed": true,
    "jupyter": {
     "outputs_hidden": true
    },
    "tags": []
   },
   "outputs": [
    {
     "data": {
      "text/plain": [
       "\u001b[1;31mType:\u001b[0m        GradientBoostingRegressor\n",
       "\u001b[1;31mString form:\u001b[0m GradientBoostingRegressor()\n",
       "\u001b[1;31mLength:\u001b[0m      100\n",
       "\u001b[1;31mFile:\u001b[0m        c:\\users\\burak\\anaconda3\\lib\\site-packages\\sklearn\\ensemble\\_gb.py\n",
       "\u001b[1;31mDocstring:\u001b[0m  \n",
       "Gradient Boosting for regression.\n",
       "\n",
       "GB builds an additive model in a forward stage-wise fashion;\n",
       "it allows for the optimization of arbitrary differentiable loss functions.\n",
       "In each stage a regression tree is fit on the negative gradient of the\n",
       "given loss function.\n",
       "\n",
       "Read more in the :ref:`User Guide <gradient_boosting>`.\n",
       "\n",
       "Parameters\n",
       "----------\n",
       "loss : {'ls', 'lad', 'huber', 'quantile'}, default='ls'\n",
       "    Loss function to be optimized. 'ls' refers to least squares\n",
       "    regression. 'lad' (least absolute deviation) is a highly robust\n",
       "    loss function solely based on order information of the input\n",
       "    variables. 'huber' is a combination of the two. 'quantile'\n",
       "    allows quantile regression (use `alpha` to specify the quantile).\n",
       "\n",
       "learning_rate : float, default=0.1\n",
       "    Learning rate shrinks the contribution of each tree by `learning_rate`.\n",
       "    There is a trade-off between learning_rate and n_estimators.\n",
       "\n",
       "n_estimators : int, default=100\n",
       "    The number of boosting stages to perform. Gradient boosting\n",
       "    is fairly robust to over-fitting so a large number usually\n",
       "    results in better performance.\n",
       "\n",
       "subsample : float, default=1.0\n",
       "    The fraction of samples to be used for fitting the individual base\n",
       "    learners. If smaller than 1.0 this results in Stochastic Gradient\n",
       "    Boosting. `subsample` interacts with the parameter `n_estimators`.\n",
       "    Choosing `subsample < 1.0` leads to a reduction of variance\n",
       "    and an increase in bias.\n",
       "\n",
       "criterion : {'friedman_mse', 'mse', 'mae'}, default='friedman_mse'\n",
       "    The function to measure the quality of a split. Supported criteria\n",
       "    are \"friedman_mse\" for the mean squared error with improvement\n",
       "    score by Friedman, \"mse\" for mean squared error, and \"mae\" for\n",
       "    the mean absolute error. The default value of \"friedman_mse\" is\n",
       "    generally the best as it can provide a better approximation in\n",
       "    some cases.\n",
       "\n",
       "    .. versionadded:: 0.18\n",
       "    .. deprecated:: 0.24\n",
       "        `criterion='mae'` is deprecated and will be removed in version\n",
       "        1.1 (renaming of 0.26). The correct way of minimizing the absolute\n",
       "        error is to use `loss='lad'` instead.\n",
       "\n",
       "min_samples_split : int or float, default=2\n",
       "    The minimum number of samples required to split an internal node:\n",
       "\n",
       "    - If int, then consider `min_samples_split` as the minimum number.\n",
       "    - If float, then `min_samples_split` is a fraction and\n",
       "      `ceil(min_samples_split * n_samples)` are the minimum\n",
       "      number of samples for each split.\n",
       "\n",
       "    .. versionchanged:: 0.18\n",
       "       Added float values for fractions.\n",
       "\n",
       "min_samples_leaf : int or float, default=1\n",
       "    The minimum number of samples required to be at a leaf node.\n",
       "    A split point at any depth will only be considered if it leaves at\n",
       "    least ``min_samples_leaf`` training samples in each of the left and\n",
       "    right branches.  This may have the effect of smoothing the model,\n",
       "    especially in regression.\n",
       "\n",
       "    - If int, then consider `min_samples_leaf` as the minimum number.\n",
       "    - If float, then `min_samples_leaf` is a fraction and\n",
       "      `ceil(min_samples_leaf * n_samples)` are the minimum\n",
       "      number of samples for each node.\n",
       "\n",
       "    .. versionchanged:: 0.18\n",
       "       Added float values for fractions.\n",
       "\n",
       "min_weight_fraction_leaf : float, default=0.0\n",
       "    The minimum weighted fraction of the sum total of weights (of all\n",
       "    the input samples) required to be at a leaf node. Samples have\n",
       "    equal weight when sample_weight is not provided.\n",
       "\n",
       "max_depth : int, default=3\n",
       "    Maximum depth of the individual regression estimators. The maximum\n",
       "    depth limits the number of nodes in the tree. Tune this parameter\n",
       "    for best performance; the best value depends on the interaction\n",
       "    of the input variables.\n",
       "\n",
       "min_impurity_decrease : float, default=0.0\n",
       "    A node will be split if this split induces a decrease of the impurity\n",
       "    greater than or equal to this value.\n",
       "\n",
       "    The weighted impurity decrease equation is the following::\n",
       "\n",
       "        N_t / N * (impurity - N_t_R / N_t * right_impurity\n",
       "                            - N_t_L / N_t * left_impurity)\n",
       "\n",
       "    where ``N`` is the total number of samples, ``N_t`` is the number of\n",
       "    samples at the current node, ``N_t_L`` is the number of samples in the\n",
       "    left child, and ``N_t_R`` is the number of samples in the right child.\n",
       "\n",
       "    ``N``, ``N_t``, ``N_t_R`` and ``N_t_L`` all refer to the weighted sum,\n",
       "    if ``sample_weight`` is passed.\n",
       "\n",
       "    .. versionadded:: 0.19\n",
       "\n",
       "min_impurity_split : float, default=None\n",
       "    Threshold for early stopping in tree growth. A node will split\n",
       "    if its impurity is above the threshold, otherwise it is a leaf.\n",
       "\n",
       "    .. deprecated:: 0.19\n",
       "       ``min_impurity_split`` has been deprecated in favor of\n",
       "       ``min_impurity_decrease`` in 0.19. The default value of\n",
       "       ``min_impurity_split`` has changed from 1e-7 to 0 in 0.23 and it\n",
       "       will be removed in 1.0 (renaming of 0.25).\n",
       "       Use ``min_impurity_decrease`` instead.\n",
       "\n",
       "init : estimator or 'zero', default=None\n",
       "    An estimator object that is used to compute the initial predictions.\n",
       "    ``init`` has to provide :term:`fit` and :term:`predict`. If 'zero', the\n",
       "    initial raw predictions are set to zero. By default a\n",
       "    ``DummyEstimator`` is used, predicting either the average target value\n",
       "    (for loss='ls'), or a quantile for the other losses.\n",
       "\n",
       "random_state : int, RandomState instance or None, default=None\n",
       "    Controls the random seed given to each Tree estimator at each\n",
       "    boosting iteration.\n",
       "    In addition, it controls the random permutation of the features at\n",
       "    each split (see Notes for more details).\n",
       "    It also controls the random spliting of the training data to obtain a\n",
       "    validation set if `n_iter_no_change` is not None.\n",
       "    Pass an int for reproducible output across multiple function calls.\n",
       "    See :term:`Glossary <random_state>`.\n",
       "\n",
       "max_features : {'auto', 'sqrt', 'log2'}, int or float, default=None\n",
       "    The number of features to consider when looking for the best split:\n",
       "\n",
       "    - If int, then consider `max_features` features at each split.\n",
       "    - If float, then `max_features` is a fraction and\n",
       "      `int(max_features * n_features)` features are considered at each\n",
       "      split.\n",
       "    - If \"auto\", then `max_features=n_features`.\n",
       "    - If \"sqrt\", then `max_features=sqrt(n_features)`.\n",
       "    - If \"log2\", then `max_features=log2(n_features)`.\n",
       "    - If None, then `max_features=n_features`.\n",
       "\n",
       "    Choosing `max_features < n_features` leads to a reduction of variance\n",
       "    and an increase in bias.\n",
       "\n",
       "    Note: the search for a split does not stop until at least one\n",
       "    valid partition of the node samples is found, even if it requires to\n",
       "    effectively inspect more than ``max_features`` features.\n",
       "\n",
       "alpha : float, default=0.9\n",
       "    The alpha-quantile of the huber loss function and the quantile\n",
       "    loss function. Only if ``loss='huber'`` or ``loss='quantile'``.\n",
       "\n",
       "verbose : int, default=0\n",
       "    Enable verbose output. If 1 then it prints progress and performance\n",
       "    once in a while (the more trees the lower the frequency). If greater\n",
       "    than 1 then it prints progress and performance for every tree.\n",
       "\n",
       "max_leaf_nodes : int, default=None\n",
       "    Grow trees with ``max_leaf_nodes`` in best-first fashion.\n",
       "    Best nodes are defined as relative reduction in impurity.\n",
       "    If None then unlimited number of leaf nodes.\n",
       "\n",
       "warm_start : bool, default=False\n",
       "    When set to ``True``, reuse the solution of the previous call to fit\n",
       "    and add more estimators to the ensemble, otherwise, just erase the\n",
       "    previous solution. See :term:`the Glossary <warm_start>`.\n",
       "\n",
       "validation_fraction : float, default=0.1\n",
       "    The proportion of training data to set aside as validation set for\n",
       "    early stopping. Must be between 0 and 1.\n",
       "    Only used if ``n_iter_no_change`` is set to an integer.\n",
       "\n",
       "    .. versionadded:: 0.20\n",
       "\n",
       "n_iter_no_change : int, default=None\n",
       "    ``n_iter_no_change`` is used to decide if early stopping will be used\n",
       "    to terminate training when validation score is not improving. By\n",
       "    default it is set to None to disable early stopping. If set to a\n",
       "    number, it will set aside ``validation_fraction`` size of the training\n",
       "    data as validation and terminate training when validation score is not\n",
       "    improving in all of the previous ``n_iter_no_change`` numbers of\n",
       "    iterations.\n",
       "\n",
       "    .. versionadded:: 0.20\n",
       "\n",
       "tol : float, default=1e-4\n",
       "    Tolerance for the early stopping. When the loss is not improving\n",
       "    by at least tol for ``n_iter_no_change`` iterations (if set to a\n",
       "    number), the training stops.\n",
       "\n",
       "    .. versionadded:: 0.20\n",
       "\n",
       "ccp_alpha : non-negative float, default=0.0\n",
       "    Complexity parameter used for Minimal Cost-Complexity Pruning. The\n",
       "    subtree with the largest cost complexity that is smaller than\n",
       "    ``ccp_alpha`` will be chosen. By default, no pruning is performed. See\n",
       "    :ref:`minimal_cost_complexity_pruning` for details.\n",
       "\n",
       "    .. versionadded:: 0.22\n",
       "\n",
       "Attributes\n",
       "----------\n",
       "feature_importances_ : ndarray of shape (n_features,)\n",
       "    The impurity-based feature importances.\n",
       "    The higher, the more important the feature.\n",
       "    The importance of a feature is computed as the (normalized)\n",
       "    total reduction of the criterion brought by that feature.  It is also\n",
       "    known as the Gini importance.\n",
       "\n",
       "    Warning: impurity-based feature importances can be misleading for\n",
       "    high cardinality features (many unique values). See\n",
       "    :func:`sklearn.inspection.permutation_importance` as an alternative.\n",
       "\n",
       "oob_improvement_ : ndarray of shape (n_estimators,)\n",
       "    The improvement in loss (= deviance) on the out-of-bag samples\n",
       "    relative to the previous iteration.\n",
       "    ``oob_improvement_[0]`` is the improvement in\n",
       "    loss of the first stage over the ``init`` estimator.\n",
       "    Only available if ``subsample < 1.0``\n",
       "\n",
       "train_score_ : ndarray of shape (n_estimators,)\n",
       "    The i-th score ``train_score_[i]`` is the deviance (= loss) of the\n",
       "    model at iteration ``i`` on the in-bag sample.\n",
       "    If ``subsample == 1`` this is the deviance on the training data.\n",
       "\n",
       "loss_ : LossFunction\n",
       "    The concrete ``LossFunction`` object.\n",
       "\n",
       "init_ : estimator\n",
       "    The estimator that provides the initial predictions.\n",
       "    Set via the ``init`` argument or ``loss.init_estimator``.\n",
       "\n",
       "estimators_ : ndarray of DecisionTreeRegressor of shape (n_estimators, 1)\n",
       "    The collection of fitted sub-estimators.\n",
       "\n",
       "n_classes_ : int\n",
       "    The number of classes, set to 1 for regressors.\n",
       "\n",
       "    .. deprecated:: 0.24\n",
       "        Attribute ``n_classes_`` was deprecated in version 0.24 and\n",
       "        will be removed in 1.1 (renaming of 0.26).\n",
       "\n",
       "n_estimators_ : int\n",
       "    The number of estimators as selected by early stopping (if\n",
       "    ``n_iter_no_change`` is specified). Otherwise it is set to\n",
       "    ``n_estimators``.\n",
       "\n",
       "n_features_ : int\n",
       "    The number of data features.\n",
       "\n",
       "max_features_ : int\n",
       "    The inferred value of max_features.\n",
       "\n",
       "See Also\n",
       "--------\n",
       "HistGradientBoostingRegressor : Histogram-based Gradient Boosting\n",
       "    Classification Tree.\n",
       "sklearn.tree.DecisionTreeRegressor : A decision tree regressor.\n",
       "sklearn.tree.RandomForestRegressor : A random forest regressor.\n",
       "\n",
       "Notes\n",
       "-----\n",
       "The features are always randomly permuted at each split. Therefore,\n",
       "the best found split may vary, even with the same training data and\n",
       "``max_features=n_features``, if the improvement of the criterion is\n",
       "identical for several splits enumerated during the search of the best\n",
       "split. To obtain a deterministic behaviour during fitting,\n",
       "``random_state`` has to be fixed.\n",
       "\n",
       "Examples\n",
       "--------\n",
       ">>> from sklearn.datasets import make_regression\n",
       ">>> from sklearn.ensemble import GradientBoostingRegressor\n",
       ">>> from sklearn.model_selection import train_test_split\n",
       ">>> X, y = make_regression(random_state=0)\n",
       ">>> X_train, X_test, y_train, y_test = train_test_split(\n",
       "...     X, y, random_state=0)\n",
       ">>> reg = GradientBoostingRegressor(random_state=0)\n",
       ">>> reg.fit(X_train, y_train)\n",
       "GradientBoostingRegressor(random_state=0)\n",
       ">>> reg.predict(X_test[1:2])\n",
       "array([-61...])\n",
       ">>> reg.score(X_test, y_test)\n",
       "0.4...\n",
       "\n",
       "References\n",
       "----------\n",
       "J. Friedman, Greedy Function Approximation: A Gradient Boosting\n",
       "Machine, The Annals of Statistics, Vol. 29, No. 5, 2001.\n",
       "\n",
       "J. Friedman, Stochastic Gradient Boosting, 1999\n",
       "\n",
       "T. Hastie, R. Tibshirani and J. Friedman.\n",
       "Elements of Statistical Learning Ed. 2, Springer, 2009.\n"
      ]
     },
     "metadata": {},
     "output_type": "display_data"
    }
   ],
   "source": [
    "?gbm_model"
   ]
  },
  {
   "cell_type": "code",
   "execution_count": 10,
   "id": "cf327c43-7e52-4e9d-bb0f-daf3bc48fa24",
   "metadata": {},
   "outputs": [],
   "source": [
    "gbm_params = {\"learning_rate\": [0.001,0.1,0.01],\n",
    "             \"max_depth\": [3,5,8],\n",
    "             \"n_estimators\": [100, 200, 500],\n",
    "             \"subsample\": [1, 0.5,0.8],\n",
    "             \"loss\":[\"ls\",\"lad\",\"quantile\"]}"
   ]
  },
  {
   "cell_type": "code",
   "execution_count": 11,
   "id": "93a688f9-2a88-4902-bd52-53b8aaa4cccb",
   "metadata": {},
   "outputs": [],
   "source": [
    "gbm_model = GradientBoostingRegressor().fit(X_train,y_train)"
   ]
  },
  {
   "cell_type": "code",
   "execution_count": 12,
   "id": "3c8d0dfd-d578-4f8e-838f-2b43177df605",
   "metadata": {},
   "outputs": [
    {
     "name": "stdout",
     "output_type": "stream",
     "text": [
      "Fitting 10 folds for each of 243 candidates, totalling 2430 fits\n"
     ]
    }
   ],
   "source": [
    "gbm_cv_model = GridSearchCV(gbm_model, gbm_params, cv = 10, n_jobs=-1, verbose=2).fit(X_train, y_train)"
   ]
  },
  {
   "cell_type": "code",
   "execution_count": 13,
   "id": "22d5094a-b9e9-4e4a-bd2b-68278ce7fe68",
   "metadata": {},
   "outputs": [
    {
     "data": {
      "text/plain": [
       "{'learning_rate': 0.1,\n",
       " 'loss': 'lad',\n",
       " 'max_depth': 3,\n",
       " 'n_estimators': 100,\n",
       " 'subsample': 1}"
      ]
     },
     "execution_count": 13,
     "metadata": {},
     "output_type": "execute_result"
    }
   ],
   "source": [
    "gbm_cv_model.best_params_"
   ]
  },
  {
   "cell_type": "code",
   "execution_count": 14,
   "id": "d9f35818-6e87-4541-8507-4f34c97c6aee",
   "metadata": {},
   "outputs": [],
   "source": [
    "gbm_tuned = GradientBoostingRegressor(learning_rate=0.1,\n",
    "                                     loss=\"lad\",\n",
    "                                     max_depth=3,\n",
    "                                     n_estimators= 100,\n",
    "                                     subsample=1).fit(X_train,y_train)"
   ]
  },
  {
   "cell_type": "code",
   "execution_count": 15,
   "id": "e562ef87-a6d4-402f-aa45-5b1d0534aa6d",
   "metadata": {},
   "outputs": [
    {
     "data": {
      "text/plain": [
       "341.30436798381487"
      ]
     },
     "execution_count": 15,
     "metadata": {},
     "output_type": "execute_result"
    }
   ],
   "source": [
    "y_pred = gbm_tuned.predict(X_test)\n",
    "np.sqrt(mean_squared_error(y_test,y_pred))"
   ]
  },
  {
   "cell_type": "code",
   "execution_count": 16,
   "id": "80e9847c-d040-49c6-bd56-93fb564c77d4",
   "metadata": {},
   "outputs": [],
   "source": [
    "#degisken onem duzeyleri"
   ]
  },
  {
   "cell_type": "code",
   "execution_count": 17,
   "id": "e24e7f16-435e-445c-9c59-cb35e5cf494c",
   "metadata": {},
   "outputs": [
    {
     "data": {
      "image/png": "[encoded data removed]",
      "text/plain": [
       "<Figure size 432x288 with 1 Axes>"
      ]
     },
     "metadata": {
      "needs_background": "light"
     },
     "output_type": "display_data"
    }
   ],
   "source": [
    "Importance = pd.DataFrame({'Importance': gbm_tuned.feature_importances_*100},\n",
    "                         index=X_train.columns)\n",
    "\n",
    "Importance.sort_values(by = 'Importance',\n",
    "                      axis=0,\n",
    "                      ascending=True).plot(kind = 'barh',\n",
    "                                          color='r')\n",
    "\n",
    "plt.xlabel('Variable Importance')\n",
    "plt.gca().legend_=None"
   ]
  },
  {
   "cell_type": "markdown",
   "id": "67df0c0f-cc70-4e08-8f67-1201a7cd8eea",
   "metadata": {},
   "source": [
    "# XGBoost"
   ]
  },
  {
   "cell_type": "code",
   "execution_count": 18,
   "id": "32c81353-e669-4d03-82a8-df0fc6be9f80",
   "metadata": {},
   "outputs": [],
   "source": [
    "df = pd.read_csv(\"Hitters.csv\")\n",
    "df = df.dropna()\n",
    "dms = pd.get_dummies(df[['League','Division',\"NewLeague\"]])\n",
    "y = df[\"Salary\"]\n",
    "X_ = df.drop(['Salary','League','Division','NewLeague'], axis=1).astype('float64')\n",
    "X = pd.concat([X_, dms[['League_N','Division_W','NewLeague_N']]], axis=1)\n",
    "X_train, X_test, y_train, y_test = train_test_split(X,y,test_size=0.25, random_state=42)"
   ]
  },
  {
   "cell_type": "markdown",
   "id": "645f3b17-29e7-4e80-8548-24136b6334fe",
   "metadata": {},
   "source": [
    "### Model&Tahmin"
   ]
  },
  {
   "cell_type": "code",
   "execution_count": 19,
   "id": "e8451c1f-0551-4f33-8cd2-8fcdeb7ca1a3",
   "metadata": {},
   "outputs": [
    {
     "name": "stdout",
     "output_type": "stream",
     "text": [
      "Collecting xgboost\n",
      "  Downloading xgboost-1.5.2-py3-none-win_amd64.whl (106.6 MB)\n",
      "Requirement already satisfied: scipy in c:\\users\\burak\\anaconda3\\lib\\site-packages (from xgboost) (1.6.2)\n",
      "Requirement already satisfied: numpy in c:\\users\\burak\\anaconda3\\lib\\site-packages (from xgboost) (1.20.1)\n",
      "Installing collected packages: xgboost\n",
      "Successfully installed xgboost-1.5.2\n"
     ]
    }
   ],
   "source": [
    "!pip install xgboost"
   ]
  },
  {
   "cell_type": "code",
   "execution_count": 46,
   "id": "5137eb2b-0838-42ab-b4c9-c71d9099d410",
   "metadata": {},
   "outputs": [],
   "source": [
    "import xgboost\n",
    "from xgboost import XGBRegressor"
   ]
  },
  {
   "cell_type": "code",
   "execution_count": 22,
   "id": "ccda0774-b89b-4941-af77-c74f0caa55b5",
   "metadata": {},
   "outputs": [],
   "source": [
    "xgb = XGBRegressor().fit(X_train,y_train)"
   ]
  },
  {
   "cell_type": "code",
   "execution_count": 23,
   "id": "81d69a53-6657-4f32-84c3-ca22ee5a08d9",
   "metadata": {},
   "outputs": [],
   "source": [
    "y_pred = xgb.predict(X_test)"
   ]
  },
  {
   "cell_type": "code",
   "execution_count": 24,
   "id": "02cb4cf9-0163-4baa-9a77-1421f9c989b5",
   "metadata": {},
   "outputs": [
    {
     "data": {
      "text/plain": [
       "355.46515176059927"
      ]
     },
     "execution_count": 24,
     "metadata": {},
     "output_type": "execute_result"
    }
   ],
   "source": [
    "np.sqrt(mean_squared_error(y_test,y_pred))"
   ]
  },
  {
   "cell_type": "code",
   "execution_count": 25,
   "id": "f79a6238-2aac-4142-aa5b-5f3beca0c173",
   "metadata": {},
   "outputs": [],
   "source": [
    "xgb_params = {\"learning_rate\": [0.1,0.01,0.5],\n",
    "             \"max_depth\": [2,3,4,5,8],\n",
    "             \"n_estimators\": [100,200,500,1000],\n",
    "             \"colsample_bytree\": [0.4,0.7,1]}"
   ]
  },
  {
   "cell_type": "code",
   "execution_count": 26,
   "id": "14597b48-b333-4a55-b66b-f3a9e8dd014f",
   "metadata": {},
   "outputs": [
    {
     "name": "stdout",
     "output_type": "stream",
     "text": [
      "Fitting 10 folds for each of 180 candidates, totalling 1800 fits\n"
     ]
    }
   ],
   "source": [
    "xgb_cv_model = GridSearchCV(xgb, xgb_params, cv=10, verbose=2, n_jobs=-1).fit(X_train,y_train)"
   ]
  },
  {
   "cell_type": "code",
   "execution_count": 27,
   "id": "3c6560ef-4198-4bec-a800-bf3b98df008b",
   "metadata": {},
   "outputs": [
    {
     "data": {
      "text/plain": [
       "{'colsample_bytree': 0.4,\n",
       " 'learning_rate': 0.1,\n",
       " 'max_depth': 2,\n",
       " 'n_estimators': 1000}"
      ]
     },
     "execution_count": 27,
     "metadata": {},
     "output_type": "execute_result"
    }
   ],
   "source": [
    "xgb_cv_model.best_params_"
   ]
  },
  {
   "cell_type": "code",
   "execution_count": 28,
   "id": "ef53a5cc-3260-4267-81af-c800a948fa85",
   "metadata": {},
   "outputs": [],
   "source": [
    "xgb_tuned = XGBRegressor(colsample_bytree = 0.4,\n",
    "                        learning_rate=0.1,\n",
    "                        max_depth=2,\n",
    "                        n_estimators=1000).fit(X_train,y_train)"
   ]
  },
  {
   "cell_type": "code",
   "execution_count": 29,
   "id": "69dda46f-dc5f-4d34-ae1d-a3d13ebd2539",
   "metadata": {},
   "outputs": [],
   "source": [
    "y_pred = xgb_tuned.predict(X_test)"
   ]
  },
  {
   "cell_type": "code",
   "execution_count": 30,
   "id": "ee8ace19-93ac-46d3-83fb-4a7f4ca03b82",
   "metadata": {},
   "outputs": [
    {
     "data": {
      "text/plain": [
       "367.8515299923177"
      ]
     },
     "execution_count": 30,
     "metadata": {},
     "output_type": "execute_result"
    }
   ],
   "source": [
    "np.sqrt(mean_squared_error(y_test,y_pred))"
   ]
  },
  {
   "cell_type": "markdown",
   "id": "8c925b10-d436-4419-b8af-30b96e1692d9",
   "metadata": {},
   "source": [
    "# Light GBM"
   ]
  },
  {
   "cell_type": "code",
   "execution_count": 3,
   "id": "943556b3-74b4-445e-aee6-ea753cea6d43",
   "metadata": {},
   "outputs": [],
   "source": [
    "df = pd.read_csv(\"Hitters.csv\")\n",
    "df = df.dropna()\n",
    "dms = pd.get_dummies(df[['League','Division',\"NewLeague\"]])\n",
    "y = df[\"Salary\"]\n",
    "X_ = df.drop(['Salary','League','Division','NewLeague'], axis=1).astype('float64')\n",
    "X = pd.concat([X_, dms[['League_N','Division_W','NewLeague_N']]], axis=1)\n",
    "X_train, X_test, y_train, y_test = train_test_split(X,y,test_size=0.25, random_state=42)"
   ]
  },
  {
   "cell_type": "code",
   "execution_count": 4,
   "id": "41e7a85e-bcbe-4c79-a3da-5f0d540d874e",
   "metadata": {},
   "outputs": [
    {
     "name": "stdout",
     "output_type": "stream",
     "text": [
      "Collecting lightgbm\n",
      "  Downloading lightgbm-3.3.2-py3-none-win_amd64.whl (1.0 MB)\n",
      "Requirement already satisfied: scikit-learn!=0.22.0 in c:\\users\\burak\\anaconda3\\lib\\site-packages (from lightgbm) (0.24.1)\n",
      "Requirement already satisfied: numpy in c:\\users\\burak\\anaconda3\\lib\\site-packages (from lightgbm) (1.20.1)\n",
      "Requirement already satisfied: wheel in c:\\users\\burak\\anaconda3\\lib\\site-packages (from lightgbm) (0.36.2)\n",
      "Requirement already satisfied: scipy in c:\\users\\burak\\anaconda3\\lib\\site-packages (from lightgbm) (1.6.2)\n",
      "Requirement already satisfied: threadpoolctl>=2.0.0 in c:\\users\\burak\\anaconda3\\lib\\site-packages (from scikit-learn!=0.22.0->lightgbm) (2.1.0)\n",
      "Requirement already satisfied: joblib>=0.11 in c:\\users\\burak\\anaconda3\\lib\\site-packages (from scikit-learn!=0.22.0->lightgbm) (1.0.1)\n",
      "Installing collected packages: lightgbm\n",
      "Successfully installed lightgbm-3.3.2\n"
     ]
    }
   ],
   "source": [
    "!pip install lightgbm"
   ]
  },
  {
   "cell_type": "code",
   "execution_count": 6,
   "id": "ff26b854-fa96-4067-9aec-26b0805c1fd5",
   "metadata": {},
   "outputs": [],
   "source": [
    "from lightgbm import LGBMRegressor"
   ]
  },
  {
   "cell_type": "markdown",
   "id": "220ab912-e1ac-4ee0-ac58-3e155c91e470",
   "metadata": {},
   "source": [
    "### Model&Tahmin"
   ]
  },
  {
   "cell_type": "code",
   "execution_count": 7,
   "id": "cfa09089-ecb2-4977-ab0f-10381d453815",
   "metadata": {},
   "outputs": [],
   "source": [
    "lgb_model = LGBMRegressor().fit(X_train,y_train)"
   ]
  },
  {
   "cell_type": "code",
   "execution_count": 8,
   "id": "4f214ca7-71d8-4130-a6fc-f4525bf861b4",
   "metadata": {},
   "outputs": [],
   "source": [
    "y_pred = lgb_model.predict(X_test)"
   ]
  },
  {
   "cell_type": "code",
   "execution_count": 39,
   "id": "48c8233e-3f6c-4bd6-83c9-d91efa2509b4",
   "metadata": {},
   "outputs": [
    {
     "data": {
      "text/plain": [
       "344.3125832615482"
      ]
     },
     "execution_count": 39,
     "metadata": {},
     "output_type": "execute_result"
    }
   ],
   "source": [
    "np.sqrt(mean_squared_error(y_test,y_pred))"
   ]
  },
  {
   "cell_type": "code",
   "execution_count": 10,
   "id": "db6dbfd3-4848-4da7-908e-18d0c39c7654",
   "metadata": {},
   "outputs": [],
   "source": [
    "lgbm_params = {\"learning_rate\": [0.01,0.1,0.5,1],\n",
    "              \"n_estimators\": [20,40,100,200,500,1000],\n",
    "              \"max_depth\": []}"
   ]
  },
  {
   "cell_type": "code",
   "execution_count": 13,
   "id": "75dbead0-048f-4d83-8e23-e36d4a203f14",
   "metadata": {},
   "outputs": [
    {
     "name": "stdout",
     "output_type": "stream",
     "text": [
      "Fitting 10 folds for each of 240 candidates, totalling 2400 fits\n"
     ]
    }
   ],
   "source": [
    "lgbm_cv_model = GridSearchCV(lgb_model, lgbm_params, cv=10, verbose=2, n_jobs=-1).fit(X_train,y_train) #light gbm digerine gore daha hizli."
   ]
  },
  {
   "cell_type": "code",
   "execution_count": 14,
   "id": "143362aa-850e-4afc-af01-ee387d35dd5a",
   "metadata": {},
   "outputs": [
    {
     "data": {
      "text/plain": [
       "{'learning_rate': 0.1, 'max_depth': 6, 'n_estimators': 20}"
      ]
     },
     "execution_count": 14,
     "metadata": {},
     "output_type": "execute_result"
    }
   ],
   "source": [
    "lgbm_cv_model.best_params_"
   ]
  },
  {
   "cell_type": "code",
   "execution_count": 20,
   "id": "12f4801b-01bd-4f68-8d41-5aee47ed9b0d",
   "metadata": {},
   "outputs": [],
   "source": [
    "lgb_tuned = LGBMRegressor(learning_rate=0.1,\n",
    "                         max_depth=6,\n",
    "                         n_estimators=20).fit(X_train, y_train)"
   ]
  },
  {
   "cell_type": "code",
   "execution_count": 21,
   "id": "87d63a73-b83d-4dbf-8c86-ca5220bdf5f9",
   "metadata": {},
   "outputs": [],
   "source": [
    "y_pred = lgb_model.predict(X_test)"
   ]
  },
  {
   "cell_type": "code",
   "execution_count": 22,
   "id": "81f0952e-c298-471e-b71a-b4a57d38d019",
   "metadata": {},
   "outputs": [
    {
     "data": {
      "text/plain": [
       "371.5044868943621"
      ]
     },
     "execution_count": 22,
     "metadata": {},
     "output_type": "execute_result"
    }
   ],
   "source": [
    "np.sqrt(mean_squared_error(y_test,y_pred))"
   ]
  },
  {
   "cell_type": "markdown",
   "id": "6b52abfd-bc3c-41f1-9268-8e105f0c8c01",
   "metadata": {},
   "source": [
    "# CatBoost"
   ]
  },
  {
   "cell_type": "code",
   "execution_count": 23,
   "id": "2f64ae84-0fb5-4038-9348-27471748d89d",
   "metadata": {},
   "outputs": [],
   "source": [
    "df = pd.read_csv(\"Hitters.csv\")\n",
    "df = df.dropna()\n",
    "dms = pd.get_dummies(df[['League','Division',\"NewLeague\"]])\n",
    "y = df[\"Salary\"]\n",
    "X_ = df.drop(['Salary','League','Division','NewLeague'], axis=1).astype('float64')\n",
    "X = pd.concat([X_, dms[['League_N','Division_W','NewLeague_N']]], axis=1)\n",
    "X_train, X_test, y_train, y_test = train_test_split(X,y,test_size=0.25, random_state=42)"
   ]
  },
  {
   "cell_type": "code",
   "execution_count": 24,
   "id": "2ef89fc5-ddd7-4732-9171-64deb8335a90",
   "metadata": {},
   "outputs": [
    {
     "name": "stdout",
     "output_type": "stream",
     "text": [
      "Collecting catboost\n",
      "  Downloading catboost-1.0.4-cp38-none-win_amd64.whl (73.5 MB)\n",
      "Requirement already satisfied: matplotlib in c:\\users\\burak\\anaconda3\\lib\\site-packages (from catboost) (3.3.4)\n",
      "Collecting plotly\n",
      "  Downloading plotly-5.6.0-py2.py3-none-any.whl (27.7 MB)\n",
      "Requirement already satisfied: scipy in c:\\users\\burak\\anaconda3\\lib\\site-packages (from catboost) (1.6.2)\n",
      "Collecting graphviz\n",
      "  Downloading graphviz-0.19.1-py3-none-any.whl (46 kB)\n",
      "Requirement already satisfied: six in c:\\users\\burak\\anaconda3\\lib\\site-packages (from catboost) (1.15.0)\n",
      "Requirement already satisfied: numpy>=1.16.0 in c:\\users\\burak\\anaconda3\\lib\\site-packages (from catboost) (1.20.1)\n",
      "Requirement already satisfied: pandas>=0.24.0 in c:\\users\\burak\\anaconda3\\lib\\site-packages (from catboost) (1.2.4)\n",
      "Requirement already satisfied: pytz>=2017.3 in c:\\users\\burak\\anaconda3\\lib\\site-packages (from pandas>=0.24.0->catboost) (2021.1)\n",
      "Requirement already satisfied: python-dateutil>=2.7.3 in c:\\users\\burak\\anaconda3\\lib\\site-packages (from pandas>=0.24.0->catboost) (2.8.1)\n",
      "Requirement already satisfied: cycler>=0.10 in c:\\users\\burak\\anaconda3\\lib\\site-packages (from matplotlib->catboost) (0.10.0)\n",
      "Requirement already satisfied: kiwisolver>=1.0.1 in c:\\users\\burak\\anaconda3\\lib\\site-packages (from matplotlib->catboost) (1.3.1)\n",
      "Requirement already satisfied: pyparsing!=2.0.4,!=2.1.2,!=2.1.6,>=2.0.3 in c:\\users\\burak\\anaconda3\\lib\\site-packages (from matplotlib->catboost) (2.4.7)\n",
      "Requirement already satisfied: pillow>=6.2.0 in c:\\users\\burak\\anaconda3\\lib\\site-packages (from matplotlib->catboost) (8.2.0)\n",
      "Collecting tenacity>=6.2.0\n",
      "  Downloading tenacity-8.0.1-py3-none-any.whl (24 kB)\n",
      "Installing collected packages: tenacity, plotly, graphviz, catboost\n",
      "Successfully installed catboost-1.0.4 graphviz-0.19.1 plotly-5.6.0 tenacity-8.0.1\n"
     ]
    }
   ],
   "source": [
    "!pip install catboost"
   ]
  },
  {
   "cell_type": "code",
   "execution_count": 26,
   "id": "36980bcf-2eeb-4231-8b8d-bd1f6dc83620",
   "metadata": {},
   "outputs": [],
   "source": [
    "from catboost import CatBoostRegressor"
   ]
  },
  {
   "cell_type": "code",
   "execution_count": 28,
   "id": "42538f1f-61a8-4399-90f7-9f444bbd8b95",
   "metadata": {
    "collapsed": true,
    "jupyter": {
     "outputs_hidden": true
    },
    "tags": []
   },
   "outputs": [
    {
     "name": "stdout",
     "output_type": "stream",
     "text": [
      "Learning rate set to 0.031674\n",
      "0:\tlearn: 437.6430699\ttotal: 160ms\tremaining: 2m 39s\n",
      "1:\tlearn: 431.3923642\ttotal: 160ms\tremaining: 1m 20s\n",
      "2:\tlearn: 424.8820360\ttotal: 161ms\tremaining: 53.6s\n",
      "3:\tlearn: 418.2514904\ttotal: 162ms\tremaining: 40.3s\n",
      "4:\tlearn: 412.6394021\ttotal: 163ms\tremaining: 32.4s\n",
      "5:\tlearn: 406.6247020\ttotal: 163ms\tremaining: 27.1s\n",
      "6:\tlearn: 400.5321206\ttotal: 164ms\tremaining: 23.3s\n",
      "7:\tlearn: 394.6683437\ttotal: 165ms\tremaining: 20.4s\n",
      "8:\tlearn: 388.2496484\ttotal: 165ms\tremaining: 18.2s\n",
      "9:\tlearn: 382.9448842\ttotal: 166ms\tremaining: 16.4s\n",
      "10:\tlearn: 377.2600080\ttotal: 167ms\tremaining: 15s\n",
      "11:\tlearn: 372.4829606\ttotal: 168ms\tremaining: 13.8s\n",
      "12:\tlearn: 366.6823437\ttotal: 168ms\tremaining: 12.8s\n",
      "13:\tlearn: 362.6076230\ttotal: 169ms\tremaining: 11.9s\n",
      "14:\tlearn: 358.0107745\ttotal: 170ms\tremaining: 11.1s\n",
      "15:\tlearn: 353.2802665\ttotal: 170ms\tremaining: 10.5s\n",
      "16:\tlearn: 348.5646265\ttotal: 171ms\tremaining: 9.89s\n",
      "17:\tlearn: 343.6407912\ttotal: 172ms\tremaining: 9.37s\n",
      "18:\tlearn: 339.2363847\ttotal: 173ms\tremaining: 8.92s\n",
      "19:\tlearn: 334.3431252\ttotal: 174ms\tremaining: 8.51s\n",
      "20:\tlearn: 330.3247028\ttotal: 174ms\tremaining: 8.13s\n",
      "21:\tlearn: 326.6118334\ttotal: 175ms\tremaining: 7.79s\n",
      "22:\tlearn: 322.7759981\ttotal: 176ms\tremaining: 7.47s\n",
      "23:\tlearn: 318.9511822\ttotal: 177ms\tremaining: 7.19s\n",
      "24:\tlearn: 315.4216253\ttotal: 177ms\tremaining: 6.92s\n",
      "25:\tlearn: 311.3551377\ttotal: 178ms\tremaining: 6.68s\n",
      "26:\tlearn: 308.1492371\ttotal: 179ms\tremaining: 6.45s\n",
      "27:\tlearn: 304.7284729\ttotal: 180ms\tremaining: 6.24s\n",
      "28:\tlearn: 301.3893204\ttotal: 181ms\tremaining: 6.04s\n",
      "29:\tlearn: 298.2080758\ttotal: 181ms\tremaining: 5.86s\n",
      "30:\tlearn: 295.6878398\ttotal: 182ms\tremaining: 5.69s\n",
      "31:\tlearn: 292.3912243\ttotal: 183ms\tremaining: 5.53s\n",
      "32:\tlearn: 289.6345744\ttotal: 184ms\tremaining: 5.38s\n",
      "33:\tlearn: 287.2158711\ttotal: 185ms\tremaining: 5.24s\n",
      "34:\tlearn: 284.3879081\ttotal: 185ms\tremaining: 5.11s\n",
      "35:\tlearn: 281.7994818\ttotal: 186ms\tremaining: 4.99s\n",
      "36:\tlearn: 279.2028261\ttotal: 187ms\tremaining: 4.87s\n",
      "37:\tlearn: 276.5821160\ttotal: 188ms\tremaining: 4.76s\n",
      "38:\tlearn: 273.8890894\ttotal: 189ms\tremaining: 4.65s\n",
      "39:\tlearn: 271.1681677\ttotal: 190ms\tremaining: 4.55s\n",
      "40:\tlearn: 269.0159531\ttotal: 190ms\tremaining: 4.45s\n",
      "41:\tlearn: 266.3601804\ttotal: 191ms\tremaining: 4.36s\n",
      "42:\tlearn: 263.8608958\ttotal: 192ms\tremaining: 4.27s\n",
      "43:\tlearn: 261.1405566\ttotal: 193ms\tremaining: 4.19s\n",
      "44:\tlearn: 258.9314736\ttotal: 194ms\tremaining: 4.11s\n",
      "45:\tlearn: 256.3885577\ttotal: 194ms\tremaining: 4.03s\n",
      "46:\tlearn: 254.2857349\ttotal: 195ms\tremaining: 3.96s\n",
      "47:\tlearn: 252.2347121\ttotal: 196ms\tremaining: 3.88s\n",
      "48:\tlearn: 250.1779367\ttotal: 197ms\tremaining: 3.82s\n",
      "49:\tlearn: 248.2687430\ttotal: 197ms\tremaining: 3.75s\n",
      "50:\tlearn: 246.3685582\ttotal: 198ms\tremaining: 3.69s\n",
      "51:\tlearn: 244.8719988\ttotal: 199ms\tremaining: 3.63s\n",
      "52:\tlearn: 242.7348892\ttotal: 200ms\tremaining: 3.56s\n",
      "53:\tlearn: 241.1611112\ttotal: 200ms\tremaining: 3.51s\n",
      "54:\tlearn: 239.4819462\ttotal: 201ms\tremaining: 3.45s\n",
      "55:\tlearn: 237.3877895\ttotal: 202ms\tremaining: 3.4s\n",
      "56:\tlearn: 235.7619262\ttotal: 203ms\tremaining: 3.35s\n",
      "57:\tlearn: 233.9604804\ttotal: 203ms\tremaining: 3.3s\n",
      "58:\tlearn: 232.4948011\ttotal: 204ms\tremaining: 3.26s\n",
      "59:\tlearn: 230.6283304\ttotal: 205ms\tremaining: 3.21s\n",
      "60:\tlearn: 228.9920307\ttotal: 206ms\tremaining: 3.16s\n",
      "61:\tlearn: 227.5197637\ttotal: 206ms\tremaining: 3.12s\n",
      "62:\tlearn: 226.0561213\ttotal: 207ms\tremaining: 3.08s\n",
      "63:\tlearn: 224.3484762\ttotal: 208ms\tremaining: 3.04s\n",
      "64:\tlearn: 223.0652023\ttotal: 209ms\tremaining: 3s\n",
      "65:\tlearn: 221.6608069\ttotal: 209ms\tremaining: 2.96s\n",
      "66:\tlearn: 220.2445284\ttotal: 210ms\tremaining: 2.92s\n",
      "67:\tlearn: 219.0044262\ttotal: 211ms\tremaining: 2.89s\n",
      "68:\tlearn: 217.4624313\ttotal: 212ms\tremaining: 2.86s\n",
      "69:\tlearn: 216.0502248\ttotal: 213ms\tremaining: 2.82s\n",
      "70:\tlearn: 214.5361705\ttotal: 213ms\tremaining: 2.79s\n",
      "71:\tlearn: 213.1812509\ttotal: 214ms\tremaining: 2.76s\n",
      "72:\tlearn: 211.7399390\ttotal: 215ms\tremaining: 2.73s\n",
      "73:\tlearn: 210.5557639\ttotal: 216ms\tremaining: 2.7s\n",
      "74:\tlearn: 209.4242283\ttotal: 216ms\tremaining: 2.67s\n",
      "75:\tlearn: 208.4366109\ttotal: 217ms\tremaining: 2.64s\n",
      "76:\tlearn: 207.4514860\ttotal: 218ms\tremaining: 2.61s\n",
      "77:\tlearn: 206.1912213\ttotal: 219ms\tremaining: 2.59s\n",
      "78:\tlearn: 205.2585316\ttotal: 220ms\tremaining: 2.56s\n",
      "79:\tlearn: 203.8747879\ttotal: 220ms\tremaining: 2.53s\n",
      "80:\tlearn: 202.5993031\ttotal: 221ms\tremaining: 2.51s\n",
      "81:\tlearn: 201.4719061\ttotal: 222ms\tremaining: 2.48s\n",
      "82:\tlearn: 200.2871874\ttotal: 223ms\tremaining: 2.46s\n",
      "83:\tlearn: 199.1074683\ttotal: 223ms\tremaining: 2.44s\n",
      "84:\tlearn: 197.8511342\ttotal: 224ms\tremaining: 2.41s\n",
      "85:\tlearn: 196.8788042\ttotal: 225ms\tremaining: 2.39s\n",
      "86:\tlearn: 195.9815130\ttotal: 226ms\tremaining: 2.37s\n",
      "87:\tlearn: 195.0807956\ttotal: 227ms\tremaining: 2.35s\n",
      "88:\tlearn: 193.9775466\ttotal: 227ms\tremaining: 2.33s\n",
      "89:\tlearn: 192.8810426\ttotal: 228ms\tremaining: 2.31s\n",
      "90:\tlearn: 192.5363626\ttotal: 229ms\tremaining: 2.29s\n",
      "91:\tlearn: 191.3259849\ttotal: 231ms\tremaining: 2.28s\n",
      "92:\tlearn: 190.3650025\ttotal: 232ms\tremaining: 2.26s\n",
      "93:\tlearn: 189.3255643\ttotal: 232ms\tremaining: 2.24s\n",
      "94:\tlearn: 188.2433480\ttotal: 233ms\tremaining: 2.22s\n",
      "95:\tlearn: 187.2786096\ttotal: 234ms\tremaining: 2.2s\n",
      "96:\tlearn: 186.1284681\ttotal: 235ms\tremaining: 2.19s\n",
      "97:\tlearn: 185.0190872\ttotal: 236ms\tremaining: 2.17s\n",
      "98:\tlearn: 184.2888024\ttotal: 236ms\tremaining: 2.15s\n",
      "99:\tlearn: 183.3111217\ttotal: 237ms\tremaining: 2.13s\n",
      "100:\tlearn: 182.2519940\ttotal: 238ms\tremaining: 2.12s\n",
      "101:\tlearn: 181.0186200\ttotal: 239ms\tremaining: 2.1s\n",
      "102:\tlearn: 179.9672344\ttotal: 240ms\tremaining: 2.09s\n",
      "103:\tlearn: 178.9776753\ttotal: 240ms\tremaining: 2.07s\n",
      "104:\tlearn: 178.2445101\ttotal: 241ms\tremaining: 2.06s\n",
      "105:\tlearn: 177.4055906\ttotal: 242ms\tremaining: 2.04s\n",
      "106:\tlearn: 176.2405445\ttotal: 243ms\tremaining: 2.02s\n",
      "107:\tlearn: 175.1813091\ttotal: 244ms\tremaining: 2.01s\n",
      "108:\tlearn: 174.5537682\ttotal: 244ms\tremaining: 2s\n",
      "109:\tlearn: 173.8231890\ttotal: 245ms\tremaining: 1.98s\n",
      "110:\tlearn: 172.9324461\ttotal: 246ms\tremaining: 1.97s\n",
      "111:\tlearn: 172.0019421\ttotal: 246ms\tremaining: 1.95s\n",
      "112:\tlearn: 171.2945678\ttotal: 247ms\tremaining: 1.94s\n",
      "113:\tlearn: 170.4815313\ttotal: 248ms\tremaining: 1.93s\n",
      "114:\tlearn: 169.9491294\ttotal: 248ms\tremaining: 1.91s\n",
      "115:\tlearn: 169.2483859\ttotal: 249ms\tremaining: 1.9s\n",
      "116:\tlearn: 168.7342383\ttotal: 250ms\tremaining: 1.89s\n",
      "117:\tlearn: 168.1837140\ttotal: 251ms\tremaining: 1.87s\n",
      "118:\tlearn: 167.1222358\ttotal: 251ms\tremaining: 1.86s\n",
      "119:\tlearn: 166.3472734\ttotal: 252ms\tremaining: 1.85s\n",
      "120:\tlearn: 165.5330342\ttotal: 253ms\tremaining: 1.83s\n",
      "121:\tlearn: 164.8476246\ttotal: 253ms\tremaining: 1.82s\n",
      "122:\tlearn: 164.2399797\ttotal: 254ms\tremaining: 1.81s\n",
      "123:\tlearn: 164.0121571\ttotal: 255ms\tremaining: 1.8s\n",
      "124:\tlearn: 162.9794212\ttotal: 255ms\tremaining: 1.79s\n",
      "125:\tlearn: 162.2095741\ttotal: 256ms\tremaining: 1.77s\n",
      "126:\tlearn: 161.1695920\ttotal: 257ms\tremaining: 1.76s\n",
      "127:\tlearn: 160.3516612\ttotal: 257ms\tremaining: 1.75s\n",
      "128:\tlearn: 159.1596356\ttotal: 258ms\tremaining: 1.74s\n",
      "129:\tlearn: 158.5354394\ttotal: 259ms\tremaining: 1.73s\n",
      "130:\tlearn: 157.5922383\ttotal: 260ms\tremaining: 1.72s\n",
      "131:\tlearn: 156.9689796\ttotal: 260ms\tremaining: 1.71s\n",
      "132:\tlearn: 156.4170623\ttotal: 261ms\tremaining: 1.7s\n",
      "133:\tlearn: 156.1222595\ttotal: 262ms\tremaining: 1.69s\n",
      "134:\tlearn: 155.5996569\ttotal: 263ms\tremaining: 1.68s\n",
      "135:\tlearn: 154.8990155\ttotal: 263ms\tremaining: 1.67s\n",
      "136:\tlearn: 154.3704896\ttotal: 264ms\tremaining: 1.66s\n",
      "137:\tlearn: 153.8560012\ttotal: 265ms\tremaining: 1.65s\n",
      "138:\tlearn: 153.2399938\ttotal: 265ms\tremaining: 1.64s\n",
      "139:\tlearn: 152.2142414\ttotal: 266ms\tremaining: 1.63s\n",
      "140:\tlearn: 151.5976950\ttotal: 267ms\tremaining: 1.62s\n",
      "141:\tlearn: 151.4426506\ttotal: 267ms\tremaining: 1.61s\n",
      "142:\tlearn: 150.8467135\ttotal: 268ms\tremaining: 1.6s\n",
      "143:\tlearn: 150.0175883\ttotal: 269ms\tremaining: 1.6s\n",
      "144:\tlearn: 149.6327647\ttotal: 269ms\tremaining: 1.59s\n",
      "145:\tlearn: 148.9265718\ttotal: 270ms\tremaining: 1.58s\n",
      "146:\tlearn: 148.4460764\ttotal: 271ms\tremaining: 1.57s\n",
      "147:\tlearn: 147.8108318\ttotal: 271ms\tremaining: 1.56s\n",
      "148:\tlearn: 147.2766525\ttotal: 272ms\tremaining: 1.55s\n",
      "149:\tlearn: 146.8537279\ttotal: 273ms\tremaining: 1.54s\n",
      "150:\tlearn: 146.0227438\ttotal: 273ms\tremaining: 1.54s\n",
      "151:\tlearn: 145.5603059\ttotal: 274ms\tremaining: 1.53s\n",
      "152:\tlearn: 145.0318400\ttotal: 275ms\tremaining: 1.52s\n",
      "153:\tlearn: 144.6082188\ttotal: 275ms\tremaining: 1.51s\n",
      "154:\tlearn: 144.2070501\ttotal: 276ms\tremaining: 1.5s\n",
      "155:\tlearn: 143.8060676\ttotal: 277ms\tremaining: 1.5s\n",
      "156:\tlearn: 143.3819707\ttotal: 278ms\tremaining: 1.49s\n",
      "157:\tlearn: 143.0764402\ttotal: 278ms\tremaining: 1.48s\n",
      "158:\tlearn: 142.4609449\ttotal: 279ms\tremaining: 1.48s\n",
      "159:\tlearn: 142.3321970\ttotal: 280ms\tremaining: 1.47s\n",
      "160:\tlearn: 141.9044208\ttotal: 281ms\tremaining: 1.46s\n",
      "161:\tlearn: 141.4544471\ttotal: 281ms\tremaining: 1.46s\n",
      "162:\tlearn: 140.9391569\ttotal: 282ms\tremaining: 1.45s\n",
      "163:\tlearn: 140.3413557\ttotal: 283ms\tremaining: 1.44s\n",
      "164:\tlearn: 139.7992277\ttotal: 283ms\tremaining: 1.43s\n",
      "165:\tlearn: 139.3139418\ttotal: 284ms\tremaining: 1.43s\n",
      "166:\tlearn: 139.1617594\ttotal: 285ms\tremaining: 1.42s\n",
      "167:\tlearn: 138.8837397\ttotal: 286ms\tremaining: 1.41s\n",
      "168:\tlearn: 138.6951410\ttotal: 286ms\tremaining: 1.41s\n",
      "169:\tlearn: 138.0167618\ttotal: 287ms\tremaining: 1.4s\n",
      "170:\tlearn: 137.7020324\ttotal: 288ms\tremaining: 1.4s\n",
      "171:\tlearn: 137.1976478\ttotal: 289ms\tremaining: 1.39s\n",
      "172:\tlearn: 136.6670434\ttotal: 290ms\tremaining: 1.39s\n",
      "173:\tlearn: 136.4670074\ttotal: 290ms\tremaining: 1.38s\n",
      "174:\tlearn: 136.0663779\ttotal: 291ms\tremaining: 1.37s\n",
      "175:\tlearn: 135.9542221\ttotal: 292ms\tremaining: 1.37s\n",
      "176:\tlearn: 135.6178437\ttotal: 293ms\tremaining: 1.36s\n",
      "177:\tlearn: 134.6062854\ttotal: 294ms\tremaining: 1.35s\n",
      "178:\tlearn: 134.5063344\ttotal: 294ms\tremaining: 1.35s\n",
      "179:\tlearn: 133.9371247\ttotal: 295ms\tremaining: 1.34s\n",
      "180:\tlearn: 133.8431589\ttotal: 295ms\tremaining: 1.33s\n",
      "181:\tlearn: 133.4293648\ttotal: 296ms\tremaining: 1.33s\n",
      "182:\tlearn: 133.2065999\ttotal: 296ms\tremaining: 1.32s\n",
      "183:\tlearn: 132.9235113\ttotal: 297ms\tremaining: 1.32s\n",
      "184:\tlearn: 132.6695944\ttotal: 298ms\tremaining: 1.31s\n",
      "185:\tlearn: 132.3135234\ttotal: 298ms\tremaining: 1.3s\n",
      "186:\tlearn: 132.2233433\ttotal: 299ms\tremaining: 1.3s\n",
      "187:\tlearn: 132.0628764\ttotal: 300ms\tremaining: 1.29s\n",
      "188:\tlearn: 131.8624217\ttotal: 300ms\tremaining: 1.29s\n",
      "189:\tlearn: 131.3846390\ttotal: 301ms\tremaining: 1.28s\n",
      "190:\tlearn: 131.0638781\ttotal: 302ms\tremaining: 1.28s\n",
      "191:\tlearn: 130.4721276\ttotal: 302ms\tremaining: 1.27s\n",
      "192:\tlearn: 129.9910319\ttotal: 303ms\tremaining: 1.27s\n",
      "193:\tlearn: 129.7074214\ttotal: 304ms\tremaining: 1.26s\n",
      "194:\tlearn: 129.0491404\ttotal: 304ms\tremaining: 1.26s\n",
      "195:\tlearn: 128.6928621\ttotal: 305ms\tremaining: 1.25s\n",
      "196:\tlearn: 128.5117514\ttotal: 306ms\tremaining: 1.25s\n",
      "197:\tlearn: 128.4035709\ttotal: 307ms\tremaining: 1.24s\n",
      "198:\tlearn: 127.9924182\ttotal: 307ms\tremaining: 1.24s\n",
      "199:\tlearn: 127.7690317\ttotal: 308ms\tremaining: 1.23s\n",
      "200:\tlearn: 127.6252249\ttotal: 309ms\tremaining: 1.23s\n",
      "201:\tlearn: 127.4951417\ttotal: 309ms\tremaining: 1.22s\n",
      "202:\tlearn: 127.0315349\ttotal: 310ms\tremaining: 1.22s\n",
      "203:\tlearn: 126.7791475\ttotal: 311ms\tremaining: 1.21s\n",
      "204:\tlearn: 126.4903107\ttotal: 311ms\tremaining: 1.21s\n",
      "205:\tlearn: 126.0664803\ttotal: 312ms\tremaining: 1.2s\n",
      "206:\tlearn: 125.3934071\ttotal: 313ms\tremaining: 1.2s\n",
      "207:\tlearn: 125.0899622\ttotal: 313ms\tremaining: 1.19s\n",
      "208:\tlearn: 124.7757310\ttotal: 314ms\tremaining: 1.19s\n",
      "209:\tlearn: 124.5475960\ttotal: 315ms\tremaining: 1.18s\n",
      "210:\tlearn: 124.1962887\ttotal: 316ms\tremaining: 1.18s\n",
      "211:\tlearn: 123.9686937\ttotal: 316ms\tremaining: 1.18s\n",
      "212:\tlearn: 123.0280048\ttotal: 317ms\tremaining: 1.17s\n",
      "213:\tlearn: 122.5447141\ttotal: 318ms\tremaining: 1.17s\n",
      "214:\tlearn: 122.1785305\ttotal: 318ms\tremaining: 1.16s\n",
      "215:\tlearn: 121.4403560\ttotal: 319ms\tremaining: 1.16s\n",
      "216:\tlearn: 120.8269584\ttotal: 320ms\tremaining: 1.15s\n",
      "217:\tlearn: 120.2399329\ttotal: 320ms\tremaining: 1.15s\n",
      "218:\tlearn: 119.4852557\ttotal: 321ms\tremaining: 1.14s\n",
      "219:\tlearn: 119.2094151\ttotal: 322ms\tremaining: 1.14s\n",
      "220:\tlearn: 119.0417229\ttotal: 322ms\tremaining: 1.14s\n",
      "221:\tlearn: 118.9557915\ttotal: 323ms\tremaining: 1.13s\n",
      "222:\tlearn: 118.3082421\ttotal: 323ms\tremaining: 1.13s\n",
      "223:\tlearn: 117.7364211\ttotal: 324ms\tremaining: 1.12s\n",
      "224:\tlearn: 117.6324235\ttotal: 325ms\tremaining: 1.12s\n",
      "225:\tlearn: 117.2879743\ttotal: 326ms\tremaining: 1.11s\n",
      "226:\tlearn: 117.0422612\ttotal: 326ms\tremaining: 1.11s\n",
      "227:\tlearn: 116.8001379\ttotal: 327ms\tremaining: 1.11s\n",
      "228:\tlearn: 116.4854978\ttotal: 328ms\tremaining: 1.1s\n",
      "229:\tlearn: 115.7559740\ttotal: 328ms\tremaining: 1.1s\n",
      "230:\tlearn: 115.1896271\ttotal: 329ms\tremaining: 1.09s\n",
      "231:\tlearn: 114.9666291\ttotal: 329ms\tremaining: 1.09s\n",
      "232:\tlearn: 114.1239318\ttotal: 330ms\tremaining: 1.09s\n",
      "233:\tlearn: 113.9964466\ttotal: 331ms\tremaining: 1.08s\n",
      "234:\tlearn: 113.8912592\ttotal: 331ms\tremaining: 1.08s\n",
      "235:\tlearn: 113.4606970\ttotal: 332ms\tremaining: 1.07s\n",
      "236:\tlearn: 113.0958922\ttotal: 333ms\tremaining: 1.07s\n",
      "237:\tlearn: 113.0091361\ttotal: 333ms\tremaining: 1.07s\n",
      "238:\tlearn: 112.7657197\ttotal: 334ms\tremaining: 1.06s\n",
      "239:\tlearn: 112.2315070\ttotal: 335ms\tremaining: 1.06s\n",
      "240:\tlearn: 111.9507125\ttotal: 335ms\tremaining: 1.05s\n",
      "241:\tlearn: 111.7384492\ttotal: 336ms\tremaining: 1.05s\n",
      "242:\tlearn: 111.0693763\ttotal: 337ms\tremaining: 1.05s\n",
      "243:\tlearn: 110.3499926\ttotal: 337ms\tremaining: 1.04s\n",
      "244:\tlearn: 110.2316231\ttotal: 338ms\tremaining: 1.04s\n",
      "245:\tlearn: 109.6985998\ttotal: 338ms\tremaining: 1.04s\n",
      "246:\tlearn: 109.4279824\ttotal: 339ms\tremaining: 1.03s\n",
      "247:\tlearn: 109.1466762\ttotal: 340ms\tremaining: 1.03s\n",
      "248:\tlearn: 108.9628542\ttotal: 340ms\tremaining: 1.03s\n",
      "249:\tlearn: 108.7268676\ttotal: 341ms\tremaining: 1.02s\n",
      "250:\tlearn: 108.0921190\ttotal: 342ms\tremaining: 1.02s\n",
      "251:\tlearn: 107.6167844\ttotal: 343ms\tremaining: 1.02s\n",
      "252:\tlearn: 106.9716563\ttotal: 344ms\tremaining: 1.01s\n",
      "253:\tlearn: 106.4272485\ttotal: 344ms\tremaining: 1.01s\n",
      "254:\tlearn: 106.2032614\ttotal: 345ms\tremaining: 1.01s\n",
      "255:\tlearn: 105.5756794\ttotal: 346ms\tremaining: 1s\n",
      "256:\tlearn: 105.4918649\ttotal: 347ms\tremaining: 1s\n",
      "257:\tlearn: 105.2466976\ttotal: 347ms\tremaining: 999ms\n",
      "258:\tlearn: 105.0461428\ttotal: 348ms\tremaining: 995ms\n",
      "259:\tlearn: 104.5887628\ttotal: 349ms\tremaining: 993ms\n",
      "260:\tlearn: 104.1305873\ttotal: 349ms\tremaining: 989ms\n",
      "261:\tlearn: 103.5527158\ttotal: 350ms\tremaining: 986ms\n",
      "262:\tlearn: 103.0334823\ttotal: 351ms\tremaining: 983ms\n",
      "263:\tlearn: 102.6732388\ttotal: 351ms\tremaining: 980ms\n",
      "264:\tlearn: 102.4678728\ttotal: 352ms\tremaining: 977ms\n",
      "265:\tlearn: 101.9608852\ttotal: 353ms\tremaining: 973ms\n",
      "266:\tlearn: 101.4449668\ttotal: 353ms\tremaining: 970ms\n",
      "267:\tlearn: 100.9647899\ttotal: 354ms\tremaining: 967ms\n",
      "268:\tlearn: 100.4376357\ttotal: 355ms\tremaining: 964ms\n",
      "269:\tlearn: 100.1038322\ttotal: 355ms\tremaining: 961ms\n",
      "270:\tlearn: 99.8991183\ttotal: 356ms\tremaining: 958ms\n",
      "271:\tlearn: 99.4016031\ttotal: 357ms\tremaining: 955ms\n",
      "272:\tlearn: 98.9231252\ttotal: 358ms\tremaining: 953ms\n",
      "273:\tlearn: 98.5734863\ttotal: 358ms\tremaining: 950ms\n",
      "274:\tlearn: 98.3333355\ttotal: 359ms\tremaining: 947ms\n",
      "275:\tlearn: 97.9164082\ttotal: 360ms\tremaining: 944ms\n",
      "276:\tlearn: 97.3911203\ttotal: 361ms\tremaining: 941ms\n",
      "277:\tlearn: 96.9317789\ttotal: 361ms\tremaining: 938ms\n",
      "278:\tlearn: 96.6243997\ttotal: 362ms\tremaining: 935ms\n",
      "279:\tlearn: 96.3288821\ttotal: 363ms\tremaining: 933ms\n",
      "280:\tlearn: 95.8579534\ttotal: 363ms\tremaining: 930ms\n",
      "281:\tlearn: 95.4136026\ttotal: 364ms\tremaining: 927ms\n",
      "282:\tlearn: 95.3442077\ttotal: 365ms\tremaining: 924ms\n",
      "283:\tlearn: 95.1166584\ttotal: 365ms\tremaining: 921ms\n",
      "284:\tlearn: 94.8017360\ttotal: 366ms\tremaining: 918ms\n",
      "285:\tlearn: 94.5863908\ttotal: 367ms\tremaining: 916ms\n",
      "286:\tlearn: 94.4111694\ttotal: 368ms\tremaining: 913ms\n",
      "287:\tlearn: 94.2678024\ttotal: 368ms\tremaining: 911ms\n",
      "288:\tlearn: 93.7753419\ttotal: 369ms\tremaining: 908ms\n",
      "289:\tlearn: 93.3772710\ttotal: 370ms\tremaining: 906ms\n",
      "290:\tlearn: 92.8750904\ttotal: 371ms\tremaining: 903ms\n",
      "291:\tlearn: 92.6654794\ttotal: 372ms\tremaining: 901ms\n",
      "292:\tlearn: 92.2659876\ttotal: 373ms\tremaining: 899ms\n",
      "293:\tlearn: 92.0282495\ttotal: 373ms\tremaining: 896ms\n",
      "294:\tlearn: 91.8288855\ttotal: 374ms\tremaining: 893ms\n",
      "295:\tlearn: 91.6752612\ttotal: 374ms\tremaining: 891ms\n",
      "296:\tlearn: 91.2561883\ttotal: 375ms\tremaining: 888ms\n",
      "297:\tlearn: 91.0227123\ttotal: 376ms\tremaining: 885ms\n",
      "298:\tlearn: 90.8392142\ttotal: 377ms\tremaining: 883ms\n",
      "299:\tlearn: 90.6853014\ttotal: 377ms\tremaining: 880ms\n",
      "300:\tlearn: 90.5986761\ttotal: 378ms\tremaining: 878ms\n",
      "301:\tlearn: 90.2180036\ttotal: 379ms\tremaining: 875ms\n",
      "302:\tlearn: 89.8313622\ttotal: 379ms\tremaining: 872ms\n",
      "303:\tlearn: 89.6872837\ttotal: 380ms\tremaining: 870ms\n",
      "304:\tlearn: 89.3853276\ttotal: 381ms\tremaining: 867ms\n",
      "305:\tlearn: 88.9459206\ttotal: 381ms\tremaining: 865ms\n",
      "306:\tlearn: 88.7258770\ttotal: 382ms\tremaining: 862ms\n",
      "307:\tlearn: 88.5374358\ttotal: 383ms\tremaining: 860ms\n",
      "308:\tlearn: 88.0624447\ttotal: 383ms\tremaining: 858ms\n",
      "309:\tlearn: 87.7942692\ttotal: 384ms\tremaining: 855ms\n",
      "310:\tlearn: 87.6354184\ttotal: 385ms\tremaining: 852ms\n",
      "311:\tlearn: 87.4879486\ttotal: 385ms\tremaining: 850ms\n",
      "312:\tlearn: 87.0294739\ttotal: 386ms\tremaining: 848ms\n",
      "313:\tlearn: 86.6746221\ttotal: 387ms\tremaining: 846ms\n",
      "314:\tlearn: 86.2792146\ttotal: 388ms\tremaining: 843ms\n",
      "315:\tlearn: 86.2127070\ttotal: 389ms\tremaining: 841ms\n",
      "316:\tlearn: 86.1507368\ttotal: 389ms\tremaining: 839ms\n",
      "317:\tlearn: 85.7089141\ttotal: 390ms\tremaining: 837ms\n",
      "318:\tlearn: 85.6035137\ttotal: 391ms\tremaining: 834ms\n",
      "319:\tlearn: 85.3587988\ttotal: 391ms\tremaining: 832ms\n",
      "320:\tlearn: 84.9660906\ttotal: 392ms\tremaining: 830ms\n",
      "321:\tlearn: 84.5474713\ttotal: 393ms\tremaining: 828ms\n",
      "322:\tlearn: 84.1996852\ttotal: 394ms\tremaining: 825ms\n",
      "323:\tlearn: 84.0654282\ttotal: 394ms\tremaining: 823ms\n",
      "324:\tlearn: 83.7937327\ttotal: 395ms\tremaining: 821ms\n",
      "325:\tlearn: 83.5064288\ttotal: 396ms\tremaining: 819ms\n",
      "326:\tlearn: 83.3997655\ttotal: 397ms\tremaining: 817ms\n",
      "327:\tlearn: 83.2958622\ttotal: 398ms\tremaining: 815ms\n",
      "328:\tlearn: 82.9877578\ttotal: 398ms\tremaining: 812ms\n",
      "329:\tlearn: 82.6286638\ttotal: 399ms\tremaining: 811ms\n",
      "330:\tlearn: 82.2827132\ttotal: 400ms\tremaining: 809ms\n",
      "331:\tlearn: 82.0895251\ttotal: 401ms\tremaining: 807ms\n",
      "332:\tlearn: 82.0130649\ttotal: 402ms\tremaining: 805ms\n",
      "333:\tlearn: 81.6771734\ttotal: 403ms\tremaining: 803ms\n",
      "334:\tlearn: 81.3519124\ttotal: 404ms\tremaining: 801ms\n",
      "335:\tlearn: 81.0170326\ttotal: 404ms\tremaining: 799ms\n",
      "336:\tlearn: 80.6917886\ttotal: 405ms\tremaining: 797ms\n",
      "337:\tlearn: 80.3455177\ttotal: 406ms\tremaining: 796ms\n",
      "338:\tlearn: 80.0260727\ttotal: 407ms\tremaining: 793ms\n",
      "339:\tlearn: 79.9154748\ttotal: 408ms\tremaining: 791ms\n",
      "340:\tlearn: 79.7813079\ttotal: 408ms\tremaining: 789ms\n",
      "341:\tlearn: 79.3513293\ttotal: 409ms\tremaining: 787ms\n",
      "342:\tlearn: 78.8666019\ttotal: 410ms\tremaining: 785ms\n",
      "343:\tlearn: 78.7959013\ttotal: 411ms\tremaining: 783ms\n",
      "344:\tlearn: 78.7081334\ttotal: 411ms\tremaining: 781ms\n",
      "345:\tlearn: 78.3354931\ttotal: 412ms\tremaining: 779ms\n",
      "346:\tlearn: 77.9475067\ttotal: 413ms\tremaining: 777ms\n",
      "347:\tlearn: 77.8910420\ttotal: 413ms\tremaining: 775ms\n",
      "348:\tlearn: 77.5461672\ttotal: 414ms\tremaining: 773ms\n",
      "349:\tlearn: 77.3717101\ttotal: 415ms\tremaining: 771ms\n",
      "350:\tlearn: 77.0729657\ttotal: 416ms\tremaining: 769ms\n",
      "351:\tlearn: 76.7699287\ttotal: 416ms\tremaining: 767ms\n",
      "352:\tlearn: 76.6029759\ttotal: 417ms\tremaining: 764ms\n",
      "353:\tlearn: 76.1642615\ttotal: 418ms\tremaining: 763ms\n",
      "354:\tlearn: 76.1202523\ttotal: 419ms\tremaining: 761ms\n",
      "355:\tlearn: 75.9487132\ttotal: 419ms\tremaining: 758ms\n",
      "356:\tlearn: 75.6748479\ttotal: 420ms\tremaining: 756ms\n",
      "357:\tlearn: 75.4290864\ttotal: 421ms\tremaining: 754ms\n",
      "358:\tlearn: 75.0463849\ttotal: 421ms\tremaining: 753ms\n",
      "359:\tlearn: 74.9902381\ttotal: 422ms\tremaining: 751ms\n",
      "360:\tlearn: 74.5243875\ttotal: 423ms\tremaining: 749ms\n",
      "361:\tlearn: 74.1913065\ttotal: 424ms\tremaining: 747ms\n",
      "362:\tlearn: 73.8413359\ttotal: 424ms\tremaining: 745ms\n",
      "363:\tlearn: 73.7602119\ttotal: 425ms\tremaining: 743ms\n",
      "364:\tlearn: 73.3278135\ttotal: 426ms\tremaining: 741ms\n",
      "365:\tlearn: 72.9524336\ttotal: 427ms\tremaining: 739ms\n",
      "366:\tlearn: 72.6791856\ttotal: 427ms\tremaining: 737ms\n",
      "367:\tlearn: 72.4333577\ttotal: 428ms\tremaining: 735ms\n",
      "368:\tlearn: 72.1672937\ttotal: 429ms\tremaining: 733ms\n",
      "369:\tlearn: 71.9070276\ttotal: 429ms\tremaining: 731ms\n",
      "370:\tlearn: 71.5496196\ttotal: 430ms\tremaining: 729ms\n",
      "371:\tlearn: 71.3161902\ttotal: 431ms\tremaining: 727ms\n",
      "372:\tlearn: 71.1259191\ttotal: 431ms\tremaining: 725ms\n",
      "373:\tlearn: 70.9889962\ttotal: 432ms\tremaining: 723ms\n",
      "374:\tlearn: 70.7417966\ttotal: 433ms\tremaining: 721ms\n",
      "375:\tlearn: 70.4931174\ttotal: 433ms\tremaining: 719ms\n",
      "376:\tlearn: 70.3300576\ttotal: 434ms\tremaining: 717ms\n",
      "377:\tlearn: 69.9233248\ttotal: 435ms\tremaining: 715ms\n",
      "378:\tlearn: 69.6261005\ttotal: 436ms\tremaining: 714ms\n",
      "379:\tlearn: 69.3989708\ttotal: 436ms\tremaining: 712ms\n",
      "380:\tlearn: 69.0085387\ttotal: 437ms\tremaining: 710ms\n",
      "381:\tlearn: 68.7604153\ttotal: 438ms\tremaining: 708ms\n",
      "382:\tlearn: 68.4602767\ttotal: 438ms\tremaining: 706ms\n",
      "383:\tlearn: 68.1005452\ttotal: 439ms\tremaining: 704ms\n",
      "384:\tlearn: 68.0540467\ttotal: 440ms\tremaining: 702ms\n",
      "385:\tlearn: 67.8972753\ttotal: 440ms\tremaining: 700ms\n",
      "386:\tlearn: 67.5389629\ttotal: 441ms\tremaining: 699ms\n",
      "387:\tlearn: 67.2390178\ttotal: 442ms\tremaining: 697ms\n",
      "388:\tlearn: 67.0279888\ttotal: 442ms\tremaining: 695ms\n",
      "389:\tlearn: 66.8375919\ttotal: 443ms\tremaining: 693ms\n",
      "390:\tlearn: 66.4118315\ttotal: 444ms\tremaining: 691ms\n",
      "391:\tlearn: 66.3642690\ttotal: 444ms\tremaining: 689ms\n",
      "392:\tlearn: 66.1673138\ttotal: 445ms\tremaining: 687ms\n",
      "393:\tlearn: 66.0177482\ttotal: 446ms\tremaining: 685ms\n",
      "394:\tlearn: 65.8018038\ttotal: 446ms\tremaining: 683ms\n",
      "395:\tlearn: 65.6886505\ttotal: 447ms\tremaining: 682ms\n",
      "396:\tlearn: 65.6120185\ttotal: 448ms\tremaining: 680ms\n",
      "397:\tlearn: 65.5746662\ttotal: 448ms\tremaining: 678ms\n",
      "398:\tlearn: 65.2974851\ttotal: 449ms\tremaining: 676ms\n",
      "399:\tlearn: 65.2464764\ttotal: 450ms\tremaining: 674ms\n",
      "400:\tlearn: 65.1241314\ttotal: 450ms\tremaining: 672ms\n",
      "401:\tlearn: 65.0515740\ttotal: 451ms\tremaining: 671ms\n",
      "402:\tlearn: 64.8089636\ttotal: 451ms\tremaining: 669ms\n",
      "403:\tlearn: 64.5992230\ttotal: 452ms\tremaining: 667ms\n",
      "404:\tlearn: 64.2907010\ttotal: 453ms\tremaining: 665ms\n",
      "405:\tlearn: 64.1568642\ttotal: 453ms\tremaining: 663ms\n",
      "406:\tlearn: 63.8279106\ttotal: 454ms\tremaining: 662ms\n",
      "407:\tlearn: 63.5558565\ttotal: 455ms\tremaining: 660ms\n",
      "408:\tlearn: 63.3865445\ttotal: 455ms\tremaining: 658ms\n",
      "409:\tlearn: 63.2752408\ttotal: 456ms\tremaining: 656ms\n",
      "410:\tlearn: 63.1070190\ttotal: 457ms\tremaining: 655ms\n",
      "411:\tlearn: 62.7868376\ttotal: 457ms\tremaining: 653ms\n",
      "412:\tlearn: 62.5345803\ttotal: 458ms\tremaining: 651ms\n",
      "413:\tlearn: 62.2729058\ttotal: 459ms\tremaining: 649ms\n",
      "414:\tlearn: 61.9850985\ttotal: 459ms\tremaining: 647ms\n",
      "415:\tlearn: 61.7784164\ttotal: 460ms\tremaining: 646ms\n",
      "416:\tlearn: 61.7431976\ttotal: 461ms\tremaining: 644ms\n",
      "417:\tlearn: 61.4309964\ttotal: 461ms\tremaining: 642ms\n",
      "418:\tlearn: 61.3513660\ttotal: 462ms\tremaining: 640ms\n",
      "419:\tlearn: 61.1253739\ttotal: 462ms\tremaining: 639ms\n",
      "420:\tlearn: 61.0742571\ttotal: 463ms\tremaining: 637ms\n",
      "421:\tlearn: 61.0390980\ttotal: 464ms\tremaining: 635ms\n",
      "422:\tlearn: 61.0095757\ttotal: 464ms\tremaining: 633ms\n",
      "423:\tlearn: 60.6843255\ttotal: 465ms\tremaining: 632ms\n",
      "424:\tlearn: 60.4045551\ttotal: 466ms\tremaining: 630ms\n",
      "425:\tlearn: 60.3649587\ttotal: 466ms\tremaining: 628ms\n",
      "426:\tlearn: 60.3315828\ttotal: 467ms\tremaining: 627ms\n",
      "427:\tlearn: 60.1047027\ttotal: 468ms\tremaining: 625ms\n",
      "428:\tlearn: 59.9170736\ttotal: 468ms\tremaining: 623ms\n",
      "429:\tlearn: 59.6875648\ttotal: 469ms\tremaining: 622ms\n",
      "430:\tlearn: 59.6662150\ttotal: 470ms\tremaining: 620ms\n",
      "431:\tlearn: 59.4208112\ttotal: 470ms\tremaining: 618ms\n",
      "432:\tlearn: 59.2358034\ttotal: 471ms\tremaining: 617ms\n",
      "433:\tlearn: 58.9818868\ttotal: 472ms\tremaining: 615ms\n",
      "434:\tlearn: 58.7089433\ttotal: 472ms\tremaining: 613ms\n",
      "435:\tlearn: 58.5898817\ttotal: 473ms\tremaining: 612ms\n",
      "436:\tlearn: 58.5425342\ttotal: 474ms\tremaining: 610ms\n",
      "437:\tlearn: 58.2884605\ttotal: 474ms\tremaining: 608ms\n",
      "438:\tlearn: 58.2643873\ttotal: 475ms\tremaining: 607ms\n",
      "439:\tlearn: 58.2330868\ttotal: 475ms\tremaining: 605ms\n",
      "440:\tlearn: 57.9676592\ttotal: 476ms\tremaining: 604ms\n",
      "441:\tlearn: 57.7670212\ttotal: 477ms\tremaining: 602ms\n",
      "442:\tlearn: 57.5322464\ttotal: 477ms\tremaining: 600ms\n",
      "443:\tlearn: 57.2771620\ttotal: 478ms\tremaining: 599ms\n",
      "444:\tlearn: 57.0227885\ttotal: 479ms\tremaining: 597ms\n",
      "445:\tlearn: 56.7616770\ttotal: 479ms\tremaining: 595ms\n",
      "446:\tlearn: 56.7367450\ttotal: 480ms\tremaining: 594ms\n",
      "447:\tlearn: 56.6715001\ttotal: 481ms\tremaining: 592ms\n",
      "448:\tlearn: 56.4881346\ttotal: 481ms\tremaining: 590ms\n",
      "449:\tlearn: 56.3749776\ttotal: 482ms\tremaining: 589ms\n",
      "450:\tlearn: 56.2172319\ttotal: 483ms\tremaining: 587ms\n",
      "451:\tlearn: 55.9461925\ttotal: 483ms\tremaining: 586ms\n",
      "452:\tlearn: 55.8884270\ttotal: 484ms\tremaining: 584ms\n",
      "453:\tlearn: 55.7987432\ttotal: 485ms\tremaining: 583ms\n",
      "454:\tlearn: 55.7376337\ttotal: 485ms\tremaining: 581ms\n",
      "455:\tlearn: 55.5150595\ttotal: 486ms\tremaining: 580ms\n",
      "456:\tlearn: 55.4819680\ttotal: 487ms\tremaining: 578ms\n",
      "457:\tlearn: 55.1719919\ttotal: 487ms\tremaining: 577ms\n",
      "458:\tlearn: 55.1295759\ttotal: 488ms\tremaining: 575ms\n",
      "459:\tlearn: 55.0856302\ttotal: 489ms\tremaining: 574ms\n",
      "460:\tlearn: 54.8056235\ttotal: 489ms\tremaining: 572ms\n",
      "461:\tlearn: 54.4030407\ttotal: 490ms\tremaining: 571ms\n",
      "462:\tlearn: 54.3308204\ttotal: 491ms\tremaining: 569ms\n",
      "463:\tlearn: 54.0283724\ttotal: 491ms\tremaining: 568ms\n",
      "464:\tlearn: 53.9962714\ttotal: 492ms\tremaining: 566ms\n",
      "465:\tlearn: 53.8149476\ttotal: 493ms\tremaining: 565ms\n",
      "466:\tlearn: 53.7806209\ttotal: 493ms\tremaining: 563ms\n",
      "467:\tlearn: 53.7585727\ttotal: 494ms\tremaining: 562ms\n",
      "468:\tlearn: 53.5042777\ttotal: 495ms\tremaining: 560ms\n",
      "469:\tlearn: 53.3257034\ttotal: 495ms\tremaining: 559ms\n",
      "470:\tlearn: 53.0801119\ttotal: 496ms\tremaining: 557ms\n",
      "471:\tlearn: 53.0136550\ttotal: 497ms\tremaining: 556ms\n",
      "472:\tlearn: 52.9408930\ttotal: 497ms\tremaining: 554ms\n",
      "473:\tlearn: 52.7089062\ttotal: 498ms\tremaining: 553ms\n",
      "474:\tlearn: 52.6819781\ttotal: 499ms\tremaining: 551ms\n",
      "475:\tlearn: 52.5065568\ttotal: 499ms\tremaining: 550ms\n",
      "476:\tlearn: 52.3688770\ttotal: 500ms\tremaining: 548ms\n",
      "477:\tlearn: 52.2402473\ttotal: 501ms\tremaining: 547ms\n",
      "478:\tlearn: 52.1406517\ttotal: 502ms\tremaining: 546ms\n",
      "479:\tlearn: 52.1107144\ttotal: 502ms\tremaining: 544ms\n",
      "480:\tlearn: 51.9239449\ttotal: 503ms\tremaining: 542ms\n",
      "481:\tlearn: 51.7096820\ttotal: 503ms\tremaining: 541ms\n",
      "482:\tlearn: 51.6266918\ttotal: 504ms\tremaining: 540ms\n",
      "483:\tlearn: 51.5969797\ttotal: 505ms\tremaining: 538ms\n",
      "484:\tlearn: 51.4480162\ttotal: 506ms\tremaining: 537ms\n",
      "485:\tlearn: 51.2269261\ttotal: 506ms\tremaining: 535ms\n",
      "486:\tlearn: 50.9904632\ttotal: 507ms\tremaining: 534ms\n",
      "487:\tlearn: 50.9342043\ttotal: 508ms\tremaining: 533ms\n",
      "488:\tlearn: 50.8423680\ttotal: 508ms\tremaining: 531ms\n",
      "489:\tlearn: 50.7269788\ttotal: 509ms\tremaining: 530ms\n",
      "490:\tlearn: 50.5384699\ttotal: 510ms\tremaining: 528ms\n",
      "491:\tlearn: 50.5047793\ttotal: 511ms\tremaining: 527ms\n",
      "492:\tlearn: 50.3234448\ttotal: 511ms\tremaining: 526ms\n",
      "493:\tlearn: 50.1653421\ttotal: 512ms\tremaining: 524ms\n",
      "494:\tlearn: 49.9835558\ttotal: 513ms\tremaining: 523ms\n",
      "495:\tlearn: 49.8884283\ttotal: 514ms\tremaining: 522ms\n",
      "496:\tlearn: 49.6217364\ttotal: 515ms\tremaining: 521ms\n",
      "497:\tlearn: 49.5268562\ttotal: 516ms\tremaining: 520ms\n",
      "498:\tlearn: 49.3078402\ttotal: 517ms\tremaining: 519ms\n",
      "499:\tlearn: 49.2571676\ttotal: 517ms\tremaining: 517ms\n",
      "500:\tlearn: 49.2173141\ttotal: 518ms\tremaining: 516ms\n",
      "501:\tlearn: 48.9813103\ttotal: 519ms\tremaining: 514ms\n",
      "502:\tlearn: 48.8304542\ttotal: 519ms\tremaining: 513ms\n",
      "503:\tlearn: 48.7430936\ttotal: 520ms\tremaining: 512ms\n",
      "504:\tlearn: 48.5493989\ttotal: 521ms\tremaining: 511ms\n",
      "505:\tlearn: 48.5134839\ttotal: 522ms\tremaining: 509ms\n",
      "506:\tlearn: 48.3516141\ttotal: 522ms\tremaining: 508ms\n",
      "507:\tlearn: 48.0631542\ttotal: 523ms\tremaining: 507ms\n",
      "508:\tlearn: 47.8591880\ttotal: 524ms\tremaining: 505ms\n",
      "509:\tlearn: 47.7182444\ttotal: 525ms\tremaining: 504ms\n",
      "510:\tlearn: 47.6301870\ttotal: 525ms\tremaining: 503ms\n",
      "511:\tlearn: 47.4767324\ttotal: 526ms\tremaining: 501ms\n",
      "512:\tlearn: 47.2822625\ttotal: 527ms\tremaining: 500ms\n",
      "513:\tlearn: 47.1022658\ttotal: 527ms\tremaining: 499ms\n",
      "514:\tlearn: 47.0536181\ttotal: 528ms\tremaining: 497ms\n",
      "515:\tlearn: 47.0249559\ttotal: 529ms\tremaining: 496ms\n",
      "516:\tlearn: 46.8789720\ttotal: 530ms\tremaining: 495ms\n",
      "517:\tlearn: 46.7133769\ttotal: 530ms\tremaining: 494ms\n",
      "518:\tlearn: 46.5157986\ttotal: 531ms\tremaining: 492ms\n",
      "519:\tlearn: 46.3630405\ttotal: 532ms\tremaining: 491ms\n",
      "520:\tlearn: 46.1730188\ttotal: 533ms\tremaining: 490ms\n",
      "521:\tlearn: 46.1360908\ttotal: 533ms\tremaining: 488ms\n",
      "522:\tlearn: 45.9652487\ttotal: 534ms\tremaining: 487ms\n",
      "523:\tlearn: 45.8122703\ttotal: 535ms\tremaining: 486ms\n",
      "524:\tlearn: 45.4984451\ttotal: 535ms\tremaining: 484ms\n",
      "525:\tlearn: 45.3161076\ttotal: 536ms\tremaining: 483ms\n",
      "526:\tlearn: 45.2802854\ttotal: 537ms\tremaining: 482ms\n",
      "527:\tlearn: 45.2448275\ttotal: 538ms\tremaining: 481ms\n",
      "528:\tlearn: 45.0816321\ttotal: 538ms\tremaining: 479ms\n",
      "529:\tlearn: 44.9794319\ttotal: 539ms\tremaining: 478ms\n",
      "530:\tlearn: 44.6832140\ttotal: 540ms\tremaining: 477ms\n",
      "531:\tlearn: 44.4460046\ttotal: 540ms\tremaining: 475ms\n",
      "532:\tlearn: 44.2118287\ttotal: 541ms\tremaining: 474ms\n",
      "533:\tlearn: 44.0693524\ttotal: 542ms\tremaining: 473ms\n",
      "534:\tlearn: 43.7781614\ttotal: 543ms\tremaining: 472ms\n",
      "535:\tlearn: 43.5541731\ttotal: 544ms\tremaining: 471ms\n",
      "536:\tlearn: 43.5134866\ttotal: 544ms\tremaining: 469ms\n",
      "537:\tlearn: 43.3609810\ttotal: 545ms\tremaining: 468ms\n",
      "538:\tlearn: 43.1828364\ttotal: 546ms\tremaining: 467ms\n",
      "539:\tlearn: 43.1681810\ttotal: 546ms\tremaining: 465ms\n",
      "540:\tlearn: 43.0597548\ttotal: 547ms\tremaining: 464ms\n",
      "541:\tlearn: 43.0399237\ttotal: 547ms\tremaining: 463ms\n",
      "542:\tlearn: 42.7955247\ttotal: 548ms\tremaining: 461ms\n",
      "543:\tlearn: 42.5339065\ttotal: 549ms\tremaining: 460ms\n",
      "544:\tlearn: 42.4295635\ttotal: 550ms\tremaining: 459ms\n",
      "545:\tlearn: 42.2338376\ttotal: 550ms\tremaining: 458ms\n",
      "546:\tlearn: 42.0124060\ttotal: 551ms\tremaining: 456ms\n",
      "547:\tlearn: 41.8255183\ttotal: 552ms\tremaining: 455ms\n",
      "548:\tlearn: 41.6388681\ttotal: 552ms\tremaining: 454ms\n",
      "549:\tlearn: 41.4001270\ttotal: 553ms\tremaining: 452ms\n",
      "550:\tlearn: 41.1013528\ttotal: 553ms\tremaining: 451ms\n",
      "551:\tlearn: 41.0100295\ttotal: 554ms\tremaining: 450ms\n",
      "552:\tlearn: 40.9906076\ttotal: 555ms\tremaining: 448ms\n",
      "553:\tlearn: 40.8809109\ttotal: 555ms\tremaining: 447ms\n",
      "554:\tlearn: 40.7831302\ttotal: 556ms\tremaining: 446ms\n",
      "555:\tlearn: 40.7317763\ttotal: 557ms\tremaining: 445ms\n",
      "556:\tlearn: 40.6321710\ttotal: 557ms\tremaining: 443ms\n",
      "557:\tlearn: 40.4475073\ttotal: 558ms\tremaining: 442ms\n",
      "558:\tlearn: 40.2859957\ttotal: 559ms\tremaining: 441ms\n",
      "559:\tlearn: 40.0262057\ttotal: 559ms\tremaining: 440ms\n",
      "560:\tlearn: 39.9326350\ttotal: 560ms\tremaining: 438ms\n",
      "561:\tlearn: 39.8735956\ttotal: 561ms\tremaining: 437ms\n",
      "562:\tlearn: 39.7083019\ttotal: 561ms\tremaining: 436ms\n",
      "563:\tlearn: 39.5379855\ttotal: 562ms\tremaining: 434ms\n",
      "564:\tlearn: 39.3451301\ttotal: 563ms\tremaining: 433ms\n",
      "565:\tlearn: 39.2041273\ttotal: 563ms\tremaining: 432ms\n",
      "566:\tlearn: 38.9870162\ttotal: 564ms\tremaining: 431ms\n",
      "567:\tlearn: 38.8638040\ttotal: 565ms\tremaining: 429ms\n",
      "568:\tlearn: 38.7752116\ttotal: 565ms\tremaining: 428ms\n",
      "569:\tlearn: 38.6530297\ttotal: 566ms\tremaining: 427ms\n",
      "570:\tlearn: 38.5505372\ttotal: 567ms\tremaining: 426ms\n",
      "571:\tlearn: 38.5134486\ttotal: 567ms\tremaining: 425ms\n",
      "572:\tlearn: 38.3680902\ttotal: 568ms\tremaining: 423ms\n",
      "573:\tlearn: 38.1897295\ttotal: 569ms\tremaining: 422ms\n",
      "574:\tlearn: 38.1083536\ttotal: 569ms\tremaining: 421ms\n",
      "575:\tlearn: 37.9229216\ttotal: 570ms\tremaining: 420ms\n",
      "576:\tlearn: 37.8377087\ttotal: 571ms\tremaining: 418ms\n",
      "577:\tlearn: 37.7966900\ttotal: 571ms\tremaining: 417ms\n",
      "578:\tlearn: 37.6700761\ttotal: 572ms\tremaining: 416ms\n",
      "579:\tlearn: 37.6355177\ttotal: 573ms\tremaining: 415ms\n",
      "580:\tlearn: 37.4648199\ttotal: 573ms\tremaining: 413ms\n",
      "581:\tlearn: 37.2959505\ttotal: 574ms\tremaining: 412ms\n",
      "582:\tlearn: 37.1423961\ttotal: 575ms\tremaining: 411ms\n",
      "583:\tlearn: 36.9297315\ttotal: 575ms\tremaining: 410ms\n",
      "584:\tlearn: 36.8850382\ttotal: 576ms\tremaining: 409ms\n",
      "585:\tlearn: 36.7546519\ttotal: 577ms\tremaining: 407ms\n",
      "586:\tlearn: 36.7377554\ttotal: 577ms\tremaining: 406ms\n",
      "587:\tlearn: 36.6899102\ttotal: 578ms\tremaining: 405ms\n",
      "588:\tlearn: 36.5617094\ttotal: 579ms\tremaining: 404ms\n",
      "589:\tlearn: 36.4272921\ttotal: 579ms\tremaining: 403ms\n",
      "590:\tlearn: 36.2657889\ttotal: 580ms\tremaining: 401ms\n",
      "591:\tlearn: 36.2539345\ttotal: 580ms\tremaining: 400ms\n",
      "592:\tlearn: 36.2314399\ttotal: 581ms\tremaining: 399ms\n",
      "593:\tlearn: 36.0683824\ttotal: 582ms\tremaining: 398ms\n",
      "594:\tlearn: 35.9283095\ttotal: 583ms\tremaining: 397ms\n",
      "595:\tlearn: 35.7968288\ttotal: 583ms\tremaining: 395ms\n",
      "596:\tlearn: 35.7223423\ttotal: 584ms\tremaining: 394ms\n",
      "597:\tlearn: 35.5848854\ttotal: 585ms\tremaining: 393ms\n",
      "598:\tlearn: 35.4754344\ttotal: 585ms\tremaining: 392ms\n",
      "599:\tlearn: 35.3533890\ttotal: 586ms\tremaining: 391ms\n",
      "600:\tlearn: 35.2201505\ttotal: 587ms\tremaining: 390ms\n",
      "601:\tlearn: 35.0873272\ttotal: 588ms\tremaining: 388ms\n",
      "602:\tlearn: 35.0461873\ttotal: 588ms\tremaining: 387ms\n",
      "603:\tlearn: 34.9273071\ttotal: 589ms\tremaining: 386ms\n",
      "604:\tlearn: 34.8162855\ttotal: 590ms\tremaining: 385ms\n",
      "605:\tlearn: 34.7130059\ttotal: 590ms\tremaining: 384ms\n",
      "606:\tlearn: 34.5585617\ttotal: 591ms\tremaining: 383ms\n",
      "607:\tlearn: 34.4611907\ttotal: 592ms\tremaining: 381ms\n",
      "608:\tlearn: 34.4326546\ttotal: 592ms\tremaining: 380ms\n",
      "609:\tlearn: 34.2846979\ttotal: 593ms\tremaining: 379ms\n",
      "610:\tlearn: 34.1734501\ttotal: 594ms\tremaining: 378ms\n",
      "611:\tlearn: 34.0230965\ttotal: 595ms\tremaining: 377ms\n",
      "612:\tlearn: 33.8282501\ttotal: 595ms\tremaining: 376ms\n",
      "613:\tlearn: 33.7746747\ttotal: 596ms\tremaining: 375ms\n",
      "614:\tlearn: 33.7068386\ttotal: 597ms\tremaining: 374ms\n",
      "615:\tlearn: 33.5780800\ttotal: 598ms\tremaining: 373ms\n",
      "616:\tlearn: 33.4695325\ttotal: 598ms\tremaining: 371ms\n",
      "617:\tlearn: 33.3463443\ttotal: 599ms\tremaining: 370ms\n",
      "618:\tlearn: 33.2877395\ttotal: 600ms\tremaining: 369ms\n",
      "619:\tlearn: 33.2418826\ttotal: 601ms\tremaining: 368ms\n",
      "620:\tlearn: 33.1045465\ttotal: 601ms\tremaining: 367ms\n",
      "621:\tlearn: 32.9400639\ttotal: 602ms\tremaining: 366ms\n",
      "622:\tlearn: 32.8996970\ttotal: 603ms\tremaining: 365ms\n",
      "623:\tlearn: 32.7429487\ttotal: 603ms\tremaining: 364ms\n",
      "624:\tlearn: 32.6132355\ttotal: 604ms\tremaining: 362ms\n",
      "625:\tlearn: 32.4714976\ttotal: 605ms\tremaining: 361ms\n",
      "626:\tlearn: 32.4320448\ttotal: 606ms\tremaining: 360ms\n",
      "627:\tlearn: 32.2628258\ttotal: 606ms\tremaining: 359ms\n",
      "628:\tlearn: 32.2038569\ttotal: 607ms\tremaining: 358ms\n",
      "629:\tlearn: 32.0940738\ttotal: 608ms\tremaining: 357ms\n",
      "630:\tlearn: 32.0068495\ttotal: 608ms\tremaining: 356ms\n",
      "631:\tlearn: 31.9053748\ttotal: 609ms\tremaining: 355ms\n",
      "632:\tlearn: 31.7715772\ttotal: 610ms\tremaining: 353ms\n",
      "633:\tlearn: 31.6687835\ttotal: 610ms\tremaining: 352ms\n",
      "634:\tlearn: 31.6368050\ttotal: 611ms\tremaining: 351ms\n",
      "635:\tlearn: 31.5709628\ttotal: 612ms\tremaining: 350ms\n",
      "636:\tlearn: 31.4052213\ttotal: 612ms\tremaining: 349ms\n",
      "637:\tlearn: 31.2452229\ttotal: 613ms\tremaining: 348ms\n",
      "638:\tlearn: 31.1221828\ttotal: 614ms\tremaining: 347ms\n",
      "639:\tlearn: 31.0853500\ttotal: 614ms\tremaining: 346ms\n",
      "640:\tlearn: 30.9167355\ttotal: 615ms\tremaining: 344ms\n",
      "641:\tlearn: 30.8667253\ttotal: 616ms\tremaining: 343ms\n",
      "642:\tlearn: 30.7427129\ttotal: 616ms\tremaining: 342ms\n",
      "643:\tlearn: 30.5748228\ttotal: 617ms\tremaining: 341ms\n",
      "644:\tlearn: 30.5080592\ttotal: 618ms\tremaining: 340ms\n",
      "645:\tlearn: 30.3444228\ttotal: 618ms\tremaining: 339ms\n",
      "646:\tlearn: 30.1858385\ttotal: 619ms\tremaining: 338ms\n",
      "647:\tlearn: 30.1481951\ttotal: 620ms\tremaining: 337ms\n",
      "648:\tlearn: 30.1139150\ttotal: 620ms\tremaining: 335ms\n",
      "649:\tlearn: 30.0147177\ttotal: 621ms\tremaining: 334ms\n",
      "650:\tlearn: 29.8610501\ttotal: 622ms\tremaining: 333ms\n",
      "651:\tlearn: 29.7793561\ttotal: 622ms\tremaining: 332ms\n",
      "652:\tlearn: 29.6870188\ttotal: 623ms\tremaining: 331ms\n",
      "653:\tlearn: 29.6229921\ttotal: 624ms\tremaining: 330ms\n",
      "654:\tlearn: 29.5806823\ttotal: 625ms\tremaining: 329ms\n",
      "655:\tlearn: 29.4903496\ttotal: 625ms\tremaining: 328ms\n",
      "656:\tlearn: 29.4011642\ttotal: 626ms\tremaining: 327ms\n",
      "657:\tlearn: 29.3880977\ttotal: 627ms\tremaining: 326ms\n",
      "658:\tlearn: 29.2615919\ttotal: 628ms\tremaining: 325ms\n",
      "659:\tlearn: 29.1004727\ttotal: 628ms\tremaining: 324ms\n",
      "660:\tlearn: 29.0530692\ttotal: 629ms\tremaining: 323ms\n",
      "661:\tlearn: 28.9863628\ttotal: 630ms\tremaining: 321ms\n",
      "662:\tlearn: 28.8714304\ttotal: 630ms\tremaining: 320ms\n",
      "663:\tlearn: 28.7331979\ttotal: 631ms\tremaining: 320ms\n",
      "664:\tlearn: 28.6366801\ttotal: 632ms\tremaining: 318ms\n",
      "665:\tlearn: 28.5716341\ttotal: 633ms\tremaining: 317ms\n",
      "666:\tlearn: 28.4974876\ttotal: 633ms\tremaining: 316ms\n",
      "667:\tlearn: 28.4112710\ttotal: 634ms\tremaining: 315ms\n",
      "668:\tlearn: 28.2984651\ttotal: 635ms\tremaining: 314ms\n",
      "669:\tlearn: 28.1339510\ttotal: 636ms\tremaining: 313ms\n",
      "670:\tlearn: 28.1075789\ttotal: 636ms\tremaining: 312ms\n",
      "671:\tlearn: 28.0922293\ttotal: 637ms\tremaining: 311ms\n",
      "672:\tlearn: 27.9723760\ttotal: 638ms\tremaining: 310ms\n",
      "673:\tlearn: 27.9055283\ttotal: 639ms\tremaining: 309ms\n",
      "674:\tlearn: 27.8205243\ttotal: 640ms\tremaining: 308ms\n",
      "675:\tlearn: 27.8084834\ttotal: 640ms\tremaining: 307ms\n",
      "676:\tlearn: 27.7891840\ttotal: 641ms\tremaining: 306ms\n",
      "677:\tlearn: 27.6730952\ttotal: 642ms\tremaining: 305ms\n",
      "678:\tlearn: 27.6094279\ttotal: 643ms\tremaining: 304ms\n",
      "679:\tlearn: 27.5709406\ttotal: 644ms\tremaining: 303ms\n",
      "680:\tlearn: 27.5062932\ttotal: 644ms\tremaining: 302ms\n",
      "681:\tlearn: 27.4149358\ttotal: 645ms\tremaining: 301ms\n",
      "682:\tlearn: 27.3480578\ttotal: 646ms\tremaining: 300ms\n",
      "683:\tlearn: 27.2546632\ttotal: 647ms\tremaining: 299ms\n",
      "684:\tlearn: 27.1581242\ttotal: 647ms\tremaining: 298ms\n",
      "685:\tlearn: 27.1291330\ttotal: 648ms\tremaining: 297ms\n",
      "686:\tlearn: 27.0589760\ttotal: 649ms\tremaining: 296ms\n",
      "687:\tlearn: 26.9207571\ttotal: 650ms\tremaining: 295ms\n",
      "688:\tlearn: 26.8046340\ttotal: 651ms\tremaining: 294ms\n",
      "689:\tlearn: 26.7346039\ttotal: 652ms\tremaining: 293ms\n",
      "690:\tlearn: 26.6359238\ttotal: 652ms\tremaining: 292ms\n",
      "691:\tlearn: 26.5458163\ttotal: 653ms\tremaining: 291ms\n",
      "692:\tlearn: 26.5287024\ttotal: 654ms\tremaining: 290ms\n",
      "693:\tlearn: 26.4436127\ttotal: 655ms\tremaining: 289ms\n",
      "694:\tlearn: 26.3860996\ttotal: 656ms\tremaining: 288ms\n",
      "695:\tlearn: 26.3271824\ttotal: 656ms\tremaining: 287ms\n",
      "696:\tlearn: 26.1929180\ttotal: 657ms\tremaining: 286ms\n",
      "697:\tlearn: 26.0989501\ttotal: 658ms\tremaining: 285ms\n",
      "698:\tlearn: 26.0348052\ttotal: 659ms\tremaining: 284ms\n",
      "699:\tlearn: 25.9715846\ttotal: 659ms\tremaining: 283ms\n",
      "700:\tlearn: 25.8624783\ttotal: 660ms\tremaining: 282ms\n",
      "701:\tlearn: 25.8020332\ttotal: 662ms\tremaining: 281ms\n",
      "702:\tlearn: 25.7940141\ttotal: 663ms\tremaining: 280ms\n",
      "703:\tlearn: 25.6937173\ttotal: 663ms\tremaining: 279ms\n",
      "704:\tlearn: 25.6133995\ttotal: 664ms\tremaining: 278ms\n",
      "705:\tlearn: 25.5272559\ttotal: 665ms\tremaining: 277ms\n",
      "706:\tlearn: 25.5087600\ttotal: 666ms\tremaining: 276ms\n",
      "707:\tlearn: 25.3506858\ttotal: 667ms\tremaining: 275ms\n",
      "708:\tlearn: 25.3314352\ttotal: 668ms\tremaining: 274ms\n",
      "709:\tlearn: 25.3263712\ttotal: 669ms\tremaining: 273ms\n",
      "710:\tlearn: 25.2377772\ttotal: 669ms\tremaining: 272ms\n",
      "711:\tlearn: 25.1296003\ttotal: 670ms\tremaining: 271ms\n",
      "712:\tlearn: 25.1138661\ttotal: 671ms\tremaining: 270ms\n",
      "713:\tlearn: 25.0606164\ttotal: 672ms\tremaining: 269ms\n",
      "714:\tlearn: 24.9701122\ttotal: 672ms\tremaining: 268ms\n",
      "715:\tlearn: 24.9266980\ttotal: 673ms\tremaining: 267ms\n",
      "716:\tlearn: 24.8355245\ttotal: 674ms\tremaining: 266ms\n",
      "717:\tlearn: 24.7892595\ttotal: 674ms\tremaining: 265ms\n",
      "718:\tlearn: 24.7784156\ttotal: 675ms\tremaining: 264ms\n",
      "719:\tlearn: 24.7204068\ttotal: 676ms\tremaining: 263ms\n",
      "720:\tlearn: 24.6868946\ttotal: 676ms\tremaining: 262ms\n",
      "721:\tlearn: 24.5835248\ttotal: 677ms\tremaining: 261ms\n",
      "722:\tlearn: 24.4605667\ttotal: 678ms\tremaining: 260ms\n",
      "723:\tlearn: 24.3780491\ttotal: 679ms\tremaining: 259ms\n",
      "724:\tlearn: 24.3695387\ttotal: 679ms\tremaining: 258ms\n",
      "725:\tlearn: 24.2713928\ttotal: 680ms\tremaining: 257ms\n",
      "726:\tlearn: 24.2564573\ttotal: 681ms\tremaining: 256ms\n",
      "727:\tlearn: 24.1259045\ttotal: 681ms\tremaining: 255ms\n",
      "728:\tlearn: 24.0410925\ttotal: 682ms\tremaining: 254ms\n",
      "729:\tlearn: 23.9454740\ttotal: 683ms\tremaining: 253ms\n",
      "730:\tlearn: 23.9293944\ttotal: 684ms\tremaining: 252ms\n",
      "731:\tlearn: 23.8408373\ttotal: 685ms\tremaining: 251ms\n",
      "732:\tlearn: 23.7301307\ttotal: 685ms\tremaining: 250ms\n",
      "733:\tlearn: 23.6751178\ttotal: 686ms\tremaining: 249ms\n",
      "734:\tlearn: 23.5518474\ttotal: 687ms\tremaining: 248ms\n",
      "735:\tlearn: 23.5054838\ttotal: 688ms\tremaining: 247ms\n",
      "736:\tlearn: 23.4781040\ttotal: 689ms\tremaining: 246ms\n",
      "737:\tlearn: 23.3774725\ttotal: 689ms\tremaining: 245ms\n",
      "738:\tlearn: 23.3081022\ttotal: 690ms\tremaining: 244ms\n",
      "739:\tlearn: 23.2915892\ttotal: 691ms\tremaining: 243ms\n",
      "740:\tlearn: 23.2095735\ttotal: 692ms\tremaining: 242ms\n",
      "741:\tlearn: 23.1588315\ttotal: 693ms\tremaining: 241ms\n",
      "742:\tlearn: 23.1197993\ttotal: 693ms\tremaining: 240ms\n",
      "743:\tlearn: 23.0327780\ttotal: 694ms\tremaining: 239ms\n",
      "744:\tlearn: 22.9759480\ttotal: 695ms\tremaining: 238ms\n",
      "745:\tlearn: 22.8751423\ttotal: 696ms\tremaining: 237ms\n",
      "746:\tlearn: 22.7768127\ttotal: 697ms\tremaining: 236ms\n",
      "747:\tlearn: 22.6474970\ttotal: 698ms\tremaining: 235ms\n",
      "748:\tlearn: 22.5780525\ttotal: 698ms\tremaining: 234ms\n",
      "749:\tlearn: 22.5338308\ttotal: 699ms\tremaining: 233ms\n",
      "750:\tlearn: 22.4330276\ttotal: 700ms\tremaining: 232ms\n",
      "751:\tlearn: 22.4193891\ttotal: 701ms\tremaining: 231ms\n",
      "752:\tlearn: 22.4093040\ttotal: 702ms\tremaining: 230ms\n",
      "753:\tlearn: 22.3758979\ttotal: 702ms\tremaining: 229ms\n",
      "754:\tlearn: 22.3560173\ttotal: 703ms\tremaining: 228ms\n",
      "755:\tlearn: 22.3264261\ttotal: 704ms\tremaining: 227ms\n",
      "756:\tlearn: 22.2796605\ttotal: 705ms\tremaining: 226ms\n",
      "757:\tlearn: 22.2253439\ttotal: 705ms\tremaining: 225ms\n",
      "758:\tlearn: 22.1636409\ttotal: 706ms\tremaining: 224ms\n",
      "759:\tlearn: 22.1078491\ttotal: 707ms\tremaining: 223ms\n",
      "760:\tlearn: 22.0275756\ttotal: 708ms\tremaining: 222ms\n",
      "761:\tlearn: 22.0174143\ttotal: 709ms\tremaining: 221ms\n",
      "762:\tlearn: 21.9887391\ttotal: 710ms\tremaining: 220ms\n",
      "763:\tlearn: 21.9746733\ttotal: 711ms\tremaining: 219ms\n",
      "764:\tlearn: 21.9529216\ttotal: 711ms\tremaining: 218ms\n",
      "765:\tlearn: 21.8767644\ttotal: 712ms\tremaining: 218ms\n",
      "766:\tlearn: 21.8668039\ttotal: 713ms\tremaining: 217ms\n",
      "767:\tlearn: 21.8008688\ttotal: 714ms\tremaining: 216ms\n",
      "768:\tlearn: 21.7612208\ttotal: 715ms\tremaining: 215ms\n",
      "769:\tlearn: 21.6977978\ttotal: 716ms\tremaining: 214ms\n",
      "770:\tlearn: 21.6870461\ttotal: 716ms\tremaining: 213ms\n",
      "771:\tlearn: 21.6599780\ttotal: 717ms\tremaining: 212ms\n",
      "772:\tlearn: 21.5522064\ttotal: 718ms\tremaining: 211ms\n",
      "773:\tlearn: 21.5426327\ttotal: 719ms\tremaining: 210ms\n",
      "774:\tlearn: 21.4391089\ttotal: 720ms\tremaining: 209ms\n",
      "775:\tlearn: 21.4042993\ttotal: 721ms\tremaining: 208ms\n",
      "776:\tlearn: 21.3284836\ttotal: 721ms\tremaining: 207ms\n",
      "777:\tlearn: 21.3163774\ttotal: 722ms\tremaining: 206ms\n",
      "778:\tlearn: 21.2708416\ttotal: 723ms\tremaining: 205ms\n",
      "779:\tlearn: 21.2056943\ttotal: 724ms\tremaining: 204ms\n",
      "780:\tlearn: 21.1434774\ttotal: 725ms\tremaining: 203ms\n",
      "781:\tlearn: 21.0672473\ttotal: 726ms\tremaining: 202ms\n",
      "782:\tlearn: 20.9629645\ttotal: 726ms\tremaining: 201ms\n",
      "783:\tlearn: 20.9522537\ttotal: 727ms\tremaining: 200ms\n",
      "784:\tlearn: 20.9252425\ttotal: 728ms\tremaining: 199ms\n",
      "785:\tlearn: 20.8576799\ttotal: 729ms\tremaining: 198ms\n",
      "786:\tlearn: 20.7922970\ttotal: 729ms\tremaining: 197ms\n",
      "787:\tlearn: 20.7802134\ttotal: 730ms\tremaining: 196ms\n",
      "788:\tlearn: 20.7125213\ttotal: 731ms\tremaining: 195ms\n",
      "789:\tlearn: 20.7000005\ttotal: 732ms\tremaining: 194ms\n",
      "790:\tlearn: 20.6366378\ttotal: 732ms\tremaining: 194ms\n",
      "791:\tlearn: 20.6170923\ttotal: 733ms\tremaining: 193ms\n",
      "792:\tlearn: 20.5485950\ttotal: 734ms\tremaining: 192ms\n",
      "793:\tlearn: 20.5212323\ttotal: 734ms\tremaining: 191ms\n",
      "794:\tlearn: 20.5004347\ttotal: 735ms\tremaining: 190ms\n",
      "795:\tlearn: 20.4884649\ttotal: 736ms\tremaining: 189ms\n",
      "796:\tlearn: 20.3727007\ttotal: 737ms\tremaining: 188ms\n",
      "797:\tlearn: 20.2776166\ttotal: 738ms\tremaining: 187ms\n",
      "798:\tlearn: 20.2690965\ttotal: 738ms\tremaining: 186ms\n",
      "799:\tlearn: 20.2166634\ttotal: 739ms\tremaining: 185ms\n",
      "800:\tlearn: 20.1160179\ttotal: 740ms\tremaining: 184ms\n",
      "801:\tlearn: 20.0642268\ttotal: 740ms\tremaining: 183ms\n",
      "802:\tlearn: 20.0323601\ttotal: 741ms\tremaining: 182ms\n",
      "803:\tlearn: 19.9485334\ttotal: 742ms\tremaining: 181ms\n",
      "804:\tlearn: 19.9071725\ttotal: 743ms\tremaining: 180ms\n",
      "805:\tlearn: 19.8943564\ttotal: 743ms\tremaining: 179ms\n",
      "806:\tlearn: 19.7804687\ttotal: 744ms\tremaining: 178ms\n",
      "807:\tlearn: 19.7343406\ttotal: 745ms\tremaining: 177ms\n",
      "808:\tlearn: 19.6963930\ttotal: 745ms\tremaining: 176ms\n",
      "809:\tlearn: 19.6705675\ttotal: 746ms\tremaining: 175ms\n",
      "810:\tlearn: 19.6382933\ttotal: 747ms\tremaining: 174ms\n",
      "811:\tlearn: 19.5889191\ttotal: 748ms\tremaining: 173ms\n",
      "812:\tlearn: 19.5638487\ttotal: 748ms\tremaining: 172ms\n",
      "813:\tlearn: 19.4926424\ttotal: 749ms\tremaining: 171ms\n",
      "814:\tlearn: 19.3961396\ttotal: 750ms\tremaining: 170ms\n",
      "815:\tlearn: 19.3880242\ttotal: 750ms\tremaining: 169ms\n",
      "816:\tlearn: 19.2808372\ttotal: 751ms\tremaining: 168ms\n",
      "817:\tlearn: 19.1712815\ttotal: 752ms\tremaining: 167ms\n",
      "818:\tlearn: 19.0909823\ttotal: 753ms\tremaining: 166ms\n",
      "819:\tlearn: 18.9993504\ttotal: 753ms\tremaining: 165ms\n",
      "820:\tlearn: 18.9773399\ttotal: 754ms\tremaining: 164ms\n",
      "821:\tlearn: 18.8989735\ttotal: 755ms\tremaining: 163ms\n",
      "822:\tlearn: 18.8275176\ttotal: 756ms\tremaining: 162ms\n",
      "823:\tlearn: 18.8092278\ttotal: 756ms\tremaining: 162ms\n",
      "824:\tlearn: 18.7938447\ttotal: 757ms\tremaining: 161ms\n",
      "825:\tlearn: 18.7871267\ttotal: 758ms\tremaining: 160ms\n",
      "826:\tlearn: 18.7299674\ttotal: 758ms\tremaining: 159ms\n",
      "827:\tlearn: 18.6808264\ttotal: 759ms\tremaining: 158ms\n",
      "828:\tlearn: 18.5984875\ttotal: 760ms\tremaining: 157ms\n",
      "829:\tlearn: 18.5170088\ttotal: 761ms\tremaining: 156ms\n",
      "830:\tlearn: 18.4707382\ttotal: 761ms\tremaining: 155ms\n",
      "831:\tlearn: 18.4368619\ttotal: 762ms\tremaining: 154ms\n",
      "832:\tlearn: 18.3683191\ttotal: 763ms\tremaining: 153ms\n",
      "833:\tlearn: 18.3295058\ttotal: 764ms\tremaining: 152ms\n",
      "834:\tlearn: 18.2587263\ttotal: 764ms\tremaining: 151ms\n",
      "835:\tlearn: 18.2103679\ttotal: 765ms\tremaining: 150ms\n",
      "836:\tlearn: 18.1781032\ttotal: 766ms\tremaining: 149ms\n",
      "837:\tlearn: 18.0746921\ttotal: 767ms\tremaining: 148ms\n",
      "838:\tlearn: 18.0131984\ttotal: 767ms\tremaining: 147ms\n",
      "839:\tlearn: 17.9510877\ttotal: 768ms\tremaining: 146ms\n",
      "840:\tlearn: 17.8893536\ttotal: 769ms\tremaining: 145ms\n",
      "841:\tlearn: 17.8813583\ttotal: 769ms\tremaining: 144ms\n",
      "842:\tlearn: 17.8129857\ttotal: 770ms\tremaining: 143ms\n",
      "843:\tlearn: 17.7981202\ttotal: 771ms\tremaining: 143ms\n",
      "844:\tlearn: 17.7414627\ttotal: 772ms\tremaining: 142ms\n",
      "845:\tlearn: 17.7255534\ttotal: 773ms\tremaining: 141ms\n",
      "846:\tlearn: 17.6965545\ttotal: 773ms\tremaining: 140ms\n",
      "847:\tlearn: 17.6499397\ttotal: 774ms\tremaining: 139ms\n",
      "848:\tlearn: 17.6133852\ttotal: 774ms\tremaining: 138ms\n",
      "849:\tlearn: 17.5621620\ttotal: 775ms\tremaining: 137ms\n",
      "850:\tlearn: 17.5064049\ttotal: 776ms\tremaining: 136ms\n",
      "851:\tlearn: 17.4643467\ttotal: 777ms\tremaining: 135ms\n",
      "852:\tlearn: 17.4569544\ttotal: 777ms\tremaining: 134ms\n",
      "853:\tlearn: 17.3731897\ttotal: 778ms\tremaining: 133ms\n",
      "854:\tlearn: 17.3313609\ttotal: 779ms\tremaining: 132ms\n",
      "855:\tlearn: 17.2781582\ttotal: 780ms\tremaining: 131ms\n",
      "856:\tlearn: 17.2283433\ttotal: 781ms\tremaining: 130ms\n",
      "857:\tlearn: 17.1944614\ttotal: 781ms\tremaining: 129ms\n",
      "858:\tlearn: 17.1573393\ttotal: 782ms\tremaining: 128ms\n",
      "859:\tlearn: 17.0975067\ttotal: 783ms\tremaining: 127ms\n",
      "860:\tlearn: 17.0462043\ttotal: 784ms\tremaining: 127ms\n",
      "861:\tlearn: 17.0118805\ttotal: 785ms\tremaining: 126ms\n",
      "862:\tlearn: 17.0045195\ttotal: 785ms\tremaining: 125ms\n",
      "863:\tlearn: 16.9528999\ttotal: 786ms\tremaining: 124ms\n",
      "864:\tlearn: 16.9270632\ttotal: 787ms\tremaining: 123ms\n",
      "865:\tlearn: 16.8915252\ttotal: 788ms\tremaining: 122ms\n",
      "866:\tlearn: 16.7946576\ttotal: 788ms\tremaining: 121ms\n",
      "867:\tlearn: 16.7737222\ttotal: 789ms\tremaining: 120ms\n",
      "868:\tlearn: 16.7192509\ttotal: 790ms\tremaining: 119ms\n",
      "869:\tlearn: 16.7138388\ttotal: 791ms\tremaining: 118ms\n",
      "870:\tlearn: 16.6877768\ttotal: 792ms\tremaining: 117ms\n",
      "871:\tlearn: 16.6265748\ttotal: 792ms\tremaining: 116ms\n",
      "872:\tlearn: 16.5641199\ttotal: 793ms\tremaining: 115ms\n",
      "873:\tlearn: 16.4935111\ttotal: 794ms\tremaining: 114ms\n",
      "874:\tlearn: 16.4250863\ttotal: 795ms\tremaining: 114ms\n",
      "875:\tlearn: 16.3566947\ttotal: 795ms\tremaining: 113ms\n",
      "876:\tlearn: 16.2731185\ttotal: 796ms\tremaining: 112ms\n",
      "877:\tlearn: 16.2207923\ttotal: 797ms\tremaining: 111ms\n",
      "878:\tlearn: 16.2073108\ttotal: 798ms\tremaining: 110ms\n",
      "879:\tlearn: 16.1336576\ttotal: 798ms\tremaining: 109ms\n",
      "880:\tlearn: 16.0994139\ttotal: 799ms\tremaining: 108ms\n",
      "881:\tlearn: 16.0720217\ttotal: 800ms\tremaining: 107ms\n",
      "882:\tlearn: 16.0192163\ttotal: 801ms\tremaining: 106ms\n",
      "883:\tlearn: 16.0021989\ttotal: 801ms\tremaining: 105ms\n",
      "884:\tlearn: 15.9003005\ttotal: 802ms\tremaining: 104ms\n",
      "885:\tlearn: 15.8685768\ttotal: 803ms\tremaining: 103ms\n",
      "886:\tlearn: 15.7757199\ttotal: 804ms\tremaining: 102ms\n",
      "887:\tlearn: 15.7280015\ttotal: 804ms\tremaining: 101ms\n",
      "888:\tlearn: 15.7037867\ttotal: 805ms\tremaining: 101ms\n",
      "889:\tlearn: 15.6876254\ttotal: 806ms\tremaining: 99.6ms\n",
      "890:\tlearn: 15.6002589\ttotal: 807ms\tremaining: 98.7ms\n",
      "891:\tlearn: 15.5663914\ttotal: 808ms\tremaining: 97.8ms\n",
      "892:\tlearn: 15.4827503\ttotal: 809ms\tremaining: 96.9ms\n",
      "893:\tlearn: 15.4422647\ttotal: 810ms\tremaining: 96.1ms\n",
      "894:\tlearn: 15.4230904\ttotal: 811ms\tremaining: 95.1ms\n",
      "895:\tlearn: 15.3907978\ttotal: 812ms\tremaining: 94.2ms\n",
      "896:\tlearn: 15.3022423\ttotal: 812ms\tremaining: 93.3ms\n",
      "897:\tlearn: 15.2770800\ttotal: 813ms\tremaining: 92.4ms\n",
      "898:\tlearn: 15.2708396\ttotal: 814ms\tremaining: 91.4ms\n",
      "899:\tlearn: 15.2217814\ttotal: 815ms\tremaining: 90.5ms\n",
      "900:\tlearn: 15.2150872\ttotal: 816ms\tremaining: 89.6ms\n",
      "901:\tlearn: 15.1938758\ttotal: 816ms\tremaining: 88.7ms\n",
      "902:\tlearn: 15.1087389\ttotal: 817ms\tremaining: 87.8ms\n",
      "903:\tlearn: 15.0270836\ttotal: 818ms\tremaining: 86.8ms\n",
      "904:\tlearn: 14.9579009\ttotal: 818ms\tremaining: 85.9ms\n",
      "905:\tlearn: 14.9321713\ttotal: 819ms\tremaining: 85ms\n",
      "906:\tlearn: 14.9254894\ttotal: 820ms\tremaining: 84.1ms\n",
      "907:\tlearn: 14.8662999\ttotal: 821ms\tremaining: 83.2ms\n",
      "908:\tlearn: 14.7969088\ttotal: 822ms\tremaining: 82.2ms\n",
      "909:\tlearn: 14.7187437\ttotal: 822ms\tremaining: 81.3ms\n",
      "910:\tlearn: 14.6594229\ttotal: 823ms\tremaining: 80.4ms\n",
      "911:\tlearn: 14.6109629\ttotal: 824ms\tremaining: 79.5ms\n",
      "912:\tlearn: 14.5833869\ttotal: 825ms\tremaining: 78.6ms\n",
      "913:\tlearn: 14.5677206\ttotal: 826ms\tremaining: 77.7ms\n",
      "914:\tlearn: 14.5260964\ttotal: 827ms\tremaining: 76.8ms\n",
      "915:\tlearn: 14.4838792\ttotal: 827ms\tremaining: 75.9ms\n",
      "916:\tlearn: 14.4614097\ttotal: 828ms\tremaining: 75ms\n",
      "917:\tlearn: 14.4432212\ttotal: 829ms\tremaining: 74.1ms\n",
      "918:\tlearn: 14.4363977\ttotal: 830ms\tremaining: 73.2ms\n",
      "919:\tlearn: 14.3740822\ttotal: 831ms\tremaining: 72.2ms\n",
      "920:\tlearn: 14.3363459\ttotal: 832ms\tremaining: 71.3ms\n",
      "921:\tlearn: 14.2862425\ttotal: 832ms\tremaining: 70.4ms\n",
      "922:\tlearn: 14.2195191\ttotal: 833ms\tremaining: 69.5ms\n",
      "923:\tlearn: 14.1752422\ttotal: 834ms\tremaining: 68.6ms\n",
      "924:\tlearn: 14.1582897\ttotal: 835ms\tremaining: 67.7ms\n",
      "925:\tlearn: 14.0892518\ttotal: 835ms\tremaining: 66.8ms\n",
      "926:\tlearn: 14.0163904\ttotal: 836ms\tremaining: 65.8ms\n",
      "927:\tlearn: 13.9674906\ttotal: 837ms\tremaining: 64.9ms\n",
      "928:\tlearn: 13.9421041\ttotal: 838ms\tremaining: 64ms\n",
      "929:\tlearn: 13.9264108\ttotal: 838ms\tremaining: 63.1ms\n",
      "930:\tlearn: 13.8953443\ttotal: 839ms\tremaining: 62.2ms\n",
      "931:\tlearn: 13.8514821\ttotal: 840ms\tremaining: 61.3ms\n",
      "932:\tlearn: 13.8317730\ttotal: 841ms\tremaining: 60.4ms\n",
      "933:\tlearn: 13.7980615\ttotal: 841ms\tremaining: 59.5ms\n",
      "934:\tlearn: 13.7252551\ttotal: 842ms\tremaining: 58.5ms\n",
      "935:\tlearn: 13.6867475\ttotal: 843ms\tremaining: 57.6ms\n",
      "936:\tlearn: 13.6663164\ttotal: 843ms\tremaining: 56.7ms\n",
      "937:\tlearn: 13.6108173\ttotal: 844ms\tremaining: 55.8ms\n",
      "938:\tlearn: 13.5827380\ttotal: 845ms\tremaining: 54.9ms\n",
      "939:\tlearn: 13.5211246\ttotal: 846ms\tremaining: 54ms\n",
      "940:\tlearn: 13.4752089\ttotal: 847ms\tremaining: 53.1ms\n",
      "941:\tlearn: 13.4283115\ttotal: 847ms\tremaining: 52.2ms\n",
      "942:\tlearn: 13.3912327\ttotal: 848ms\tremaining: 51.3ms\n",
      "943:\tlearn: 13.3593766\ttotal: 849ms\tremaining: 50.3ms\n",
      "944:\tlearn: 13.3015250\ttotal: 849ms\tremaining: 49.4ms\n",
      "945:\tlearn: 13.2587480\ttotal: 850ms\tremaining: 48.5ms\n",
      "946:\tlearn: 13.1949436\ttotal: 851ms\tremaining: 47.6ms\n",
      "947:\tlearn: 13.1552441\ttotal: 852ms\tremaining: 46.7ms\n",
      "948:\tlearn: 13.0700947\ttotal: 852ms\tremaining: 45.8ms\n",
      "949:\tlearn: 13.0460884\ttotal: 853ms\tremaining: 44.9ms\n",
      "950:\tlearn: 13.0315972\ttotal: 854ms\tremaining: 44ms\n",
      "951:\tlearn: 12.9964111\ttotal: 855ms\tremaining: 43.1ms\n",
      "952:\tlearn: 12.9757139\ttotal: 856ms\tremaining: 42.2ms\n",
      "953:\tlearn: 12.9120533\ttotal: 857ms\tremaining: 41.3ms\n",
      "954:\tlearn: 12.8776679\ttotal: 858ms\tremaining: 40.4ms\n",
      "955:\tlearn: 12.8703243\ttotal: 859ms\tremaining: 39.5ms\n",
      "956:\tlearn: 12.8058615\ttotal: 859ms\tremaining: 38.6ms\n",
      "957:\tlearn: 12.7637381\ttotal: 860ms\tremaining: 37.7ms\n",
      "958:\tlearn: 12.7517063\ttotal: 861ms\tremaining: 36.8ms\n",
      "959:\tlearn: 12.7382108\ttotal: 862ms\tremaining: 35.9ms\n",
      "960:\tlearn: 12.6881713\ttotal: 863ms\tremaining: 35ms\n",
      "961:\tlearn: 12.6728317\ttotal: 863ms\tremaining: 34.1ms\n",
      "962:\tlearn: 12.6386609\ttotal: 864ms\tremaining: 33.2ms\n",
      "963:\tlearn: 12.5837642\ttotal: 865ms\tremaining: 32.3ms\n",
      "964:\tlearn: 12.5689789\ttotal: 866ms\tremaining: 31.4ms\n",
      "965:\tlearn: 12.5362136\ttotal: 867ms\tremaining: 30.5ms\n",
      "966:\tlearn: 12.5186020\ttotal: 867ms\tremaining: 29.6ms\n",
      "967:\tlearn: 12.4787889\ttotal: 868ms\tremaining: 28.7ms\n",
      "968:\tlearn: 12.4463866\ttotal: 869ms\tremaining: 27.8ms\n",
      "969:\tlearn: 12.3919484\ttotal: 870ms\tremaining: 26.9ms\n",
      "970:\tlearn: 12.3583173\ttotal: 871ms\tremaining: 26ms\n",
      "971:\tlearn: 12.3430204\ttotal: 872ms\tremaining: 25.1ms\n",
      "972:\tlearn: 12.3036135\ttotal: 872ms\tremaining: 24.2ms\n",
      "973:\tlearn: 12.2785886\ttotal: 873ms\tremaining: 23.3ms\n",
      "974:\tlearn: 12.2424148\ttotal: 874ms\tremaining: 22.4ms\n",
      "975:\tlearn: 12.2287225\ttotal: 875ms\tremaining: 21.5ms\n",
      "976:\tlearn: 12.1894056\ttotal: 876ms\tremaining: 20.6ms\n",
      "977:\tlearn: 12.1399699\ttotal: 877ms\tremaining: 19.7ms\n",
      "978:\tlearn: 12.1165698\ttotal: 878ms\tremaining: 18.8ms\n",
      "979:\tlearn: 12.1084930\ttotal: 879ms\tremaining: 17.9ms\n",
      "980:\tlearn: 12.1041455\ttotal: 879ms\tremaining: 17ms\n",
      "981:\tlearn: 12.0749440\ttotal: 880ms\tremaining: 16.1ms\n",
      "982:\tlearn: 12.0676323\ttotal: 881ms\tremaining: 15.2ms\n",
      "983:\tlearn: 12.0253491\ttotal: 882ms\tremaining: 14.3ms\n",
      "984:\tlearn: 11.9725269\ttotal: 883ms\tremaining: 13.4ms\n",
      "985:\tlearn: 11.9344239\ttotal: 884ms\tremaining: 12.5ms\n",
      "986:\tlearn: 11.8870660\ttotal: 885ms\tremaining: 11.7ms\n",
      "987:\tlearn: 11.8411099\ttotal: 885ms\tremaining: 10.8ms\n",
      "988:\tlearn: 11.7973602\ttotal: 886ms\tremaining: 9.86ms\n",
      "989:\tlearn: 11.7514376\ttotal: 887ms\tremaining: 8.96ms\n",
      "990:\tlearn: 11.7232746\ttotal: 888ms\tremaining: 8.06ms\n",
      "991:\tlearn: 11.6852796\ttotal: 889ms\tremaining: 7.17ms\n",
      "992:\tlearn: 11.6463794\ttotal: 890ms\tremaining: 6.27ms\n",
      "993:\tlearn: 11.6106308\ttotal: 891ms\tremaining: 5.38ms\n",
      "994:\tlearn: 11.5731961\ttotal: 891ms\tremaining: 4.48ms\n",
      "995:\tlearn: 11.5417359\ttotal: 892ms\tremaining: 3.58ms\n",
      "996:\tlearn: 11.5167117\ttotal: 893ms\tremaining: 2.69ms\n",
      "997:\tlearn: 11.4745232\ttotal: 894ms\tremaining: 1.79ms\n",
      "998:\tlearn: 11.4604481\ttotal: 895ms\tremaining: 895us\n",
      "999:\tlearn: 11.4510502\ttotal: 896ms\tremaining: 0us\n"
     ]
    }
   ],
   "source": [
    "catb_model = CatBoostRegressor().fit(X_train,y_train)"
   ]
  },
  {
   "cell_type": "code",
   "execution_count": 29,
   "id": "f403d7e7-2c9c-4a5e-8c26-c77c118486a6",
   "metadata": {},
   "outputs": [],
   "source": [
    "y_pred = catb_model.predict(X_test)"
   ]
  },
  {
   "cell_type": "code",
   "execution_count": 30,
   "id": "854d1d62-c8da-4ee5-a2bb-fdb8236c3d9b",
   "metadata": {},
   "outputs": [
    {
     "data": {
      "text/plain": [
       "351.194631344607"
      ]
     },
     "execution_count": 30,
     "metadata": {},
     "output_type": "execute_result"
    }
   ],
   "source": [
    "np.sqrt(mean_squared_error(y_test,y_pred))"
   ]
  },
  {
   "cell_type": "markdown",
   "id": "46f40a18-2567-409e-a260-dd82448cc858",
   "metadata": {},
   "source": [
    "### Model&Tuning"
   ]
  },
  {
   "cell_type": "code",
   "execution_count": 31,
   "id": "1cd87726-cf33-4f86-8750-fdf6b552b179",
   "metadata": {},
   "outputs": [],
   "source": [
    "catb_params = {\"iterations\": [200,500,1000],\n",
    "              \"learning_rate\": [0.01,0.1],\n",
    "              \"depth\": [3,6,8]} #iterations agac sayisidir. CatBoost en uzun surecek olan algoritmadir, bu yuzden kisisel pc'nde degerleri kisa tut."
   ]
  },
  {
   "cell_type": "code",
   "execution_count": 32,
   "id": "4faa1432-5554-42ee-b1bb-6e544525d7f1",
   "metadata": {},
   "outputs": [],
   "source": [
    "catb_model = CatBoostRegressor()"
   ]
  },
  {
   "cell_type": "code",
   "execution_count": 33,
   "id": "79f6f43e-4757-4db8-b656-7bfc6bc38133",
   "metadata": {
    "collapsed": true,
    "jupyter": {
     "outputs_hidden": true
    },
    "tags": []
   },
   "outputs": [
    {
     "name": "stdout",
     "output_type": "stream",
     "text": [
      "Fitting 5 folds for each of 18 candidates, totalling 90 fits\n",
      "0:\tlearn: 425.7900818\ttotal: 458us\tremaining: 91.3ms\n",
      "1:\tlearn: 404.8723520\ttotal: 888us\tremaining: 88ms\n",
      "2:\tlearn: 387.4057666\ttotal: 1.24ms\tremaining: 81.2ms\n",
      "3:\tlearn: 372.2801584\ttotal: 1.59ms\tremaining: 77.9ms\n",
      "4:\tlearn: 358.9204229\ttotal: 1.92ms\tremaining: 74.7ms\n",
      "5:\tlearn: 347.0083933\ttotal: 2.24ms\tremaining: 72.4ms\n",
      "6:\tlearn: 336.0130818\ttotal: 2.53ms\tremaining: 69.7ms\n",
      "7:\tlearn: 324.3923300\ttotal: 2.79ms\tremaining: 67ms\n",
      "8:\tlearn: 314.8690957\ttotal: 3.16ms\tremaining: 67ms\n",
      "9:\tlearn: 308.5075563\ttotal: 3.5ms\tremaining: 66.5ms\n",
      "10:\tlearn: 298.8587285\ttotal: 3.79ms\tremaining: 65.1ms\n",
      "11:\tlearn: 294.7655438\ttotal: 4.15ms\tremaining: 65ms\n",
      "12:\tlearn: 288.0697862\ttotal: 4.48ms\tremaining: 64.5ms\n",
      "13:\tlearn: 282.6697154\ttotal: 4.78ms\tremaining: 63.4ms\n",
      "14:\tlearn: 277.6121667\ttotal: 5.06ms\tremaining: 62.4ms\n",
      "15:\tlearn: 273.4383979\ttotal: 5.42ms\tremaining: 62.3ms\n",
      "16:\tlearn: 269.1556201\ttotal: 5.8ms\tremaining: 62.4ms\n",
      "17:\tlearn: 264.8098704\ttotal: 6.13ms\tremaining: 62ms\n",
      "18:\tlearn: 261.6700768\ttotal: 6.47ms\tremaining: 61.6ms\n",
      "19:\tlearn: 257.3961290\ttotal: 6.81ms\tremaining: 61.3ms\n",
      "20:\tlearn: 252.2691509\ttotal: 7.13ms\tremaining: 60.8ms\n",
      "21:\tlearn: 249.0686482\ttotal: 7.42ms\tremaining: 60.1ms\n",
      "22:\tlearn: 244.1881041\ttotal: 7.73ms\tremaining: 59.5ms\n",
      "23:\tlearn: 242.1696687\ttotal: 8.01ms\tremaining: 58.8ms\n",
      "24:\tlearn: 239.2131476\ttotal: 8.29ms\tremaining: 58ms\n",
      "25:\tlearn: 236.6883901\ttotal: 8.64ms\tremaining: 57.8ms\n",
      "26:\tlearn: 234.5295613\ttotal: 9.07ms\tremaining: 58.1ms\n",
      "27:\tlearn: 231.7788834\ttotal: 9.48ms\tremaining: 58.2ms\n",
      "28:\tlearn: 228.8020330\ttotal: 9.79ms\tremaining: 57.7ms\n",
      "29:\tlearn: 226.8420565\ttotal: 10.1ms\tremaining: 57.5ms\n",
      "30:\tlearn: 224.0686558\ttotal: 10.5ms\tremaining: 57.5ms\n",
      "31:\tlearn: 222.6644699\ttotal: 10.9ms\tremaining: 57.4ms\n",
      "32:\tlearn: 221.6889573\ttotal: 11.3ms\tremaining: 57ms\n",
      "33:\tlearn: 220.5171653\ttotal: 11.5ms\tremaining: 56.4ms\n",
      "34:\tlearn: 217.7686033\ttotal: 11.8ms\tremaining: 55.8ms\n",
      "35:\tlearn: 214.8462789\ttotal: 12.2ms\tremaining: 55.5ms\n",
      "36:\tlearn: 214.4799251\ttotal: 12.5ms\tremaining: 55.2ms\n",
      "37:\tlearn: 212.3480429\ttotal: 12.8ms\tremaining: 54.6ms\n",
      "38:\tlearn: 210.0040644\ttotal: 13.2ms\tremaining: 54.3ms\n",
      "39:\tlearn: 208.3086913\ttotal: 13.4ms\tremaining: 53.8ms\n",
      "40:\tlearn: 207.5469119\ttotal: 13.8ms\tremaining: 53.5ms\n",
      "41:\tlearn: 205.9351113\ttotal: 14.1ms\tremaining: 53.1ms\n",
      "42:\tlearn: 205.3580824\ttotal: 14.4ms\tremaining: 52.7ms\n",
      "43:\tlearn: 204.6204266\ttotal: 14.7ms\tremaining: 52.1ms\n",
      "44:\tlearn: 202.5023220\ttotal: 15ms\tremaining: 51.7ms\n",
      "45:\tlearn: 201.4347853\ttotal: 15.3ms\tremaining: 51.3ms\n",
      "46:\tlearn: 200.8752553\ttotal: 15.7ms\tremaining: 51.2ms\n",
      "47:\tlearn: 200.4047344\ttotal: 16.2ms\tremaining: 51.4ms\n",
      "48:\tlearn: 197.5433004\ttotal: 16.7ms\tremaining: 51.3ms\n",
      "49:\tlearn: 194.6943292\ttotal: 17ms\tremaining: 51ms\n",
      "50:\tlearn: 194.3011982\ttotal: 17.3ms\tremaining: 50.7ms\n",
      "51:\tlearn: 193.4011843\ttotal: 17.7ms\tremaining: 50.4ms\n",
      "52:\tlearn: 193.0109753\ttotal: 18ms\tremaining: 50.1ms\n",
      "53:\tlearn: 192.6071142\ttotal: 18.3ms\tremaining: 49.6ms\n",
      "54:\tlearn: 191.9666153\ttotal: 18.7ms\tremaining: 49.3ms\n",
      "55:\tlearn: 191.5789727\ttotal: 19.2ms\tremaining: 49.3ms\n",
      "56:\tlearn: 190.7186284\ttotal: 19.6ms\tremaining: 49.3ms\n",
      "57:\tlearn: 190.4543087\ttotal: 20ms\tremaining: 49.1ms\n",
      "58:\tlearn: 190.1336317\ttotal: 20.4ms\tremaining: 48.7ms\n",
      "59:\tlearn: 188.2286484\ttotal: 20.6ms\tremaining: 48.1ms\n",
      "60:\tlearn: 187.7652417\ttotal: 20.9ms\tremaining: 47.6ms\n",
      "61:\tlearn: 187.4227950\ttotal: 21.2ms\tremaining: 47.1ms\n",
      "62:\tlearn: 186.9289182\ttotal: 21.6ms\tremaining: 47.1ms\n",
      "63:\tlearn: 185.2993487\ttotal: 22ms\tremaining: 46.7ms\n",
      "64:\tlearn: 185.0349598\ttotal: 22.3ms\tremaining: 46.3ms\n",
      "65:\tlearn: 183.9773430\ttotal: 22.6ms\tremaining: 45.9ms\n",
      "66:\tlearn: 183.4463166\ttotal: 22.9ms\tremaining: 45.5ms\n",
      "67:\tlearn: 181.6627740\ttotal: 23.2ms\tremaining: 45.1ms\n",
      "68:\tlearn: 179.8785055\ttotal: 23.6ms\tremaining: 44.8ms\n",
      "69:\tlearn: 179.6737527\ttotal: 24ms\tremaining: 44.6ms\n",
      "70:\tlearn: 177.0830981\ttotal: 24.4ms\tremaining: 44.4ms\n",
      "71:\tlearn: 176.5917790\ttotal: 24.7ms\tremaining: 43.9ms\n",
      "72:\tlearn: 176.1240502\ttotal: 25ms\tremaining: 43.5ms\n",
      "73:\tlearn: 174.4828953\ttotal: 25.3ms\tremaining: 43.1ms\n",
      "74:\tlearn: 173.4220482\ttotal: 25.6ms\tremaining: 42.6ms\n",
      "75:\tlearn: 171.9903405\ttotal: 25.9ms\tremaining: 42.2ms\n",
      "76:\tlearn: 171.5803116\ttotal: 26.2ms\tremaining: 41.9ms\n",
      "77:\tlearn: 170.1411594\ttotal: 26.6ms\tremaining: 41.6ms\n",
      "78:\tlearn: 167.9868133\ttotal: 26.9ms\tremaining: 41.3ms\n",
      "79:\tlearn: 166.5304475\ttotal: 27.3ms\tremaining: 40.9ms\n",
      "80:\tlearn: 166.1741622\ttotal: 27.6ms\tremaining: 40.6ms\n",
      "81:\tlearn: 165.8411762\ttotal: 27.9ms\tremaining: 40.1ms\n",
      "82:\tlearn: 165.1041583\ttotal: 28.2ms\tremaining: 39.7ms\n",
      "83:\tlearn: 163.5641543\ttotal: 28.5ms\tremaining: 39.3ms\n",
      "84:\tlearn: 163.2003311\ttotal: 28.8ms\tremaining: 38.9ms\n",
      "85:\tlearn: 161.1781702\ttotal: 29ms\tremaining: 38.5ms\n",
      "86:\tlearn: 160.8727658\ttotal: 29.3ms\tremaining: 38.1ms\n",
      "87:\tlearn: 159.7954077\ttotal: 29.7ms\tremaining: 37.8ms\n",
      "88:\tlearn: 158.8759132\ttotal: 30.1ms\tremaining: 37.6ms\n",
      "89:\tlearn: 158.4831323\ttotal: 30.4ms\tremaining: 37.1ms\n",
      "90:\tlearn: 157.4808127\ttotal: 30.7ms\tremaining: 36.7ms\n",
      "91:\tlearn: 157.1703230\ttotal: 31ms\tremaining: 36.3ms\n",
      "92:\tlearn: 155.3184755\ttotal: 31.3ms\tremaining: 36ms\n",
      "93:\tlearn: 154.3988879\ttotal: 31.5ms\tremaining: 35.6ms\n",
      "94:\tlearn: 153.4591935\ttotal: 31.8ms\tremaining: 35.2ms\n",
      "95:\tlearn: 153.1206893\ttotal: 32.2ms\tremaining: 34.9ms\n",
      "96:\tlearn: 152.7897351\ttotal: 32.6ms\tremaining: 34.6ms\n",
      "97:\tlearn: 150.9293164\ttotal: 32.9ms\tremaining: 34.2ms\n",
      "98:\tlearn: 149.7127171\ttotal: 33.2ms\tremaining: 33.9ms\n",
      "99:\tlearn: 149.5089324\ttotal: 33.5ms\tremaining: 33.5ms\n",
      "100:\tlearn: 149.3156312\ttotal: 33.9ms\tremaining: 33.2ms\n",
      "101:\tlearn: 147.7226718\ttotal: 34.2ms\tremaining: 32.9ms\n",
      "102:\tlearn: 146.7692282\ttotal: 34.5ms\tremaining: 32.5ms\n",
      "103:\tlearn: 145.9084983\ttotal: 34.9ms\tremaining: 32.2ms\n",
      "104:\tlearn: 144.8780979\ttotal: 35.2ms\tremaining: 31.9ms\n",
      "105:\tlearn: 143.8090268\ttotal: 35.7ms\tremaining: 31.7ms\n",
      "106:\tlearn: 143.1272551\ttotal: 36ms\tremaining: 31.3ms\n",
      "107:\tlearn: 142.4863018\ttotal: 36.3ms\tremaining: 30.9ms\n",
      "108:\tlearn: 141.4861279\ttotal: 36.6ms\tremaining: 30.5ms\n",
      "109:\tlearn: 140.8689530\ttotal: 36.9ms\tremaining: 30.2ms\n",
      "110:\tlearn: 140.4009570\ttotal: 37.2ms\tremaining: 29.8ms\n",
      "111:\tlearn: 140.0344439\ttotal: 37.5ms\tremaining: 29.5ms\n",
      "112:\tlearn: 139.4290096\ttotal: 37.8ms\tremaining: 29.1ms\n",
      "113:\tlearn: 139.2008874\ttotal: 38.1ms\tremaining: 28.8ms\n",
      "114:\tlearn: 138.6000188\ttotal: 38.5ms\tremaining: 28.4ms\n",
      "115:\tlearn: 138.3962706\ttotal: 38.8ms\tremaining: 28.1ms\n",
      "116:\tlearn: 138.1737256\ttotal: 39.1ms\tremaining: 27.8ms\n",
      "117:\tlearn: 137.6342361\ttotal: 39.5ms\tremaining: 27.4ms\n",
      "118:\tlearn: 136.7119826\ttotal: 39.8ms\tremaining: 27.1ms\n",
      "119:\tlearn: 135.3057402\ttotal: 40.1ms\tremaining: 26.7ms\n",
      "120:\tlearn: 134.4797815\ttotal: 40.3ms\tremaining: 26.3ms\n",
      "121:\tlearn: 133.0774331\ttotal: 40.6ms\tremaining: 26ms\n",
      "122:\tlearn: 131.8739238\ttotal: 40.9ms\tremaining: 25.6ms\n",
      "123:\tlearn: 131.3203837\ttotal: 41.3ms\tremaining: 25.3ms\n",
      "124:\tlearn: 130.8294604\ttotal: 41.7ms\tremaining: 25ms\n",
      "125:\tlearn: 130.6107905\ttotal: 42ms\tremaining: 24.7ms\n",
      "126:\tlearn: 130.1614924\ttotal: 42.3ms\tremaining: 24.3ms\n",
      "127:\tlearn: 129.3166972\ttotal: 42.6ms\tremaining: 24ms\n",
      "128:\tlearn: 129.1038672\ttotal: 42.9ms\tremaining: 23.6ms\n",
      "129:\tlearn: 128.9594874\ttotal: 43.3ms\tremaining: 23.3ms\n",
      "130:\tlearn: 128.1849638\ttotal: 43.6ms\tremaining: 22.9ms\n",
      "131:\tlearn: 128.0307033\ttotal: 43.9ms\tremaining: 22.6ms\n",
      "132:\tlearn: 127.3373882\ttotal: 44.1ms\tremaining: 22.2ms\n",
      "133:\tlearn: 126.2856989\ttotal: 44.5ms\tremaining: 21.9ms\n",
      "134:\tlearn: 126.1379832\ttotal: 45.1ms\tremaining: 21.7ms\n",
      "135:\tlearn: 126.0180019\ttotal: 45.4ms\tremaining: 21.4ms\n",
      "136:\tlearn: 125.8843963\ttotal: 45.8ms\tremaining: 21ms\n",
      "137:\tlearn: 125.7576333\ttotal: 46.1ms\tremaining: 20.7ms\n",
      "138:\tlearn: 125.4794581\ttotal: 46.5ms\tremaining: 20.4ms\n",
      "139:\tlearn: 124.7920270\ttotal: 46.8ms\tremaining: 20.1ms\n",
      "140:\tlearn: 124.6530278\ttotal: 47.1ms\tremaining: 19.7ms\n",
      "141:\tlearn: 123.4539010\ttotal: 47.5ms\tremaining: 19.4ms\n",
      "142:\tlearn: 122.8980001\ttotal: 47.8ms\tremaining: 19ms\n",
      "143:\tlearn: 122.0911177\ttotal: 48ms\tremaining: 18.7ms\n",
      "144:\tlearn: 121.1209154\ttotal: 48.3ms\tremaining: 18.3ms\n",
      "145:\tlearn: 120.1613553\ttotal: 48.6ms\tremaining: 18ms\n",
      "146:\tlearn: 119.1894727\ttotal: 48.9ms\tremaining: 17.6ms\n",
      "147:\tlearn: 118.0325732\ttotal: 49.1ms\tremaining: 17.3ms\n",
      "148:\tlearn: 117.9138240\ttotal: 49.5ms\tremaining: 16.9ms\n",
      "149:\tlearn: 117.3831462\ttotal: 49.8ms\tremaining: 16.6ms\n",
      "150:\tlearn: 116.8475244\ttotal: 50.2ms\tremaining: 16.3ms\n",
      "151:\tlearn: 116.3821954\ttotal: 50.7ms\tremaining: 16ms\n",
      "152:\tlearn: 115.5293176\ttotal: 51.1ms\tremaining: 15.7ms\n",
      "153:\tlearn: 115.0975175\ttotal: 51.4ms\tremaining: 15.4ms\n",
      "154:\tlearn: 114.0649594\ttotal: 51.8ms\tremaining: 15ms\n",
      "155:\tlearn: 113.2562326\ttotal: 52.2ms\tremaining: 14.7ms\n",
      "156:\tlearn: 112.7557871\ttotal: 52.5ms\tremaining: 14.4ms\n",
      "157:\tlearn: 112.5657565\ttotal: 52.8ms\tremaining: 14ms\n",
      "158:\tlearn: 112.3541525\ttotal: 53.1ms\tremaining: 13.7ms\n",
      "159:\tlearn: 111.8527982\ttotal: 53.6ms\tremaining: 13.4ms\n",
      "160:\tlearn: 111.1619644\ttotal: 54.1ms\tremaining: 13.1ms\n",
      "161:\tlearn: 110.3588257\ttotal: 54.4ms\tremaining: 12.8ms\n",
      "162:\tlearn: 109.6664293\ttotal: 54.8ms\tremaining: 12.4ms\n",
      "163:\tlearn: 109.5577303\ttotal: 55.1ms\tremaining: 12.1ms\n",
      "164:\tlearn: 109.0570285\ttotal: 55.4ms\tremaining: 11.7ms\n",
      "165:\tlearn: 108.7601467\ttotal: 55.7ms\tremaining: 11.4ms\n",
      "166:\tlearn: 108.0448620\ttotal: 56ms\tremaining: 11.1ms\n",
      "167:\tlearn: 107.5593372\ttotal: 56.3ms\tremaining: 10.7ms\n",
      "168:\tlearn: 106.3862999\ttotal: 56.7ms\tremaining: 10.4ms\n",
      "169:\tlearn: 106.2180807\ttotal: 57.1ms\tremaining: 10.1ms\n",
      "170:\tlearn: 106.0695603\ttotal: 57.4ms\tremaining: 9.73ms\n",
      "171:\tlearn: 105.6940213\ttotal: 57.6ms\tremaining: 9.38ms\n",
      "172:\tlearn: 104.7598987\ttotal: 57.9ms\tremaining: 9.04ms\n",
      "173:\tlearn: 104.6589992\ttotal: 58.2ms\tremaining: 8.7ms\n",
      "174:\tlearn: 103.7203657\ttotal: 58.5ms\tremaining: 8.36ms\n",
      "175:\tlearn: 103.2660987\ttotal: 58.7ms\tremaining: 8.01ms\n",
      "176:\tlearn: 103.0926213\ttotal: 59ms\tremaining: 7.67ms\n",
      "177:\tlearn: 102.6925209\ttotal: 59.3ms\tremaining: 7.33ms\n",
      "178:\tlearn: 102.1655154\ttotal: 59.7ms\tremaining: 7ms\n",
      "179:\tlearn: 101.8273108\ttotal: 60ms\tremaining: 6.67ms\n",
      "180:\tlearn: 101.7264515\ttotal: 60.3ms\tremaining: 6.33ms\n",
      "181:\tlearn: 101.1102333\ttotal: 60.7ms\tremaining: 6.01ms\n",
      "182:\tlearn: 100.7880364\ttotal: 61.1ms\tremaining: 5.67ms\n",
      "183:\tlearn: 100.6673014\ttotal: 61.4ms\tremaining: 5.34ms\n",
      "184:\tlearn: 100.0153055\ttotal: 61.8ms\tremaining: 5.01ms\n",
      "185:\tlearn: 99.7667281\ttotal: 62.2ms\tremaining: 4.68ms\n",
      "186:\tlearn: 99.1860593\ttotal: 62.5ms\tremaining: 4.34ms\n",
      "187:\tlearn: 99.0408133\ttotal: 62.8ms\tremaining: 4.01ms\n",
      "188:\tlearn: 98.9030718\ttotal: 63.2ms\tremaining: 3.68ms\n",
      "189:\tlearn: 97.4513860\ttotal: 63.5ms\tremaining: 3.34ms\n",
      "190:\tlearn: 97.3322959\ttotal: 63.8ms\tremaining: 3.01ms\n",
      "191:\tlearn: 97.1950848\ttotal: 64.1ms\tremaining: 2.67ms\n",
      "192:\tlearn: 96.6789532\ttotal: 64.5ms\tremaining: 2.34ms\n",
      "193:\tlearn: 96.5506179\ttotal: 64.8ms\tremaining: 2ms\n",
      "194:\tlearn: 95.6635039\ttotal: 65.2ms\tremaining: 1.67ms\n",
      "195:\tlearn: 94.8850777\ttotal: 65.5ms\tremaining: 1.34ms\n",
      "196:\tlearn: 94.1624589\ttotal: 65.8ms\tremaining: 1ms\n",
      "197:\tlearn: 93.8220662\ttotal: 66.1ms\tremaining: 667us\n",
      "198:\tlearn: 93.7300351\ttotal: 66.4ms\tremaining: 333us\n",
      "199:\tlearn: 93.3339522\ttotal: 66.7ms\tremaining: 0us\n"
     ]
    }
   ],
   "source": [
    "catb_cv_model = GridSearchCV(catb_model,catb_params, cv=5, verbose=2, n_jobs=-1).fit(X_train,y_train)"
   ]
  },
  {
   "cell_type": "code",
   "execution_count": 34,
   "id": "f568f6a5-2dd5-4002-82ec-93f461284c9d",
   "metadata": {},
   "outputs": [
    {
     "data": {
      "text/plain": [
       "{'depth': 3, 'iterations': 200, 'learning_rate': 0.1}"
      ]
     },
     "execution_count": 34,
     "metadata": {},
     "output_type": "execute_result"
    }
   ],
   "source": [
    "catb_cv_model.best_params_"
   ]
  },
  {
   "cell_type": "code",
   "execution_count": 35,
   "id": "9dd2fc6c-d8de-4ed9-ad0b-8d45d2ccd5f7",
   "metadata": {
    "collapsed": true,
    "jupyter": {
     "outputs_hidden": true
    },
    "tags": []
   },
   "outputs": [
    {
     "name": "stdout",
     "output_type": "stream",
     "text": [
      "0:\tlearn: 425.7900818\ttotal: 409us\tremaining: 81.5ms\n",
      "1:\tlearn: 404.8723520\ttotal: 855us\tremaining: 84.7ms\n",
      "2:\tlearn: 387.4057666\ttotal: 1.26ms\tremaining: 82.5ms\n",
      "3:\tlearn: 372.2801584\ttotal: 1.62ms\tremaining: 79.2ms\n",
      "4:\tlearn: 358.9204229\ttotal: 1.99ms\tremaining: 77.5ms\n",
      "5:\tlearn: 347.0083933\ttotal: 2.36ms\tremaining: 76.3ms\n",
      "6:\tlearn: 336.0130818\ttotal: 2.69ms\tremaining: 74.1ms\n",
      "7:\tlearn: 324.3923300\ttotal: 2.99ms\tremaining: 71.8ms\n",
      "8:\tlearn: 314.8690957\ttotal: 3.29ms\tremaining: 69.9ms\n",
      "9:\tlearn: 308.5075563\ttotal: 3.6ms\tremaining: 68.3ms\n",
      "10:\tlearn: 298.8587285\ttotal: 3.89ms\tremaining: 66.9ms\n",
      "11:\tlearn: 294.7655438\ttotal: 4.18ms\tremaining: 65.5ms\n",
      "12:\tlearn: 288.0697862\ttotal: 4.5ms\tremaining: 64.8ms\n",
      "13:\tlearn: 282.6697154\ttotal: 4.79ms\tremaining: 63.6ms\n",
      "14:\tlearn: 277.6121667\ttotal: 5.09ms\tremaining: 62.7ms\n",
      "15:\tlearn: 273.4383979\ttotal: 5.35ms\tremaining: 61.6ms\n",
      "16:\tlearn: 269.1556201\ttotal: 5.65ms\tremaining: 60.8ms\n",
      "17:\tlearn: 264.8098704\ttotal: 5.93ms\tremaining: 60ms\n",
      "18:\tlearn: 261.6700768\ttotal: 6.22ms\tremaining: 59.3ms\n",
      "19:\tlearn: 257.3961290\ttotal: 6.53ms\tremaining: 58.8ms\n",
      "20:\tlearn: 252.2691509\ttotal: 6.91ms\tremaining: 58.9ms\n",
      "21:\tlearn: 249.0686482\ttotal: 7.21ms\tremaining: 58.3ms\n",
      "22:\tlearn: 244.1881041\ttotal: 7.49ms\tremaining: 57.6ms\n",
      "23:\tlearn: 242.1696687\ttotal: 7.75ms\tremaining: 56.9ms\n",
      "24:\tlearn: 239.2131476\ttotal: 8.03ms\tremaining: 56.2ms\n",
      "25:\tlearn: 236.6883901\ttotal: 8.28ms\tremaining: 55.4ms\n",
      "26:\tlearn: 234.5295613\ttotal: 8.6ms\tremaining: 55.1ms\n",
      "27:\tlearn: 231.7788834\ttotal: 8.87ms\tremaining: 54.5ms\n",
      "28:\tlearn: 228.8020330\ttotal: 9.12ms\tremaining: 53.8ms\n",
      "29:\tlearn: 226.8420565\ttotal: 9.39ms\tremaining: 53.2ms\n",
      "30:\tlearn: 224.0686558\ttotal: 9.65ms\tremaining: 52.6ms\n",
      "31:\tlearn: 222.6644699\ttotal: 9.91ms\tremaining: 52ms\n",
      "32:\tlearn: 221.6889573\ttotal: 10.2ms\tremaining: 51.5ms\n",
      "33:\tlearn: 220.5171653\ttotal: 10.4ms\tremaining: 51ms\n",
      "34:\tlearn: 217.7686033\ttotal: 10.7ms\tremaining: 50.5ms\n",
      "35:\tlearn: 214.8462789\ttotal: 11ms\tremaining: 50ms\n",
      "36:\tlearn: 214.4799251\ttotal: 11.2ms\tremaining: 49.5ms\n",
      "37:\tlearn: 212.3480429\ttotal: 11.5ms\tremaining: 49ms\n",
      "38:\tlearn: 210.0040644\ttotal: 11.8ms\tremaining: 48.6ms\n",
      "39:\tlearn: 208.3086913\ttotal: 12ms\tremaining: 48.1ms\n",
      "40:\tlearn: 207.5469119\ttotal: 12.3ms\tremaining: 47.7ms\n",
      "41:\tlearn: 205.9351113\ttotal: 12.6ms\tremaining: 47.3ms\n",
      "42:\tlearn: 205.3580824\ttotal: 12.9ms\tremaining: 47.1ms\n",
      "43:\tlearn: 204.6204266\ttotal: 13.2ms\tremaining: 46.8ms\n",
      "44:\tlearn: 202.5023220\ttotal: 13.5ms\tremaining: 46.5ms\n",
      "45:\tlearn: 201.4347853\ttotal: 13.8ms\tremaining: 46.2ms\n",
      "46:\tlearn: 200.8752553\ttotal: 14.1ms\tremaining: 45.8ms\n",
      "47:\tlearn: 200.4047344\ttotal: 14.3ms\tremaining: 45.4ms\n",
      "48:\tlearn: 197.5433004\ttotal: 14.6ms\tremaining: 45ms\n",
      "49:\tlearn: 194.6943292\ttotal: 14.9ms\tremaining: 44.6ms\n",
      "50:\tlearn: 194.3011982\ttotal: 15.1ms\tremaining: 44.2ms\n",
      "51:\tlearn: 193.4011843\ttotal: 15.4ms\tremaining: 43.8ms\n",
      "52:\tlearn: 193.0109753\ttotal: 15.6ms\tremaining: 43.4ms\n",
      "53:\tlearn: 192.6071142\ttotal: 15.9ms\tremaining: 43ms\n",
      "54:\tlearn: 191.9666153\ttotal: 16.2ms\tremaining: 42.7ms\n",
      "55:\tlearn: 191.5789727\ttotal: 16.4ms\tremaining: 42.3ms\n",
      "56:\tlearn: 190.7186284\ttotal: 16.7ms\tremaining: 41.9ms\n",
      "57:\tlearn: 190.4543087\ttotal: 17ms\tremaining: 41.5ms\n",
      "58:\tlearn: 190.1336317\ttotal: 17.2ms\tremaining: 41.2ms\n",
      "59:\tlearn: 188.2286484\ttotal: 17.5ms\tremaining: 40.9ms\n",
      "60:\tlearn: 187.7652417\ttotal: 17.8ms\tremaining: 40.6ms\n",
      "61:\tlearn: 187.4227950\ttotal: 18.1ms\tremaining: 40.3ms\n",
      "62:\tlearn: 186.9289182\ttotal: 18.4ms\tremaining: 40ms\n",
      "63:\tlearn: 185.2993487\ttotal: 18.7ms\tremaining: 39.8ms\n",
      "64:\tlearn: 185.0349598\ttotal: 19.1ms\tremaining: 39.6ms\n",
      "65:\tlearn: 183.9773430\ttotal: 19.4ms\tremaining: 39.4ms\n",
      "66:\tlearn: 183.4463166\ttotal: 19.7ms\tremaining: 39.1ms\n",
      "67:\tlearn: 181.6627740\ttotal: 20ms\tremaining: 38.8ms\n",
      "68:\tlearn: 179.8785055\ttotal: 20.3ms\tremaining: 38.5ms\n",
      "69:\tlearn: 179.6737527\ttotal: 20.6ms\tremaining: 38.3ms\n",
      "70:\tlearn: 177.0830981\ttotal: 21ms\tremaining: 38.1ms\n",
      "71:\tlearn: 176.5917790\ttotal: 21.4ms\tremaining: 38ms\n",
      "72:\tlearn: 176.1240502\ttotal: 21.7ms\tremaining: 37.8ms\n",
      "73:\tlearn: 174.4828953\ttotal: 22ms\tremaining: 37.5ms\n",
      "74:\tlearn: 173.4220482\ttotal: 22.3ms\tremaining: 37.1ms\n",
      "75:\tlearn: 171.9903405\ttotal: 22.5ms\tremaining: 36.8ms\n",
      "76:\tlearn: 171.5803116\ttotal: 22.8ms\tremaining: 36.4ms\n",
      "77:\tlearn: 170.1411594\ttotal: 23.1ms\tremaining: 36.1ms\n",
      "78:\tlearn: 167.9868133\ttotal: 23.3ms\tremaining: 35.7ms\n",
      "79:\tlearn: 166.5304475\ttotal: 23.6ms\tremaining: 35.4ms\n",
      "80:\tlearn: 166.1741622\ttotal: 23.9ms\tremaining: 35.1ms\n",
      "81:\tlearn: 165.8411762\ttotal: 24.1ms\tremaining: 34.7ms\n",
      "82:\tlearn: 165.1041583\ttotal: 24.5ms\tremaining: 34.5ms\n",
      "83:\tlearn: 163.5641543\ttotal: 24.8ms\tremaining: 34.2ms\n",
      "84:\tlearn: 163.2003311\ttotal: 25.1ms\tremaining: 33.9ms\n",
      "85:\tlearn: 161.1781702\ttotal: 25.3ms\tremaining: 33.6ms\n",
      "86:\tlearn: 160.8727658\ttotal: 25.6ms\tremaining: 33.3ms\n",
      "87:\tlearn: 159.7954077\ttotal: 25.9ms\tremaining: 33ms\n",
      "88:\tlearn: 158.8759132\ttotal: 26.2ms\tremaining: 32.6ms\n",
      "89:\tlearn: 158.4831323\ttotal: 26.5ms\tremaining: 32.3ms\n",
      "90:\tlearn: 157.4808127\ttotal: 26.8ms\tremaining: 32.1ms\n",
      "91:\tlearn: 157.1703230\ttotal: 27.1ms\tremaining: 31.8ms\n",
      "92:\tlearn: 155.3184755\ttotal: 27.4ms\tremaining: 31.5ms\n",
      "93:\tlearn: 154.3988879\ttotal: 27.7ms\tremaining: 31.2ms\n",
      "94:\tlearn: 153.4591935\ttotal: 28ms\tremaining: 30.9ms\n",
      "95:\tlearn: 153.1206893\ttotal: 28.3ms\tremaining: 30.6ms\n",
      "96:\tlearn: 152.7897351\ttotal: 28.6ms\tremaining: 30.3ms\n",
      "97:\tlearn: 150.9293164\ttotal: 28.8ms\tremaining: 30ms\n",
      "98:\tlearn: 149.7127171\ttotal: 29.1ms\tremaining: 29.7ms\n",
      "99:\tlearn: 149.5089324\ttotal: 29.3ms\tremaining: 29.3ms\n",
      "100:\tlearn: 149.3156312\ttotal: 29.6ms\tremaining: 29.1ms\n",
      "101:\tlearn: 147.7226718\ttotal: 29.9ms\tremaining: 28.7ms\n",
      "102:\tlearn: 146.7692282\ttotal: 30.2ms\tremaining: 28.4ms\n",
      "103:\tlearn: 145.9084983\ttotal: 30.5ms\tremaining: 28.2ms\n",
      "104:\tlearn: 144.8780979\ttotal: 30.8ms\tremaining: 27.9ms\n",
      "105:\tlearn: 143.8090268\ttotal: 31.1ms\tremaining: 27.6ms\n",
      "106:\tlearn: 143.1272551\ttotal: 31.4ms\tremaining: 27.3ms\n",
      "107:\tlearn: 142.4863018\ttotal: 31.6ms\tremaining: 27ms\n",
      "108:\tlearn: 141.4861279\ttotal: 31.9ms\tremaining: 26.6ms\n",
      "109:\tlearn: 140.8689530\ttotal: 32.2ms\tremaining: 26.3ms\n",
      "110:\tlearn: 140.4009570\ttotal: 32.4ms\tremaining: 26ms\n",
      "111:\tlearn: 140.0344439\ttotal: 32.7ms\tremaining: 25.7ms\n",
      "112:\tlearn: 139.4290096\ttotal: 33ms\tremaining: 25.4ms\n",
      "113:\tlearn: 139.2008874\ttotal: 33.3ms\tremaining: 25.2ms\n",
      "114:\tlearn: 138.6000188\ttotal: 33.8ms\tremaining: 25ms\n",
      "115:\tlearn: 138.3962706\ttotal: 34.1ms\tremaining: 24.7ms\n",
      "116:\tlearn: 138.1737256\ttotal: 34.5ms\tremaining: 24.4ms\n",
      "117:\tlearn: 137.6342361\ttotal: 34.8ms\tremaining: 24.2ms\n",
      "118:\tlearn: 136.7119826\ttotal: 35.1ms\tremaining: 23.9ms\n",
      "119:\tlearn: 135.3057402\ttotal: 35.6ms\tremaining: 23.7ms\n",
      "120:\tlearn: 134.4797815\ttotal: 36ms\tremaining: 23.5ms\n",
      "121:\tlearn: 133.0774331\ttotal: 36.3ms\tremaining: 23.2ms\n",
      "122:\tlearn: 131.8739238\ttotal: 36.6ms\tremaining: 22.9ms\n",
      "123:\tlearn: 131.3203837\ttotal: 36.9ms\tremaining: 22.6ms\n",
      "124:\tlearn: 130.8294604\ttotal: 37.3ms\tremaining: 22.4ms\n",
      "125:\tlearn: 130.6107905\ttotal: 37.5ms\tremaining: 22ms\n",
      "126:\tlearn: 130.1614924\ttotal: 37.9ms\tremaining: 21.8ms\n",
      "127:\tlearn: 129.3166972\ttotal: 38.3ms\tremaining: 21.5ms\n",
      "128:\tlearn: 129.1038672\ttotal: 38.6ms\tremaining: 21.3ms\n",
      "129:\tlearn: 128.9594874\ttotal: 39.1ms\tremaining: 21ms\n",
      "130:\tlearn: 128.1849638\ttotal: 39.4ms\tremaining: 20.8ms\n",
      "131:\tlearn: 128.0307033\ttotal: 39.7ms\tremaining: 20.5ms\n",
      "132:\tlearn: 127.3373882\ttotal: 40.1ms\tremaining: 20.2ms\n",
      "133:\tlearn: 126.2856989\ttotal: 40.5ms\tremaining: 19.9ms\n",
      "134:\tlearn: 126.1379832\ttotal: 40.8ms\tremaining: 19.6ms\n",
      "135:\tlearn: 126.0180019\ttotal: 41.1ms\tremaining: 19.3ms\n",
      "136:\tlearn: 125.8843963\ttotal: 41.4ms\tremaining: 19ms\n",
      "137:\tlearn: 125.7576333\ttotal: 41.6ms\tremaining: 18.7ms\n",
      "138:\tlearn: 125.4794581\ttotal: 42ms\tremaining: 18.4ms\n",
      "139:\tlearn: 124.7920270\ttotal: 42.3ms\tremaining: 18.1ms\n",
      "140:\tlearn: 124.6530278\ttotal: 42.6ms\tremaining: 17.8ms\n",
      "141:\tlearn: 123.4539010\ttotal: 42.9ms\tremaining: 17.5ms\n",
      "142:\tlearn: 122.8980001\ttotal: 43.2ms\tremaining: 17.2ms\n",
      "143:\tlearn: 122.0911177\ttotal: 43.6ms\tremaining: 16.9ms\n",
      "144:\tlearn: 121.1209154\ttotal: 43.9ms\tremaining: 16.7ms\n",
      "145:\tlearn: 120.1613553\ttotal: 44.3ms\tremaining: 16.4ms\n",
      "146:\tlearn: 119.1894727\ttotal: 44.6ms\tremaining: 16.1ms\n",
      "147:\tlearn: 118.0325732\ttotal: 44.9ms\tremaining: 15.8ms\n",
      "148:\tlearn: 117.9138240\ttotal: 45.2ms\tremaining: 15.5ms\n",
      "149:\tlearn: 117.3831462\ttotal: 45.5ms\tremaining: 15.2ms\n",
      "150:\tlearn: 116.8475244\ttotal: 45.8ms\tremaining: 14.9ms\n",
      "151:\tlearn: 116.3821954\ttotal: 46.1ms\tremaining: 14.6ms\n",
      "152:\tlearn: 115.5293176\ttotal: 46.4ms\tremaining: 14.2ms\n",
      "153:\tlearn: 115.0975175\ttotal: 46.6ms\tremaining: 13.9ms\n",
      "154:\tlearn: 114.0649594\ttotal: 46.9ms\tremaining: 13.6ms\n",
      "155:\tlearn: 113.2562326\ttotal: 47.2ms\tremaining: 13.3ms\n",
      "156:\tlearn: 112.7557871\ttotal: 47.5ms\tremaining: 13ms\n",
      "157:\tlearn: 112.5657565\ttotal: 47.8ms\tremaining: 12.7ms\n",
      "158:\tlearn: 112.3541525\ttotal: 48.2ms\tremaining: 12.4ms\n",
      "159:\tlearn: 111.8527982\ttotal: 48.5ms\tremaining: 12.1ms\n",
      "160:\tlearn: 111.1619644\ttotal: 48.8ms\tremaining: 11.8ms\n",
      "161:\tlearn: 110.3588257\ttotal: 49.1ms\tremaining: 11.5ms\n",
      "162:\tlearn: 109.6664293\ttotal: 49.4ms\tremaining: 11.2ms\n",
      "163:\tlearn: 109.5577303\ttotal: 49.7ms\tremaining: 10.9ms\n",
      "164:\tlearn: 109.0570285\ttotal: 50ms\tremaining: 10.6ms\n",
      "165:\tlearn: 108.7601467\ttotal: 50.3ms\tremaining: 10.3ms\n",
      "166:\tlearn: 108.0448620\ttotal: 50.6ms\tremaining: 10ms\n",
      "167:\tlearn: 107.5593372\ttotal: 50.9ms\tremaining: 9.7ms\n",
      "168:\tlearn: 106.3862999\ttotal: 51.2ms\tremaining: 9.39ms\n",
      "169:\tlearn: 106.2180807\ttotal: 51.6ms\tremaining: 9.11ms\n",
      "170:\tlearn: 106.0695603\ttotal: 52ms\tremaining: 8.81ms\n",
      "171:\tlearn: 105.6940213\ttotal: 52.3ms\tremaining: 8.52ms\n",
      "172:\tlearn: 104.7598987\ttotal: 52.6ms\tremaining: 8.21ms\n",
      "173:\tlearn: 104.6589992\ttotal: 52.9ms\tremaining: 7.91ms\n",
      "174:\tlearn: 103.7203657\ttotal: 53.2ms\tremaining: 7.61ms\n",
      "175:\tlearn: 103.2660987\ttotal: 53.6ms\tremaining: 7.31ms\n",
      "176:\tlearn: 103.0926213\ttotal: 54ms\tremaining: 7.02ms\n",
      "177:\tlearn: 102.6925209\ttotal: 54.3ms\tremaining: 6.71ms\n",
      "178:\tlearn: 102.1655154\ttotal: 54.6ms\tremaining: 6.41ms\n",
      "179:\tlearn: 101.8273108\ttotal: 55ms\tremaining: 6.11ms\n",
      "180:\tlearn: 101.7264515\ttotal: 55.4ms\tremaining: 5.81ms\n",
      "181:\tlearn: 101.1102333\ttotal: 55.8ms\tremaining: 5.52ms\n",
      "182:\tlearn: 100.7880364\ttotal: 56.2ms\tremaining: 5.22ms\n",
      "183:\tlearn: 100.6673014\ttotal: 56.6ms\tremaining: 4.92ms\n",
      "184:\tlearn: 100.0153055\ttotal: 56.9ms\tremaining: 4.61ms\n",
      "185:\tlearn: 99.7667281\ttotal: 57.3ms\tremaining: 4.31ms\n",
      "186:\tlearn: 99.1860593\ttotal: 57.6ms\tremaining: 4.01ms\n",
      "187:\tlearn: 99.0408133\ttotal: 58ms\tremaining: 3.7ms\n",
      "188:\tlearn: 98.9030718\ttotal: 58.3ms\tremaining: 3.4ms\n",
      "189:\tlearn: 97.4513860\ttotal: 58.7ms\tremaining: 3.09ms\n",
      "190:\tlearn: 97.3322959\ttotal: 59.1ms\tremaining: 2.79ms\n",
      "191:\tlearn: 97.1950848\ttotal: 59.5ms\tremaining: 2.48ms\n",
      "192:\tlearn: 96.6789532\ttotal: 59.9ms\tremaining: 2.17ms\n",
      "193:\tlearn: 96.5506179\ttotal: 60.4ms\tremaining: 1.87ms\n",
      "194:\tlearn: 95.6635039\ttotal: 60.7ms\tremaining: 1.56ms\n",
      "195:\tlearn: 94.8850777\ttotal: 61.1ms\tremaining: 1.25ms\n",
      "196:\tlearn: 94.1624589\ttotal: 61.5ms\tremaining: 936us\n",
      "197:\tlearn: 93.8220662\ttotal: 61.9ms\tremaining: 624us\n",
      "198:\tlearn: 93.7300351\ttotal: 62.2ms\tremaining: 312us\n",
      "199:\tlearn: 93.3339522\ttotal: 62.6ms\tremaining: 0us\n"
     ]
    }
   ],
   "source": [
    "catb_tuned = CatBoostRegressor(depth=3,\n",
    "                              iterations=200,\n",
    "                              learning_rate=0.1).fit(X_train,y_train)"
   ]
  },
  {
   "cell_type": "code",
   "execution_count": 36,
   "id": "998ff089-ee52-4ae0-af3a-6b3e29fc2f15",
   "metadata": {},
   "outputs": [
    {
     "data": {
      "text/plain": [
       "344.3125832615482"
      ]
     },
     "execution_count": 36,
     "metadata": {},
     "output_type": "execute_result"
    }
   ],
   "source": [
    "y_pred = catb_tuned.predict(X_test)\n",
    "np.sqrt(mean_squared_error(y_test,y_pred))"
   ]
  },
  {
   "cell_type": "markdown",
   "id": "bd181622-dcdf-471a-a659-84f701583c8e",
   "metadata": {},
   "source": [
    "# MAKINE OGRENMESININ GOREVLERININ OTOMATIKLESTIRILMESI"
   ]
  },
  {
   "cell_type": "code",
   "execution_count": 37,
   "id": "d2aa9cea-05c0-45f3-9ce6-88996166e05b",
   "metadata": {},
   "outputs": [],
   "source": [
    "df = pd.read_csv(\"Hitters.csv\")\n",
    "df = df.dropna()\n",
    "dms = pd.get_dummies(df[['League','Division',\"NewLeague\"]])"
   ]
  },
  {
   "cell_type": "code",
   "execution_count": 57,
   "id": "bfb8a6b0-51f7-4fd8-bfd4-5a024ce260a4",
   "metadata": {},
   "outputs": [],
   "source": [
    "def compML(df, y, alg):\n",
    "    #train-test ayrimi\n",
    "    y = df[y]\n",
    "    X_ = df.drop(['Salary','League','Division','NewLeague'], axis=1).astype('float64')\n",
    "    X = pd.concat([X_, dms[['League_N','Division_W','NewLeague_N']]], axis=1)\n",
    "    X_train, X_test, y_train, y_test = train_test_split(X,y,test_size=0.25, random_state=42)\n",
    "    \n",
    "    #modelleme\n",
    "    model = alg().fit(X_train,y_train)\n",
    "    y_pred = model.predict(X_test)\n",
    "    RMSE= np.sqrt(mean_squared_error(y_test,y_pred))\n",
    "    model_ismi = alg.__name__\n",
    "    print(model_ismi, \"Modeli Test Hatasi:\", RMSE)"
   ]
  },
  {
   "cell_type": "code",
   "execution_count": 58,
   "id": "6340d8d3-77e5-4f59-a895-8f6409912b2c",
   "metadata": {},
   "outputs": [
    {
     "name": "stdout",
     "output_type": "stream",
     "text": [
      "LGBMRegressor Modeli Test Hatasi: 363.8712087611089\n"
     ]
    }
   ],
   "source": [
    "compML(df,\"Salary\",LGBMRegressor)"
   ]
  },
  {
   "cell_type": "code",
   "execution_count": 44,
   "id": "180db824-db5f-42fa-9dd8-f4d8d16b31e7",
   "metadata": {},
   "outputs": [
    {
     "data": {
      "text/plain": [
       "460.0032657244849"
      ]
     },
     "execution_count": 44,
     "metadata": {},
     "output_type": "execute_result"
    }
   ],
   "source": [
    "compML(df,\"Salary\",SVR)"
   ]
  },
  {
   "cell_type": "code",
   "execution_count": 47,
   "id": "01061e7f-3ad4-48df-ba59-b0d51161a923",
   "metadata": {},
   "outputs": [],
   "source": [
    "models= [LGBMRegressor,\n",
    "        XGBRegressor,\n",
    "        GradientBoostingRegressor,\n",
    "        RandomForestRegressor,\n",
    "        DecisionTreeRegressor,\n",
    "        MLPRegressor,\n",
    "        KNeighborsRegressor,\n",
    "        SVR]"
   ]
  },
  {
   "cell_type": "code",
   "execution_count": 60,
   "id": "b639f8e3-1bb0-4607-a66b-b3adb86b7b6e",
   "metadata": {},
   "outputs": [
    {
     "name": "stdout",
     "output_type": "stream",
     "text": [
      "LGBMRegressor Modeli Test Hatasi: 363.8712087611089\n",
      "XGBRegressor Modeli Test Hatasi: 355.46515176059927\n",
      "GradientBoostingRegressor Modeli Test Hatasi: 363.90972609876303\n",
      "RandomForestRegressor Modeli Test Hatasi: 347.7050141484344\n",
      "DecisionTreeRegressor Modeli Test Hatasi: 539.0953285474629\n",
      "MLPRegressor Modeli Test Hatasi: 443.7253344034591\n",
      "KNeighborsRegressor Modeli Test Hatasi: 426.6570764525201\n",
      "SVR Modeli Test Hatasi: 460.0032657244849\n"
     ]
    }
   ],
   "source": [
    "for i in models:\n",
    "    compML(df,\"Salary\",i)"
   ]
  },
  {
   "cell_type": "code",
   "execution_count": null,
   "id": "e57a3b27-3400-487d-a9a5-0edda9f002c1",
   "metadata": {},
   "outputs": [],
   "source": []
  }
 ],
 "metadata": {
  "kernelspec": {
   "display_name": "Python 3",
   "language": "python",
   "name": "python3"
  },
  "language_info": {
   "codemirror_mode": {
    "name": "ipython",
    "version": 3
   },
   "file_extension": ".py",
   "mimetype": "text/x-python",
   "name": "python",
   "nbconvert_exporter": "python",
   "pygments_lexer": "ipython3",
   "version": "3.8.8"
  }
 },
 "nbformat": 4,
 "nbformat_minor": 5
}
